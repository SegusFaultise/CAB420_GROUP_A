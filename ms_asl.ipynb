{
 "cells": [
  {
   "cell_type": "code",
   "execution_count": 1,
   "id": "25d82272-c03d-4955-9514-ec1bf3f8df90",
   "metadata": {},
   "outputs": [],
   "source": [
    "MSASL_TRAIN_PATH = \"./MS-ASL/MSASL_train.json\"\n",
    "MSASL_VAL_PATH = \"./MS-ASL/MSASL_val.json\"\n",
    "MSASL_TEST_PATH = \"./MS-ASL/MSASL_test.json\"\n",
    "MSASL_CLASSES_PATH = \"./MS-ASL/MSASL_classes.json\""
   ]
  },
  {
   "cell_type": "code",
   "execution_count": 12,
   "id": "f8140589-5766-4d27-9be5-49c42c2c9c77",
   "metadata": {},
   "outputs": [
    {
     "name": "stdout",
     "output_type": "stream",
     "text": [
      "Loaded 4 skipped URLs from 'skipped_videos.txt'.\n",
      "Loaded 588 synonym entries from './MS-ASL/MSASL_synonym.json'.\n",
      "\n",
      "--- Loading and Combining Raw Data ---\n",
      "Loaded 16054 entries from './MS-ASL/MSASL_train.json'.\n",
      "Loaded 5287 entries from './MS-ASL/MSASL_val.json'.\n",
      "Loaded 4172 entries from './MS-ASL/MSASL_test.json'.\n",
      "Total entries loaded across all splits: 25513\n",
      "Skipped 181 entries due to bad URLs from 'skipped_videos.txt'.\n",
      "Remaining entries after filtering: 25332\n",
      "\n",
      "--- Performing Stratified Subsetting ---\n",
      "\n",
      "--- Saving Subsets ---\n",
      "Saved 1000 entries to: ./MS-ASL/MSASL_train_subset.json\n",
      "Saved 1000 entries to: ./MS-ASL/MSASL_val_subset.json\n",
      "Saved 1000 entries to: ./MS-ASL/MSASL_test_subset.json\n",
      "\n",
      "Dataset preparation complete.\n",
      "Final Train subset size: 1000\n",
      "Final Validation subset size: 1000\n",
      "Final Test subset size: 1000\n",
      "\n",
      "--- Unique Labels in Final Subsets ---\n",
      "Train: 593 unique labels\n",
      "Val: 822 unique labels\n",
      "Test: 827 unique labels\n"
     ]
    }
   ],
   "source": [
    "import json\n",
    "import os\n",
    "import random\n",
    "import pandas as pd\n",
    "import numpy as np\n",
    "from tqdm import tqdm\n",
    "from sklearn.model_selection import train_test_split\n",
    "\n",
    "# --- Configuration ---\n",
    "data_dir = \"./MS-ASL\"\n",
    "skipped_file = \"skipped_videos.txt\"\n",
    "synonym_file = \"MSASL_synonym.json\" # New: Path to the synonym file\n",
    "subset_sizes = {\n",
    "    \"train\": 1000,\n",
    "    \"val\": 1000,\n",
    "    \"test\": 1000\n",
    "}\n",
    "LABEL_KEY = \"label\" # Key in the JSON data that represents the label (e.g., sign word)\n",
    "\n",
    "# --- Helper Functions ---\n",
    "\n",
    "def load_skipped_urls(path):\n",
    "    \"\"\"\n",
    "    Loads a set of skipped URLs from a text file.\n",
    "    Each URL is expected to be on a new line.\n",
    "\n",
    "    Args:\n",
    "        path (str): The path to the file containing skipped URLs.\n",
    "\n",
    "    Returns:\n",
    "        set: A set of unique skipped URLs.\n",
    "    \"\"\"\n",
    "    if not os.path.exists(path):\n",
    "        print(f\"Warning: Skipped file not found at {path}. Returning empty set.\")\n",
    "        return set()\n",
    "        \n",
    "    with open(path, \"r\") as f:\n",
    "        urls = set(line.strip() for line in f if line.strip())\n",
    "    print(f\"Loaded {len(urls)} skipped URLs from '{path}'.\")\n",
    "    return urls\n",
    "\n",
    "def load_synonym_mapping(path):\n",
    "    \"\"\"\n",
    "    Loads the MSASL_synonym.json file and creates a mapping from synonyms\n",
    "    to their canonical (primary) forms.\n",
    "\n",
    "    Args:\n",
    "        path (str): The path to the MSASL_synonym.json file.\n",
    "\n",
    "    Returns:\n",
    "        dict: A dictionary where keys are synonyms and values are their canonical forms.\n",
    "              Returns an empty dict if the file is not found or parsing fails.\n",
    "    \"\"\"\n",
    "    synonym_map = {}\n",
    "    if not os.path.exists(path):\n",
    "        print(f\"Warning: Synonym file not found at {path}. No synonym mapping will be applied.\")\n",
    "        return synonym_map\n",
    "\n",
    "    try:\n",
    "        with open(path, \"r\") as f:\n",
    "            synonym_data = json.load(f)\n",
    "        \n",
    "        if not isinstance(synonym_data, list):\n",
    "            print(f\"Error: Expected synonym JSON to be a list, but got {type(synonym_data)}. No synonym mapping applied.\")\n",
    "            return synonym_map\n",
    "\n",
    "        for group in synonym_data:\n",
    "            if isinstance(group, list) and len(group) > 0:\n",
    "                canonical_form = str(group[0]).strip() # First element is the canonical form\n",
    "                for synonym in group:\n",
    "                    synonym_map[str(synonym).strip()] = canonical_form\n",
    "        print(f\"Loaded {len(synonym_map)} synonym entries from '{path}'.\")\n",
    "    except json.JSONDecodeError as e:\n",
    "        print(f\"Error: Failed to parse {path}: {e}. No synonym mapping applied.\")\n",
    "    except Exception as e:\n",
    "        print(f\"An unexpected error occurred while loading synonyms from {path}: {e}. No synonym mapping applied.\")\n",
    "    \n",
    "    return synonym_map\n",
    "\n",
    "def load_and_filter_all_data(data_directory, skipped_urls, synonym_map, splits=[\"train\", \"val\", \"test\"]):\n",
    "    \"\"\"\n",
    "    Loads data from all specified JSON files, combines them,\n",
    "    applies synonym mapping to labels, and filters out entries with bad URLs.\n",
    "\n",
    "    Args:\n",
    "        data_directory (str): The directory containing the MSASL JSON files.\n",
    "        skipped_urls (set): A set of URLs to be excluded.\n",
    "        synonym_map (dict): A dictionary mapping synonyms to canonical labels.\n",
    "        splits (list): A list of dataset splits to load (e.g., [\"train\", \"val\", \"test\"]).\n",
    "\n",
    "    Returns:\n",
    "        pd.DataFrame: A single DataFrame containing all loaded, cleaned, and normalized data,\n",
    "                      with an 'original_split' column indicating its source.\n",
    "                      Returns an empty DataFrame if no data is loaded.\n",
    "    \"\"\"\n",
    "    all_data = []\n",
    "    \n",
    "    print(\"\\n--- Loading and Combining Raw Data ---\")\n",
    "    for split in splits:\n",
    "        input_json_path = os.path.join(data_directory, f\"MSASL_{split}.json\")\n",
    "        if not os.path.exists(input_json_path):\n",
    "            print(f\"Warning: Input JSON file not found: {input_json_path}. Skipping.\")\n",
    "            continue\n",
    "            \n",
    "        with open(input_json_path, \"r\") as f:\n",
    "            try:\n",
    "                data = json.load(f)\n",
    "                # Apply synonym mapping and add original_split\n",
    "                for item in data:\n",
    "                    if LABEL_KEY in item and item[LABEL_KEY] is not None:\n",
    "                        original_label = str(item[LABEL_KEY]).strip()\n",
    "                        # Apply mapping: if label is a synonym, use its canonical form\n",
    "                        item[LABEL_KEY] = synonym_map.get(original_label, original_label)\n",
    "                    item['original_split'] = split\n",
    "                all_data.extend(data)\n",
    "                print(f\"Loaded {len(data)} entries from '{input_json_path}'.\")\n",
    "            except json.JSONDecodeError as e:\n",
    "                print(f\"Error: Failed to parse {input_json_path}: {e}. Skipping this file.\")\n",
    "            except Exception as e:\n",
    "                print(f\"An unexpected error occurred while loading {input_json_path}: {e}\")\n",
    "\n",
    "    if not all_data:\n",
    "        print(\"No data loaded from any JSON files. Exiting.\")\n",
    "        return pd.DataFrame()\n",
    "\n",
    "    master_df = pd.DataFrame(all_data)\n",
    "    print(f\"Total entries loaded across all splits: {len(master_df)}\")\n",
    "\n",
    "    # Filter out entries with skipped URLs\n",
    "    initial_count = len(master_df)\n",
    "    master_df['url'] = master_df['url'].fillna('').astype(str).str.strip() # Ensure URL is string and strip whitespace\n",
    "    filtered_df = master_df[~master_df['url'].isin(skipped_urls)].copy() # Use .copy() to avoid SettingWithCopyWarning\n",
    "    \n",
    "    skipped_count = initial_count - len(filtered_df)\n",
    "    print(f\"Skipped {skipped_count} entries due to bad URLs from 'skipped_videos.txt'.\")\n",
    "    print(f\"Remaining entries after filtering: {len(filtered_df)}\")\n",
    "    \n",
    "    return filtered_df\n",
    "\n",
    "def perform_stratified_subsetting(master_df, target_subset_sizes, label_key=LABEL_KEY):\n",
    "    \"\"\"\n",
    "    Performs stratified splitting and then takes a random sample up to the target size\n",
    "    for each split (train, val, test). Ensures disjoint instances across splits.\n",
    "\n",
    "    Args:\n",
    "        master_df (pd.DataFrame): The DataFrame containing all cleaned data.\n",
    "        target_subset_sizes (dict): Dictionary with desired sizes for \"train\", \"val\", \"test\".\n",
    "        label_key (str): The column name for labels in the DataFrame.\n",
    "\n",
    "    Returns:\n",
    "        dict: A dictionary containing DataFrames for 'train', 'val', and 'test' subsets.\n",
    "    \"\"\"\n",
    "    if master_df.empty:\n",
    "        print(\"Master DataFrame is empty. Cannot perform stratified subsetting.\")\n",
    "        return {\"train\": pd.DataFrame(), \"val\": pd.DataFrame(), \"test\": pd.DataFrame()}\n",
    "\n",
    "    # Ensure the label column exists and handle potential NaNs in labels\n",
    "    if label_key not in master_df.columns:\n",
    "        print(f\"Error: Label key '{label_key}' not found in DataFrame. Cannot perform stratified split.\")\n",
    "        return {\"train\": pd.DataFrame(), \"val\": pd.DataFrame(), \"test\": pd.DataFrame()}\n",
    "    \n",
    "    # Drop rows with NaN labels for stratified splitting, as sklearn cannot handle them\n",
    "    df_for_split = master_df.dropna(subset=[label_key]).copy()\n",
    "    if df_for_split.empty:\n",
    "        print(\"No data remaining after dropping rows with missing labels. Cannot perform stratified split.\")\n",
    "        return {\"train\": pd.DataFrame(), \"val\": pd.DataFrame(), \"test\": pd.DataFrame()}\n",
    "\n",
    "    # Calculate proportions for splitting\n",
    "    # First, split into training+validation and test sets\n",
    "    test_size_ratio = target_subset_sizes.get(\"test\", 0) / len(df_for_split)\n",
    "    if test_size_ratio >= 1.0: # Handle cases where test size is too large\n",
    "        print(f\"Warning: Test size ({target_subset_sizes.get('test', 0)}) is too large for total data ({len(df_for_split)}). Adjusting.\")\n",
    "        test_size_ratio = 0.2 # Default to 20% test if invalid\n",
    "    \n",
    "    # Ensure there are enough samples per class for stratification\n",
    "    # If a class has only 1 sample, it cannot be split.\n",
    "    # We'll handle this by trying to split, and if it fails, fallback to non-stratified.\n",
    "    try:\n",
    "        train_val_df, test_df_stratified = train_test_split(\n",
    "            df_for_split, test_size=test_size_ratio, random_state=42, stratify=df_for_split[label_key]\n",
    "        )\n",
    "    except ValueError as e:\n",
    "        print(f\"Warning: Stratified split for test set failed ({e}). Falling back to non-stratified split.\")\n",
    "        train_val_df, test_df_stratified = train_test_split(\n",
    "            df_for_split, test_size=test_size_ratio, random_state=42\n",
    "        )\n",
    "\n",
    "    # Then, split training+validation into training and validation sets\n",
    "    val_size_ratio = target_subset_sizes.get(\"val\", 0) / len(train_val_df)\n",
    "    if val_size_ratio >= 1.0: # Handle cases where val size is too large\n",
    "        print(f\"Warning: Validation size ({target_subset_sizes.get('val', 0)}) is too large for train_val data ({len(train_val_df)}). Adjusting.\")\n",
    "        val_size_ratio = 0.2 # Default to 20% validation if invalid\n",
    "\n",
    "    try:\n",
    "        train_df_stratified, val_df_stratified = train_test_split(\n",
    "            train_val_df, test_size=val_size_ratio, random_state=42, stratify=train_val_df[label_key]\n",
    "        )\n",
    "    except ValueError as e:\n",
    "        print(f\"Warning: Stratified split for validation set failed ({e}). Falling back to non-stratified split.\")\n",
    "        train_df_stratified, val_df_stratified = train_test_split(\n",
    "            train_val_df, test_size=val_size_ratio, random_state=42\n",
    "        )\n",
    "\n",
    "    # Now, take random samples up to the target subset sizes from these stratified sets\n",
    "    final_subsets = {}\n",
    "    for split_name, df_stratified in [(\"train\", train_df_stratified), \n",
    "                                      (\"val\", val_df_stratified), \n",
    "                                      (\"test\", test_df_stratified)]:\n",
    "        target_size = target_subset_sizes.get(split_name, 0)\n",
    "        \n",
    "        if len(df_stratified) < target_size:\n",
    "            print(f\"Warning: Not enough entries for {split_name} ({len(df_stratified)} available, {target_size} requested). Using all available.\")\n",
    "            final_subsets[split_name] = df_stratified.sample(frac=1, random_state=42).reset_index(drop=True)\n",
    "        else:\n",
    "            final_subsets[split_name] = df_stratified.sample(n=target_size, random_state=42).reset_index(drop=True)\n",
    "            \n",
    "    return final_subsets\n",
    "\n",
    "def save_json_array(data_df, output_path):\n",
    "    \"\"\"\n",
    "    Saves a pandas DataFrame to a JSON file in array format,\n",
    "    handling NaN values by converting them to None (JSON null).\n",
    "\n",
    "    Args:\n",
    "        data_df (pd.DataFrame): The DataFrame to save.\n",
    "        output_path (str): The path to the output JSON file.\n",
    "    \"\"\"\n",
    "    # Replace all NaN values in the DataFrame with None\n",
    "    # This is the most robust way to handle NaN for JSON serialization\n",
    "    df_cleaned = data_df.replace({np.nan: None})\n",
    "\n",
    "    # Convert DataFrame to list of dictionaries\n",
    "    data_list = df_cleaned.to_dict(orient='records')\n",
    "\n",
    "    with open(output_path, \"w\") as f:\n",
    "        json.dump(data_list, f, indent=2)\n",
    "        \n",
    "    print(f\"Saved {len(data_list)} entries to: {output_path}\")\n",
    "\n",
    "# --- Main Execution Flow ---\n",
    "if __name__ == \"__main__\":\n",
    "    # 1. Load skipped URLs\n",
    "    skipped_urls = load_skipped_urls(skipped_file)\n",
    "\n",
    "    # 2. Load synonym mapping\n",
    "    synonym_map = load_synonym_mapping(os.path.join(data_dir, synonym_file))\n",
    "\n",
    "    # 3. Load all original data, apply synonym mapping, and filter by skipped URLs\n",
    "    master_filtered_df = load_and_filter_all_data(data_dir, skipped_urls, synonym_map)\n",
    "\n",
    "    if master_filtered_df.empty:\n",
    "        print(\"No valid data to process after loading and filtering. Exiting.\")\n",
    "    else:\n",
    "        # 4. Perform stratified splitting and subsetting\n",
    "        print(\"\\n--- Performing Stratified Subsetting ---\")\n",
    "        final_subsets = perform_stratified_subsetting(master_filtered_df, subset_sizes)\n",
    "\n",
    "        # 5. Save the new subset JSON files\n",
    "        print(\"\\n--- Saving Subsets ---\")\n",
    "        for split_name, df_subset in final_subsets.items():\n",
    "            output_json = os.path.join(data_dir, f\"MSASL_{split_name}_subset.json\")\n",
    "            save_json_array(df_subset, output_json)\n",
    "\n",
    "        print(\"\\nDataset preparation complete.\")\n",
    "        print(f\"Final Train subset size: {len(final_subsets['train'])}\")\n",
    "        print(f\"Final Validation subset size: {len(final_subsets['val'])}\")\n",
    "        print(f\"Final Test subset size: {len(final_subsets['test'])}\")\n",
    "\n",
    "        # Optional: Print unique labels for each subset to verify distribution\n",
    "        print(\"\\n--- Unique Labels in Final Subsets ---\")\n",
    "        for split_name, df_subset in final_subsets.items():\n",
    "            if not df_subset.empty and LABEL_KEY in df_subset.columns:\n",
    "                unique_labels = df_subset[LABEL_KEY].nunique()\n",
    "                print(f\"{split_name.capitalize()}: {unique_labels} unique labels\")\n",
    "            else:\n",
    "                print(f\"{split_name.capitalize()}: No data or '{LABEL_KEY}' column missing.\")"
   ]
  },
  {
   "cell_type": "code",
   "execution_count": 13,
   "id": "f67fa19a-bd33-4ed5-8998-e59dd9e33c4a",
   "metadata": {},
   "outputs": [],
   "source": [
    "MSASL_CLASSES_PATH = \"./MS-ASL/MSASL_classes.json\""
   ]
  },
  {
   "cell_type": "code",
   "execution_count": null,
   "id": "ec5e911d-1818-4672-8d07-15bb30f4c532",
   "metadata": {
    "scrolled": true
   },
   "outputs": [
    {
     "name": "stdout",
     "output_type": "stream",
     "text": [
      "Using 12 parallel workers.\n",
      "Removing existing output directory: ./msasl_clips/\n",
      "Output directory './msasl_clips/' initialized.\n",
      "Skipped videos log 'skipped_videos.txt' cleared.\n",
      "Attempting to load and parse: ./MS-ASL/MSASL_train_subset.json\n"
     ]
    },
    {
     "name": "stderr",
     "output_type": "stream",
     "text": [
      "Cleaning & Standardizing MSASL_train_subset.json: 100%|███████████████████████████████████████████████████████████████████████████| 1000/1000 [00:00<00:00, 1482086.22it/s]\n"
     ]
    },
    {
     "name": "stdout",
     "output_type": "stream",
     "text": [
      "Loaded 1000 valid items with 0 skipped/errors from ./MS-ASL/MSASL_train_subset.json\n",
      "Attempting to load and parse: ./MS-ASL/MSASL_val_subset.json\n"
     ]
    },
    {
     "name": "stderr",
     "output_type": "stream",
     "text": [
      "Cleaning & Standardizing MSASL_val_subset.json: 100%|██████████████████████████████████████████████████████████████████████████████| 1000/1000 [00:00<00:00, 924466.39it/s]\n"
     ]
    },
    {
     "name": "stdout",
     "output_type": "stream",
     "text": [
      "Loaded 1000 valid items with 0 skipped/errors from ./MS-ASL/MSASL_val_subset.json\n",
      "Attempting to load and parse: ./MS-ASL/MSASL_test_subset.json\n"
     ]
    },
    {
     "name": "stderr",
     "output_type": "stream",
     "text": [
      "Cleaning & Standardizing MSASL_test_subset.json: 100%|████████████████████████████████████████████████████████████████████████████| 1000/1000 [00:00<00:00, 1184497.03it/s]"
     ]
    },
    {
     "name": "stdout",
     "output_type": "stream",
     "text": [
      "Loaded 1000 valid items with 0 skipped/errors from ./MS-ASL/MSASL_test_subset.json\n",
      "\n",
      "--- Dataset Summary ---\n",
      "Train samples loaded: 1000\n",
      "Validation samples loaded: 1000\n",
      "Test samples loaded: 1000\n",
      "\n",
      "--- Processing train split (1000 videos) ---\n"
     ]
    },
    {
     "name": "stderr",
     "output_type": "stream",
     "text": [
      "\n",
      "Processing train videos:   0%|                                                                                                                    | 0/1000 [00:00<?, ?it/s]ERROR: [youtube] V8wKGpJxa64: Private video. Sign in if you've been granted access to this video. Use --cookies-from-browser or --cookies for the authentication. See  https://github.com/yt-dlp/yt-dlp/wiki/FAQ#how-do-i-pass-cookies-to-yt-dlp  for how to manually pass cookies. Also see  https://github.com/yt-dlp/yt-dlp/wiki/Extractors#exporting-youtube-cookies  for tips on effectively exporting YouTube cookies\n",
      "Processing train videos:   0%|                                                                                                            | 1/1000 [00:02<42:03,  2.53s/it]ERROR: [youtube] lSxAVvE9sPc: Private video. Sign in if you've been granted access to this video. Use --cookies-from-browser or --cookies for the authentication. See  https://github.com/yt-dlp/yt-dlp/wiki/FAQ#how-do-i-pass-cookies-to-yt-dlp  for how to manually pass cookies. Also see  https://github.com/yt-dlp/yt-dlp/wiki/Extractors#exporting-youtube-cookies  for tips on effectively exporting YouTube cookies\n",
      "ERROR: [youtube] o4ToXoTzh1A: Private video. Sign in if you've been granted access to this video. Use --cookies-from-browser or --cookies for the authentication. See  https://github.com/yt-dlp/yt-dlp/wiki/FAQ#how-do-i-pass-cookies-to-yt-dlp  for how to manually pass cookies. Also see  https://github.com/yt-dlp/yt-dlp/wiki/Extractors#exporting-youtube-cookies  for tips on effectively exporting YouTube cookies\n",
      "ERROR: [youtube] lX2vPDN4Lk0: Private video. Sign in if you've been granted access to this video. Use --cookies-from-browser or --cookies for the authentication. See  https://github.com/yt-dlp/yt-dlp/wiki/FAQ#how-do-i-pass-cookies-to-yt-dlp  for how to manually pass cookies. Also see  https://github.com/yt-dlp/yt-dlp/wiki/Extractors#exporting-youtube-cookies  for tips on effectively exporting YouTube cookies\n",
      "ERROR: [youtube] j8a5Z-5lUwo: Requested format is not available. Use --list-formats for a list of available formats\n",
      "Processing train videos:   0%|▌                                                                                                           | 5/1000 [00:03<09:46,  1.70it/s]ERROR: [youtube] MU3_iURZyqY: Video unavailable\n",
      "ERROR: [youtube] P3tBJESDamE: Requested format is not available. Use --list-formats for a list of available formats\n",
      "Processing train videos:   1%|▋                                                                                                           | 6/1000 [00:03<08:36,  1.92it/s]ERROR: [youtube] mVpizI0_huY: Requested format is not available. Use --list-formats for a list of available formats\n",
      "ERROR: [youtube] mCjHYreiZ24: Requested format is not available. Use --list-formats for a list of available formats\n",
      "ERROR: [youtube] 9bosgmeAAuo: Requested format is not available. Use --list-formats for a list of available formats\n",
      "Processing train videos:   1%|▉                                                                                                           | 9/1000 [00:03<04:36,  3.59it/s]ERROR: [youtube] OggYS9exO3Y: Requested format is not available. Use --list-formats for a list of available formats\n",
      "ERROR: [youtube] LPyvlWpL-xk: Requested format is not available. Use --list-formats for a list of available formats\n",
      "Processing train videos:   1%|█▎                                                                                                         | 12/1000 [00:04<03:06,  5.31it/s]ERROR: [youtube] iczlM1Oqi0Q: Requested format is not available. Use --list-formats for a list of available formats\n",
      "ERROR: [youtube] uPWzbFvXcuw: Private video. Sign in if you've been granted access to this video. Use --cookies-from-browser or --cookies for the authentication. See  https://github.com/yt-dlp/yt-dlp/wiki/FAQ#how-do-i-pass-cookies-to-yt-dlp  for how to manually pass cookies. Also see  https://github.com/yt-dlp/yt-dlp/wiki/Extractors#exporting-youtube-cookies  for tips on effectively exporting YouTube cookies\n",
      "Processing train videos:   1%|█▍                                                                                                         | 14/1000 [00:05<05:02,  3.26it/s]ERROR: [youtube] rjoLKKPEw3s: Requested format is not available. Use --list-formats for a list of available formats\n",
      "ERROR: [youtube] bfvWH5B8zmc: Requested format is not available. Use --list-formats for a list of available formats\n",
      "Processing train videos:   2%|█▋                                                                                                         | 16/1000 [00:05<03:54,  4.21it/s]ERROR: [youtube] jdmsvQa1dnk: Requested format is not available. Use --list-formats for a list of available formats\n",
      "ERROR: [youtube] t-_PbGpQRho: Requested format is not available. Use --list-formats for a list of available formats\n",
      "Processing train videos:   2%|█▉                                                                                                         | 18/1000 [00:06<04:59,  3.28it/s]ERROR: [youtube] 5k7YZO5nR0U: Requested format is not available. Use --list-formats for a list of available formats\n",
      "Processing train videos:   2%|██                                                                                                         | 19/1000 [00:06<04:58,  3.29it/s]ERROR: [youtube] tZXeryN2rJE: Requested format is not available. Use --list-formats for a list of available formats\n",
      "Processing train videos:   2%|██▏                                                                                                        | 20/1000 [00:06<04:20,  3.76it/s]ERROR: [youtube] DOZJOFHs75s: Requested format is not available. Use --list-formats for a list of available formats\n",
      "ERROR: [youtube] GlTv1MlDW-o: Requested format is not available. Use --list-formats for a list of available formats\n",
      "ERROR: [youtube] KFSLtsOwZiU: Requested format is not available. Use --list-formats for a list of available formats\n",
      "ERROR: [youtube] G7yDSwG1bh8: Requested format is not available. Use --list-formats for a list of available formats\n",
      "Processing train videos:   2%|██▌                                                                                                        | 24/1000 [00:07<02:52,  5.67it/s]ERROR: [youtube] p8OYydc3WQM: Requested format is not available. Use --list-formats for a list of available formats\n",
      "Processing train videos:   2%|██▋                                                                                                        | 25/1000 [00:08<04:40,  3.48it/s]ERROR: [youtube] Gs9zBeSIVIE: Requested format is not available. Use --list-formats for a list of available formats\n",
      "Processing train videos:   3%|██▊                                                                                                        | 26/1000 [00:08<04:23,  3.70it/s]ERROR: [youtube] dtSmDTn3zkk: Requested format is not available. Use --list-formats for a list of available formats\n",
      "ERROR: [youtube] TWXlyvGqdIQ: Requested format is not available. Use --list-formats for a list of available formats\n",
      "Processing train videos:   3%|██▉                                                                                                        | 28/1000 [00:08<03:53,  4.16it/s]"
     ]
    },
    {
     "name": "stdout",
     "output_type": "stream",
     "text": [
      "[download]   6.7% of ~  13.45MiB at    1.70MiB/s ETA Unknown (frag 4/49)"
     ]
    },
    {
     "name": "stderr",
     "output_type": "stream",
     "text": [
      "ERROR: [youtube] TwkGS9TjUX8: Requested format is not available. Use --list-formats for a list of available formats\n",
      "Processing train videos:   3%|███                                                                                                        | 29/1000 [00:09<04:54,  3.30it/s]"
     ]
    },
    {
     "name": "stdout",
     "output_type": "stream",
     "text": [
      "[download]  18.5% of ~  11.85MiB at    3.17MiB/s ETA Unknown (frag 10/49)"
     ]
    },
    {
     "name": "stderr",
     "output_type": "stream",
     "text": [
      "ERROR: [youtube] SJAhRxI7i9c: Requested format is not available. Use --list-formats for a list of available formats\n",
      "Processing train videos:   3%|███▏                                                                                                       | 30/1000 [00:09<04:52,  3.32it/s]ERROR: [youtube] si01coqVYiA: Video unavailable\n",
      "ERROR: [youtube] WxY7E9P46DM: Requested format is not available. Use --list-formats for a list of available formats\n"
     ]
    },
    {
     "name": "stdout",
     "output_type": "stream",
     "text": [
      "[download]  24.8% of ~  11.19MiB at    3.24MiB/s ETA Unknown (frag 13/49)"
     ]
    },
    {
     "name": "stderr",
     "output_type": "stream",
     "text": [
      "ERROR: [youtube] b3fpYsD6kr8: Requested format is not available. Use --list-formats for a list of available formats\n"
     ]
    },
    {
     "name": "stdout",
     "output_type": "stream",
     "text": [
      "[download]  28.6% of ~   9.71MiB at    3.33MiB/s ETA Unknown (frag 13/49)"
     ]
    },
    {
     "name": "stderr",
     "output_type": "stream",
     "text": [
      "Processing train videos:   3%|███▌                                                                                                       | 33/1000 [00:09<02:57,  5.46it/s]"
     ]
    },
    {
     "name": "stdout",
     "output_type": "stream",
     "text": [
      "[download]  30.9% of ~  10.71MiB at    3.40MiB/s ETA Unknown (frag 16/49)"
     ]
    },
    {
     "name": "stderr",
     "output_type": "stream",
     "text": [
      "ERROR: [youtube] 8OGGZyG8S9g: Requested format is not available. Use --list-formats for a list of available formats\n",
      "Processing train videos:   3%|███▋                                                                                                       | 34/1000 [00:09<02:43,  5.92it/s]ERROR: [youtube] jQTwaySU-yY: Video unavailable\n"
     ]
    },
    {
     "name": "stdout",
     "output_type": "stream",
     "text": [
      "[download]  36.7% of ~  10.89MiB at    3.61MiB/s ETA 00:01 (frag 19/49)  "
     ]
    },
    {
     "name": "stderr",
     "output_type": "stream",
     "text": [
      "ERROR: [youtube] g5VCwKZib-M: Requested format is not available. Use --list-formats for a list of available formats\n",
      "Processing train videos:   4%|███▊                                                                                                       | 36/1000 [00:09<02:08,  7.52it/s]"
     ]
    },
    {
     "name": "stdout",
     "output_type": "stream",
     "text": [
      "[download]  53.5% of ~  10.45MiB at    3.68MiB/s ETA 00:01 (frag 27/49)"
     ]
    },
    {
     "name": "stderr",
     "output_type": "stream",
     "text": [
      "ERROR: [youtube] 8hBFgtJOZaE: Requested format is not available. Use --list-formats for a list of available formats\n"
     ]
    },
    {
     "name": "stdout",
     "output_type": "stream",
     "text": [
      "[download]  71.5% of ~  10.35MiB at    3.71MiB/s ETA 00:01 (frag 36/49)"
     ]
    },
    {
     "name": "stderr",
     "output_type": "stream",
     "text": [
      "ERROR: [youtube] UXetwN_cI5A: Requested format is not available. Use --list-formats for a list of available formats\n",
      "Processing train videos:   4%|████                                                                                                       | 38/1000 [00:10<03:59,  4.01it/s]"
     ]
    },
    {
     "name": "stdout",
     "output_type": "stream",
     "text": [
      "[download]  77.2% of ~  10.52MiB at    3.69MiB/s ETA 00:00 (frag 39/49)"
     ]
    },
    {
     "name": "stderr",
     "output_type": "stream",
     "text": [
      "ERROR: [youtube] uM98W6WkvK0: Video unavailable\n",
      "Processing train videos:   4%|████▏                                                                                                      | 39/1000 [00:11<03:47,  4.22it/s]"
     ]
    },
    {
     "name": "stdout",
     "output_type": "stream",
     "text": [
      "                                                                       "
     ]
    },
    {
     "name": "stderr",
     "output_type": "stream",
     "text": [
      "ERROR: [youtube] oDnz2t98VYk: Private video. Sign in if you've been granted access to this video. Use --cookies-from-browser or --cookies for the authentication. See  https://github.com/yt-dlp/yt-dlp/wiki/FAQ#how-do-i-pass-cookies-to-yt-dlp  for how to manually pass cookies. Also see  https://github.com/yt-dlp/yt-dlp/wiki/Extractors#exporting-youtube-cookies  for tips on effectively exporting YouTube cookies\n",
      "Processing train videos:   4%|████▎                                                                                                      | 40/1000 [00:11<05:18,  3.02it/s]"
     ]
    },
    {
     "name": "stdout",
     "output_type": "stream",
     "text": [
      "[download]   9.6% of ~   3.25MiB at  793.43KiB/s ETA Unknown (frag 3/28)"
     ]
    },
    {
     "name": "stderr",
     "output_type": "stream",
     "text": [
      "ERROR: [youtube] MIPvaUKFA4c: Requested format is not available. Use --list-formats for a list of available formats\n"
     ]
    },
    {
     "name": "stdout",
     "output_type": "stream",
     "text": [
      "[download]   9.7% of ~   3.26MiB at  793.43KiB/s ETA Unknown (frag 3/28)"
     ]
    },
    {
     "name": "stderr",
     "output_type": "stream",
     "text": [
      "Processing train videos:   4%|████▍                                                                                                      | 41/1000 [00:11<04:40,  3.42it/s]"
     ]
    },
    {
     "name": "stdout",
     "output_type": "stream",
     "text": [
      "[download]  14.3% of ~   4.32MiB at    1.50MiB/s ETA Unknown (frag 5/28)"
     ]
    },
    {
     "name": "stderr",
     "output_type": "stream",
     "text": [
      "ERROR: [youtube] PvzBgEcEPew: Requested format is not available. Use --list-formats for a list of available formats\n"
     ]
    },
    {
     "name": "stdout",
     "output_type": "stream",
     "text": [
      "[download]  17.9% of ~   4.32MiB at    1.67MiB/s ETA Unknown (frag 6/28)"
     ]
    },
    {
     "name": "stderr",
     "output_type": "stream",
     "text": [
      "ERROR: [youtube] TYEae1fcehg: Requested format is not available. Use --list-formats for a list of available formats\n",
      "Processing train videos:   4%|████▌                                                                                                      | 43/1000 [00:12<03:18,  4.82it/s]"
     ]
    },
    {
     "name": "stdout",
     "output_type": "stream",
     "text": [
      "[download]  42.9% of ~   4.32MiB at    2.46MiB/s ETA Unknown (frag 13/28)"
     ]
    },
    {
     "name": "stderr",
     "output_type": "stream",
     "text": [
      "ERROR: [youtube] ukG3s9WX7U4: Requested format is not available. Use --list-formats for a list of available formats\n",
      "Processing train videos:   4%|████▋                                                                                                      | 44/1000 [00:12<03:40,  4.34it/s]"
     ]
    },
    {
     "name": "stdout",
     "output_type": "stream",
     "text": [
      "[download]  46.4% of ~   4.32MiB at    2.53MiB/s ETA Unknown (frag 14/28)"
     ]
    },
    {
     "name": "stderr",
     "output_type": "stream",
     "text": [
      "ERROR: [youtube] 821mepSrKik: Requested format is not available. Use --list-formats for a list of available formats\n"
     ]
    },
    {
     "name": "stdout",
     "output_type": "stream",
     "text": [
      "[download]  50.0% of ~   4.32MiB at    2.57MiB/s ETA Unknown (frag 15/28)"
     ]
    },
    {
     "name": "stderr",
     "output_type": "stream",
     "text": [
      "ERROR: [youtube] iJwNP8oNphY: Requested format is not available. Use --list-formats for a list of available formats\n",
      "Processing train videos:   5%|████▉                                                                                                      | 46/1000 [00:12<02:35,  6.13it/s]"
     ]
    },
    {
     "name": "stdout",
     "output_type": "stream",
     "text": [
      "[download]  67.9% of ~   4.32MiB at    2.76MiB/s ETA Unknown (frag 20/28)"
     ]
    },
    {
     "name": "stderr",
     "output_type": "stream",
     "text": [
      "ERROR: [youtube] Tg0ltpSAQrk: Requested format is not available. Use --list-formats for a list of available formats\n",
      "Processing train videos:   5%|█████                                                                                                      | 47/1000 [00:12<02:49,  5.62it/s]"
     ]
    },
    {
     "name": "stdout",
     "output_type": "stream",
     "text": [
      "[download]  85.7% of ~   4.32MiB at    2.82MiB/s ETA 00:00 (frag 25/28)  "
     ]
    },
    {
     "name": "stderr",
     "output_type": "stream",
     "text": [
      "ERROR: [youtube] N4n5CDpyX3w: Requested format is not available. Use --list-formats for a list of available formats\n",
      "Processing train videos:   5%|█████▏                                                                                                     | 48/1000 [00:13<03:17,  4.82it/s]"
     ]
    },
    {
     "name": "stdout",
     "output_type": "stream",
     "text": [
      "                                                                       "
     ]
    },
    {
     "name": "stderr",
     "output_type": "stream",
     "text": [
      "ERROR: [youtube] OAolTbu5Ngk: Requested format is not available. Use --list-formats for a list of available formats\n",
      "Processing train videos:   5%|█████▏                                                                                                     | 49/1000 [00:13<04:43,  3.36it/s]ERROR: [youtube] eXpXg4q-qEQ: Private video. Sign in if you've been granted access to this video. Use --cookies-from-browser or --cookies for the authentication. See  https://github.com/yt-dlp/yt-dlp/wiki/FAQ#how-do-i-pass-cookies-to-yt-dlp  for how to manually pass cookies. Also see  https://github.com/yt-dlp/yt-dlp/wiki/Extractors#exporting-youtube-cookies  for tips on effectively exporting YouTube cookies\n",
      "Processing train videos:   5%|█████▍                                                                                                     | 51/1000 [00:13<03:07,  5.07it/s]ERROR: [youtube] cdK1IiBMu_M: Requested format is not available. Use --list-formats for a list of available formats\n",
      "Processing train videos:   5%|█████▌                                                                                                     | 52/1000 [00:13<02:54,  5.43it/s]ERROR: [youtube] d3hz26r_ulw: Video unavailable\n",
      "ERROR: [youtube] 7YYB3BEoksc: Private video. Sign in if you've been granted access to this video. Use --cookies-from-browser or --cookies for the authentication. See  https://github.com/yt-dlp/yt-dlp/wiki/FAQ#how-do-i-pass-cookies-to-yt-dlp  for how to manually pass cookies. Also see  https://github.com/yt-dlp/yt-dlp/wiki/Extractors#exporting-youtube-cookies  for tips on effectively exporting YouTube cookies\n",
      "Processing train videos:   5%|█████▋                                                                                                     | 53/1000 [00:14<03:32,  4.46it/s]ERROR: [youtube] f7COHRpmVKA: Requested format is not available. Use --list-formats for a list of available formats\n",
      "Processing train videos:   6%|█████▉                                                                                                     | 55/1000 [00:14<03:17,  4.78it/s]ERROR: [youtube] UoITyyziLOw: Requested format is not available. Use --list-formats for a list of available formats\n",
      "Processing train videos:   6%|█████▉                                                                                                     | 56/1000 [00:14<03:17,  4.78it/s]ERROR: [youtube] uM98W6WkvK0: Video unavailable\n",
      "Processing train videos:   6%|██████                                                                                                     | 57/1000 [00:14<03:15,  4.83it/s]ERROR: [youtube] 6r8HDsBMk1E: Requested format is not available. Use --list-formats for a list of available formats\n",
      "ERROR: [youtube] AkGYEiN8vOY: Requested format is not available. Use --list-formats for a list of available formats\n",
      "Processing train videos:   6%|██████▏                                                                                                    | 58/1000 [00:15<03:41,  4.26it/s]ERROR: [youtube] c49qWjgFtRI: Requested format is not available. Use --list-formats for a list of available formats\n",
      "Processing train videos:   6%|██████▍                                                                                                    | 60/1000 [00:15<03:34,  4.38it/s]ERROR: [youtube] 0z5bBA_w7p8: Requested format is not available. Use --list-formats for a list of available formats\n",
      "ERROR: [youtube] P3vtxNtUgPk: Video unavailable\n",
      "Processing train videos:   6%|██████▋                                                                                                    | 62/1000 [00:15<02:50,  5.50it/s]ERROR: [youtube] N4n5CDpyX3w: Requested format is not available. Use --list-formats for a list of available formats\n",
      "Processing train videos:   6%|██████▋                                                                                                    | 63/1000 [00:16<03:57,  3.94it/s]ERROR: [youtube] g5VCwKZib-M: Requested format is not available. Use --list-formats for a list of available formats\n",
      "Processing train videos:   6%|██████▊                                                                                                    | 64/1000 [00:16<04:16,  3.65it/s]ERROR: [youtube] z8e_-viWx9E: Requested format is not available. Use --list-formats for a list of available formats\n",
      "ERROR: [youtube] uM98W6WkvK0: Video unavailable\n",
      "Processing train videos:   7%|███████                                                                                                    | 66/1000 [00:17<03:41,  4.22it/s]ERROR: [youtube] aKPRFhIDKc4: Requested format is not available. Use --list-formats for a list of available formats\n",
      "ERROR: [youtube] zvFM6wEfqYc: Requested format is not available. Use --list-formats for a list of available formats\n",
      "Processing train videos:   7%|███████▎                                                                                                   | 68/1000 [00:17<03:35,  4.33it/s]ERROR: [youtube] yXfIcGcIpO4: Requested format is not available. Use --list-formats for a list of available formats\n",
      "ERROR: [youtube] 8YREd7PPdqM: Private video. Sign in if you've been granted access to this video. Use --cookies-from-browser or --cookies for the authentication. See  https://github.com/yt-dlp/yt-dlp/wiki/FAQ#how-do-i-pass-cookies-to-yt-dlp  for how to manually pass cookies. Also see  https://github.com/yt-dlp/yt-dlp/wiki/Extractors#exporting-youtube-cookies  for tips on effectively exporting YouTube cookies\n",
      "Processing train videos:   7%|███████▍                                                                                                   | 70/1000 [00:17<02:51,  5.43it/s]ERROR: [youtube] 1E8k8gI_xYk: Requested format is not available. Use --list-formats for a list of available formats\n",
      "Processing train videos:   7%|███████▌                                                                                                   | 71/1000 [00:18<03:10,  4.87it/s]ERROR: [youtube] JYixqJW5ISo: Private video. Sign in if you've been granted access to this video. Use --cookies-from-browser or --cookies for the authentication. See  https://github.com/yt-dlp/yt-dlp/wiki/FAQ#how-do-i-pass-cookies-to-yt-dlp  for how to manually pass cookies. Also see  https://github.com/yt-dlp/yt-dlp/wiki/Extractors#exporting-youtube-cookies  for tips on effectively exporting YouTube cookies\n",
      "Processing train videos:   7%|███████▋                                                                                                   | 72/1000 [00:18<02:53,  5.35it/s]ERROR: [youtube] 4guHni0Kkok: Requested format is not available. Use --list-formats for a list of available formats\n",
      "Processing train videos:   7%|███████▊                                                                                                   | 73/1000 [00:18<02:38,  5.84it/s]ERROR: [youtube] AiozVha_k4o: Requested format is not available. Use --list-formats for a list of available formats\n",
      "Processing train videos:   7%|███████▉                                                                                                   | 74/1000 [00:18<03:02,  5.08it/s]ERROR: [youtube] sR_PzooQLx4: Private video. Sign in if you've been granted access to this video. Use --cookies-from-browser or --cookies for the authentication. See  https://github.com/yt-dlp/yt-dlp/wiki/FAQ#how-do-i-pass-cookies-to-yt-dlp  for how to manually pass cookies. Also see  https://github.com/yt-dlp/yt-dlp/wiki/Extractors#exporting-youtube-cookies  for tips on effectively exporting YouTube cookies\n",
      "Processing train videos:   8%|████████                                                                                                   | 75/1000 [00:19<04:19,  3.57it/s]ERROR: [youtube] si01coqVYiA: Video unavailable\n",
      "Processing train videos:   8%|████████▏                                                                                                  | 76/1000 [00:19<05:00,  3.07it/s]ERROR: [youtube] K4lo0NZDlH8: Requested format is not available. Use --list-formats for a list of available formats\n",
      "Processing train videos:   8%|████████▏                                                                                                  | 77/1000 [00:19<04:38,  3.32it/s]ERROR: [youtube] -NTyYtAyUPI: Requested format is not available. Use --list-formats for a list of available formats\n",
      "Processing train videos:   8%|████████▎                                                                                                  | 78/1000 [00:19<03:51,  3.99it/s]ERROR: [youtube] k0dWH6N2e-I: Private video. Sign in if you've been granted access to this video. Use --cookies-from-browser or --cookies for the authentication. See  https://github.com/yt-dlp/yt-dlp/wiki/FAQ#how-do-i-pass-cookies-to-yt-dlp  for how to manually pass cookies. Also see  https://github.com/yt-dlp/yt-dlp/wiki/Extractors#exporting-youtube-cookies  for tips on effectively exporting YouTube cookies\n",
      "ERROR: [youtube] 2VB3WN8adyM: Requested format is not available. Use --list-formats for a list of available formats\n",
      "Processing train videos:   8%|████████▌                                                                                                  | 80/1000 [00:20<02:38,  5.82it/s]ERROR: [youtube] 2TQMVwOkHWw: Requested format is not available. Use --list-formats for a list of available formats\n",
      "Processing train videos:   8%|████████▋                                                                                                  | 81/1000 [00:20<03:23,  4.52it/s]ERROR: [youtube] n0PdKty8WRA: Requested format is not available. Use --list-formats for a list of available formats\n"
     ]
    },
    {
     "name": "stdout",
     "output_type": "stream",
     "text": [
      "                                                                     "
     ]
    },
    {
     "name": "stderr",
     "output_type": "stream",
     "text": [
      "Processing train videos:   8%|████████▉                                                                                                  | 83/1000 [00:21<04:50,  3.15it/s]"
     ]
    },
    {
     "name": "stdout",
     "output_type": "stream",
     "text": [
      "[download]  25.0% of ~   2.31KiB at    631.92B/s ETA Unknown (frag 1/2)"
     ]
    },
    {
     "name": "stderr",
     "output_type": "stream",
     "text": [
      "ERROR: [youtube] YfzIHzZRetw: Requested format is not available. Use --list-formats for a list of available formats\n",
      "Processing train videos:   8%|████████▉                                                                                                  | 84/1000 [00:21<04:19,  3.53it/s]"
     ]
    },
    {
     "name": "stdout",
     "output_type": "stream",
     "text": [
      "                                                                       "
     ]
    },
    {
     "name": "stderr",
     "output_type": "stream",
     "text": [
      "Processing train videos:   8%|█████████                                                                                                  | 85/1000 [00:21<05:03,  3.01it/s]ERROR: [youtube] otTiJBUrJmI: Requested format is not available. Use --list-formats for a list of available formats\n",
      "ERROR: [youtube] Jl02T1KXfBc: Requested format is not available. Use --list-formats for a list of available formats\n",
      "Processing train videos:   9%|█████████▎                                                                                                 | 87/1000 [00:22<03:31,  4.32it/s]ERROR: [youtube] RffIEzlN5Yo: Requested format is not available. Use --list-formats for a list of available formats\n",
      "Processing train videos:   9%|█████████▍                                                                                                 | 88/1000 [00:22<03:49,  3.97it/s]ERROR: [youtube] J9kZS0VdY_A: Video unavailable\n",
      "Processing train videos:   9%|█████████▌                                                                                                 | 89/1000 [00:22<03:16,  4.63it/s]ERROR: [youtube] YfzIHzZRetw: Requested format is not available. Use --list-formats for a list of available formats\n",
      "Processing train videos:   9%|█████████▋                                                                                                 | 90/1000 [00:22<03:16,  4.62it/s]ERROR: [youtube] OY1KL0vbBIo: Private video. Sign in if you've been granted access to this video. Use --cookies-from-browser or --cookies for the authentication. See  https://github.com/yt-dlp/yt-dlp/wiki/FAQ#how-do-i-pass-cookies-to-yt-dlp  for how to manually pass cookies. Also see  https://github.com/yt-dlp/yt-dlp/wiki/Extractors#exporting-youtube-cookies  for tips on effectively exporting YouTube cookies\n",
      "Processing train videos:   9%|█████████▋                                                                                                 | 91/1000 [00:22<02:59,  5.06it/s]ERROR: [youtube] MRhaDlslxF8: Requested format is not available. Use --list-formats for a list of available formats\n",
      "ERROR: [youtube] KRrKqGEGdMg: Requested format is not available. Use --list-formats for a list of available formats\n",
      "ERROR: [youtube] ZHUVt5W8UEk: Requested format is not available. Use --list-formats for a list of available formats\n",
      "Processing train videos:   9%|██████████                                                                                                 | 94/1000 [00:23<01:41,  8.96it/s]ERROR: [youtube] gVUwBsPOUjk: Requested format is not available. Use --list-formats for a list of available formats\n"
     ]
    },
    {
     "name": "stdout",
     "output_type": "stream",
     "text": [
      "[download]  10.0% of ~   2.48MiB at   58.85KiB/s ETA 00:05 (frag 0/20)"
     ]
    },
    {
     "name": "stderr",
     "output_type": "stream",
     "text": [
      "ERROR: [youtube] 7YYB3BEoksc: Private video. Sign in if you've been granted access to this video. Use --cookies-from-browser or --cookies for the authentication. See  https://github.com/yt-dlp/yt-dlp/wiki/FAQ#how-do-i-pass-cookies-to-yt-dlp  for how to manually pass cookies. Also see  https://github.com/yt-dlp/yt-dlp/wiki/Extractors#exporting-youtube-cookies  for tips on effectively exporting YouTube cookies\n",
      "Processing train videos:  10%|██████████▎                                                                                                | 96/1000 [00:24<04:45,  3.17it/s]ERROR: [youtube] 1ebUDpd-7DE: Private video. Sign in if you've been granted access to this video. Use --cookies-from-browser or --cookies for the authentication. See  https://github.com/yt-dlp/yt-dlp/wiki/FAQ#how-do-i-pass-cookies-to-yt-dlp  for how to manually pass cookies. Also see  https://github.com/yt-dlp/yt-dlp/wiki/Extractors#exporting-youtube-cookies  for tips on effectively exporting YouTube cookies\n"
     ]
    },
    {
     "name": "stdout",
     "output_type": "stream",
     "text": [
      "[download]   2.5% of ~  38.45MiB at  198.63KiB/s ETA 00:08 (frag 1/20)"
     ]
    },
    {
     "name": "stderr",
     "output_type": "stream",
     "text": [
      "ERROR: [youtube] 55iIOV3hosM: Requested format is not available. Use --list-formats for a list of available formats\n",
      "Processing train videos:  10%|██████████▍                                                                                                | 98/1000 [00:24<04:04,  3.69it/s]ERROR: [youtube] FRQbKDZeRzM: Requested format is not available. Use --list-formats for a list of available formats\n",
      "ERROR: [youtube] rWIDL_GpaJc: Requested format is not available. Use --list-formats for a list of available formats\n",
      "ERROR: [youtube] 6Mmgrtw_Zro: Requested format is not available. Use --list-formats for a list of available formats\n",
      "Processing train videos:  10%|██████████▋                                                                                               | 101/1000 [00:25<03:19,  4.51it/s]"
     ]
    },
    {
     "name": "stdout",
     "output_type": "stream",
     "text": [
      "[download]  10.3% of ~   9.92MiB at  439.56KiB/s ETA 00:10 (frag 1/20)"
     ]
    },
    {
     "name": "stderr",
     "output_type": "stream",
     "text": [
      "ERROR: [youtube] UI5KLVn8JKI: Requested format is not available. Use --list-formats for a list of available formats\n",
      "Processing train videos:  10%|██████████▊                                                                                               | 102/1000 [00:25<03:28,  4.31it/s]"
     ]
    },
    {
     "name": "stdout",
     "output_type": "stream",
     "text": [
      "[download]  10.6% of ~  10.23MiB at  473.26KiB/s ETA 00:11 (frag 1/20)"
     ]
    },
    {
     "name": "stderr",
     "output_type": "stream",
     "text": [
      "ERROR: [youtube] AiozVha_k4o: Requested format is not available. Use --list-formats for a list of available formats\n",
      "Processing train videos:  10%|██████████▉                                                                                               | 103/1000 [00:25<03:07,  4.79it/s]ERROR: [youtube] 2bXFhqq9YxA: Requested format is not available. Use --list-formats for a list of available formats\n"
     ]
    },
    {
     "name": "stdout",
     "output_type": "stream",
     "text": [
      "[download]  12.1% of ~  12.10MiB at  552.29KiB/s ETA 00:12 (frag 1/20)"
     ]
    },
    {
     "name": "stderr",
     "output_type": "stream",
     "text": [
      "ERROR: [youtube] Cv5avR9nEhg: Requested format is not available. Use --list-formats for a list of available formats\n",
      "Processing train videos:  10%|███████████▏                                                                                              | 105/1000 [00:25<02:36,  5.71it/s]"
     ]
    },
    {
     "name": "stdout",
     "output_type": "stream",
     "text": [
      "[download]   6.7% of ~  28.50MiB at  633.41KiB/s ETA 00:12 (frag 2/20)"
     ]
    },
    {
     "name": "stderr",
     "output_type": "stream",
     "text": [
      "ERROR: [youtube] k0T-yY_HrEQ: Requested format is not available. Use --list-formats for a list of available formats\n",
      "Processing train videos:  11%|███████████▏                                                                                              | 106/1000 [00:26<02:42,  5.50it/s]ERROR: [youtube] V_CmcX4SF3s: Video unavailable\n",
      "ERROR: [youtube] nByL5JU11tU: Video unavailable\n"
     ]
    },
    {
     "name": "stdout",
     "output_type": "stream",
     "text": [
      "[download]  25.8% of ~  16.10MiB at    1.03MiB/s ETA 00:12 (frag 4/20)"
     ]
    },
    {
     "name": "stderr",
     "output_type": "stream",
     "text": [
      "ERROR: [youtube] V7WEPn3RJsc: Video unavailable\n",
      "Processing train videos:  11%|███████████▌                                                                                              | 109/1000 [00:27<04:28,  3.32it/s]"
     ]
    },
    {
     "name": "stdout",
     "output_type": "stream",
     "text": [
      "[download]  20.8% of ~  23.57MiB at    1.12MiB/s ETA 00:12 (frag 5/20)"
     ]
    },
    {
     "name": "stderr",
     "output_type": "stream",
     "text": [
      "ERROR: [youtube] 7OHUQbBmm6U: Requested format is not available. Use --list-formats for a list of available formats\n",
      "Processing train videos:  11%|███████████▋                                                                                              | 110/1000 [00:27<04:20,  3.42it/s]ERROR: [youtube] 99noLwmY2Bc: Requested format is not available. Use --list-formats for a list of available formats\n"
     ]
    },
    {
     "name": "stdout",
     "output_type": "stream",
     "text": [
      "[download]  35.7% of ~  17.26MiB at    1.58MiB/s ETA 00:10 (frag 6/20)"
     ]
    },
    {
     "name": "stderr",
     "output_type": "stream",
     "text": [
      "ERROR: [youtube] 6cigtOP682Y: Requested format is not available. Use --list-formats for a list of available formats\n",
      "Processing train videos:  11%|███████████▊                                                                                              | 112/1000 [00:28<03:55,  3.77it/s]ERROR: [youtube] eBkzZg-9hd4: Requested format is not available. Use --list-formats for a list of available formats\n",
      "ERROR: [youtube] _ct_E9MU_2U: Requested format is not available. Use --list-formats for a list of available formats\n"
     ]
    },
    {
     "name": "stdout",
     "output_type": "stream",
     "text": [
      "[download]  30.5% of ~  22.74MiB at    1.67MiB/s ETA 00:10 (frag 7/20)"
     ]
    },
    {
     "name": "stderr",
     "output_type": "stream",
     "text": [
      "ERROR: [youtube] G0IHRXJ8VVY: Requested format is not available. Use --list-formats for a list of available formats\n",
      "Processing train videos:  12%|████████████▏                                                                                             | 115/1000 [00:28<02:52,  5.14it/s]"
     ]
    },
    {
     "name": "stdout",
     "output_type": "stream",
     "text": [
      "[download]  40.7% of ~  17.66MiB at    1.76MiB/s ETA 00:09 (frag 7/20)"
     ]
    },
    {
     "name": "stderr",
     "output_type": "stream",
     "text": [
      "ERROR: [youtube] p2xuU6C_p0Y: Requested format is not available. Use --list-formats for a list of available formats\n"
     ]
    },
    {
     "name": "stdout",
     "output_type": "stream",
     "text": [
      "[download]  41.4% of ~  17.97MiB at    1.76MiB/s ETA 00:09 (frag 7/20)"
     ]
    },
    {
     "name": "stderr",
     "output_type": "stream",
     "text": [
      "Processing train videos:  12%|████████████▎                                                                                             | 116/1000 [00:28<02:41,  5.47it/s]"
     ]
    },
    {
     "name": "stdout",
     "output_type": "stream",
     "text": [
      "[download]  45.7% of ~  17.92MiB at    2.02MiB/s ETA 00:08 (frag 8/20)"
     ]
    },
    {
     "name": "stderr",
     "output_type": "stream",
     "text": [
      "ERROR: [youtube] Tg0ltpSAQrk: Requested format is not available. Use --list-formats for a list of available formats\n",
      "Processing train videos:  12%|████████████▍                                                                                             | 117/1000 [00:29<03:28,  4.23it/s]ERROR: [youtube] FKcrtW0JkyA: Requested format is not available. Use --list-formats for a list of available formats\n",
      "ERROR: [youtube] 9g-hioQapYE: Requested format is not available. Use --list-formats for a list of available formats\n",
      "ERROR: [youtube] qDW0SM1C724: Private video. Sign in if you've been granted access to this video. Use --cookies-from-browser or --cookies for the authentication. See  https://github.com/yt-dlp/yt-dlp/wiki/FAQ#how-do-i-pass-cookies-to-yt-dlp  for how to manually pass cookies. Also see  https://github.com/yt-dlp/yt-dlp/wiki/Extractors#exporting-youtube-cookies  for tips on effectively exporting YouTube cookies\n",
      "Processing train videos:  12%|████████████▋                                                                                             | 120/1000 [00:29<02:12,  6.64it/s]"
     ]
    },
    {
     "name": "stdout",
     "output_type": "stream",
     "text": [
      "[download]  40.4% of ~  22.12MiB at    2.09MiB/s ETA 00:08 (frag 9/20)"
     ]
    },
    {
     "name": "stderr",
     "output_type": "stream",
     "text": [
      "ERROR: [youtube] SSDg9Y4a-ec: Private video. Sign in if you've been granted access to this video. Use --cookies-from-browser or --cookies for the authentication. See  https://github.com/yt-dlp/yt-dlp/wiki/FAQ#how-do-i-pass-cookies-to-yt-dlp  for how to manually pass cookies. Also see  https://github.com/yt-dlp/yt-dlp/wiki/Extractors#exporting-youtube-cookies  for tips on effectively exporting YouTube cookies\n"
     ]
    },
    {
     "name": "stdout",
     "output_type": "stream",
     "text": [
      "[download]  60.0% of ~  18.19MiB at    2.43MiB/s ETA 00:06 (frag 11/20)"
     ]
    },
    {
     "name": "stderr",
     "output_type": "stream",
     "text": [
      "ERROR: [youtube] CaPskXAkgJo: Requested format is not available. Use --list-formats for a list of available formats\n"
     ]
    },
    {
     "name": "stdout",
     "output_type": "stream",
     "text": [
      "[download]  60.0% of ~  18.19MiB at    2.43MiB/s ETA 00:06 (frag 11/20)"
     ]
    },
    {
     "name": "stderr",
     "output_type": "stream",
     "text": [
      "Processing train videos:  12%|████████████▉                                                                                             | 122/1000 [00:30<04:00,  3.65it/s]"
     ]
    },
    {
     "name": "stdout",
     "output_type": "stream",
     "text": [
      "[download]  60.3% of ~  21.43MiB at    2.57MiB/s ETA 00:05 (frag 13/20)"
     ]
    },
    {
     "name": "stderr",
     "output_type": "stream",
     "text": [
      "ERROR: [youtube] cF6XScPZDsE: Requested format is not available. Use --list-formats for a list of available formats\n",
      "Processing train videos:  12%|█████████████                                                                                             | 123/1000 [00:30<04:33,  3.21it/s]ERROR: [youtube] tZXeryN2rJE: Requested format is not available. Use --list-formats for a list of available formats\n",
      "Processing train videos:  12%|█████████████▏                                                                                            | 124/1000 [00:30<04:02,  3.61it/s]"
     ]
    },
    {
     "name": "stdout",
     "output_type": "stream",
     "text": [
      "[download]  65.3% of ~  21.35MiB at    2.58MiB/s ETA 00:04 (frag 14/20)"
     ]
    },
    {
     "name": "stderr",
     "output_type": "stream",
     "text": [
      "ERROR: [youtube] 60omp0MhwPU: Requested format is not available. Use --list-formats for a list of available formats\n",
      "Processing train videos:  12%|█████████████▎                                                                                            | 125/1000 [00:31<04:11,  3.48it/s]ERROR: [youtube] lbw6sdq2XxA: Requested format is not available. Use --list-formats for a list of available formats\n",
      "ERROR: [youtube] 73icFhednQU: Private video. Sign in if you've been granted access to this video. Use --cookies-from-browser or --cookies for the authentication. See  https://github.com/yt-dlp/yt-dlp/wiki/FAQ#how-do-i-pass-cookies-to-yt-dlp  for how to manually pass cookies. Also see  https://github.com/yt-dlp/yt-dlp/wiki/Extractors#exporting-youtube-cookies  for tips on effectively exporting YouTube cookies\n"
     ]
    },
    {
     "name": "stdout",
     "output_type": "stream",
     "text": [
      "[download]  70.3% of ~  21.24MiB at    2.61MiB/s ETA 00:04 (frag 15/20)"
     ]
    },
    {
     "name": "stderr",
     "output_type": "stream",
     "text": [
      "ERROR: [youtube] Cv5avR9nEhg: Requested format is not available. Use --list-formats for a list of available formats\n",
      "Processing train videos:  13%|█████████████▌                                                                                            | 128/1000 [00:31<02:53,  5.03it/s]"
     ]
    },
    {
     "name": "stdout",
     "output_type": "stream",
     "text": [
      "[download]  75.3% of ~  21.16MiB at    2.61MiB/s ETA 00:03 (frag 16/20)"
     ]
    },
    {
     "name": "stderr",
     "output_type": "stream",
     "text": [
      "ERROR: [youtube] qGEfRGh0pWM: Requested format is not available. Use --list-formats for a list of available formats\n",
      "Processing train videos:  13%|█████████████▋                                                                                            | 129/1000 [00:31<03:11,  4.54it/s]"
     ]
    },
    {
     "name": "stdout",
     "output_type": "stream",
     "text": [
      "[download]  85.0% of ~  18.74MiB at    2.63MiB/s ETA 00:03 (frag 16/20)"
     ]
    },
    {
     "name": "stderr",
     "output_type": "stream",
     "text": [
      "ERROR: [youtube] shPBfkIYYpU: Requested format is not available. Use --list-formats for a list of available formats\n"
     ]
    },
    {
     "name": "stdout",
     "output_type": "stream",
     "text": [
      "[download]  85.0% of ~  18.74MiB at    2.63MiB/s ETA 00:03 (frag 16/20)"
     ]
    },
    {
     "name": "stderr",
     "output_type": "stream",
     "text": [
      "Processing train videos:  13%|█████████████▊                                                                                            | 130/1000 [00:32<03:09,  4.59it/s]"
     ]
    },
    {
     "name": "stdout",
     "output_type": "stream",
     "text": [
      "[download]  85.0% of ~  19.92MiB at    2.73MiB/s ETA 00:03 (frag 16/20)"
     ]
    },
    {
     "name": "stderr",
     "output_type": "stream",
     "text": [
      "ERROR: [youtube] iDWntsY_rZM: Video unavailable\n"
     ]
    },
    {
     "name": "stdout",
     "output_type": "stream",
     "text": [
      "[download]  80.3% of ~  21.10MiB at    2.73MiB/s ETA 00:03 (frag 17/20)"
     ]
    },
    {
     "name": "stderr",
     "output_type": "stream",
     "text": [
      "ERROR: [youtube] x0q-NTYinOY: Requested format is not available. Use --list-formats for a list of available formats\n",
      "Processing train videos:  13%|█████████████▉                                                                                            | 132/1000 [00:32<02:16,  6.35it/s]ERROR: [youtube] 9RE2NLd_Sgw: Requested format is not available. Use --list-formats for a list of available formats\n",
      "Processing train videos:  13%|██████████████                                                                                            | 133/1000 [00:32<02:16,  6.33it/s]"
     ]
    },
    {
     "name": "stdout",
     "output_type": "stream",
     "text": [
      "[download]  85.2% of ~  21.04MiB at    2.86MiB/s ETA 00:02 (frag 18/20)"
     ]
    },
    {
     "name": "stderr",
     "output_type": "stream",
     "text": [
      "ERROR: [youtube] 73icFhednQU: Private video. Sign in if you've been granted access to this video. Use --cookies-from-browser or --cookies for the authentication. See  https://github.com/yt-dlp/yt-dlp/wiki/FAQ#how-do-i-pass-cookies-to-yt-dlp  for how to manually pass cookies. Also see  https://github.com/yt-dlp/yt-dlp/wiki/Extractors#exporting-youtube-cookies  for tips on effectively exporting YouTube cookies\n",
      "Processing train videos:  13%|██████████████▏                                                                                           | 134/1000 [00:32<02:38,  5.47it/s]ERROR: [youtube] gTxh0X6n_YQ: Private video. Sign in if you've been granted access to this video. Use --cookies-from-browser or --cookies for the authentication. See  https://github.com/yt-dlp/yt-dlp/wiki/FAQ#how-do-i-pass-cookies-to-yt-dlp  for how to manually pass cookies. Also see  https://github.com/yt-dlp/yt-dlp/wiki/Extractors#exporting-youtube-cookies  for tips on effectively exporting YouTube cookies\n"
     ]
    },
    {
     "name": "stdout",
     "output_type": "stream",
     "text": [
      "[download]  96.3% of ~  19.14MiB at    2.85MiB/s ETA 00:02 (frag 18/20)"
     ]
    },
    {
     "name": "stderr",
     "output_type": "stream",
     "text": [
      "ERROR: [youtube] 5aI0Hq_SYkE: Video unavailable. This video is no longer available because the uploader has closed their YouTube account.\n",
      "Processing train videos:  14%|██████████████▍                                                                                           | 136/1000 [00:32<02:33,  5.62it/s]"
     ]
    },
    {
     "name": "stdout",
     "output_type": "stream",
     "text": [
      "[download]  90.5% of ~  20.87MiB at    2.84MiB/s ETA 00:02 (frag 19/20)"
     ]
    },
    {
     "name": "stderr",
     "output_type": "stream",
     "text": [
      "ERROR: [youtube] fNg_sJ9f8EI: Requested format is not available. Use --list-formats for a list of available formats\n",
      "Processing train videos:  14%|██████████████▌                                                                                           | 137/1000 [00:33<03:12,  4.49it/s]"
     ]
    },
    {
     "name": "stdout",
     "output_type": "stream",
     "text": [
      "                                                                       "
     ]
    },
    {
     "name": "stderr",
     "output_type": "stream",
     "text": [
      "ERROR: [youtube] 6jjPIk3O0q4: Requested format is not available. Use --list-formats for a list of available formats\n",
      "Processing train videos:  14%|██████████████▋                                                                                           | 138/1000 [00:33<03:09,  4.54it/s]ERROR: [youtube] Dax964vUumQ: Private video. Sign in if you've been granted access to this video. Use --cookies-from-browser or --cookies for the authentication. See  https://github.com/yt-dlp/yt-dlp/wiki/FAQ#how-do-i-pass-cookies-to-yt-dlp  for how to manually pass cookies. Also see  https://github.com/yt-dlp/yt-dlp/wiki/Extractors#exporting-youtube-cookies  for tips on effectively exporting YouTube cookies\n",
      "Processing train videos:  14%|██████████████▋                                                                                           | 139/1000 [00:33<03:00,  4.76it/s]ERROR: [youtube] oJrNJvlvIEI: Requested format is not available. Use --list-formats for a list of available formats\n",
      "Processing train videos:  14%|██████████████▊                                                                                           | 140/1000 [00:34<03:36,  3.96it/s]"
     ]
    },
    {
     "name": "stdout",
     "output_type": "stream",
     "text": [
      "[download]   3.8% of ~  18.36KiB at    305.75B/s ETA Unknown (frag 1/13)"
     ]
    },
    {
     "name": "stderr",
     "output_type": "stream",
     "text": [
      "ERROR: [youtube] hjS0dQDgbjo: Requested format is not available. Use --list-formats for a list of available formats\n",
      "Processing train videos:  14%|██████████████▉                                                                                           | 141/1000 [00:34<03:18,  4.33it/s]ERROR: [youtube] iMUjcZCLaGo: Private video. Sign in if you've been granted access to this video. Use --cookies-from-browser or --cookies for the authentication. See  https://github.com/yt-dlp/yt-dlp/wiki/FAQ#how-do-i-pass-cookies-to-yt-dlp  for how to manually pass cookies. Also see  https://github.com/yt-dlp/yt-dlp/wiki/Extractors#exporting-youtube-cookies  for tips on effectively exporting YouTube cookies\n",
      "Processing train videos:  14%|███████████████                                                                                           | 142/1000 [00:34<04:16,  3.35it/s]ERROR: [youtube] lSqfurbjfDc: Private video. Sign in if you've been granted access to this video. Use --cookies-from-browser or --cookies for the authentication. See  https://github.com/yt-dlp/yt-dlp/wiki/FAQ#how-do-i-pass-cookies-to-yt-dlp  for how to manually pass cookies. Also see  https://github.com/yt-dlp/yt-dlp/wiki/Extractors#exporting-youtube-cookies  for tips on effectively exporting YouTube cookies\n"
     ]
    },
    {
     "name": "stdout",
     "output_type": "stream",
     "text": [
      "[download]   7.7% of ~   2.01MiB at    593.80B/s ETA 13:54 (frag 2/13)  "
     ]
    },
    {
     "name": "stderr",
     "output_type": "stream",
     "text": [
      "ERROR: [youtube] MU3_iURZyqY: Video unavailable\n",
      "Processing train videos:  14%|███████████████▎                                                                                          | 144/1000 [00:35<03:28,  4.10it/s]ERROR: [youtube] UXetwN_cI5A: Requested format is not available. Use --list-formats for a list of available formats\n",
      "ERROR: [youtube] Xp4SLJDC1uk: Video unavailable\n",
      "Processing train videos:  15%|███████████████▍                                                                                          | 146/1000 [00:35<03:04,  4.62it/s]"
     ]
    },
    {
     "name": "stdout",
     "output_type": "stream",
     "text": [
      "[download]  15.4% of ~   2.01MiB at   23.98KiB/s ETA 12:32 (frag 3/13)"
     ]
    },
    {
     "name": "stderr",
     "output_type": "stream",
     "text": [
      "ERROR: [youtube] ZpF9lj35sPc: Requested format is not available. Use --list-formats for a list of available formats\n",
      "ERROR: [youtube] SJAhRxI7i9c: Requested format is not available. Use --list-formats for a list of available formats\n",
      "Processing train videos:  15%|███████████████▌                                                                                          | 147/1000 [00:35<02:44,  5.19it/s]ERROR: [youtube] DSgPwoBN0tA: Requested format is not available. Use --list-formats for a list of available formats\n",
      "ERROR: [youtube] NOpmdQCK_Hs: Private video. Sign in if you've been granted access to this video. Use --cookies-from-browser or --cookies for the authentication. See  https://github.com/yt-dlp/yt-dlp/wiki/FAQ#how-do-i-pass-cookies-to-yt-dlp  for how to manually pass cookies. Also see  https://github.com/yt-dlp/yt-dlp/wiki/Extractors#exporting-youtube-cookies  for tips on effectively exporting YouTube cookies\n",
      "ERROR: [youtube] pnzIZR8wTV8: Requested format is not available. Use --list-formats for a list of available formats\n",
      "Processing train videos:  15%|████████████████                                                                                          | 151/1000 [00:36<02:12,  6.38it/s]"
     ]
    },
    {
     "name": "stdout",
     "output_type": "stream",
     "text": [
      "[download]  23.1% of ~   2.01MiB at   51.35KiB/s ETA 11:18 (frag 4/13)"
     ]
    },
    {
     "name": "stderr",
     "output_type": "stream",
     "text": [
      "ERROR: [youtube] KO5mn-2Daj8: Private video. Sign in if you've been granted access to this video. Use --cookies-from-browser or --cookies for the authentication. See  https://github.com/yt-dlp/yt-dlp/wiki/FAQ#how-do-i-pass-cookies-to-yt-dlp  for how to manually pass cookies. Also see  https://github.com/yt-dlp/yt-dlp/wiki/Extractors#exporting-youtube-cookies  for tips on effectively exporting YouTube cookies\n",
      "Processing train videos:  15%|████████████████                                                                                          | 152/1000 [00:36<02:19,  6.07it/s]ERROR: [youtube] 73icFhednQU: Private video. Sign in if you've been granted access to this video. Use --cookies-from-browser or --cookies for the authentication. See  https://github.com/yt-dlp/yt-dlp/wiki/FAQ#how-do-i-pass-cookies-to-yt-dlp  for how to manually pass cookies. Also see  https://github.com/yt-dlp/yt-dlp/wiki/Extractors#exporting-youtube-cookies  for tips on effectively exporting YouTube cookies\n",
      "Processing train videos:  15%|████████████████▏                                                                                         | 153/1000 [00:36<03:20,  4.23it/s]"
     ]
    },
    {
     "name": "stdout",
     "output_type": "stream",
     "text": [
      "[download]  30.8% of ~   2.01MiB at   88.20KiB/s ETA 10:11 (frag 5/13)"
     ]
    },
    {
     "name": "stderr",
     "output_type": "stream",
     "text": [
      "ERROR: [youtube] Lzf5eXlsqFA: Requested format is not available. Use --list-formats for a list of available formats\n",
      "Processing train videos:  15%|████████████████▎                                                                                         | 154/1000 [00:37<04:14,  3.32it/s]ERROR: [youtube] uM98W6WkvK0: Video unavailable\n",
      "ERROR: [youtube] ws12ZoG4qAU: Requested format is not available. Use --list-formats for a list of available formats\n",
      "Processing train videos:  16%|████████████████▌                                                                                         | 156/1000 [00:37<03:06,  4.53it/s]"
     ]
    },
    {
     "name": "stdout",
     "output_type": "stream",
     "text": [
      "[download]  38.5% of ~   2.01MiB at  130.30KiB/s ETA 09:10 (frag 6/13)"
     ]
    },
    {
     "name": "stderr",
     "output_type": "stream",
     "text": [
      "ERROR: [youtube] oA3s-7Op-9o: Requested format is not available. Use --list-formats for a list of available formats\n",
      "Processing train videos:  16%|████████████████▋                                                                                         | 157/1000 [00:37<03:46,  3.73it/s]"
     ]
    },
    {
     "name": "stdout",
     "output_type": "stream",
     "text": [
      "[download]  46.2% of ~   2.01MiB at  159.33KiB/s ETA 08:15 (frag 7/13)"
     ]
    },
    {
     "name": "stderr",
     "output_type": "stream",
     "text": [
      "ERROR: [youtube] l_fTjyGJl-w: Requested format is not available. Use --list-formats for a list of available formats\n",
      "Processing train videos:  16%|████████████████▋                                                                                         | 158/1000 [00:38<04:03,  3.46it/s]ERROR: [youtube] -LB4ENHxcIs: Requested format is not available. Use --list-formats for a list of available formats\n",
      "Processing train videos:  16%|████████████████▊                                                                                         | 159/1000 [00:38<03:25,  4.10it/s]"
     ]
    },
    {
     "name": "stdout",
     "output_type": "stream",
     "text": [
      "[download] 100.0% of ~  15.00KiB at    311.96B/s ETA Unknown (frag 0/1)"
     ]
    },
    {
     "name": "stderr",
     "output_type": "stream",
     "text": [
      "ERROR: [youtube] B9mtcORYu9c: Requested format is not available. Use --list-formats for a list of available formats\n",
      "Processing train videos:  16%|████████████████▉                                                                                         | 160/1000 [00:38<03:03,  4.57it/s]"
     ]
    },
    {
     "name": "stdout",
     "output_type": "stream",
     "text": [
      "[download] 100.0% of ~ 127.00KiB at   43.97KiB/s ETA 00:00 (frag 0/1)  "
     ]
    },
    {
     "name": "stderr",
     "output_type": "stream",
     "text": [
      "ERROR: [youtube] -hUjwyVQdbo: Requested format is not available. Use --list-formats for a list of available formats\n",
      "Processing train videos:  16%|█████████████████                                                                                         | 161/1000 [00:38<03:35,  3.89it/s]"
     ]
    },
    {
     "name": "stdout",
     "output_type": "stream",
     "text": [
      "[download]  62.5% of ~   1.83MiB at  195.28KiB/s ETA 06:42 (frag 8/13)"
     ]
    },
    {
     "name": "stderr",
     "output_type": "stream",
     "text": [
      "ERROR: [youtube] -hzoIOWYJac: Requested format is not available. Use --list-formats for a list of available formats\n"
     ]
    },
    {
     "name": "stdout",
     "output_type": "stream",
     "text": [
      "[download]  62.9% of ~   1.96MiB at  195.28KiB/s ETA 06:42 (frag 8/13)"
     ]
    },
    {
     "name": "stderr",
     "output_type": "stream",
     "text": [
      "Processing train videos:  16%|█████████████████▏                                                                                        | 162/1000 [00:39<05:24,  2.58it/s]"
     ]
    },
    {
     "name": "stdout",
     "output_type": "stream",
     "text": [
      "[download]  25.0% of ~   2.47KiB at    254.39B/s ETA Unknown (frag 1/2)"
     ]
    },
    {
     "name": "stderr",
     "output_type": "stream",
     "text": [
      "ERROR: [youtube] dCFuVV7Bpbo: Video unavailable. This video is no longer available because the YouTube account associated with this video has been terminated.\n",
      "Processing train videos:  16%|█████████████████▎                                                                                        | 163/1000 [00:40<05:24,  2.58it/s]ERROR: [youtube] mCjHYreiZ24: Requested format is not available. Use --list-formats for a list of available formats\n",
      "Processing train videos:  16%|█████████████████▍                                                                                        | 164/1000 [00:40<04:18,  3.23it/s]ERROR: [youtube] N4n5CDpyX3w: Requested format is not available. Use --list-formats for a list of available formats\n"
     ]
    },
    {
     "name": "stdout",
     "output_type": "stream",
     "text": [
      "                                                                       "
     ]
    },
    {
     "name": "stderr",
     "output_type": "stream",
     "text": [
      "Processing train videos:  17%|█████████████████▌                                                                                        | 166/1000 [00:40<03:49,  3.63it/s]ERROR: [youtube] ctcBSA-293U: Requested format is not available. Use --list-formats for a list of available formats\n",
      "ERROR: [youtube] hKogDJd0yc4: Requested format is not available. Use --list-formats for a list of available formats\n"
     ]
    },
    {
     "name": "stdout",
     "output_type": "stream",
     "text": [
      "[download]  76.9% of ~   2.00MiB at  210.57KiB/s ETA 05:26 (frag 11/13)"
     ]
    },
    {
     "name": "stderr",
     "output_type": "stream",
     "text": [
      "ERROR: [youtube] 9g-hioQapYE: Requested format is not available. Use --list-formats for a list of available formats\n",
      "Processing train videos:  17%|█████████████████▉                                                                                        | 169/1000 [00:41<03:38,  3.80it/s]ERROR: [youtube] 7YYB3BEoksc: Private video. Sign in if you've been granted access to this video. Use --cookies-from-browser or --cookies for the authentication. See  https://github.com/yt-dlp/yt-dlp/wiki/FAQ#how-do-i-pass-cookies-to-yt-dlp  for how to manually pass cookies. Also see  https://github.com/yt-dlp/yt-dlp/wiki/Extractors#exporting-youtube-cookies  for tips on effectively exporting YouTube cookies\n"
     ]
    },
    {
     "name": "stdout",
     "output_type": "stream",
     "text": [
      "[download] 100.0% of ~  63.00KiB at   14.55KiB/s ETA 00:00 (frag 0/2)3)"
     ]
    },
    {
     "name": "stderr",
     "output_type": "stream",
     "text": [
      "ERROR: [youtube] 2sGQuduhAf4: Requested format is not available. Use --list-formats for a list of available formats\n",
      "Processing train videos:  17%|██████████████████▏                                                                                       | 171/1000 [00:42<05:10,  2.67it/s]"
     ]
    },
    {
     "name": "stdout",
     "output_type": "stream",
     "text": [
      "                                                                       "
     ]
    },
    {
     "name": "stderr",
     "output_type": "stream",
     "text": [
      "ERROR: [youtube] 5xwmhhqO7VA: Requested format is not available. Use --list-formats for a list of available formats\n",
      "Processing train videos:  17%|██████████████████▏                                                                                       | 172/1000 [00:42<04:44,  2.91it/s]"
     ]
    },
    {
     "name": "stdout",
     "output_type": "stream",
     "text": [
      "[download]  25.0% of ~   1.89MiB at  108.73KiB/s ETA 00:00 (frag 1/2)"
     ]
    },
    {
     "name": "stderr",
     "output_type": "stream",
     "text": [
      "ERROR: [youtube] -hzoIOWYJac: Requested format is not available. Use --list-formats for a list of available formats\n",
      "Processing train videos:  17%|██████████████████▍                                                                                       | 174/1000 [00:43<03:59,  3.45it/s]ERROR: [youtube] rWIDL_GpaJc: Requested format is not available. Use --list-formats for a list of available formats\n",
      "Processing train videos:  18%|██████████████████▌                                                                                       | 175/1000 [00:43<03:24,  4.04it/s]ERROR: [youtube] IRa2wGdUm1A: Requested format is not available. Use --list-formats for a list of available formats\n",
      "Processing train videos:  18%|██████████████████▋                                                                                       | 176/1000 [00:43<03:08,  4.36it/s]"
     ]
    },
    {
     "name": "stdout",
     "output_type": "stream",
     "text": [
      "                                                                     "
     ]
    },
    {
     "name": "stderr",
     "output_type": "stream",
     "text": [
      "ERROR: [youtube] psspxdbtM3k: Requested format is not available. Use --list-formats for a list of available formats\n",
      "Processing train videos:  18%|██████████████████▊                                                                                       | 177/1000 [00:43<03:05,  4.45it/s]ERROR: [youtube] TwkGS9TjUX8: Requested format is not available. Use --list-formats for a list of available formats\n",
      "Processing train videos:  18%|██████████████████▊                                                                                       | 178/1000 [00:44<03:20,  4.11it/s]ERROR: [youtube] Dax964vUumQ: Private video. Sign in if you've been granted access to this video. Use --cookies-from-browser or --cookies for the authentication. See  https://github.com/yt-dlp/yt-dlp/wiki/FAQ#how-do-i-pass-cookies-to-yt-dlp  for how to manually pass cookies. Also see  https://github.com/yt-dlp/yt-dlp/wiki/Extractors#exporting-youtube-cookies  for tips on effectively exporting YouTube cookies\n",
      "Processing train videos:  18%|██████████████████▉                                                                                       | 179/1000 [00:44<03:14,  4.21it/s]"
     ]
    },
    {
     "name": "stdout",
     "output_type": "stream",
     "text": [
      "[download]  16.7% of ~   3.47KiB at    279.02B/s ETA Unknown (frag 1/3)"
     ]
    },
    {
     "name": "stderr",
     "output_type": "stream",
     "text": [
      "ERROR: [youtube] bFm9sAXhmkQ: Requested format is not available. Use --list-formats for a list of available formats\n"
     ]
    },
    {
     "name": "stdout",
     "output_type": "stream",
     "text": [
      "                                                                       "
     ]
    },
    {
     "name": "stderr",
     "output_type": "stream",
     "text": [
      "ERROR: [youtube] gMlPqSQn5nw: Video unavailable\n",
      "Processing train videos:  18%|███████████████████▎                                                                                      | 182/1000 [00:45<03:59,  3.42it/s]ERROR: [youtube] fKjsdtMU3fc: Requested format is not available. Use --list-formats for a list of available formats\n",
      "ERROR: [youtube] l7vB5LRlaSM: Video unavailable. This video is no longer available because the YouTube account associated with this video has been terminated.\n",
      "Processing train videos:  18%|███████████████████▌                                                                                      | 184/1000 [00:45<02:49,  4.82it/s]"
     ]
    },
    {
     "name": "stdout",
     "output_type": "stream",
     "text": [
      "[download] 100.0% of ~  63.00KiB at   29.67KiB/s ETA Unknown (frag 0/1)"
     ]
    },
    {
     "name": "stderr",
     "output_type": "stream",
     "text": [
      "ERROR: [youtube] Dax964vUumQ: Private video. Sign in if you've been granted access to this video. Use --cookies-from-browser or --cookies for the authentication. See  https://github.com/yt-dlp/yt-dlp/wiki/FAQ#how-do-i-pass-cookies-to-yt-dlp  for how to manually pass cookies. Also see  https://github.com/yt-dlp/yt-dlp/wiki/Extractors#exporting-youtube-cookies  for tips on effectively exporting YouTube cookies\n",
      "Processing train videos:  18%|███████████████████▌                                                                                      | 185/1000 [00:45<03:03,  4.44it/s]"
     ]
    },
    {
     "name": "stdout",
     "output_type": "stream",
     "text": [
      "[download]  10.1% of ~   1.23MiB at    231.39B/s ETA 00:00 (frag 0/20) "
     ]
    },
    {
     "name": "stderr",
     "output_type": "stream",
     "text": [
      "ERROR: [youtube] K4lo0NZDlH8: Requested format is not available. Use --list-formats for a list of available formats\n",
      "Processing train videos:  19%|███████████████████▋                                                                                      | 186/1000 [00:45<02:53,  4.69it/s]"
     ]
    },
    {
     "name": "stdout",
     "output_type": "stream",
     "text": [
      "[download]  10.0% of ~   2.48MiB at   51.43KiB/s ETA 00:01 (frag 0/20)"
     ]
    },
    {
     "name": "stderr",
     "output_type": "stream",
     "text": [
      "ERROR: [youtube] eMZdggjnLQA: Requested format is not available. Use --list-formats for a list of available formats\n",
      "Processing train videos:  19%|███████████████████▊                                                                                      | 187/1000 [00:46<02:42,  4.99it/s]"
     ]
    },
    {
     "name": "stdout",
     "output_type": "stream",
     "text": [
      "[download]  15.5% of ~  13.11MiB at  528.84KiB/s ETA 00:06 (frag 2/20)"
     ]
    },
    {
     "name": "stderr",
     "output_type": "stream",
     "text": [
      "ERROR: [youtube] n0PdKty8WRA: Requested format is not available. Use --list-formats for a list of available formats\n",
      "Processing train videos:  19%|███████████████████▉                                                                                      | 188/1000 [00:46<03:58,  3.41it/s]ERROR: [youtube] kVIt-qr5P2s: Requested format is not available. Use --list-formats for a list of available formats\n",
      "ERROR: [youtube] f6Jd_HsdGQo: Video unavailable\n",
      "Processing train videos:  19%|████████████████████▏                                                                                     | 190/1000 [00:46<02:40,  5.04it/s]"
     ]
    },
    {
     "name": "stdout",
     "output_type": "stream",
     "text": [
      "[download]  15.9% of ~  13.53MiB at  637.08KiB/s ETA 00:06 (frag 2/20)"
     ]
    },
    {
     "name": "stderr",
     "output_type": "stream",
     "text": [
      "ERROR: [youtube] eeHS78JyN70: Requested format is not available. Use --list-formats for a list of available formats\n"
     ]
    },
    {
     "name": "stdout",
     "output_type": "stream",
     "text": [
      "[download]  16.7% of ~  14.36MiB at  637.08KiB/s ETA 00:06 (frag 2/20)"
     ]
    },
    {
     "name": "stderr",
     "output_type": "stream",
     "text": [
      "Processing train videos:  19%|████████████████████▏                                                                                     | 191/1000 [00:46<02:52,  4.70it/s]"
     ]
    },
    {
     "name": "stdout",
     "output_type": "stream",
     "text": [
      "[download]  25.8% of ~  16.10MiB at    1.05MiB/s ETA 00:07 (frag 4/20)"
     ]
    },
    {
     "name": "stderr",
     "output_type": "stream",
     "text": [
      "ERROR: [youtube] GSI7E1Ol0Yg: Video unavailable\n",
      "Processing train videos:  19%|████████████████████▎                                                                                     | 192/1000 [00:47<03:25,  3.92it/s]"
     ]
    },
    {
     "name": "stdout",
     "output_type": "stream",
     "text": [
      "[download]  35.7% of ~  17.26MiB at    2.31MiB/s ETA 00:06 (frag 6/20)"
     ]
    },
    {
     "name": "stderr",
     "output_type": "stream",
     "text": [
      "ERROR: [youtube] qATuIbBufYQ: Requested format is not available. Use --list-formats for a list of available formats\n",
      "Processing train videos:  19%|████████████████████▌                                                                                     | 194/1000 [00:47<03:20,  4.02it/s]"
     ]
    },
    {
     "name": "stdout",
     "output_type": "stream",
     "text": [
      "[download]  36.4% of ~  17.62MiB at    2.51MiB/s ETA 00:06 (frag 6/20)"
     ]
    },
    {
     "name": "stderr",
     "output_type": "stream",
     "text": [
      "ERROR: [youtube] Yuif86dOrEY: Private video. Sign in if you've been granted access to this video. Use --cookies-from-browser or --cookies for the authentication. See  https://github.com/yt-dlp/yt-dlp/wiki/FAQ#how-do-i-pass-cookies-to-yt-dlp  for how to manually pass cookies. Also see  https://github.com/yt-dlp/yt-dlp/wiki/Extractors#exporting-youtube-cookies  for tips on effectively exporting YouTube cookies\n",
      "Processing train videos:  20%|████████████████████▋                                                                                     | 195/1000 [00:47<02:48,  4.78it/s]"
     ]
    },
    {
     "name": "stdout",
     "output_type": "stream",
     "text": [
      "[download]  45.7% of ~  17.92MiB at    2.89MiB/s ETA 00:05 (frag 8/20)"
     ]
    },
    {
     "name": "stderr",
     "output_type": "stream",
     "text": [
      "ERROR: [youtube] YSTnrscx1UY: Requested format is not available. Use --list-formats for a list of available formats\n",
      "Processing train videos:  20%|████████████████████▉                                                                                     | 197/1000 [00:48<02:48,  4.76it/s]"
     ]
    },
    {
     "name": "stdout",
     "output_type": "stream",
     "text": [
      "[download]  40.4% of ~  22.12MiB at    3.01MiB/s ETA 00:05 (frag 9/20)"
     ]
    },
    {
     "name": "stderr",
     "output_type": "stream",
     "text": [
      "ERROR: [youtube] cRjcMydgKjc: Requested format is not available. Use --list-formats for a list of available formats\n",
      "Processing train videos:  20%|████████████████████▉                                                                                     | 198/1000 [00:48<02:57,  4.53it/s]"
     ]
    },
    {
     "name": "stdout",
     "output_type": "stream",
     "text": [
      "[download]  55.3% of ~  21.54MiB at    3.26MiB/s ETA 00:04 (frag 12/20)"
     ]
    },
    {
     "name": "stderr",
     "output_type": "stream",
     "text": [
      "ERROR: [youtube] tJ2SbVaNdCo: Requested format is not available. Use --list-formats for a list of available formats\n",
      "Processing train videos:  20%|█████████████████████                                                                                     | 199/1000 [00:49<04:44,  2.81it/s]"
     ]
    },
    {
     "name": "stdout",
     "output_type": "stream",
     "text": [
      "[download]  70.0% of ~  18.46MiB at    3.53MiB/s ETA 00:03 (frag 13/20)"
     ]
    },
    {
     "name": "stderr",
     "output_type": "stream",
     "text": [
      "ERROR: [youtube] g5VCwKZib-M: Requested format is not available. Use --list-formats for a list of available formats\n"
     ]
    },
    {
     "name": "stdout",
     "output_type": "stream",
     "text": [
      "[download]  70.0% of ~  18.46MiB at    3.53MiB/s ETA 00:03 (frag 13/20)"
     ]
    },
    {
     "name": "stderr",
     "output_type": "stream",
     "text": [
      "Processing train videos:  20%|█████████████████████▏                                                                                    | 200/1000 [00:49<04:42,  2.83it/s]"
     ]
    },
    {
     "name": "stdout",
     "output_type": "stream",
     "text": [
      "[download]  76.3% of ~  18.91MiB at    3.65MiB/s ETA 00:03 (frag 14/20)"
     ]
    },
    {
     "name": "stderr",
     "output_type": "stream",
     "text": [
      "ERROR: [youtube] TzHGW54AN5M: Requested format is not available. Use --list-formats for a list of available formats\n",
      "Processing train videos:  20%|█████████████████████▎                                                                                    | 201/1000 [00:49<04:08,  3.22it/s]ERROR: [youtube] lBSZYk72vmY: Requested format is not available. Use --list-formats for a list of available formats\n"
     ]
    },
    {
     "name": "stdout",
     "output_type": "stream",
     "text": [
      "[download]  80.2% of ~  18.70MiB at    3.67MiB/s ETA 00:03 (frag 15/20)"
     ]
    },
    {
     "name": "stderr",
     "output_type": "stream",
     "text": [
      "ERROR: [youtube] uUmicpSlANQ: Requested format is not available. Use --list-formats for a list of available formats\n"
     ]
    },
    {
     "name": "stdout",
     "output_type": "stream",
     "text": [
      "[download]  80.7% of ~  18.82MiB at    3.67MiB/s ETA 00:03 (frag 15/20)"
     ]
    },
    {
     "name": "stderr",
     "output_type": "stream",
     "text": [
      "Processing train videos:  20%|█████████████████████▌                                                                                    | 203/1000 [00:50<03:19,  4.00it/s]"
     ]
    },
    {
     "name": "stdout",
     "output_type": "stream",
     "text": [
      "[download]  86.3% of ~  19.03MiB at    3.73MiB/s ETA 00:03 (frag 16/20)"
     ]
    },
    {
     "name": "stderr",
     "output_type": "stream",
     "text": [
      "ERROR: [youtube] hjS0dQDgbjo: Requested format is not available. Use --list-formats for a list of available formats\n",
      "Processing train videos:  20%|█████████████████████▌                                                                                    | 204/1000 [00:50<03:01,  4.37it/s]"
     ]
    },
    {
     "name": "stdout",
     "output_type": "stream",
     "text": [
      "[download]  96.3% of ~  19.14MiB at    3.91MiB/s ETA 00:02 (frag 18/20)"
     ]
    },
    {
     "name": "stderr",
     "output_type": "stream",
     "text": [
      "ERROR: [youtube] c0tloO5tJUY: Requested format is not available. Use --list-formats for a list of available formats\n",
      "Processing train videos:  20%|█████████████████████▋                                                                                    | 205/1000 [00:50<04:04,  3.25it/s]ERROR: [youtube] cEuA1gLPbIY: Requested format is not available. Use --list-formats for a list of available formats\n",
      "Processing train videos:  21%|█████████████████████▊                                                                                    | 206/1000 [00:51<03:44,  3.53it/s]ERROR: [youtube] 8hBFgtJOZaE: Requested format is not available. Use --list-formats for a list of available formats\n",
      "ERROR: [youtube] qCqdPZVJTYY: Private video. Sign in if you've been granted access to this video. Use --cookies-from-browser or --cookies for the authentication. See  https://github.com/yt-dlp/yt-dlp/wiki/FAQ#how-do-i-pass-cookies-to-yt-dlp  for how to manually pass cookies. Also see  https://github.com/yt-dlp/yt-dlp/wiki/Extractors#exporting-youtube-cookies  for tips on effectively exporting YouTube cookies\n",
      "ERROR: [youtube] uuc1Q8HXicI: Private video. Sign in if you've been granted access to this video. Use --cookies-from-browser or --cookies for the authentication. See  https://github.com/yt-dlp/yt-dlp/wiki/FAQ#how-do-i-pass-cookies-to-yt-dlp  for how to manually pass cookies. Also see  https://github.com/yt-dlp/yt-dlp/wiki/Extractors#exporting-youtube-cookies  for tips on effectively exporting YouTube cookies\n",
      "ERROR: [youtube] bSQ9f3epmxQ: Requested format is not available. Use --list-formats for a list of available formats\n",
      "Processing train videos:  21%|██████████████████████▎                                                                                   | 210/1000 [00:51<01:45,  7.46it/s]ERROR: [youtube] cEbPqZiaAqQ: Video unavailable\n"
     ]
    },
    {
     "name": "stdout",
     "output_type": "stream",
     "text": [
      "                                                                       "
     ]
    },
    {
     "name": "stderr",
     "output_type": "stream",
     "text": [
      "ERROR: [youtube] shPBfkIYYpU: Requested format is not available. Use --list-formats for a list of available formats\n",
      "Processing train videos:  21%|██████████████████████▍                                                                                   | 212/1000 [00:52<02:54,  4.51it/s]"
     ]
    },
    {
     "name": "stdout",
     "output_type": "stream",
     "text": [
      "[download] 100.0% of ~  15.00KiB at    155.26B/s ETA 00:00 (frag 0/1)"
     ]
    },
    {
     "name": "stderr",
     "output_type": "stream",
     "text": [
      "ERROR: [youtube] F5sUknoklKo: Video unavailable\n",
      "Processing train videos:  21%|██████████████████████▌                                                                                   | 213/1000 [00:52<02:39,  4.93it/s]"
     ]
    },
    {
     "name": "stdout",
     "output_type": "stream",
     "text": [
      "[download] 100.0% of ~  63.00KiB at   11.70KiB/s ETA 00:00 (frag 0/1)"
     ]
    },
    {
     "name": "stderr",
     "output_type": "stream",
     "text": [
      "ERROR: [youtube] MU3_iURZyqY: Video unavailable\n",
      "Processing train videos:  21%|██████████████████████▋                                                                                   | 214/1000 [00:52<02:43,  4.80it/s]ERROR: [youtube] _R6NUaj_a6M: Private video. Sign in if you've been granted access to this video. Use --cookies-from-browser or --cookies for the authentication. See  https://github.com/yt-dlp/yt-dlp/wiki/FAQ#how-do-i-pass-cookies-to-yt-dlp  for how to manually pass cookies. Also see  https://github.com/yt-dlp/yt-dlp/wiki/Extractors#exporting-youtube-cookies  for tips on effectively exporting YouTube cookies\n"
     ]
    },
    {
     "name": "stdout",
     "output_type": "stream",
     "text": [
      "[download]   7.7% of ~   2.01MiB at    6.19KiB/s ETA Unknown (frag 2/13)"
     ]
    },
    {
     "name": "stderr",
     "output_type": "stream",
     "text": [
      "ERROR: [youtube] LFubvvh2-sE: Requested format is not available. Use --list-formats for a list of available formats\n",
      "Processing train videos:  22%|██████████████████████▉                                                                                   | 216/1000 [00:52<02:12,  5.92it/s]"
     ]
    },
    {
     "name": "stdout",
     "output_type": "stream",
     "text": [
      "[download]  25.0% of ~   2.47KiB at    460.56B/s ETA Unknown (frag 1/2) "
     ]
    },
    {
     "name": "stderr",
     "output_type": "stream",
     "text": [
      "ERROR: [youtube] JHFExZgYdwk: Requested format is not available. Use --list-formats for a list of available formats\n",
      "Processing train videos:  22%|███████████████████████                                                                                   | 217/1000 [00:53<03:48,  3.43it/s]"
     ]
    },
    {
     "name": "stdout",
     "output_type": "stream",
     "text": [
      "                                                                       "
     ]
    },
    {
     "name": "stderr",
     "output_type": "stream",
     "text": [
      "Processing train videos:  22%|███████████████████████                                                                                   | 218/1000 [00:53<03:40,  3.55it/s]ERROR: [youtube] uM98W6WkvK0: Video unavailable\n",
      "Processing train videos:  22%|███████████████████████▏                                                                                  | 219/1000 [00:53<03:22,  3.86it/s]ERROR: [youtube] ZyL9f_qoGug: Video unavailable\n",
      "ERROR: [youtube] iDFtTpXAMJE: Requested format is not available. Use --list-formats for a list of available formats\n",
      "Processing train videos:  22%|███████████████████████▍                                                                                  | 221/1000 [00:54<02:19,  5.59it/s]ERROR: [youtube] TDoqoJDX280: Requested format is not available. Use --list-formats for a list of available formats\n",
      "Processing train videos:  22%|███████████████████████▋                                                                                  | 223/1000 [00:54<02:49,  4.60it/s]ERROR: [youtube] Xt6F1wT394I: Requested format is not available. Use --list-formats for a list of available formats\n",
      "Processing train videos:  22%|███████████████████████▋                                                                                  | 224/1000 [00:54<03:04,  4.22it/s]ERROR: [youtube] EFTKM2dMkBE: Requested format is not available. Use --list-formats for a list of available formats\n",
      "Processing train videos:  22%|███████████████████████▊                                                                                  | 225/1000 [00:55<03:27,  3.74it/s]ERROR: [youtube] eXpXg4q-qEQ: Private video. Sign in if you've been granted access to this video. Use --cookies-from-browser or --cookies for the authentication. See  https://github.com/yt-dlp/yt-dlp/wiki/FAQ#how-do-i-pass-cookies-to-yt-dlp  for how to manually pass cookies. Also see  https://github.com/yt-dlp/yt-dlp/wiki/Extractors#exporting-youtube-cookies  for tips on effectively exporting YouTube cookies\n",
      "ERROR: [youtube] U0oUVwmF4kM: Requested format is not available. Use --list-formats for a list of available formats\n",
      "Processing train videos:  23%|████████████████████████                                                                                  | 227/1000 [00:55<03:37,  3.56it/s]ERROR: [youtube] GvhBBWD4PLo: Video unavailable\n",
      "ERROR: [youtube] EN8kH0i1q80: Requested format is not available. Use --list-formats for a list of available formats\n",
      "Processing train videos:  23%|████████████████████████▎                                                                                 | 229/1000 [00:56<02:50,  4.52it/s]ERROR: [youtube] Dax964vUumQ: Private video. Sign in if you've been granted access to this video. Use --cookies-from-browser or --cookies for the authentication. See  https://github.com/yt-dlp/yt-dlp/wiki/FAQ#how-do-i-pass-cookies-to-yt-dlp  for how to manually pass cookies. Also see  https://github.com/yt-dlp/yt-dlp/wiki/Extractors#exporting-youtube-cookies  for tips on effectively exporting YouTube cookies\n",
      "Processing train videos:  23%|████████████████████████▍                                                                                 | 230/1000 [00:56<03:27,  3.71it/s]ERROR: [youtube] 2P9wXIPhGUQ: Requested format is not available. Use --list-formats for a list of available formats\n",
      "ERROR: [youtube] i3kHyGqqg_M: Requested format is not available. Use --list-formats for a list of available formats\n",
      "Processing train videos:  23%|████████████████████████▌                                                                                 | 232/1000 [00:56<02:38,  4.83it/s]ERROR: [youtube] bweq9OZaoYw: Requested format is not available. Use --list-formats for a list of available formats\n",
      "Processing train videos:  23%|████████████████████████▊                                                                                 | 234/1000 [00:57<02:23,  5.32it/s]ERROR: [youtube] Tg0ltpSAQrk: Requested format is not available. Use --list-formats for a list of available formats\n",
      "Processing train videos:  24%|████████████████████████▉                                                                                 | 235/1000 [00:57<04:09,  3.06it/s]"
     ]
    },
    {
     "name": "stdout",
     "output_type": "stream",
     "text": [
      "[download] 100.0% of ~  15.00KiB at    357.73B/s ETA Unknown (frag 0/1)"
     ]
    },
    {
     "name": "stderr",
     "output_type": "stream",
     "text": [
      "ERROR: [youtube] nSDK5reGkxc: Video unavailable\n",
      "Processing train videos:  24%|█████████████████████████                                                                                 | 236/1000 [00:57<03:25,  3.71it/s]"
     ]
    },
    {
     "name": "stdout",
     "output_type": "stream",
     "text": [
      "[download]  20.4% of ~   4.89MiB at  377.82KiB/s ETA 00:02 (frag 2/6)  "
     ]
    },
    {
     "name": "stderr",
     "output_type": "stream",
     "text": [
      "ERROR: [youtube] hFt3V1idFc4: Requested format is not available. Use --list-formats for a list of available formats\n",
      "Processing train videos:  24%|█████████████████████████                                                                                 | 237/1000 [00:58<04:47,  2.65it/s]"
     ]
    },
    {
     "name": "stdout",
     "output_type": "stream",
     "text": [
      "[download]  35.7% of ~   4.67MiB at  479.73KiB/s ETA 00:01 (frag 3/6)"
     ]
    },
    {
     "name": "stderr",
     "output_type": "stream",
     "text": [
      "ERROR: [youtube] ac1Lgm6qns8: Requested format is not available. Use --list-formats for a list of available formats\n",
      "Processing train videos:  24%|█████████████████████████▏                                                                                | 238/1000 [00:58<04:15,  2.98it/s]ERROR: [youtube] 7OGM6DL3F9Q: Requested format is not available. Use --list-formats for a list of available formats\n",
      "ERROR: [youtube] s-QgMaUgtTQ: Requested format is not available. Use --list-formats for a list of available formats\n",
      "Processing train videos:  24%|█████████████████████████▍                                                                                | 240/1000 [00:59<02:42,  4.67it/s]ERROR: [youtube] ax2UGtA8h3E: Requested format is not available. Use --list-formats for a list of available formats\n"
     ]
    },
    {
     "name": "stdout",
     "output_type": "stream",
     "text": [
      "[download]  79.4% of ~   2.95MiB at  777.07KiB/s ETA 00:01 (frag 5/6)  "
     ]
    },
    {
     "name": "stderr",
     "output_type": "stream",
     "text": [
      "ERROR: [youtube] RAtOGNDP0dg: Requested format is not available. Use --list-formats for a list of available formats\n",
      "Processing train videos:  24%|█████████████████████████▋                                                                                | 242/1000 [00:59<04:04,  3.10it/s]ERROR: [youtube] A3nmSIYrXSE: Private video. Sign in if you've been granted access to this video. Use --cookies-from-browser or --cookies for the authentication. See  https://github.com/yt-dlp/yt-dlp/wiki/FAQ#how-do-i-pass-cookies-to-yt-dlp  for how to manually pass cookies. Also see  https://github.com/yt-dlp/yt-dlp/wiki/Extractors#exporting-youtube-cookies  for tips on effectively exporting YouTube cookies\n",
      "Processing train videos:  24%|█████████████████████████▊                                                                                | 244/1000 [01:00<03:07,  4.03it/s]"
     ]
    },
    {
     "name": "stdout",
     "output_type": "stream",
     "text": [
      "[download] 100% of    2.38MiB in 00:00:03 at 801.43KiB/s             "
     ]
    },
    {
     "name": "stderr",
     "output_type": "stream",
     "text": [
      "ERROR: [youtube] X2xNSM8So48: Private video. Sign in if you've been granted access to this video. Use --cookies-from-browser or --cookies for the authentication. See  https://github.com/yt-dlp/yt-dlp/wiki/FAQ#how-do-i-pass-cookies-to-yt-dlp  for how to manually pass cookies. Also see  https://github.com/yt-dlp/yt-dlp/wiki/Extractors#exporting-youtube-cookies  for tips on effectively exporting YouTube cookies\n"
     ]
    },
    {
     "name": "stdout",
     "output_type": "stream",
     "text": [
      "                                                        "
     ]
    },
    {
     "name": "stderr",
     "output_type": "stream",
     "text": [
      "Processing train videos:  24%|█████████████████████████▉                                                                                | 245/1000 [01:00<02:49,  4.46it/s]ERROR: [youtube] _LGqHR3FhL8: Requested format is not available. Use --list-formats for a list of available formats\n",
      "Processing train videos:  25%|██████████████████████████                                                                                | 246/1000 [01:00<02:57,  4.25it/s]ERROR: [youtube] FRQbKDZeRzM: Requested format is not available. Use --list-formats for a list of available formats\n",
      "Processing train videos:  25%|██████████████████████████▏                                                                               | 247/1000 [01:01<04:02,  3.10it/s]ERROR: [youtube] K4lo0NZDlH8: Requested format is not available. Use --list-formats for a list of available formats\n",
      "Processing train videos:  25%|██████████████████████████▎                                                                               | 248/1000 [01:01<03:25,  3.67it/s]ERROR: [youtube] Nu7LASnlkig: Video unavailable\n",
      "Processing train videos:  25%|██████████████████████████▍                                                                               | 249/1000 [01:01<02:59,  4.18it/s]"
     ]
    },
    {
     "name": "stdout",
     "output_type": "stream",
     "text": [
      "[download]   1.8% of ~  79.78MiB at    1.62MiB/s ETA Unknown (frag 3/125)"
     ]
    },
    {
     "name": "stderr",
     "output_type": "stream",
     "text": [
      "ERROR: [youtube] Eq6SnaimpzQ: Requested format is not available. Use --list-formats for a list of available formats\n"
     ]
    },
    {
     "name": "stdout",
     "output_type": "stream",
     "text": [
      "[download]   3.2% of ~  44.05MiB at    2.38MiB/s ETA Unknown (frag 3/125)"
     ]
    },
    {
     "name": "stderr",
     "output_type": "stream",
     "text": [
      "Processing train videos:  25%|██████████████████████████▌                                                                               | 250/1000 [01:01<03:41,  3.38it/s]"
     ]
    },
    {
     "name": "stdout",
     "output_type": "stream",
     "text": [
      "[download]   3.2% of ~  44.08MiB at    2.38MiB/s ETA Unknown (frag 3/125)"
     ]
    },
    {
     "name": "stderr",
     "output_type": "stream",
     "text": [
      "ERROR: [youtube] 7YYB3BEoksc: Private video. Sign in if you've been granted access to this video. Use --cookies-from-browser or --cookies for the authentication. See  https://github.com/yt-dlp/yt-dlp/wiki/FAQ#how-do-i-pass-cookies-to-yt-dlp  for how to manually pass cookies. Also see  https://github.com/yt-dlp/yt-dlp/wiki/Extractors#exporting-youtube-cookies  for tips on effectively exporting YouTube cookies\n"
     ]
    },
    {
     "name": "stdout",
     "output_type": "stream",
     "text": [
      "[download]   4.0% of ~  47.25MiB at    3.04MiB/s ETA Unknown (frag 4/125)"
     ]
    },
    {
     "name": "stderr",
     "output_type": "stream",
     "text": [
      "ERROR: [youtube] rgq1MrA21fY: Requested format is not available. Use --list-formats for a list of available formats\n"
     ]
    },
    {
     "name": "stdout",
     "output_type": "stream",
     "text": [
      "[download]   6.5% of ~  54.07MiB at    2.93MiB/s ETA 00:16 (frag 7/125)  "
     ]
    },
    {
     "name": "stderr",
     "output_type": "stream",
     "text": [
      "ERROR: [youtube] n7MQUHa0vr4: Video unavailable\n"
     ]
    },
    {
     "name": "stdout",
     "output_type": "stream",
     "text": [
      "[download]   6.6% of ~  55.05MiB at    2.93MiB/s ETA 00:16 (frag 7/125)"
     ]
    },
    {
     "name": "stderr",
     "output_type": "stream",
     "text": [
      "Processing train videos:  25%|██████████████████████████▊                                                                               | 253/1000 [01:02<03:21,  3.71it/s]"
     ]
    },
    {
     "name": "stdout",
     "output_type": "stream",
     "text": [
      "[download]   7.4% of ~  55.99MiB at    3.09MiB/s ETA 00:16 (frag 8/125)"
     ]
    },
    {
     "name": "stderr",
     "output_type": "stream",
     "text": [
      "ERROR: [youtube] -60jEZ2xhXQ: Requested format is not available. Use --list-formats for a list of available formats\n",
      "Processing train videos:  25%|██████████████████████████▉                                                                               | 254/1000 [01:02<02:59,  4.15it/s]"
     ]
    },
    {
     "name": "stdout",
     "output_type": "stream",
     "text": [
      "[download]   6.4% of ~  68.94MiB at    3.23MiB/s ETA 00:16 (frag 9/125)"
     ]
    },
    {
     "name": "stderr",
     "output_type": "stream",
     "text": [
      "ERROR: [youtube] 9RE2NLd_Sgw: Requested format is not available. Use --list-formats for a list of available formats\n"
     ]
    },
    {
     "name": "stdout",
     "output_type": "stream",
     "text": [
      "[download]   7.0% of ~   1.78MiB at    1.18KiB/s ETA Unknown (frag 0/29)"
     ]
    },
    {
     "name": "stderr",
     "output_type": "stream",
     "text": [
      "ERROR: [youtube] Jt89greHe4k: Private video. Sign in if you've been granted access to this video. Use --cookies-from-browser or --cookies for the authentication. See  https://github.com/yt-dlp/yt-dlp/wiki/FAQ#how-do-i-pass-cookies-to-yt-dlp  for how to manually pass cookies. Also see  https://github.com/yt-dlp/yt-dlp/wiki/Extractors#exporting-youtube-cookies  for tips on effectively exporting YouTube cookies\n"
     ]
    },
    {
     "name": "stdout",
     "output_type": "stream",
     "text": [
      "[download]   6.9% of ~   3.60MiB at  250.34KiB/s ETA Unknown (frag 0/29)"
     ]
    },
    {
     "name": "stderr",
     "output_type": "stream",
     "text": [
      "Processing train videos:  26%|███████████████████████████▏                                                                              | 256/1000 [01:03<03:05,  4.02it/s]"
     ]
    },
    {
     "name": "stdout",
     "output_type": "stream",
     "text": [
      "[download]  17.7% of ~  59.25MiB at    4.94MiB/s ETA 00:12 (frag 21/125)"
     ]
    },
    {
     "name": "stderr",
     "output_type": "stream",
     "text": [
      "ERROR: [youtube] FRQbKDZeRzM: Requested format is not available. Use --list-formats for a list of available formats\n",
      "Processing train videos:  26%|███████████████████████████▏                                                                              | 257/1000 [01:03<03:28,  3.56it/s]"
     ]
    },
    {
     "name": "stdout",
     "output_type": "stream",
     "text": [
      "[download]  20.1% of ~  63.24MiB at    5.10MiB/s ETA 00:11 (frag 26/125)"
     ]
    },
    {
     "name": "stderr",
     "output_type": "stream",
     "text": [
      "ERROR: [youtube] UXetwN_cI5A: Requested format is not available. Use --list-formats for a list of available formats\n",
      "Processing train videos:  26%|███████████████████████████▎                                                                              | 258/1000 [01:04<03:55,  3.15it/s]"
     ]
    },
    {
     "name": "stdout",
     "output_type": "stream",
     "text": [
      "[download]  22.0% of ~  59.92MiB at    5.02MiB/s ETA 00:10 (frag 26/125)"
     ]
    },
    {
     "name": "stderr",
     "output_type": "stream",
     "text": [
      "ERROR: [youtube] 7wap9oPLqjI: Private video. Sign in if you've been granted access to this video. Use --cookies-from-browser or --cookies for the authentication. See  https://github.com/yt-dlp/yt-dlp/wiki/FAQ#how-do-i-pass-cookies-to-yt-dlp  for how to manually pass cookies. Also see  https://github.com/yt-dlp/yt-dlp/wiki/Extractors#exporting-youtube-cookies  for tips on effectively exporting YouTube cookies\n"
     ]
    },
    {
     "name": "stdout",
     "output_type": "stream",
     "text": [
      "[download]  29.7% of ~  61.79MiB at    5.63MiB/s ETA 00:08 (frag 38/125)"
     ]
    },
    {
     "name": "stderr",
     "output_type": "stream",
     "text": [
      "ERROR: [youtube] R-2MXm-JM0Q: Requested format is not available. Use --list-formats for a list of available formats\n",
      "Processing train videos:  26%|███████████████████████████▌                                                                              | 260/1000 [01:04<04:04,  3.02it/s]"
     ]
    },
    {
     "name": "stdout",
     "output_type": "stream",
     "text": [
      "[download]  32.0% of ~  58.62MiB at    5.66MiB/s ETA 00:08 (frag 39/125)"
     ]
    },
    {
     "name": "stderr",
     "output_type": "stream",
     "text": [
      "ERROR: [youtube] sErq0TJMKEo: Requested format is not available. Use --list-formats for a list of available formats\n"
     ]
    },
    {
     "name": "stdout",
     "output_type": "stream",
     "text": [
      "[download]  40.8% of ~  59.91MiB at    6.77MiB/s ETA 00:06 (frag 52/125)"
     ]
    },
    {
     "name": "stderr",
     "output_type": "stream",
     "text": [
      "ERROR: [youtube] 29KwekCeoCw: Requested format is not available. Use --list-formats for a list of available formats\n",
      "Processing train videos:  26%|███████████████████████████▊                                                                              | 262/1000 [01:05<04:26,  2.76it/s]"
     ]
    },
    {
     "name": "stdout",
     "output_type": "stream",
     "text": [
      "[download]  47.4% of ~  57.81MiB at    6.95MiB/s ETA 00:05 (frag 58/125)"
     ]
    },
    {
     "name": "stderr",
     "output_type": "stream",
     "text": [
      "ERROR: [youtube] 6Mmgrtw_Zro: Requested format is not available. Use --list-formats for a list of available formats\n",
      "Processing train videos:  26%|███████████████████████████▉                                                                              | 263/1000 [01:06<04:25,  2.78it/s]"
     ]
    },
    {
     "name": "stdout",
     "output_type": "stream",
     "text": [
      "[download]  48.8% of ~  57.43MiB at    6.91MiB/s ETA 00:05 (frag 60/125)"
     ]
    },
    {
     "name": "stderr",
     "output_type": "stream",
     "text": [
      "ERROR: [youtube] ktkz1BUzs48: Requested format is not available. Use --list-formats for a list of available formats\n"
     ]
    },
    {
     "name": "stdout",
     "output_type": "stream",
     "text": [
      "[download]  48.8% of ~  57.44MiB at    6.91MiB/s ETA 00:05 (frag 60/125)"
     ]
    },
    {
     "name": "stderr",
     "output_type": "stream",
     "text": [
      "Processing train videos:  26%|███████████████████████████▉                                                                              | 264/1000 [01:06<03:43,  3.30it/s]"
     ]
    },
    {
     "name": "stdout",
     "output_type": "stream",
     "text": [
      "[download]  51.2% of ~  57.55MiB at    6.99MiB/s ETA 00:04 (frag 63/125)"
     ]
    },
    {
     "name": "stderr",
     "output_type": "stream",
     "text": [
      "ERROR: [youtube] Dax964vUumQ: Private video. Sign in if you've been granted access to this video. Use --cookies-from-browser or --cookies for the authentication. See  https://github.com/yt-dlp/yt-dlp/wiki/FAQ#how-do-i-pass-cookies-to-yt-dlp  for how to manually pass cookies. Also see  https://github.com/yt-dlp/yt-dlp/wiki/Extractors#exporting-youtube-cookies  for tips on effectively exporting YouTube cookies\n"
     ]
    },
    {
     "name": "stdout",
     "output_type": "stream",
     "text": [
      "[download]  51.2% of ~  57.57MiB at    6.99MiB/s ETA 00:04 (frag 63/125)"
     ]
    },
    {
     "name": "stderr",
     "output_type": "stream",
     "text": [
      "Processing train videos:  26%|████████████████████████████                                                                              | 265/1000 [01:06<03:14,  3.79it/s]"
     ]
    },
    {
     "name": "stdout",
     "output_type": "stream",
     "text": [
      "[download]  53.6% of ~  59.08MiB at    7.14MiB/s ETA 00:04 (frag 68/125)"
     ]
    },
    {
     "name": "stderr",
     "output_type": "stream",
     "text": [
      "ERROR: [youtube] UNN7w_Q7J8Y: Requested format is not available. Use --list-formats for a list of available formats\n"
     ]
    },
    {
     "name": "stdout",
     "output_type": "stream",
     "text": [
      "[download]  55.2% of ~  57.41MiB at    7.14MiB/s ETA 00:04 (frag 68/125)"
     ]
    },
    {
     "name": "stderr",
     "output_type": "stream",
     "text": [
      "Processing train videos:  27%|████████████████████████████▏                                                                             | 266/1000 [01:06<03:10,  3.84it/s]"
     ]
    },
    {
     "name": "stdout",
     "output_type": "stream",
     "text": [
      "[download]  59.3% of ~  57.28MiB at    7.41MiB/s ETA 00:03 (frag 73/125)"
     ]
    },
    {
     "name": "stderr",
     "output_type": "stream",
     "text": [
      "ERROR: [youtube] a0OwnQEGBYs: Requested format is not available. Use --list-formats for a list of available formats\n",
      "Processing train videos:  27%|████████████████████████████▎                                                                             | 267/1000 [01:06<03:18,  3.69it/s]ERROR: [youtube] yXfIcGcIpO4: Requested format is not available. Use --list-formats for a list of available formats\n"
     ]
    },
    {
     "name": "stdout",
     "output_type": "stream",
     "text": [
      "[download]  60.8% of ~  57.17MiB at    7.54MiB/s ETA 00:03 (frag 75/125)"
     ]
    },
    {
     "name": "stderr",
     "output_type": "stream",
     "text": [
      "ERROR: [youtube] 73icFhednQU: Private video. Sign in if you've been granted access to this video. Use --cookies-from-browser or --cookies for the authentication. See  https://github.com/yt-dlp/yt-dlp/wiki/FAQ#how-do-i-pass-cookies-to-yt-dlp  for how to manually pass cookies. Also see  https://github.com/yt-dlp/yt-dlp/wiki/Extractors#exporting-youtube-cookies  for tips on effectively exporting YouTube cookies\n"
     ]
    },
    {
     "name": "stdout",
     "output_type": "stream",
     "text": [
      "[download]  60.8% of ~  57.19MiB at    7.54MiB/s ETA 00:03 (frag 75/125)"
     ]
    },
    {
     "name": "stderr",
     "output_type": "stream",
     "text": [
      "Processing train videos:  27%|████████████████████████████▌                                                                             | 269/1000 [01:07<02:27,  4.95it/s]"
     ]
    },
    {
     "name": "stdout",
     "output_type": "stream",
     "text": [
      "[download]  65.6% of ~  57.07MiB at    7.42MiB/s ETA 00:03 (frag 81/125)"
     ]
    },
    {
     "name": "stderr",
     "output_type": "stream",
     "text": [
      "ERROR: [youtube] 7YYB3BEoksc: Private video. Sign in if you've been granted access to this video. Use --cookies-from-browser or --cookies for the authentication. See  https://github.com/yt-dlp/yt-dlp/wiki/FAQ#how-do-i-pass-cookies-to-yt-dlp  for how to manually pass cookies. Also see  https://github.com/yt-dlp/yt-dlp/wiki/Extractors#exporting-youtube-cookies  for tips on effectively exporting YouTube cookies\n"
     ]
    },
    {
     "name": "stdout",
     "output_type": "stream",
     "text": [
      "[download]  65.6% of ~  57.08MiB at    7.42MiB/s ETA 00:03 (frag 81/125)"
     ]
    },
    {
     "name": "stderr",
     "output_type": "stream",
     "text": [
      "Processing train videos:  27%|████████████████████████████▌                                                                             | 270/1000 [01:07<03:05,  3.93it/s]"
     ]
    },
    {
     "name": "stdout",
     "output_type": "stream",
     "text": [
      "[download]  66.6% of ~  57.28MiB at    7.39MiB/s ETA 00:03 (frag 82/125)"
     ]
    },
    {
     "name": "stderr",
     "output_type": "stream",
     "text": [
      "ERROR: [youtube] my4mxg6lXYQ: Requested format is not available. Use --list-formats for a list of available formats\n"
     ]
    },
    {
     "name": "stdout",
     "output_type": "stream",
     "text": [
      "[download]  72.1% of ~  57.09MiB at    7.18MiB/s ETA 00:02 (frag 89/125)"
     ]
    },
    {
     "name": "stderr",
     "output_type": "stream",
     "text": [
      "ERROR: [youtube] FsfHnBqWll0: Video unavailable\n"
     ]
    },
    {
     "name": "stdout",
     "output_type": "stream",
     "text": [
      "[download]  72.1% of ~  57.13MiB at    7.18MiB/s ETA 00:02 (frag 89/125)"
     ]
    },
    {
     "name": "stderr",
     "output_type": "stream",
     "text": [
      "Processing train videos:  27%|████████████████████████████▊                                                                             | 272/1000 [01:08<03:11,  3.80it/s]"
     ]
    },
    {
     "name": "stdout",
     "output_type": "stream",
     "text": [
      "[download]  73.8% of ~  57.20MiB at    7.14MiB/s ETA 00:02 (frag 91/125)"
     ]
    },
    {
     "name": "stderr",
     "output_type": "stream",
     "text": [
      "ERROR: [youtube] SbvomlBCAe8: Video unavailable\n",
      "Processing train videos:  27%|████████████████████████████▉                                                                             | 273/1000 [01:08<02:51,  4.24it/s]"
     ]
    },
    {
     "name": "stdout",
     "output_type": "stream",
     "text": [
      "[download]  75.2% of ~  57.19MiB at    7.18MiB/s ETA 00:02 (frag 93/125)"
     ]
    },
    {
     "name": "stderr",
     "output_type": "stream",
     "text": [
      "ERROR: [youtube] QqNnbQcgPa8: Video unavailable\n"
     ]
    },
    {
     "name": "stdout",
     "output_type": "stream",
     "text": [
      "[download]  75.2% of ~  57.19MiB at    7.18MiB/s ETA 00:02 (frag 93/125)"
     ]
    },
    {
     "name": "stderr",
     "output_type": "stream",
     "text": [
      "Processing train videos:  27%|█████████████████████████████                                                                             | 274/1000 [01:08<02:31,  4.80it/s]"
     ]
    },
    {
     "name": "stdout",
     "output_type": "stream",
     "text": [
      "[download]  81.6% of ~  58.37MiB at    7.19MiB/s ETA 00:01 (frag 103/125)"
     ]
    },
    {
     "name": "stderr",
     "output_type": "stream",
     "text": [
      "ERROR: [youtube] c49qWjgFtRI: Requested format is not available. Use --list-formats for a list of available formats\n"
     ]
    },
    {
     "name": "stdout",
     "output_type": "stream",
     "text": [
      "[download]  83.2% of ~  57.24MiB at    7.19MiB/s ETA 00:01 (frag 103/125)"
     ]
    },
    {
     "name": "stderr",
     "output_type": "stream",
     "text": [
      "Processing train videos:  28%|█████████████████████████████▏                                                                            | 275/1000 [01:08<03:45,  3.21it/s]"
     ]
    },
    {
     "name": "stdout",
     "output_type": "stream",
     "text": [
      "[download]  83.2% of ~  57.24MiB at    7.19MiB/s ETA 00:01 (frag 103/125)"
     ]
    },
    {
     "name": "stderr",
     "output_type": "stream",
     "text": [
      "ERROR: [youtube] EyWuC4JL4Tk: Requested format is not available. Use --list-formats for a list of available formats\n"
     ]
    },
    {
     "name": "stdout",
     "output_type": "stream",
     "text": [
      "[download]  87.2% of ~  58.24MiB at    6.91MiB/s ETA 00:01 (frag 110/125)"
     ]
    },
    {
     "name": "stderr",
     "output_type": "stream",
     "text": [
      "Processing train videos:  28%|█████████████████████████████▎                                                                            | 277/1000 [01:09<03:17,  3.66it/s]"
     ]
    },
    {
     "name": "stdout",
     "output_type": "stream",
     "text": [
      "[download]  88.9% of ~  57.27MiB at    6.91MiB/s ETA 00:01 (frag 110/125)"
     ]
    },
    {
     "name": "stderr",
     "output_type": "stream",
     "text": [
      "ERROR: [youtube] oySXUMX7nRY: Private video. Sign in if you've been granted access to this video. Use --cookies-from-browser or --cookies for the authentication. See  https://github.com/yt-dlp/yt-dlp/wiki/FAQ#how-do-i-pass-cookies-to-yt-dlp  for how to manually pass cookies. Also see  https://github.com/yt-dlp/yt-dlp/wiki/Extractors#exporting-youtube-cookies  for tips on effectively exporting YouTube cookies\n"
     ]
    },
    {
     "name": "stdout",
     "output_type": "stream",
     "text": [
      "[download]  96.0% of ~  58.04MiB at    6.72MiB/s ETA 00:00 (frag 121/125)"
     ]
    },
    {
     "name": "stderr",
     "output_type": "stream",
     "text": [
      "ERROR: [youtube] ZpF9lj35sPc: Requested format is not available. Use --list-formats for a list of available formats\n",
      "Processing train videos:  28%|█████████████████████████████▌                                                                            | 279/1000 [01:10<03:52,  3.10it/s]"
     ]
    },
    {
     "name": "stdout",
     "output_type": "stream",
     "text": [
      "[download]  99.8% of ~  57.06MiB at    6.86MiB/s ETA 00:00 (frag 125/125)"
     ]
    },
    {
     "name": "stderr",
     "output_type": "stream",
     "text": [
      "ERROR: [youtube] 0e8jwNFLfhw: Video unavailable\n",
      "Processing train videos:  28%|█████████████████████████████▋                                                                            | 280/1000 [01:10<03:29,  3.43it/s]"
     ]
    },
    {
     "name": "stdout",
     "output_type": "stream",
     "text": [
      "[download]   1.5% of ~  10.52MiB at    3.75KiB/s ETA Unknown (frag 2/68) "
     ]
    },
    {
     "name": "stderr",
     "output_type": "stream",
     "text": [
      "ERROR: [youtube] 9g-hioQapYE: Requested format is not available. Use --list-formats for a list of available formats\n"
     ]
    },
    {
     "name": "stdout",
     "output_type": "stream",
     "text": [
      "[download]   2.2% of ~   7.01MiB at  414.73KiB/s ETA Unknown (frag 2/68)"
     ]
    },
    {
     "name": "stderr",
     "output_type": "stream",
     "text": [
      "Processing train videos:  28%|█████████████████████████████▊                                                                            | 281/1000 [01:10<03:03,  3.93it/s]"
     ]
    },
    {
     "name": "stdout",
     "output_type": "stream",
     "text": [
      "[download]  15.0% of ~  10.30MiB at    2.54MiB/s ETA Unknown (frag 10/68)"
     ]
    },
    {
     "name": "stderr",
     "output_type": "stream",
     "text": [
      "ERROR: [youtube] 9g-hioQapYE: Requested format is not available. Use --list-formats for a list of available formats\n"
     ]
    },
    {
     "name": "stdout",
     "output_type": "stream",
     "text": [
      "[download]  14.7% of ~  10.48MiB at    2.54MiB/s ETA Unknown (frag 11/68)"
     ]
    },
    {
     "name": "stderr",
     "output_type": "stream",
     "text": [
      "Processing train videos:  28%|█████████████████████████████▉                                                                            | 282/1000 [01:10<03:29,  3.43it/s]"
     ]
    },
    {
     "name": "stdout",
     "output_type": "stream",
     "text": [
      "[download]  19.1% of ~  10.48MiB at    2.85MiB/s ETA Unknown (frag 14/68)"
     ]
    },
    {
     "name": "stderr",
     "output_type": "stream",
     "text": [
      "ERROR: [youtube] 1bj72qXSy8c: Requested format is not available. Use --list-formats for a list of available formats\n",
      "Processing train videos:  28%|█████████████████████████████▉                                                                            | 283/1000 [01:11<03:02,  3.92it/s]"
     ]
    },
    {
     "name": "stdout",
     "output_type": "stream",
     "text": [
      "[download]  29.4% of ~  10.48MiB at    3.11MiB/s ETA Unknown (frag 21/68)"
     ]
    },
    {
     "name": "stderr",
     "output_type": "stream",
     "text": [
      "ERROR: [youtube] mDmag3ifayI: Requested format is not available. Use --list-formats for a list of available formats\n"
     ]
    },
    {
     "name": "stdout",
     "output_type": "stream",
     "text": [
      "[download]  30.8% of ~  10.00MiB at    3.11MiB/s ETA Unknown (frag 21/68)"
     ]
    },
    {
     "name": "stderr",
     "output_type": "stream",
     "text": [
      "Processing train videos:  28%|██████████████████████████████                                                                            | 284/1000 [01:11<03:09,  3.79it/s]"
     ]
    },
    {
     "name": "stdout",
     "output_type": "stream",
     "text": [
      "[download]  38.5% of ~  10.40MiB at    3.24MiB/s ETA 00:02 (frag 26/68)  "
     ]
    },
    {
     "name": "stderr",
     "output_type": "stream",
     "text": [
      "ERROR: [youtube] lElR-sVcYyw: Requested format is not available. Use --list-formats for a list of available formats\n"
     ]
    },
    {
     "name": "stdout",
     "output_type": "stream",
     "text": [
      "[download]  38.2% of ~  10.48MiB at    3.24MiB/s ETA 00:02 (frag 27/68)"
     ]
    },
    {
     "name": "stderr",
     "output_type": "stream",
     "text": [
      "Processing train videos:  28%|██████████████████████████████▏                                                                           | 285/1000 [01:11<03:04,  3.88it/s]"
     ]
    },
    {
     "name": "stdout",
     "output_type": "stream",
     "text": [
      "[download]  41.2% of ~  10.48MiB at    3.28MiB/s ETA 00:02 (frag 29/68)"
     ]
    },
    {
     "name": "stderr",
     "output_type": "stream",
     "text": [
      "ERROR: [youtube] p8OYydc3WQM: Requested format is not available. Use --list-formats for a list of available formats\n"
     ]
    },
    {
     "name": "stdout",
     "output_type": "stream",
     "text": [
      "[download]  79.4% of ~ 477.48KiB at  104.19KiB/s ETA 01:54 (frag 3/4)8)"
     ]
    },
    {
     "name": "stderr",
     "output_type": "stream",
     "text": [
      "ERROR: [youtube] n7MQUHa0vr4: Video unavailable\n",
      "Processing train videos:  29%|██████████████████████████████▍                                                                           | 287/1000 [01:12<03:48,  3.12it/s]"
     ]
    },
    {
     "name": "stdout",
     "output_type": "stream",
     "text": [
      "[download]  77.9% of ~ 573.48KiB at  126.47KiB/s ETA 01:42 (frag 3/4)8)"
     ]
    },
    {
     "name": "stderr",
     "output_type": "stream",
     "text": [
      "ERROR: [youtube] Tg0ltpSAQrk: Requested format is not available. Use --list-formats for a list of available formats\n"
     ]
    },
    {
     "name": "stdout",
     "output_type": "stream",
     "text": [
      "[download]  97.7% of ~  42.18MiB at    4.63MiB/s ETA 00:01 (frag 27/29)"
     ]
    },
    {
     "name": "stderr",
     "output_type": "stream",
     "text": [
      "ERROR: [youtube] MU3_iURZyqY: Video unavailable\n",
      "Processing train videos:  29%|██████████████████████████████▋                                                                           | 289/1000 [01:12<02:35,  4.56it/s]"
     ]
    },
    {
     "name": "stdout",
     "output_type": "stream",
     "text": [
      "[download]  72.3% of ~  10.44MiB at    3.07MiB/s ETA 00:01 (frag 49/68)"
     ]
    },
    {
     "name": "stderr",
     "output_type": "stream",
     "text": [
      "Processing train videos:  29%|██████████████████████████████▋                                                                           | 290/1000 [01:12<02:49,  4.18it/s]"
     ]
    },
    {
     "name": "stdout",
     "output_type": "stream",
     "text": [
      "[download]  76.5% of ~  10.29MiB at    3.08MiB/s ETA 00:01 (frag 52/68)"
     ]
    },
    {
     "name": "stderr",
     "output_type": "stream",
     "text": [
      "ERROR: [youtube] CgBSzRIXvE8: Requested format is not available. Use --list-formats for a list of available formats\n"
     ]
    },
    {
     "name": "stdout",
     "output_type": "stream",
     "text": [
      "[download]  76.6% of ~  10.30MiB at    3.08MiB/s ETA 00:01 (frag 52/68)"
     ]
    },
    {
     "name": "stderr",
     "output_type": "stream",
     "text": [
      "Processing train videos:  29%|██████████████████████████████▊                                                                           | 291/1000 [01:12<02:28,  4.77it/s]"
     ]
    },
    {
     "name": "stdout",
     "output_type": "stream",
     "text": [
      "[download]  80.9% of ~  10.48MiB at    3.01MiB/s ETA 00:01 (frag 56/68)"
     ]
    },
    {
     "name": "stderr",
     "output_type": "stream",
     "text": [
      "ERROR: [youtube] WYzDVJVpLbw: Requested format is not available. Use --list-formats for a list of available formats\n",
      "Processing train videos:  29%|██████████████████████████████▉                                                                           | 292/1000 [01:13<02:48,  4.20it/s]"
     ]
    },
    {
     "name": "stdout",
     "output_type": "stream",
     "text": [
      "[download]  82.4% of ~  10.48MiB at    2.99MiB/s ETA 00:01 (frag 57/68)"
     ]
    },
    {
     "name": "stderr",
     "output_type": "stream",
     "text": [
      "ERROR: [youtube] hFCXyB6q2nU: Requested format is not available. Use --list-formats for a list of available formats\n"
     ]
    },
    {
     "name": "stdout",
     "output_type": "stream",
     "text": [
      "[download]  64.7% of ~   2.58MiB at  906.19KiB/s ETA 00:02 (frag 12/17) "
     ]
    },
    {
     "name": "stderr",
     "output_type": "stream",
     "text": [
      "ERROR: [youtube] ws12ZoG4qAU: Requested format is not available. Use --list-formats for a list of available formats\n",
      "Processing train videos:  29%|███████████████████████████████▏                                                                          | 294/1000 [01:14<03:51,  3.05it/s]"
     ]
    },
    {
     "name": "stdout",
     "output_type": "stream",
     "text": [
      "[download]  76.5% of ~   2.58MiB at    1.14MiB/s ETA 00:01 (frag 14/17)"
     ]
    },
    {
     "name": "stderr",
     "output_type": "stream",
     "text": [
      "ERROR: [youtube] KTURNRi-wy0: Requested format is not available. Use --list-formats for a list of available formats\n",
      "Processing train videos:  30%|███████████████████████████████▍                                                                          | 296/1000 [01:14<02:54,  4.03it/s]"
     ]
    },
    {
     "name": "stdout",
     "output_type": "stream",
     "text": [
      "                                                                       "
     ]
    },
    {
     "name": "stderr",
     "output_type": "stream",
     "text": [
      "ERROR: [youtube] rnr_aY0X0dQ: Requested format is not available. Use --list-formats for a list of available formats\n",
      "Processing train videos:  30%|███████████████████████████████▍                                                                          | 297/1000 [01:15<04:55,  2.38it/s]ERROR: [youtube] i3kHyGqqg_M: Requested format is not available. Use --list-formats for a list of available formats\n",
      "ERROR: [youtube] lvqGMGFmuV4: Requested format is not available. Use --list-formats for a list of available formats\n",
      "Processing train videos:  30%|███████████████████████████████▌                                                                          | 298/1000 [01:15<04:17,  2.73it/s]ERROR: [youtube] -jvFAXaegjA: Requested format is not available. Use --list-formats for a list of available formats\n",
      "Processing train videos:  30%|███████████████████████████████▊                                                                          | 300/1000 [01:15<02:42,  4.31it/s]ERROR: [youtube] fNBK5IuEIkk: Requested format is not available. Use --list-formats for a list of available formats\n",
      "Processing train videos:  30%|███████████████████████████████▉                                                                          | 301/1000 [01:15<02:31,  4.62it/s]ERROR: [youtube] FBD4NFz4QaA: Requested format is not available. Use --list-formats for a list of available formats\n",
      "Processing train videos:  30%|████████████████████████████████                                                                          | 303/1000 [01:16<01:55,  6.05it/s]ERROR: [youtube] 1r5V8ZGwnJg: Requested format is not available. Use --list-formats for a list of available formats\n",
      "Processing train videos:  30%|████████████████████████████████▏                                                                         | 304/1000 [01:16<01:59,  5.84it/s]ERROR: [youtube] p36hZJQpLoQ: Requested format is not available. Use --list-formats for a list of available formats\n",
      "Processing train videos:  30%|████████████████████████████████▎                                                                         | 305/1000 [01:17<03:50,  3.02it/s]ERROR: [youtube] qjiREmBph34: Private video. Sign in if you've been granted access to this video. Use --cookies-from-browser or --cookies for the authentication. See  https://github.com/yt-dlp/yt-dlp/wiki/FAQ#how-do-i-pass-cookies-to-yt-dlp  for how to manually pass cookies. Also see  https://github.com/yt-dlp/yt-dlp/wiki/Extractors#exporting-youtube-cookies  for tips on effectively exporting YouTube cookies\n",
      "ERROR: [youtube] R_ES8RZua1g: Requested format is not available. Use --list-formats for a list of available formats\n",
      "Processing train videos:  31%|████████████████████████████████▌                                                                         | 307/1000 [01:17<02:49,  4.10it/s]ERROR: [youtube] SiTBL7DYzZQ: Requested format is not available. Use --list-formats for a list of available formats\n",
      "Processing train videos:  31%|████████████████████████████████▋                                                                         | 308/1000 [01:17<02:30,  4.59it/s]"
     ]
    },
    {
     "name": "stdout",
     "output_type": "stream",
     "text": [
      "[download]   5.2% of ~  31.69MiB at    1.08MiB/s ETA Unknown (frag 1/45)"
     ]
    },
    {
     "name": "stderr",
     "output_type": "stream",
     "text": [
      "ERROR: [youtube] ZG4u7LDCN8A: Requested format is not available. Use --list-formats for a list of available formats\n",
      "Processing train videos:  31%|████████████████████████████████▊                                                                         | 309/1000 [01:18<03:43,  3.09it/s]ERROR: [youtube] KsvdFnvMNAA: Requested format is not available. Use --list-formats for a list of available formats\n",
      "ERROR: [youtube] e1RF5h4OgOg: Requested format is not available. Use --list-formats for a list of available formats\n",
      "Processing train videos:  31%|████████████████████████████████▉                                                                         | 311/1000 [01:18<02:39,  4.31it/s]ERROR: [youtube] 8hBFgtJOZaE: Requested format is not available. Use --list-formats for a list of available formats\n",
      "Processing train videos:  31%|█████████████████████████████████                                                                         | 312/1000 [01:18<02:22,  4.82it/s]"
     ]
    },
    {
     "name": "stdout",
     "output_type": "stream",
     "text": [
      "[download]   4.9% of ~  48.56MiB at    1.44MiB/s ETA 00:20 (frag 1/45)  "
     ]
    },
    {
     "name": "stderr",
     "output_type": "stream",
     "text": [
      "ERROR: [youtube] TYEae1fcehg: Requested format is not available. Use --list-formats for a list of available formats\n"
     ]
    },
    {
     "name": "stdout",
     "output_type": "stream",
     "text": [
      "[download]   2.9% of ~  80.71MiB at    1.44MiB/s ETA 00:20 (frag 2/45)"
     ]
    },
    {
     "name": "stderr",
     "output_type": "stream",
     "text": [
      "Processing train videos:  31%|█████████████████████████████████▏                                                                        | 313/1000 [01:18<02:35,  4.42it/s]ERROR: [youtube] tUJgkaaix2w: Private video. Sign in if you've been granted access to this video. Use --cookies-from-browser or --cookies for the authentication. See  https://github.com/yt-dlp/yt-dlp/wiki/FAQ#how-do-i-pass-cookies-to-yt-dlp  for how to manually pass cookies. Also see  https://github.com/yt-dlp/yt-dlp/wiki/Extractors#exporting-youtube-cookies  for tips on effectively exporting YouTube cookies\n"
     ]
    },
    {
     "name": "stdout",
     "output_type": "stream",
     "text": [
      "[download]   7.8% of ~  43.08MiB at    1.53MiB/s ETA 00:20 (frag 2/45)"
     ]
    },
    {
     "name": "stderr",
     "output_type": "stream",
     "text": [
      "ERROR: [youtube] pnzIZR8wTV8: Requested format is not available. Use --list-formats for a list of available formats\n"
     ]
    },
    {
     "name": "stdout",
     "output_type": "stream",
     "text": [
      "[download]   9.5% of ~  41.12MiB at    1.77MiB/s ETA 00:19 (frag 3/45)"
     ]
    },
    {
     "name": "stderr",
     "output_type": "stream",
     "text": [
      "ERROR: [youtube] zsjcl2t87hQ: Requested format is not available. Use --list-formats for a list of available formats\n",
      "Processing train videos:  32%|█████████████████████████████████▍                                                                        | 316/1000 [01:19<02:11,  5.21it/s]"
     ]
    },
    {
     "name": "stdout",
     "output_type": "stream",
     "text": [
      "[download]  13.9% of ~  44.63MiB at    2.32MiB/s ETA 00:18 (frag 5/45)"
     ]
    },
    {
     "name": "stderr",
     "output_type": "stream",
     "text": [
      "ERROR: [youtube] uhlOam0rw90: Private video. Sign in if you've been granted access to this video. Use --cookies-from-browser or --cookies for the authentication. See  https://github.com/yt-dlp/yt-dlp/wiki/FAQ#how-do-i-pass-cookies-to-yt-dlp  for how to manually pass cookies. Also see  https://github.com/yt-dlp/yt-dlp/wiki/Extractors#exporting-youtube-cookies  for tips on effectively exporting YouTube cookies\n",
      "Processing train videos:  32%|█████████████████████████████████▌                                                                        | 317/1000 [01:19<02:27,  4.62it/s]"
     ]
    },
    {
     "name": "stdout",
     "output_type": "stream",
     "text": [
      "[download]  14.4% of ~  46.51MiB at    2.50MiB/s ETA 00:17 (frag 5/45)"
     ]
    },
    {
     "name": "stderr",
     "output_type": "stream",
     "text": [
      "ERROR: [youtube] TnJQtTYVTtg: Private video. Sign in if you've been granted access to this video. Use --cookies-from-browser or --cookies for the authentication. See  https://github.com/yt-dlp/yt-dlp/wiki/FAQ#how-do-i-pass-cookies-to-yt-dlp  for how to manually pass cookies. Also see  https://github.com/yt-dlp/yt-dlp/wiki/Extractors#exporting-youtube-cookies  for tips on effectively exporting YouTube cookies\n",
      "Processing train videos:  32%|█████████████████████████████████▋                                                                        | 318/1000 [01:19<02:29,  4.56it/s]"
     ]
    },
    {
     "name": "stdout",
     "output_type": "stream",
     "text": [
      "[download]  18.1% of ~  45.12MiB at    2.84MiB/s ETA 00:16 (frag 7/45)"
     ]
    },
    {
     "name": "stderr",
     "output_type": "stream",
     "text": [
      "ERROR: [youtube] FNt4N8WFuVY: Requested format is not available. Use --list-formats for a list of available formats\n",
      "Processing train videos:  32%|█████████████████████████████████▊                                                                        | 319/1000 [01:19<02:26,  4.65it/s]ERROR: [youtube] Tg0ltpSAQrk: Requested format is not available. Use --list-formats for a list of available formats\n",
      "Processing train videos:  32%|█████████████████████████████████▉                                                                        | 320/1000 [01:20<02:15,  5.02it/s]ERROR: [youtube] eeHS78JyN70: Requested format is not available. Use --list-formats for a list of available formats\n"
     ]
    },
    {
     "name": "stdout",
     "output_type": "stream",
     "text": [
      "[download]  17.8% of ~  57.68MiB at    3.08MiB/s ETA 00:15 (frag 9/45)"
     ]
    },
    {
     "name": "stderr",
     "output_type": "stream",
     "text": [
      "ERROR: [youtube] IrdTDCpIunA: Requested format is not available. Use --list-formats for a list of available formats\n",
      "Processing train videos:  32%|██████████████████████████████████▏                                                                       | 322/1000 [01:20<01:55,  5.86it/s]"
     ]
    },
    {
     "name": "stdout",
     "output_type": "stream",
     "text": [
      "[download]  25.5% of ~  47.94MiB at    3.44MiB/s ETA 00:13 (frag 10/45)"
     ]
    },
    {
     "name": "stderr",
     "output_type": "stream",
     "text": [
      "ERROR: [youtube] HBQaI1ZG-LU: Requested format is not available. Use --list-formats for a list of available formats\n",
      "Processing train videos:  32%|██████████████████████████████████▏                                                                       | 323/1000 [01:21<03:27,  3.27it/s]"
     ]
    },
    {
     "name": "stdout",
     "output_type": "stream",
     "text": [
      "[download]  27.2% of ~  47.81MiB at    3.78MiB/s ETA 00:12 (frag 11/45)"
     ]
    },
    {
     "name": "stderr",
     "output_type": "stream",
     "text": [
      "ERROR: [youtube] V5nv_yk_Ah8: Private video. Sign in if you've been granted access to this video. Use --cookies-from-browser or --cookies for the authentication. See  https://github.com/yt-dlp/yt-dlp/wiki/FAQ#how-do-i-pass-cookies-to-yt-dlp  for how to manually pass cookies. Also see  https://github.com/yt-dlp/yt-dlp/wiki/Extractors#exporting-youtube-cookies  for tips on effectively exporting YouTube cookies\n"
     ]
    },
    {
     "name": "stdout",
     "output_type": "stream",
     "text": [
      "[download]  29.9% of ~  48.05MiB at    3.96MiB/s ETA 00:12 (frag 12/45)"
     ]
    },
    {
     "name": "stderr",
     "output_type": "stream",
     "text": [
      "ERROR: [youtube] Zw73N_j0eRg: Requested format is not available. Use --list-formats for a list of available formats\n",
      "Processing train videos:  32%|██████████████████████████████████▍                                                                       | 325/1000 [01:21<03:05,  3.64it/s]ERROR: [youtube] Tpd0LRCDzsY: Private video. Sign in if you've been granted access to this video. Use --cookies-from-browser or --cookies for the authentication. See  https://github.com/yt-dlp/yt-dlp/wiki/FAQ#how-do-i-pass-cookies-to-yt-dlp  for how to manually pass cookies. Also see  https://github.com/yt-dlp/yt-dlp/wiki/Extractors#exporting-youtube-cookies  for tips on effectively exporting YouTube cookies\n",
      "ERROR: [youtube] 2VB3WN8adyM: Requested format is not available. Use --list-formats for a list of available formats\n"
     ]
    },
    {
     "name": "stdout",
     "output_type": "stream",
     "text": [
      "[download]  33.9% of ~  47.64MiB at    4.15MiB/s ETA 00:11 (frag 14/45)"
     ]
    },
    {
     "name": "stderr",
     "output_type": "stream",
     "text": [
      "ERROR: [youtube] 7CLG9cN8ujs: Requested format is not available. Use --list-formats for a list of available formats\n",
      "Processing train videos:  33%|██████████████████████████████████▊                                                                       | 328/1000 [01:21<02:08,  5.22it/s]ERROR: [youtube] bXyG4iebEBo: Requested format is not available. Use --list-formats for a list of available formats\n",
      "Processing train videos:  33%|██████████████████████████████████▊                                                                       | 329/1000 [01:21<02:07,  5.25it/s]"
     ]
    },
    {
     "name": "stdout",
     "output_type": "stream",
     "text": [
      "[download]  35.6% of ~  47.39MiB at    4.22MiB/s ETA 00:10 (frag 15/45)"
     ]
    },
    {
     "name": "stderr",
     "output_type": "stream",
     "text": [
      "ERROR: [youtube] yzl_Ez0ZB9Q: Requested format is not available. Use --list-formats for a list of available formats\n"
     ]
    },
    {
     "name": "stdout",
     "output_type": "stream",
     "text": [
      "[download]  35.6% of ~  47.39MiB at    4.22MiB/s ETA 00:10 (frag 15/45)"
     ]
    },
    {
     "name": "stderr",
     "output_type": "stream",
     "text": [
      "Processing train videos:  33%|██████████████████████████████████▉                                                                       | 330/1000 [01:22<02:11,  5.10it/s]"
     ]
    },
    {
     "name": "stdout",
     "output_type": "stream",
     "text": [
      "[download]  38.3% of ~  48.08MiB at    4.33MiB/s ETA 00:09 (frag 16/45)"
     ]
    },
    {
     "name": "stderr",
     "output_type": "stream",
     "text": [
      "ERROR: [youtube] tZXeryN2rJE: Requested format is not available. Use --list-formats for a list of available formats\n",
      "Processing train videos:  33%|███████████████████████████████████                                                                       | 331/1000 [01:22<01:59,  5.61it/s]"
     ]
    },
    {
     "name": "stdout",
     "output_type": "stream",
     "text": [
      "[download]  42.5% of ~  48.11MiB at    4.33MiB/s ETA 00:08 (frag 18/45)"
     ]
    },
    {
     "name": "stderr",
     "output_type": "stream",
     "text": [
      "ERROR: [youtube] FeGQrm6_hWs: Video unavailable\n",
      "Processing train videos:  33%|███████████████████████████████████▏                                                                      | 332/1000 [01:22<03:03,  3.65it/s]"
     ]
    },
    {
     "name": "stdout",
     "output_type": "stream",
     "text": [
      "[download]  46.8% of ~  48.48MiB at    4.36MiB/s ETA 00:08 (frag 20/45)"
     ]
    },
    {
     "name": "stderr",
     "output_type": "stream",
     "text": [
      "ERROR: [youtube] lSxAVvE9sPc: Private video. Sign in if you've been granted access to this video. Use --cookies-from-browser or --cookies for the authentication. See  https://github.com/yt-dlp/yt-dlp/wiki/FAQ#how-do-i-pass-cookies-to-yt-dlp  for how to manually pass cookies. Also see  https://github.com/yt-dlp/yt-dlp/wiki/Extractors#exporting-youtube-cookies  for tips on effectively exporting YouTube cookies\n",
      "Processing train videos:  33%|███████████████████████████████████▎                                                                      | 333/1000 [01:23<03:20,  3.32it/s]ERROR: [youtube] JSwDsjPxKk0: Requested format is not available. Use --list-formats for a list of available formats\n",
      "Processing train videos:  33%|███████████████████████████████████▍                                                                      | 334/1000 [01:23<02:45,  4.03it/s]"
     ]
    },
    {
     "name": "stdout",
     "output_type": "stream",
     "text": [
      "[download]  46.6% of ~  53.24MiB at    4.35MiB/s ETA 00:07 (frag 22/45)"
     ]
    },
    {
     "name": "stderr",
     "output_type": "stream",
     "text": [
      "ERROR: [youtube] 6mlDhqbk9KQ: Requested format is not available. Use --list-formats for a list of available formats\n",
      "Processing train videos:  34%|███████████████████████████████████▌                                                                      | 335/1000 [01:23<03:31,  3.14it/s]"
     ]
    },
    {
     "name": "stdout",
     "output_type": "stream",
     "text": [
      "[download]  53.8% of ~  49.04MiB at    4.44MiB/s ETA 00:06 (frag 23/45)"
     ]
    },
    {
     "name": "stderr",
     "output_type": "stream",
     "text": [
      "ERROR: [youtube] N4n5CDpyX3w: Requested format is not available. Use --list-formats for a list of available formats\n",
      "Processing train videos:  34%|███████████████████████████████████▌                                                                      | 336/1000 [01:24<04:18,  2.56it/s]"
     ]
    },
    {
     "name": "stdout",
     "output_type": "stream",
     "text": [
      "[download]  55.8% of ~  48.69MiB at    4.39MiB/s ETA 00:06 (frag 24/45)"
     ]
    },
    {
     "name": "stderr",
     "output_type": "stream",
     "text": [
      "ERROR: [youtube] gRIcq644uAQ: Requested format is not available. Use --list-formats for a list of available formats\n"
     ]
    },
    {
     "name": "stdout",
     "output_type": "stream",
     "text": [
      "[download]  57.8% of ~  48.79MiB at    4.46MiB/s ETA 00:06 (frag 25/45)"
     ]
    },
    {
     "name": "stderr",
     "output_type": "stream",
     "text": [
      "ERROR: [youtube] W-OvquSQ_rM: Requested format is not available. Use --list-formats for a list of available formats\n"
     ]
    },
    {
     "name": "stdout",
     "output_type": "stream",
     "text": [
      "[download]  57.8% of ~  48.79MiB at    4.46MiB/s ETA 00:06 (frag 25/45)"
     ]
    },
    {
     "name": "stderr",
     "output_type": "stream",
     "text": [
      "Processing train videos:  34%|███████████████████████████████████▉                                                                      | 339/1000 [01:24<02:11,  5.03it/s]"
     ]
    },
    {
     "name": "stdout",
     "output_type": "stream",
     "text": [
      "[download]  55.9% of ~  52.18MiB at    4.40MiB/s ETA 00:06 (frag 26/45)"
     ]
    },
    {
     "name": "stderr",
     "output_type": "stream",
     "text": [
      "ERROR: [youtube] vcrTUbE1NoY: Requested format is not available. Use --list-formats for a list of available formats\n",
      "Processing train videos:  34%|████████████████████████████████████                                                                      | 340/1000 [01:25<02:47,  3.95it/s]"
     ]
    },
    {
     "name": "stdout",
     "output_type": "stream",
     "text": [
      "[download]  62.5% of ~  49.33MiB at    4.46MiB/s ETA 00:05 (frag 27/45)"
     ]
    },
    {
     "name": "stderr",
     "output_type": "stream",
     "text": [
      "ERROR: [youtube] eeHS78JyN70: Requested format is not available. Use --list-formats for a list of available formats\n",
      "Processing train videos:  34%|████████████████████████████████████▏                                                                     | 341/1000 [01:25<02:34,  4.26it/s]"
     ]
    },
    {
     "name": "stdout",
     "output_type": "stream",
     "text": [
      "[download]  66.7% of ~  49.53MiB at    4.54MiB/s ETA 00:05 (frag 29/45)"
     ]
    },
    {
     "name": "stderr",
     "output_type": "stream",
     "text": [
      "ERROR: [youtube] Pw-wu8Y21bQ: Requested format is not available. Use --list-formats for a list of available formats\n",
      "Processing train videos:  34%|████████████████████████████████████▎                                                                     | 342/1000 [01:25<03:11,  3.44it/s]ERROR: [youtube] 7IfuBDZ1Hz8: Requested format is not available. Use --list-formats for a list of available formats\n",
      "Processing train videos:  34%|████████████████████████████████████▎                                                                     | 343/1000 [01:25<02:40,  4.09it/s]ERROR: [youtube] c0KyrHlDpkQ: Private video. Sign in if you've been granted access to this video. Use --cookies-from-browser or --cookies for the authentication. See  https://github.com/yt-dlp/yt-dlp/wiki/FAQ#how-do-i-pass-cookies-to-yt-dlp  for how to manually pass cookies. Also see  https://github.com/yt-dlp/yt-dlp/wiki/Extractors#exporting-youtube-cookies  for tips on effectively exporting YouTube cookies\n",
      "Processing train videos:  34%|████████████████████████████████████▍                                                                     | 344/1000 [01:25<02:22,  4.59it/s]ERROR: [youtube] 1kNszi0e9XU: Requested format is not available. Use --list-formats for a list of available formats\n",
      "ERROR: [youtube] axt2MQyzvy8: Private video. Sign in if you've been granted access to this video. Use --cookies-from-browser or --cookies for the authentication. See  https://github.com/yt-dlp/yt-dlp/wiki/FAQ#how-do-i-pass-cookies-to-yt-dlp  for how to manually pass cookies. Also see  https://github.com/yt-dlp/yt-dlp/wiki/Extractors#exporting-youtube-cookies  for tips on effectively exporting YouTube cookies\n",
      "Processing train videos:  35%|████████████████████████████████████▋                                                                     | 346/1000 [01:26<03:05,  3.53it/s]ERROR: [youtube] sUC-XDC5TvA: Requested format is not available. Use --list-formats for a list of available formats\n"
     ]
    },
    {
     "name": "stdout",
     "output_type": "stream",
     "text": [
      "[download]  66.9% of ~  49.74MiB at    3.56MiB/s ETA 00:05 (frag 29/45)"
     ]
    },
    {
     "name": "stderr",
     "output_type": "stream",
     "text": [
      "ERROR: [youtube] 0e8jwNFLfhw: Video unavailable\n",
      "Processing train videos:  35%|████████████████████████████████████▉                                                                     | 348/1000 [01:27<02:48,  3.88it/s]"
     ]
    },
    {
     "name": "stdout",
     "output_type": "stream",
     "text": [
      "[download]  67.1% of ~  49.89MiB at    3.22MiB/s ETA 00:05 (frag 29/45)"
     ]
    },
    {
     "name": "stderr",
     "output_type": "stream",
     "text": [
      "ERROR: [youtube] gRIcq644uAQ: Requested format is not available. Use --list-formats for a list of available formats\n",
      "Processing train videos:  35%|████████████████████████████████████▉                                                                     | 349/1000 [01:27<02:33,  4.25it/s]"
     ]
    },
    {
     "name": "stdout",
     "output_type": "stream",
     "text": [
      "[download]  64.4% of ~  53.17MiB at    2.70MiB/s ETA 00:05 (frag 30/45)"
     ]
    },
    {
     "name": "stderr",
     "output_type": "stream",
     "text": [
      "ERROR: [youtube] vQQnqkpLu3g: Requested format is not available. Use --list-formats for a list of available formats\n",
      "Processing train videos:  35%|█████████████████████████████████████                                                                     | 350/1000 [01:27<02:46,  3.90it/s]"
     ]
    },
    {
     "name": "stdout",
     "output_type": "stream",
     "text": [
      "[download]  68.9% of ~  49.67MiB at    2.70MiB/s ETA 00:05 (frag 30/45)"
     ]
    },
    {
     "name": "stderr",
     "output_type": "stream",
     "text": [
      "ERROR: [youtube] HUMEcnkvhJU: Requested format is not available. Use --list-formats for a list of available formats\n"
     ]
    },
    {
     "name": "stdout",
     "output_type": "stream",
     "text": [
      "[download]  69.4% of ~  50.03MiB at    2.48MiB/s ETA 00:06 (frag 30/45)"
     ]
    },
    {
     "name": "stderr",
     "output_type": "stream",
     "text": [
      "ERROR: [youtube] Y4Ah4DAuQS0: Video unavailable\n",
      "Processing train videos:  35%|█████████████████████████████████████▎                                                                    | 352/1000 [01:28<02:39,  4.05it/s]"
     ]
    },
    {
     "name": "stdout",
     "output_type": "stream",
     "text": [
      "[download]  69.9% of ~  50.39MiB at    2.09MiB/s ETA 00:06 (frag 30/45)"
     ]
    },
    {
     "name": "stderr",
     "output_type": "stream",
     "text": [
      "ERROR: [youtube] TzHGW54AN5M: Requested format is not available. Use --list-formats for a list of available formats\n",
      "Processing train videos:  35%|█████████████████████████████████████▍                                                                    | 353/1000 [01:28<02:53,  3.74it/s]ERROR: [youtube] Hl-T4Kwm_rc: Requested format is not available. Use --list-formats for a list of available formats\n",
      "Processing train videos:  35%|█████████████████████████████████████▌                                                                    | 354/1000 [01:28<02:38,  4.07it/s]"
     ]
    },
    {
     "name": "stdout",
     "output_type": "stream",
     "text": [
      "[download]  73.6% of ~  50.56MiB at    1.79MiB/s ETA 00:07 (frag 32/45)"
     ]
    },
    {
     "name": "stderr",
     "output_type": "stream",
     "text": [
      "ERROR: [youtube] 0Bj00OLMsjQ: Private video. Sign in if you've been granted access to this video. Use --cookies-from-browser or --cookies for the authentication. See  https://github.com/yt-dlp/yt-dlp/wiki/FAQ#how-do-i-pass-cookies-to-yt-dlp  for how to manually pass cookies. Also see  https://github.com/yt-dlp/yt-dlp/wiki/Extractors#exporting-youtube-cookies  for tips on effectively exporting YouTube cookies\n",
      "Processing train videos:  36%|█████████████████████████████████████▋                                                                    | 355/1000 [01:28<03:00,  3.58it/s]"
     ]
    },
    {
     "name": "stdout",
     "output_type": "stream",
     "text": [
      "[download]  76.5% of ~  51.11MiB at    1.92MiB/s ETA 00:07 (frag 33/45)"
     ]
    },
    {
     "name": "stderr",
     "output_type": "stream",
     "text": [
      "ERROR: [youtube] rd2D_FQTL6k: Private video. Sign in if you've been granted access to this video. Use --cookies-from-browser or --cookies for the authentication. See  https://github.com/yt-dlp/yt-dlp/wiki/FAQ#how-do-i-pass-cookies-to-yt-dlp  for how to manually pass cookies. Also see  https://github.com/yt-dlp/yt-dlp/wiki/Extractors#exporting-youtube-cookies  for tips on effectively exporting YouTube cookies\n",
      "Processing train videos:  36%|█████████████████████████████████████▋                                                                    | 356/1000 [01:29<03:29,  3.07it/s]ERROR: [youtube] dRe3xp66NPo: Requested format is not available. Use --list-formats for a list of available formats\n",
      "Processing train videos:  36%|█████████████████████████████████████▉                                                                    | 358/1000 [01:29<02:25,  4.41it/s]ERROR: [youtube] FkoOUSVF-9g: Private video. Sign in if you've been granted access to this video. Use --cookies-from-browser or --cookies for the authentication. See  https://github.com/yt-dlp/yt-dlp/wiki/FAQ#how-do-i-pass-cookies-to-yt-dlp  for how to manually pass cookies. Also see  https://github.com/yt-dlp/yt-dlp/wiki/Extractors#exporting-youtube-cookies  for tips on effectively exporting YouTube cookies\n"
     ]
    },
    {
     "name": "stdout",
     "output_type": "stream",
     "text": [
      "[download] 100.0% of ~  31.00KiB at   77.23KiB/s ETA 00:00 (frag 0/1)  "
     ]
    },
    {
     "name": "stderr",
     "output_type": "stream",
     "text": [
      "ERROR: [youtube] GCMo9e9GOWs: Requested format is not available. Use --list-formats for a list of available formats\n",
      "Processing train videos:  36%|██████████████████████████████████████▏                                                                   | 360/1000 [01:29<01:55,  5.53it/s]"
     ]
    },
    {
     "name": "stdout",
     "output_type": "stream",
     "text": [
      "[download] 100.0% of ~  63.00KiB at  137.87KiB/s ETA 00:00 (frag 0/1)"
     ]
    },
    {
     "name": "stderr",
     "output_type": "stream",
     "text": [
      "ERROR: [youtube] K8c-np9zNT8: Requested format is not available. Use --list-formats for a list of available formats\n",
      "Processing train videos:  36%|██████████████████████████████████████▎                                                                   | 361/1000 [01:29<01:48,  5.90it/s]"
     ]
    },
    {
     "name": "stdout",
     "output_type": "stream",
     "text": [
      "[download]  80.5% of ~  51.04MiB at    2.17MiB/s ETA 00:06 (frag 35/45)"
     ]
    },
    {
     "name": "stderr",
     "output_type": "stream",
     "text": [
      "ERROR: [youtube] Xt6F1wT394I: Requested format is not available. Use --list-formats for a list of available formats\n",
      "Processing train videos:  36%|██████████████████████████████████████▎                                                                   | 362/1000 [01:30<02:10,  4.89it/s]"
     ]
    },
    {
     "name": "stdout",
     "output_type": "stream",
     "text": [
      "[download] 100.0% of ~  31.00KiB at    9.95KiB/s ETA Unknown (frag 0/1)"
     ]
    },
    {
     "name": "stderr",
     "output_type": "stream",
     "text": [
      "ERROR: [youtube] GLLXB6fPYZM: Private video. Sign in if you've been granted access to this video. Use --cookies-from-browser or --cookies for the authentication. See  https://github.com/yt-dlp/yt-dlp/wiki/FAQ#how-do-i-pass-cookies-to-yt-dlp  for how to manually pass cookies. Also see  https://github.com/yt-dlp/yt-dlp/wiki/Extractors#exporting-youtube-cookies  for tips on effectively exporting YouTube cookies\n",
      "Processing train videos:  36%|██████████████████████████████████████▍                                                                   | 363/1000 [01:30<03:13,  3.28it/s]"
     ]
    },
    {
     "name": "stdout",
     "output_type": "stream",
     "text": [
      "[download]  80.0% of ~  53.59MiB at    2.27MiB/s ETA 00:05 (frag 37/45)"
     ]
    },
    {
     "name": "stderr",
     "output_type": "stream",
     "text": [
      "ERROR: [youtube] o9GSFqvikro: Requested format is not available. Use --list-formats for a list of available formats\n",
      "Processing train videos:  36%|██████████████████████████████████████▋                                                                   | 365/1000 [01:31<02:57,  3.57it/s]"
     ]
    },
    {
     "name": "stdout",
     "output_type": "stream",
     "text": [
      "[download]  85.4% of ~  51.39MiB at    2.60MiB/s ETA 00:05 (frag 37/45)"
     ]
    },
    {
     "name": "stderr",
     "output_type": "stream",
     "text": [
      "ERROR: [youtube] dMZ-SCl7nA4: Requested format is not available. Use --list-formats for a list of available formats\n",
      "Processing train videos:  37%|██████████████████████████████████████▊                                                                   | 366/1000 [01:31<02:56,  3.60it/s]ERROR: [youtube] xu9VvX1Vbck: Requested format is not available. Use --list-formats for a list of available formats\n"
     ]
    },
    {
     "name": "stdout",
     "output_type": "stream",
     "text": [
      "[download]  89.9% of ~  51.75MiB at    2.71MiB/s ETA 00:04 (frag 39/45)"
     ]
    },
    {
     "name": "stderr",
     "output_type": "stream",
     "text": [
      "ERROR: [youtube] Abj2Yj4vbtk: Requested format is not available. Use --list-formats for a list of available formats\n"
     ]
    },
    {
     "name": "stdout",
     "output_type": "stream",
     "text": [
      "[download]  89.6% of ~  52.31MiB at    2.71MiB/s ETA 00:04 (frag 39/45)"
     ]
    },
    {
     "name": "stderr",
     "output_type": "stream",
     "text": [
      "Processing train videos:  37%|███████████████████████████████████████                                                                   | 368/1000 [01:32<02:56,  3.57it/s]"
     ]
    },
    {
     "name": "stdout",
     "output_type": "stream",
     "text": [
      "[download]  91.6% of ~  51.72MiB at    2.77MiB/s ETA 00:04 (frag 40/45)"
     ]
    },
    {
     "name": "stderr",
     "output_type": "stream",
     "text": [
      "Processing train videos:  37%|███████████████████████████████████████                                                                   | 369/1000 [01:32<02:48,  3.74it/s]ERROR: [youtube] ElL1zlHxo-0: Video unavailable\n"
     ]
    },
    {
     "name": "stdout",
     "output_type": "stream",
     "text": [
      "[download]  94.3% of ~  52.24MiB at    3.18MiB/s ETA 00:03 (frag 41/45)"
     ]
    },
    {
     "name": "stderr",
     "output_type": "stream",
     "text": [
      "ERROR: [youtube] K4603bl9Ahw: Requested format is not available. Use --list-formats for a list of available formats\n",
      "Processing train videos:  37%|███████████████████████████████████████▎                                                                  | 371/1000 [01:32<02:25,  4.33it/s]ERROR: [youtube] lElR-sVcYyw: Requested format is not available. Use --list-formats for a list of available formats\n",
      "ERROR: [youtube] AySU6wdG4aU: Requested format is not available. Use --list-formats for a list of available formats\n",
      "Processing train videos:  37%|███████████████████████████████████████▌                                                                  | 373/1000 [01:32<01:47,  5.85it/s]"
     ]
    },
    {
     "name": "stdout",
     "output_type": "stream",
     "text": [
      "                                                                       "
     ]
    },
    {
     "name": "stderr",
     "output_type": "stream",
     "text": [
      "ERROR: [youtube] CgnKX1ESmRg: Requested format is not available. Use --list-formats for a list of available formats\n",
      "Processing train videos:  37%|███████████████████████████████████████▋                                                                  | 374/1000 [01:33<02:56,  3.55it/s]ERROR: [youtube] w_xtcWTphsc: Private video. Sign in if you've been granted access to this video. Use --cookies-from-browser or --cookies for the authentication. See  https://github.com/yt-dlp/yt-dlp/wiki/FAQ#how-do-i-pass-cookies-to-yt-dlp  for how to manually pass cookies. Also see  https://github.com/yt-dlp/yt-dlp/wiki/Extractors#exporting-youtube-cookies  for tips on effectively exporting YouTube cookies\n",
      "Processing train videos:  38%|███████████████████████████████████████▊                                                                  | 375/1000 [01:34<03:26,  3.03it/s]ERROR: [youtube] 0v4Y9WGhES8: Video unavailable\n",
      "ERROR: [youtube] WxY7E9P46DM: Requested format is not available. Use --list-formats for a list of available formats\n"
     ]
    },
    {
     "name": "stdout",
     "output_type": "stream",
     "text": [
      "[download]   8.0% of ~   3.80MiB at   38.04KiB/s ETA 00:20 (frag 3/25)  "
     ]
    },
    {
     "name": "stderr",
     "output_type": "stream",
     "text": [
      "ERROR: [youtube] EafXAOz5m58: Requested format is not available. Use --list-formats for a list of available formats\n",
      "Processing train videos:  38%|████████████████████████████████████████                                                                  | 378/1000 [01:34<02:01,  5.13it/s]"
     ]
    },
    {
     "name": "stdout",
     "output_type": "stream",
     "text": [
      "[download]  19.3% of ~   3.17MiB at  208.26KiB/s ETA 00:18 (frag 5/25)"
     ]
    },
    {
     "name": "stderr",
     "output_type": "stream",
     "text": [
      "ERROR: [youtube] SKpx1-ub5uc: Requested format is not available. Use --list-formats for a list of available formats\n"
     ]
    },
    {
     "name": "stdout",
     "output_type": "stream",
     "text": [
      "[download]  52.0% of ~   3.79MiB at    1.01MiB/s ETA 00:09 (frag 14/25)"
     ]
    },
    {
     "name": "stderr",
     "output_type": "stream",
     "text": [
      "ERROR: [youtube] NmckYi6xceM: Video unavailable\n",
      "Processing train videos:  38%|████████████████████████████████████████▎                                                                 | 380/1000 [01:34<02:21,  4.37it/s]ERROR: [youtube] VwejDy96MzM: Requested format is not available. Use --list-formats for a list of available formats\n",
      "ERROR: [youtube] gRIcq644uAQ: Requested format is not available. Use --list-formats for a list of available formats\n",
      "Processing train videos:  38%|████████████████████████████████████████▍                                                                 | 382/1000 [01:35<02:08,  4.81it/s]ERROR: [youtube] XEdsQNNyp-E: Video unavailable\n",
      "Processing train videos:  38%|████████████████████████████████████████▌                                                                 | 383/1000 [01:35<02:08,  4.81it/s]ERROR: [youtube] 6Mmgrtw_Zro: Requested format is not available. Use --list-formats for a list of available formats\n",
      "Processing train videos:  38%|████████████████████████████████████████▋                                                                 | 384/1000 [01:35<01:55,  5.32it/s]"
     ]
    },
    {
     "name": "stdout",
     "output_type": "stream",
     "text": [
      "[download]  80.0% of ~   3.62MiB at  973.20KiB/s ETA 00:05 (frag 20/25)"
     ]
    },
    {
     "name": "stderr",
     "output_type": "stream",
     "text": [
      "ERROR: [youtube] c49qWjgFtRI: Requested format is not available. Use --list-formats for a list of available formats\n"
     ]
    },
    {
     "name": "stdout",
     "output_type": "stream",
     "text": [
      "[download]  80.7% of ~   3.64MiB at 1003.34KiB/s ETA 00:05 (frag 20/25)"
     ]
    },
    {
     "name": "stderr",
     "output_type": "stream",
     "text": [
      "Processing train videos:  38%|████████████████████████████████████████▊                                                                 | 385/1000 [01:35<02:34,  3.99it/s]"
     ]
    },
    {
     "name": "stdout",
     "output_type": "stream",
     "text": [
      "[download]  34.4% of ~  90.00KiB at    5.10KiB/s ETA 00:00 (frag 0/6)  "
     ]
    },
    {
     "name": "stderr",
     "output_type": "stream",
     "text": [
      "Processing train videos:  39%|████████████████████████████████████████▉                                                                 | 386/1000 [01:36<03:46,  2.71it/s]"
     ]
    },
    {
     "name": "stdout",
     "output_type": "stream",
     "text": [
      "[download]   8.3% of ~ 674.16KiB at   11.95KiB/s ETA 00:00 (frag 1/6)"
     ]
    },
    {
     "name": "stderr",
     "output_type": "stream",
     "text": [
      "ERROR: [youtube] 6UrcyZ-QeiU: Requested format is not available. Use --list-formats for a list of available formats\n",
      "Processing train videos:  39%|█████████████████████████████████████████                                                                 | 387/1000 [01:36<03:15,  3.13it/s]ERROR: [youtube] Pj7ONpWo7sg: Private video. Sign in if you've been granted access to this video. Use --cookies-from-browser or --cookies for the authentication. See  https://github.com/yt-dlp/yt-dlp/wiki/FAQ#how-do-i-pass-cookies-to-yt-dlp  for how to manually pass cookies. Also see  https://github.com/yt-dlp/yt-dlp/wiki/Extractors#exporting-youtube-cookies  for tips on effectively exporting YouTube cookies\n",
      "ERROR: [youtube] xIIGn6cn8BI: Requested format is not available. Use --list-formats for a list of available formats\n",
      "ERROR: [youtube] FWc_-goPDiY: Requested format is not available. Use --list-formats for a list of available formats\n",
      "ERROR: [youtube] cTn4oaEvvpc: Requested format is not available. Use --list-formats for a list of available formats\n"
     ]
    },
    {
     "name": "stdout",
     "output_type": "stream",
     "text": [
      "[download]  40.8% of ~ 213.54KiB at   19.81KiB/s ETA 00:01 (frag 1/6)"
     ]
    },
    {
     "name": "stderr",
     "output_type": "stream",
     "text": [
      "ERROR: [youtube] FBimL8-ND3E: Requested format is not available. Use --list-formats for a list of available formats\n",
      "Processing train videos:  39%|█████████████████████████████████████████▌                                                                | 392/1000 [01:37<02:08,  4.73it/s]ERROR: [youtube] rWIDL_GpaJc: Requested format is not available. Use --list-formats for a list of available formats\n"
     ]
    },
    {
     "name": "stdout",
     "output_type": "stream",
     "text": [
      "[download]  51.2% of ~ 357.54KiB at   36.74KiB/s ETA 00:01 (frag 1/6)"
     ]
    },
    {
     "name": "stderr",
     "output_type": "stream",
     "text": [
      "ERROR: [youtube] P3tBJESDamE: Requested format is not available. Use --list-formats for a list of available formats\n",
      "Processing train videos:  39%|█████████████████████████████████████████▊                                                                | 394/1000 [01:37<01:52,  5.38it/s]"
     ]
    },
    {
     "name": "stdout",
     "output_type": "stream",
     "text": [
      "[download]  56.6% of ~ 549.54KiB at   91.10KiB/s ETA 00:01 (frag 1/6)"
     ]
    },
    {
     "name": "stderr",
     "output_type": "stream",
     "text": [
      "ERROR: [youtube] J6H-B-rbdg8: Requested format is not available. Use --list-formats for a list of available formats\n",
      "Processing train videos:  40%|█████████████████████████████████████████▊                                                                | 395/1000 [01:37<01:46,  5.66it/s]"
     ]
    },
    {
     "name": "stdout",
     "output_type": "stream",
     "text": [
      "[download]  60.8% of ~ 933.54KiB at  173.57KiB/s ETA 00:01 (frag 1/6)"
     ]
    },
    {
     "name": "stderr",
     "output_type": "stream",
     "text": [
      "ERROR: [youtube] gRIcq644uAQ: Requested format is not available. Use --list-formats for a list of available formats\n"
     ]
    },
    {
     "name": "stdout",
     "output_type": "stream",
     "text": [
      "[download]  17.1% of ~   6.33MiB at  314.60KiB/s ETA 00:01 (frag 2/6)"
     ]
    },
    {
     "name": "stderr",
     "output_type": "stream",
     "text": [
      "ERROR: [youtube] Dax964vUumQ: Private video. Sign in if you've been granted access to this video. Use --cookies-from-browser or --cookies for the authentication. See  https://github.com/yt-dlp/yt-dlp/wiki/FAQ#how-do-i-pass-cookies-to-yt-dlp  for how to manually pass cookies. Also see  https://github.com/yt-dlp/yt-dlp/wiki/Extractors#exporting-youtube-cookies  for tips on effectively exporting YouTube cookies\n",
      "Processing train videos:  40%|██████████████████████████████████████████                                                                | 397/1000 [01:38<01:34,  6.41it/s]ERROR: [youtube] wy-09ieHXhM: Private video. Sign in if you've been granted access to this video. Use --cookies-from-browser or --cookies for the authentication. See  https://github.com/yt-dlp/yt-dlp/wiki/FAQ#how-do-i-pass-cookies-to-yt-dlp  for how to manually pass cookies. Also see  https://github.com/yt-dlp/yt-dlp/wiki/Extractors#exporting-youtube-cookies  for tips on effectively exporting YouTube cookies\n",
      "ERROR: [youtube] D7UYn37qTkU: Video unavailable\n",
      "Processing train videos:  40%|██████████████████████████████████████████▎                                                               | 399/1000 [01:38<01:14,  8.08it/s]"
     ]
    },
    {
     "name": "stdout",
     "output_type": "stream",
     "text": [
      "                                                                     "
     ]
    },
    {
     "name": "stderr",
     "output_type": "stream",
     "text": [
      "ERROR: [youtube] UXetwN_cI5A: Requested format is not available. Use --list-formats for a list of available formats\n",
      "ERROR: [youtube] gRIcq644uAQ: Requested format is not available. Use --list-formats for a list of available formats\n",
      "Processing train videos:  40%|██████████████████████████████████████████▌                                                               | 401/1000 [01:39<03:09,  3.15it/s]ERROR: [youtube] 8hBFgtJOZaE: Requested format is not available. Use --list-formats for a list of available formats\n",
      "Processing train videos:  40%|██████████████████████████████████████████▌                                                               | 402/1000 [01:40<03:01,  3.30it/s]ERROR: [youtube] fnhiGz4qE_I: Requested format is not available. Use --list-formats for a list of available formats\n",
      "Processing train videos:  40%|██████████████████████████████████████████▋                                                               | 403/1000 [01:40<02:40,  3.73it/s]ERROR: [youtube] mCG3gsQfiBA: Requested format is not available. Use --list-formats for a list of available formats\n",
      "Processing train videos:  40%|██████████████████████████████████████████▊                                                               | 404/1000 [01:40<02:24,  4.11it/s]"
     ]
    },
    {
     "name": "stdout",
     "output_type": "stream",
     "text": [
      "[download]  10.0% of ~   7.06KiB at    275.71B/s ETA Unknown (frag 1/5)"
     ]
    },
    {
     "name": "stderr",
     "output_type": "stream",
     "text": [
      "ERROR: [youtube] R_ES8RZua1g: Requested format is not available. Use --list-formats for a list of available formats\n",
      "Processing train videos:  40%|██████████████████████████████████████████▉                                                               | 405/1000 [01:40<02:18,  4.29it/s]ERROR: [youtube] WxY7E9P46DM: Requested format is not available. Use --list-formats for a list of available formats\n",
      "ERROR: [youtube] 1b2TXYk0jbM: Requested format is not available. Use --list-formats for a list of available formats\n",
      "Processing train videos:  41%|███████████████████████████████████████████▏                                                              | 407/1000 [01:40<01:58,  5.01it/s]ERROR: [youtube] 4rOC5fNt-_k: Requested format is not available. Use --list-formats for a list of available formats\n",
      "Processing train videos:  41%|███████████████████████████████████████████▏                                                              | 408/1000 [01:40<01:47,  5.49it/s]ERROR: [youtube] luWilRNpxrE: Requested format is not available. Use --list-formats for a list of available formats\n"
     ]
    },
    {
     "name": "stdout",
     "output_type": "stream",
     "text": [
      "[download]  20.0% of ~ 790.72KiB at    523.45B/s ETA 06:06 (frag 2/5)  "
     ]
    },
    {
     "name": "stderr",
     "output_type": "stream",
     "text": [
      "ERROR: [youtube] Nf_0FxqOIWM: Requested format is not available. Use --list-formats for a list of available formats\n",
      "Processing train videos:  41%|███████████████████████████████████████████▍                                                              | 410/1000 [01:41<01:50,  5.32it/s]ERROR: [youtube] 3A0iSc2umlg: Video unavailable\n",
      "Processing train videos:  41%|███████████████████████████████████████████▌                                                              | 411/1000 [01:41<02:05,  4.67it/s]"
     ]
    },
    {
     "name": "stdout",
     "output_type": "stream",
     "text": [
      "[download]  40.0% of ~ 790.13KiB at   20.45KiB/s ETA 05:30 (frag 3/5)"
     ]
    },
    {
     "name": "stderr",
     "output_type": "stream",
     "text": [
      "ERROR: [youtube] 3A0iSc2umlg: Video unavailable\n",
      "ERROR: [youtube] xbVVThaez2g: Requested format is not available. Use --list-formats for a list of available formats\n",
      "Processing train videos:  41%|███████████████████████████████████████████▋                                                              | 412/1000 [01:42<03:15,  3.00it/s]ERROR: [youtube] tlUZKsbXNcI: Requested format is not available. Use --list-formats for a list of available formats\n",
      "Processing train videos:  41%|███████████████████████████████████████████▉                                                              | 414/1000 [01:42<02:17,  4.25it/s]ERROR: [youtube] FwGL9FjFpYI: Requested format is not available. Use --list-formats for a list of available formats\n",
      "Processing train videos:  42%|███████████████████████████████████████████▉                                                              | 415/1000 [01:42<02:13,  4.39it/s]"
     ]
    },
    {
     "name": "stdout",
     "output_type": "stream",
     "text": [
      "[download]  60.0% of ~ 789.83KiB at   55.02KiB/s ETA 04:57 (frag 4/5)"
     ]
    },
    {
     "name": "stderr",
     "output_type": "stream",
     "text": [
      "ERROR: [youtube] iRCk40OezJ8: Private video. Sign in if you've been granted access to this video. Use --cookies-from-browser or --cookies for the authentication. See  https://github.com/yt-dlp/yt-dlp/wiki/FAQ#how-do-i-pass-cookies-to-yt-dlp  for how to manually pass cookies. Also see  https://github.com/yt-dlp/yt-dlp/wiki/Extractors#exporting-youtube-cookies  for tips on effectively exporting YouTube cookies\n",
      "Processing train videos:  42%|████████████████████████████████████████████                                                              | 416/1000 [01:43<02:27,  3.97it/s]ERROR: [youtube] U0oUVwmF4kM: Requested format is not available. Use --list-formats for a list of available formats\n",
      "ERROR: [youtube] CxTSVyM-ij0: Requested format is not available. Use --list-formats for a list of available formats\n",
      "Processing train videos:  42%|████████████████████████████████████████████▏                                                             | 417/1000 [01:43<02:07,  4.57it/s]"
     ]
    },
    {
     "name": "stdout",
     "output_type": "stream",
     "text": [
      "                                                                     "
     ]
    },
    {
     "name": "stderr",
     "output_type": "stream",
     "text": [
      "ERROR: [youtube] UXetwN_cI5A: Requested format is not available. Use --list-formats for a list of available formats\n",
      "Processing train videos:  42%|████████████████████████████████████████████▍                                                             | 419/1000 [01:43<02:29,  3.90it/s]ERROR: [youtube] g5VCwKZib-M: Requested format is not available. Use --list-formats for a list of available formats\n",
      "Processing train videos:  42%|████████████████████████████████████████████▋                                                             | 421/1000 [01:44<01:55,  5.00it/s]ERROR: [youtube] 96HY0Pcl_e4: Private video. Sign in if you've been granted access to this video. Use --cookies-from-browser or --cookies for the authentication. See  https://github.com/yt-dlp/yt-dlp/wiki/FAQ#how-do-i-pass-cookies-to-yt-dlp  for how to manually pass cookies. Also see  https://github.com/yt-dlp/yt-dlp/wiki/Extractors#exporting-youtube-cookies  for tips on effectively exporting YouTube cookies\n",
      "Processing train videos:  42%|████████████████████████████████████████████▋                                                             | 422/1000 [01:44<02:15,  4.26it/s]ERROR: [youtube] DiKUdUzxRmk: Requested format is not available. Use --list-formats for a list of available formats\n",
      "Processing train videos:  42%|████████████████████████████████████████████▊                                                             | 423/1000 [01:44<02:13,  4.32it/s]ERROR: [youtube] 8OGGZyG8S9g: Requested format is not available. Use --list-formats for a list of available formats\n",
      "Processing train videos:  42%|████████████████████████████████████████████▉                                                             | 424/1000 [01:44<02:05,  4.58it/s]ERROR: [youtube] sEjaTTIdHhk: Requested format is not available. Use --list-formats for a list of available formats\n",
      "ERROR: [youtube] -on_5PoBEak: Requested format is not available. Use --list-formats for a list of available formats\n",
      "Processing train videos:  43%|█████████████████████████████████████████████▏                                                            | 426/1000 [01:45<02:08,  4.47it/s]ERROR: [youtube] 6aTeprI_Uak: Private video. Sign in if you've been granted access to this video. Use --cookies-from-browser or --cookies for the authentication. See  https://github.com/yt-dlp/yt-dlp/wiki/FAQ#how-do-i-pass-cookies-to-yt-dlp  for how to manually pass cookies. Also see  https://github.com/yt-dlp/yt-dlp/wiki/Extractors#exporting-youtube-cookies  for tips on effectively exporting YouTube cookies\n",
      "Processing train videos:  43%|█████████████████████████████████████████████▎                                                            | 427/1000 [01:45<02:40,  3.58it/s]ERROR: [youtube] gVUwBsPOUjk: Requested format is not available. Use --list-formats for a list of available formats\n",
      "Processing train videos:  43%|█████████████████████████████████████████████▎                                                            | 428/1000 [01:45<02:23,  3.97it/s]ERROR: [youtube] stsGYdklN_k: Requested format is not available. Use --list-formats for a list of available formats\n",
      "Processing train videos:  43%|█████████████████████████████████████████████▍                                                            | 429/1000 [01:46<02:06,  4.52it/s]ERROR: [youtube] FsfHnBqWll0: Video unavailable\n",
      "Processing train videos:  43%|█████████████████████████████████████████████▌                                                            | 430/1000 [01:46<01:57,  4.83it/s]ERROR: [youtube] 9g-hioQapYE: Requested format is not available. Use --list-formats for a list of available formats\n",
      "Processing train videos:  43%|█████████████████████████████████████████████▋                                                            | 431/1000 [01:46<02:04,  4.56it/s]ERROR: [youtube] G77ZoILMYw4: Requested format is not available. Use --list-formats for a list of available formats\n",
      "Processing train videos:  43%|█████████████████████████████████████████████▊                                                            | 432/1000 [01:46<01:56,  4.88it/s]ERROR: [youtube] BT3cFFLNzD8: Requested format is not available. Use --list-formats for a list of available formats\n",
      "ERROR: [youtube] uPWzbFvXcuw: Private video. Sign in if you've been granted access to this video. Use --cookies-from-browser or --cookies for the authentication. See  https://github.com/yt-dlp/yt-dlp/wiki/FAQ#how-do-i-pass-cookies-to-yt-dlp  for how to manually pass cookies. Also see  https://github.com/yt-dlp/yt-dlp/wiki/Extractors#exporting-youtube-cookies  for tips on effectively exporting YouTube cookies\n",
      "Processing train videos:  43%|██████████████████████████████████████████████                                                            | 434/1000 [01:47<02:02,  4.63it/s]ERROR: [youtube] bSQ9f3epmxQ: Requested format is not available. Use --list-formats for a list of available formats\n",
      "Processing train videos:  44%|██████████████████████████████████████████████                                                            | 435/1000 [01:47<01:50,  5.11it/s]ERROR: [youtube] F5Wef1_PtLk: Requested format is not available. Use --list-formats for a list of available formats\n",
      "Processing train videos:  44%|██████████████████████████████████████████████▏                                                           | 436/1000 [01:47<01:48,  5.21it/s]ERROR: [youtube] WMVDDrg8tvo: Requested format is not available. Use --list-formats for a list of available formats\n",
      "ERROR: [youtube] 0uNRZRyxQ2g: Private video. Sign in if you've been granted access to this video. Use --cookies-from-browser or --cookies for the authentication. See  https://github.com/yt-dlp/yt-dlp/wiki/FAQ#how-do-i-pass-cookies-to-yt-dlp  for how to manually pass cookies. Also see  https://github.com/yt-dlp/yt-dlp/wiki/Extractors#exporting-youtube-cookies  for tips on effectively exporting YouTube cookies\n",
      "Processing train videos:  44%|██████████████████████████████████████████████▍                                                           | 438/1000 [01:47<01:16,  7.32it/s]"
     ]
    },
    {
     "name": "stdout",
     "output_type": "stream",
     "text": [
      "[download] 100.0% of ~  63.00KiB at   12.67KiB/s ETA 00:00 (frag 0/1)"
     ]
    },
    {
     "name": "stderr",
     "output_type": "stream",
     "text": [
      "ERROR: [youtube] SA44tEPjvDE: Requested format is not available. Use --list-formats for a list of available formats\n",
      "Processing train videos:  44%|██████████████████████████████████████████████▌                                                           | 439/1000 [01:48<02:28,  3.78it/s]"
     ]
    },
    {
     "name": "stdout",
     "output_type": "stream",
     "text": [
      "                                                                     "
     ]
    },
    {
     "name": "stderr",
     "output_type": "stream",
     "text": [
      "ERROR: [youtube] 8OGGZyG8S9g: Requested format is not available. Use --list-formats for a list of available formats\n",
      "Processing train videos:  44%|██████████████████████████████████████████████▋                                                           | 440/1000 [01:48<03:00,  3.11it/s]ERROR: [youtube] 1bj72qXSy8c: Requested format is not available. Use --list-formats for a list of available formats\n",
      "ERROR: [youtube] oDnz2t98VYk: Private video. Sign in if you've been granted access to this video. Use --cookies-from-browser or --cookies for the authentication. See  https://github.com/yt-dlp/yt-dlp/wiki/FAQ#how-do-i-pass-cookies-to-yt-dlp  for how to manually pass cookies. Also see  https://github.com/yt-dlp/yt-dlp/wiki/Extractors#exporting-youtube-cookies  for tips on effectively exporting YouTube cookies\n",
      "Processing train videos:  44%|██████████████████████████████████████████████▊                                                           | 442/1000 [01:48<01:58,  4.73it/s]ERROR: [youtube] 2j7WDaPzZJ8: Requested format is not available. Use --list-formats for a list of available formats\n",
      "Processing train videos:  44%|██████████████████████████████████████████████▉                                                           | 443/1000 [01:49<02:39,  3.49it/s]ERROR: [youtube] 0uW4g4KEFMA: Requested format is not available. Use --list-formats for a list of available formats\n"
     ]
    },
    {
     "name": "stdout",
     "output_type": "stream",
     "text": [
      "[download]  25.0% of ~   2.31KiB at    185.99B/s ETA Unknown (frag 1/2)"
     ]
    },
    {
     "name": "stderr",
     "output_type": "stream",
     "text": [
      "ERROR: [youtube] FKp2hBhdj9k: Requested format is not available. Use --list-formats for a list of available formats\n",
      "Processing train videos:  44%|███████████████████████████████████████████████▏                                                          | 445/1000 [01:49<02:12,  4.18it/s]ERROR: [youtube] 5sILDEiOcQ0: Requested format is not available. Use --list-formats for a list of available formats\n",
      "Processing train videos:  45%|███████████████████████████████████████████████▎                                                          | 446/1000 [01:50<02:22,  3.88it/s]"
     ]
    },
    {
     "name": "stdout",
     "output_type": "stream",
     "text": [
      "                                                                       "
     ]
    },
    {
     "name": "stderr",
     "output_type": "stream",
     "text": [
      "ERROR: [youtube] wqDOKXEx24M: Requested format is not available. Use --list-formats for a list of available formats\n",
      "Processing train videos:  45%|███████████████████████████████████████████████▍                                                          | 447/1000 [01:50<02:59,  3.08it/s]ERROR: [youtube] CzWUUhk6mMI: Private video. Sign in if you've been granted access to this video. Use --cookies-from-browser or --cookies for the authentication. See  https://github.com/yt-dlp/yt-dlp/wiki/FAQ#how-do-i-pass-cookies-to-yt-dlp  for how to manually pass cookies. Also see  https://github.com/yt-dlp/yt-dlp/wiki/Extractors#exporting-youtube-cookies  for tips on effectively exporting YouTube cookies\n",
      "Processing train videos:  45%|███████████████████████████████████████████████▌                                                          | 449/1000 [01:50<02:15,  4.08it/s]ERROR: [youtube] -HXdd7TuqxI: Requested format is not available. Use --list-formats for a list of available formats\n",
      "ERROR: [youtube] YibcX4wyVtI: Requested format is not available. Use --list-formats for a list of available formats\n",
      "Processing train videos:  45%|███████████████████████████████████████████████▊                                                          | 451/1000 [01:51<02:20,  3.91it/s]ERROR: [youtube] 8SuHTyDfRf0: Requested format is not available. Use --list-formats for a list of available formats\n",
      "Processing train videos:  45%|███████████████████████████████████████████████▉                                                          | 452/1000 [01:51<02:23,  3.82it/s]ERROR: [youtube] R_G5zGVHxkU: Requested format is not available. Use --list-formats for a list of available formats\n",
      "Processing train videos:  45%|████████████████████████████████████████████████                                                          | 453/1000 [01:51<02:10,  4.19it/s]ERROR: [youtube] hjS0dQDgbjo: Requested format is not available. Use --list-formats for a list of available formats\n",
      "Processing train videos:  45%|████████████████████████████████████████████████                                                          | 454/1000 [01:52<02:55,  3.12it/s]ERROR: [youtube] r6Wyj77v8K4: Requested format is not available. Use --list-formats for a list of available formats\n",
      "ERROR: [youtube] FrXzepGn4RI: Requested format is not available. Use --list-formats for a list of available formats\n",
      "Processing train videos:  46%|████████████████████████████████████████████████▎                                                         | 456/1000 [01:52<02:39,  3.40it/s]ERROR: [youtube] QFUlgHrzrI8: Private video. Sign in if you've been granted access to this video. Use --cookies-from-browser or --cookies for the authentication. See  https://github.com/yt-dlp/yt-dlp/wiki/FAQ#how-do-i-pass-cookies-to-yt-dlp  for how to manually pass cookies. Also see  https://github.com/yt-dlp/yt-dlp/wiki/Extractors#exporting-youtube-cookies  for tips on effectively exporting YouTube cookies\n",
      "Processing train videos:  46%|████████████████████████████████████████████████▍                                                         | 457/1000 [01:53<02:25,  3.72it/s]"
     ]
    },
    {
     "name": "stdout",
     "output_type": "stream",
     "text": [
      "[download] 100.0% of ~  63.00KiB at   26.03KiB/s ETA 00:00 (frag 0/1)  "
     ]
    },
    {
     "name": "stderr",
     "output_type": "stream",
     "text": [
      "ERROR: [youtube] HUMEcnkvhJU: Requested format is not available. Use --list-formats for a list of available formats\n",
      "Processing train videos:  46%|████████████████████████████████████████████████▌                                                         | 458/1000 [01:53<02:39,  3.40it/s]"
     ]
    },
    {
     "name": "stdout",
     "output_type": "stream",
     "text": [
      "[download]  15.3% of ~  98.00KiB at    501.74B/s ETA Unknown (frag 0/14)"
     ]
    },
    {
     "name": "stderr",
     "output_type": "stream",
     "text": [
      "ERROR: [youtube] aa7YpBt_SGk: Requested format is not available. Use --list-formats for a list of available formats\n",
      "Processing train videos:  46%|████████████████████████████████████████████████▋                                                         | 459/1000 [01:53<02:20,  3.86it/s]ERROR: [youtube] u0XAd3TkGaA: Requested format is not available. Use --list-formats for a list of available formats\n"
     ]
    },
    {
     "name": "stdout",
     "output_type": "stream",
     "text": [
      "[download] 100.0% of ~ 255.00KiB at   96.78KiB/s ETA 00:00 (frag 0/1)"
     ]
    },
    {
     "name": "stderr",
     "output_type": "stream",
     "text": [
      "ERROR: [youtube] 9bosgmeAAuo: Requested format is not available. Use --list-formats for a list of available formats\n"
     ]
    },
    {
     "name": "stdout",
     "output_type": "stream",
     "text": [
      "[download]  14.8% of ~ 210.00KiB at   13.17KiB/s ETA Unknown (frag 0/14)"
     ]
    },
    {
     "name": "stderr",
     "output_type": "stream",
     "text": [
      "ERROR: [youtube] iMUjcZCLaGo: Private video. Sign in if you've been granted access to this video. Use --cookies-from-browser or --cookies for the authentication. See  https://github.com/yt-dlp/yt-dlp/wiki/FAQ#how-do-i-pass-cookies-to-yt-dlp  for how to manually pass cookies. Also see  https://github.com/yt-dlp/yt-dlp/wiki/Extractors#exporting-youtube-cookies  for tips on effectively exporting YouTube cookies\n",
      "Processing train videos:  46%|████████████████████████████████████████████████▉                                                         | 462/1000 [01:53<01:18,  6.87it/s]ERROR: [youtube] 1epsH3wvEpU: Requested format is not available. Use --list-formats for a list of available formats\n"
     ]
    },
    {
     "name": "stdout",
     "output_type": "stream",
     "text": [
      "[download]   3.6% of ~   5.31MiB at  100.98KiB/s ETA 00:08 (frag 1/14)  "
     ]
    },
    {
     "name": "stderr",
     "output_type": "stream",
     "text": [
      "ERROR: [youtube] R_ES8RZua1g: Requested format is not available. Use --list-formats for a list of available formats\n",
      "Processing train videos:  46%|█████████████████████████████████████████████████▏                                                        | 464/1000 [01:54<01:41,  5.31it/s]"
     ]
    },
    {
     "name": "stdout",
     "output_type": "stream",
     "text": [
      "[download]  33.5% of ~ 234.38KiB at    833.19B/s ETA Unknown (frag 2/3)"
     ]
    },
    {
     "name": "stderr",
     "output_type": "stream",
     "text": [
      "ERROR: [youtube] 2_A9CkSFTXo: Requested format is not available. Use --list-formats for a list of available formats\n",
      "Processing train videos:  46%|█████████████████████████████████████████████████▎                                                        | 465/1000 [01:54<02:17,  3.88it/s]"
     ]
    },
    {
     "name": "stdout",
     "output_type": "stream",
     "text": [
      "[download]  14.5% of ~  24.14MiB at 1016.64KiB/s ETA 00:07 (frag 3/14) "
     ]
    },
    {
     "name": "stderr",
     "output_type": "stream",
     "text": [
      "Processing train videos:  47%|█████████████████████████████████████████████████▍                                                        | 466/1000 [01:55<03:02,  2.92it/s]"
     ]
    },
    {
     "name": "stdout",
     "output_type": "stream",
     "text": [
      "[download]  30.5% of ~  13.08MiB at    1.09MiB/s ETA 00:07 (frag 3/14)"
     ]
    },
    {
     "name": "stderr",
     "output_type": "stream",
     "text": [
      "ERROR: [youtube] dMZ-SCl7nA4: Requested format is not available. Use --list-formats for a list of available formats\n",
      "Processing train videos:  47%|█████████████████████████████████████████████████▌                                                        | 467/1000 [01:55<02:42,  3.27it/s]ERROR: [youtube] sErq0TJMKEo: Requested format is not available. Use --list-formats for a list of available formats\n"
     ]
    },
    {
     "name": "stdout",
     "output_type": "stream",
     "text": [
      "[download]  32.2% of ~  13.96MiB at    1.22MiB/s ETA 00:07 (frag 3/14)"
     ]
    },
    {
     "name": "stderr",
     "output_type": "stream",
     "text": [
      "ERROR: [youtube] 7CLG9cN8ujs: Requested format is not available. Use --list-formats for a list of available formats\n",
      "Processing train videos:  47%|█████████████████████████████████████████████████▋                                                        | 469/1000 [01:55<02:07,  4.16it/s]"
     ]
    },
    {
     "name": "stdout",
     "output_type": "stream",
     "text": [
      "[download]  21.6% of ~  23.92MiB at    1.50MiB/s ETA 00:06 (frag 4/14)"
     ]
    },
    {
     "name": "stderr",
     "output_type": "stream",
     "text": [
      "ERROR: [youtube] lzpP3xwMnVM: Video unavailable\n",
      "Processing train videos:  47%|█████████████████████████████████████████████████▊                                                        | 470/1000 [01:56<02:05,  4.23it/s]"
     ]
    },
    {
     "name": "stdout",
     "output_type": "stream",
     "text": [
      "[download]  38.9% of ~  15.85MiB at    1.62MiB/s ETA 00:06 (frag 4/14)"
     ]
    },
    {
     "name": "stderr",
     "output_type": "stream",
     "text": [
      "ERROR: [youtube] lvqGMGFmuV4: Requested format is not available. Use --list-formats for a list of available formats\n",
      "Processing train videos:  47%|█████████████████████████████████████████████████▉                                                        | 471/1000 [01:56<01:57,  4.49it/s]"
     ]
    },
    {
     "name": "stdout",
     "output_type": "stream",
     "text": [
      "[download]  28.6% of ~  23.93MiB at    1.86MiB/s ETA 00:06 (frag 5/14)"
     ]
    },
    {
     "name": "stderr",
     "output_type": "stream",
     "text": [
      "ERROR: [youtube] Xt6F1wT394I: Requested format is not available. Use --list-formats for a list of available formats\n",
      "Processing train videos:  47%|██████████████████████████████████████████████████                                                        | 472/1000 [01:56<01:44,  5.06it/s]ERROR: [youtube] q_p38s5JsXo: Requested format is not available. Use --list-formats for a list of available formats\n",
      "Processing train videos:  47%|██████████████████████████████████████████████████▏                                                       | 473/1000 [01:56<01:30,  5.80it/s]ERROR: [youtube] s-Km4Ni0Zko: Requested format is not available. Use --list-formats for a list of available formats\n"
     ]
    },
    {
     "name": "stdout",
     "output_type": "stream",
     "text": [
      "[download]  45.8% of ~  17.16MiB at    2.14MiB/s ETA 00:05 (frag 5/14)"
     ]
    },
    {
     "name": "stderr",
     "output_type": "stream",
     "text": [
      "ERROR: [youtube] VSzTnL4On_k: Requested format is not available. Use --list-formats for a list of available formats\n",
      "Processing train videos:  48%|██████████████████████████████████████████████████▎                                                       | 475/1000 [01:56<01:22,  6.38it/s]ERROR: [youtube] 9g-hioQapYE: Requested format is not available. Use --list-formats for a list of available formats\n",
      "Processing train videos:  48%|██████████████████████████████████████████████████▍                                                       | 476/1000 [01:57<01:47,  4.86it/s]"
     ]
    },
    {
     "name": "stdout",
     "output_type": "stream",
     "text": [
      "[download]  35.8% of ~  23.87MiB at    2.33MiB/s ETA 00:05 (frag 6/14)"
     ]
    },
    {
     "name": "stderr",
     "output_type": "stream",
     "text": [
      "ERROR: [youtube] 6MdIhnIdNi0: Private video. Sign in if you've been granted access to this video. Use --cookies-from-browser or --cookies for the authentication. See  https://github.com/yt-dlp/yt-dlp/wiki/FAQ#how-do-i-pass-cookies-to-yt-dlp  for how to manually pass cookies. Also see  https://github.com/yt-dlp/yt-dlp/wiki/Extractors#exporting-youtube-cookies  for tips on effectively exporting YouTube cookies\n",
      "Processing train videos:  48%|██████████████████████████████████████████████████▌                                                       | 477/1000 [01:57<01:55,  4.54it/s]"
     ]
    },
    {
     "name": "stdout",
     "output_type": "stream",
     "text": [
      "[download]  42.9% of ~  23.88MiB at    2.59MiB/s ETA 00:05 (frag 7/14)"
     ]
    },
    {
     "name": "stderr",
     "output_type": "stream",
     "text": [
      "ERROR: [youtube] TnJQtTYVTtg: Private video. Sign in if you've been granted access to this video. Use --cookies-from-browser or --cookies for the authentication. See  https://github.com/yt-dlp/yt-dlp/wiki/FAQ#how-do-i-pass-cookies-to-yt-dlp  for how to manually pass cookies. Also see  https://github.com/yt-dlp/yt-dlp/wiki/Extractors#exporting-youtube-cookies  for tips on effectively exporting YouTube cookies\n",
      "Processing train videos:  48%|██████████████████████████████████████████████████▋                                                       | 478/1000 [01:57<01:45,  4.97it/s]ERROR: [youtube] x28Kk_NjEGU: Private video. Sign in if you've been granted access to this video. Use --cookies-from-browser or --cookies for the authentication. See  https://github.com/yt-dlp/yt-dlp/wiki/FAQ#how-do-i-pass-cookies-to-yt-dlp  for how to manually pass cookies. Also see  https://github.com/yt-dlp/yt-dlp/wiki/Extractors#exporting-youtube-cookies  for tips on effectively exporting YouTube cookies\n",
      "Processing train videos:  48%|██████████████████████████████████████████████████▊                                                       | 479/1000 [01:57<01:34,  5.50it/s]ERROR: [youtube] WBbnA0cRvCY: Private video. Sign in if you've been granted access to this video. Use --cookies-from-browser or --cookies for the authentication. See  https://github.com/yt-dlp/yt-dlp/wiki/FAQ#how-do-i-pass-cookies-to-yt-dlp  for how to manually pass cookies. Also see  https://github.com/yt-dlp/yt-dlp/wiki/Extractors#exporting-youtube-cookies  for tips on effectively exporting YouTube cookies\n",
      "Processing train videos:  48%|██████████████████████████████████████████████████▉                                                       | 480/1000 [01:57<01:39,  5.25it/s]"
     ]
    },
    {
     "name": "stdout",
     "output_type": "stream",
     "text": [
      "[download]  50.0% of ~  23.90MiB at    2.88MiB/s ETA 00:04 (frag 8/14)"
     ]
    },
    {
     "name": "stderr",
     "output_type": "stream",
     "text": [
      "ERROR: [youtube] 4Nh1iFv2BMc: Requested format is not available. Use --list-formats for a list of available formats\n",
      "Processing train videos:  48%|██████████████████████████████████████████████████▉                                                       | 481/1000 [01:58<01:32,  5.60it/s]"
     ]
    },
    {
     "name": "stdout",
     "output_type": "stream",
     "text": [
      "[download]  57.1% of ~  23.91MiB at    2.99MiB/s ETA 00:04 (frag 9/14)"
     ]
    },
    {
     "name": "stderr",
     "output_type": "stream",
     "text": [
      "ERROR: [youtube] daBAFjSxPpM: Requested format is not available. Use --list-formats for a list of available formats\n",
      "Processing train videos:  48%|███████████████████████████████████████████████████                                                       | 482/1000 [01:58<02:28,  3.48it/s]"
     ]
    },
    {
     "name": "stdout",
     "output_type": "stream",
     "text": [
      "[download]  72.7% of ~  19.47MiB at    3.04MiB/s ETA 00:03 (frag 9/14)"
     ]
    },
    {
     "name": "stderr",
     "output_type": "stream",
     "text": [
      "ERROR: [youtube] eeHS78JyN70: Requested format is not available. Use --list-formats for a list of available formats\n",
      "Processing train videos:  48%|███████████████████████████████████████████████████▏                                                      | 483/1000 [01:58<02:14,  3.85it/s]ERROR: [youtube] YfzIHzZRetw: Requested format is not available. Use --list-formats for a list of available formats\n",
      "ERROR: [youtube] U0oUVwmF4kM: Requested format is not available. Use --list-formats for a list of available formats\n",
      "Processing train videos:  48%|███████████████████████████████████████████████████▍                                                      | 485/1000 [01:59<01:37,  5.29it/s]"
     ]
    },
    {
     "name": "stdout",
     "output_type": "stream",
     "text": [
      "[download]  64.3% of ~  23.90MiB at    3.14MiB/s ETA 00:03 (frag 10/14)"
     ]
    },
    {
     "name": "stderr",
     "output_type": "stream",
     "text": [
      "ERROR: [youtube] YgCmE5kljQw: Requested format is not available. Use --list-formats for a list of available formats\n"
     ]
    },
    {
     "name": "stdout",
     "output_type": "stream",
     "text": [
      "[download]  78.3% of ~  24.03MiB at    3.44MiB/s ETA 00:02 (frag 12/14)"
     ]
    },
    {
     "name": "stderr",
     "output_type": "stream",
     "text": [
      "ERROR: [youtube] kz-WXEZ3kfM: Requested format is not available. Use --list-formats for a list of available formats\n",
      "Processing train videos:  49%|███████████████████████████████████████████████████▌                                                      | 487/1000 [02:00<02:49,  3.03it/s]ERROR: [youtube] KRrKqGEGdMg: Requested format is not available. Use --list-formats for a list of available formats\n"
     ]
    },
    {
     "name": "stdout",
     "output_type": "stream",
     "text": [
      "[download]  85.7% of ~  23.99MiB at    3.72MiB/s ETA 00:02 (frag 13/14)"
     ]
    },
    {
     "name": "stderr",
     "output_type": "stream",
     "text": [
      "ERROR: [youtube] 3zoqSvF0Z2A: Requested format is not available. Use --list-formats for a list of available formats\n",
      "Processing train videos:  49%|███████████████████████████████████████████████████▊                                                      | 489/1000 [02:00<02:13,  3.83it/s]ERROR: [youtube] uM98W6WkvK0: Video unavailable\n",
      "ERROR: [youtube] g5VCwKZib-M: Requested format is not available. Use --list-formats for a list of available formats\n",
      "Processing train videos:  49%|████████████████████████████████████████████████████                                                      | 491/1000 [02:00<01:38,  5.15it/s]ERROR: [youtube] Y4Jj9NexFFE: Requested format is not available. Use --list-formats for a list of available formats\n",
      "Processing train videos:  49%|████████████████████████████████████████████████████▏                                                     | 492/1000 [02:00<01:46,  4.77it/s]ERROR: [youtube] uPKOwziViaw: Requested format is not available. Use --list-formats for a list of available formats\n",
      "ERROR: [youtube] -LB4ENHxcIs: Requested format is not available. Use --list-formats for a list of available formats\n",
      "Processing train videos:  49%|████████████████████████████████████████████████████▎                                                     | 494/1000 [02:01<01:37,  5.20it/s]"
     ]
    },
    {
     "name": "stdout",
     "output_type": "stream",
     "text": [
      "                                                                       "
     ]
    },
    {
     "name": "stderr",
     "output_type": "stream",
     "text": [
      "ERROR: [youtube] IRIvew5poos: Requested format is not available. Use --list-formats for a list of available formats\n",
      "Processing train videos:  50%|████████████████████████████████████████████████████▍                                                     | 495/1000 [02:01<01:30,  5.61it/s]ERROR: [youtube] 1SQXlqpik5A: Requested format is not available. Use --list-formats for a list of available formats\n",
      "Processing train videos:  50%|████████████████████████████████████████████████████▌                                                     | 496/1000 [02:01<01:40,  5.01it/s]ERROR: [youtube] vmGh2IPdSRU: Requested format is not available. Use --list-formats for a list of available formats\n",
      "Processing train videos:  50%|████████████████████████████████████████████████████▋                                                     | 497/1000 [02:01<01:41,  4.96it/s]"
     ]
    },
    {
     "name": "stdout",
     "output_type": "stream",
     "text": [
      "[download]   5.6% of ~  11.11KiB at    251.43B/s ETA Unknown (frag 1/9)"
     ]
    },
    {
     "name": "stderr",
     "output_type": "stream",
     "text": [
      "ERROR: [youtube] lSxAVvE9sPc: Private video. Sign in if you've been granted access to this video. Use --cookies-from-browser or --cookies for the authentication. See  https://github.com/yt-dlp/yt-dlp/wiki/FAQ#how-do-i-pass-cookies-to-yt-dlp  for how to manually pass cookies. Also see  https://github.com/yt-dlp/yt-dlp/wiki/Extractors#exporting-youtube-cookies  for tips on effectively exporting YouTube cookies\n",
      "Processing train videos:  50%|████████████████████████████████████████████████████▊                                                     | 498/1000 [02:02<02:10,  3.86it/s]ERROR: [youtube] tJ2SbVaNdCo: Requested format is not available. Use --list-formats for a list of available formats\n",
      "Processing train videos:  50%|████████████████████████████████████████████████████▉                                                     | 499/1000 [02:02<03:02,  2.75it/s]"
     ]
    },
    {
     "name": "stdout",
     "output_type": "stream",
     "text": [
      "[download]   7.5% of ~ 852.33KiB at    440.64B/s ETA 13:45 (frag 1/9)  "
     ]
    },
    {
     "name": "stderr",
     "output_type": "stream",
     "text": [
      "ERROR: [youtube] BEKUHzwnVO8: Requested format is not available. Use --list-formats for a list of available formats\n",
      "Processing train videos:  50%|█████████████████████████████████████████████████████                                                     | 500/1000 [02:03<03:04,  2.71it/s]"
     ]
    },
    {
     "name": "stdout",
     "output_type": "stream",
     "text": [
      "[download]  12.8% of ~ 996.33KiB at   18.86KiB/s ETA 12:24 (frag 1/9)"
     ]
    },
    {
     "name": "stderr",
     "output_type": "stream",
     "text": [
      "ERROR: [youtube] rnr_aY0X0dQ: Requested format is not available. Use --list-formats for a list of available formats\n",
      "ERROR: [youtube] 8hBFgtJOZaE: Requested format is not available. Use --list-formats for a list of available formats\n",
      "Processing train videos:  50%|█████████████████████████████████████████████████████                                                     | 501/1000 [02:03<02:27,  3.37it/s]"
     ]
    },
    {
     "name": "stdout",
     "output_type": "stream",
     "text": [
      "[download]  11.1% of ~   1.39MiB at   35.17KiB/s ETA 11:11 (frag 2/9)"
     ]
    },
    {
     "name": "stderr",
     "output_type": "stream",
     "text": [
      "ERROR: [youtube] OSPBKnsTuDY: Requested format is not available. Use --list-formats for a list of available formats\n",
      "Processing train videos:  50%|█████████████████████████████████████████████████████▎                                                    | 503/1000 [02:03<01:47,  4.64it/s]ERROR: [youtube] w7cVFohqwpQ: Requested format is not available. Use --list-formats for a list of available formats\n",
      "ERROR: [youtube] fNg_sJ9f8EI: Requested format is not available. Use --list-formats for a list of available formats\n",
      "Processing train videos:  50%|█████████████████████████████████████████████████████▌                                                    | 505/1000 [02:03<01:31,  5.39it/s]ERROR: [youtube] fKjsdtMU3fc: Requested format is not available. Use --list-formats for a list of available formats\n",
      "Processing train videos:  51%|█████████████████████████████████████████████████████▋                                                    | 506/1000 [02:04<01:28,  5.57it/s]ERROR: [youtube] 2nXrJ_7NOgE: Requested format is not available. Use --list-formats for a list of available formats\n",
      "ERROR: [youtube] GvhBBWD4PLo: Video unavailable\n",
      "Processing train videos:  51%|█████████████████████████████████████████████████████▊                                                    | 508/1000 [02:04<01:04,  7.64it/s]ERROR: [youtube] FBimL8-ND3E: Requested format is not available. Use --list-formats for a list of available formats\n",
      "ERROR: [youtube] p8OYydc3WQM: Requested format is not available. Use --list-formats for a list of available formats\n",
      "Processing train videos:  51%|██████████████████████████████████████████████████████                                                    | 510/1000 [02:04<00:57,  8.52it/s]"
     ]
    },
    {
     "name": "stdout",
     "output_type": "stream",
     "text": [
      "[download]  22.2% of ~   1.39MiB at   72.88KiB/s ETA 07:24 (frag 3/9)"
     ]
    },
    {
     "name": "stderr",
     "output_type": "stream",
     "text": [
      "ERROR: [youtube] uPWzbFvXcuw: Private video. Sign in if you've been granted access to this video. Use --cookies-from-browser or --cookies for the authentication. See  https://github.com/yt-dlp/yt-dlp/wiki/FAQ#how-do-i-pass-cookies-to-yt-dlp  for how to manually pass cookies. Also see  https://github.com/yt-dlp/yt-dlp/wiki/Extractors#exporting-youtube-cookies  for tips on effectively exporting YouTube cookies\n",
      "ERROR: [youtube] n7MQUHa0vr4: Video unavailable\n",
      "Processing train videos:  51%|██████████████████████████████████████████████████████▎                                                   | 512/1000 [02:05<02:33,  3.18it/s]ERROR: [youtube] htsdwxJ-fTo: Requested format is not available. Use --list-formats for a list of available formats\n",
      "Processing train videos:  51%|██████████████████████████████████████████████████████▍                                                   | 513/1000 [02:05<02:15,  3.60it/s]"
     ]
    },
    {
     "name": "stdout",
     "output_type": "stream",
     "text": [
      "[download]  30.6% of ~   1.06MiB at   85.45KiB/s ETA 06:40 (frag 3/9)"
     ]
    },
    {
     "name": "stderr",
     "output_type": "stream",
     "text": [
      "ERROR: [youtube] syulgJH4PsU: Requested format is not available. Use --list-formats for a list of available formats\n",
      "Processing train videos:  51%|██████████████████████████████████████████████████████▍                                                   | 514/1000 [02:05<01:56,  4.16it/s]"
     ]
    },
    {
     "name": "stdout",
     "output_type": "stream",
     "text": [
      "[download]  31.6% of ~   1.07MiB at   95.93KiB/s ETA 06:00 (frag 3/9)"
     ]
    },
    {
     "name": "stderr",
     "output_type": "stream",
     "text": [
      "ERROR: [youtube] 9g-hioQapYE: Requested format is not available. Use --list-formats for a list of available formats\n",
      "Processing train videos:  52%|██████████████████████████████████████████████████████▌                                                   | 515/1000 [02:06<01:40,  4.81it/s]ERROR: [youtube] 0VtAcR3sgrQ: Requested format is not available. Use --list-formats for a list of available formats\n"
     ]
    },
    {
     "name": "stdout",
     "output_type": "stream",
     "text": [
      "[download]  33.3% of ~   1.39MiB at  106.23KiB/s ETA 04:53 (frag 4/9)"
     ]
    },
    {
     "name": "stderr",
     "output_type": "stream",
     "text": [
      "ERROR: [youtube] HuViTIjghKk: Requested format is not available. Use --list-formats for a list of available formats\n",
      "Processing train videos:  52%|██████████████████████████████████████████████████████▊                                                   | 517/1000 [02:06<01:28,  5.44it/s]ERROR: [youtube] H0FOyG_CEEY: Requested format is not available. Use --list-formats for a list of available formats\n",
      "Processing train videos:  52%|██████████████████████████████████████████████████████▉                                                   | 518/1000 [02:06<01:28,  5.43it/s]ERROR: [youtube] eBkzZg-9hd4: Requested format is not available. Use --list-formats for a list of available formats\n",
      "Processing train videos:  52%|███████████████████████████████████████████████████████                                                   | 519/1000 [02:06<01:21,  5.88it/s]ERROR: [youtube] a0OwnQEGBYs: Requested format is not available. Use --list-formats for a list of available formats\n",
      "Processing train videos:  52%|███████████████████████████████████████████████████████                                                   | 520/1000 [02:06<01:30,  5.29it/s]ERROR: [youtube] sT8fYiXBtZE: Private video. Sign in if you've been granted access to this video. Use --cookies-from-browser or --cookies for the authentication. See  https://github.com/yt-dlp/yt-dlp/wiki/FAQ#how-do-i-pass-cookies-to-yt-dlp  for how to manually pass cookies. Also see  https://github.com/yt-dlp/yt-dlp/wiki/Extractors#exporting-youtube-cookies  for tips on effectively exporting YouTube cookies\n",
      "Processing train videos:  52%|███████████████████████████████████████████████████████▏                                                  | 521/1000 [02:07<01:19,  5.99it/s]ERROR: [youtube] He0k3ddd67A: Requested format is not available. Use --list-formats for a list of available formats\n",
      "ERROR: [youtube] viSphadq9yk: Private video. Sign in if you've been granted access to this video. Use --cookies-from-browser or --cookies for the authentication. See  https://github.com/yt-dlp/yt-dlp/wiki/FAQ#how-do-i-pass-cookies-to-yt-dlp  for how to manually pass cookies. Also see  https://github.com/yt-dlp/yt-dlp/wiki/Extractors#exporting-youtube-cookies  for tips on effectively exporting YouTube cookies\n"
     ]
    },
    {
     "name": "stdout",
     "output_type": "stream",
     "text": [
      "[download]  48.1% of ~   1.22MiB at  125.21KiB/s ETA 03:58 (frag 4/9)"
     ]
    },
    {
     "name": "stderr",
     "output_type": "stream",
     "text": [
      "ERROR: [youtube] l5SIK3aStUs: Private video. Sign in if you've been granted access to this video. Use --cookies-from-browser or --cookies for the authentication. See  https://github.com/yt-dlp/yt-dlp/wiki/FAQ#how-do-i-pass-cookies-to-yt-dlp  for how to manually pass cookies. Also see  https://github.com/yt-dlp/yt-dlp/wiki/Extractors#exporting-youtube-cookies  for tips on effectively exporting YouTube cookies\n",
      "Processing train videos:  52%|███████████████████████████████████████████████████████▌                                                  | 524/1000 [02:07<00:49,  9.57it/s]"
     ]
    },
    {
     "name": "stdout",
     "output_type": "stream",
     "text": [
      "[download]  44.5% of ~   1.39MiB at  138.40KiB/s ETA 03:35 (frag 5/9)"
     ]
    },
    {
     "name": "stderr",
     "output_type": "stream",
     "text": [
      "ERROR: [youtube] 9ko47J797_U: Private video. Sign in if you've been granted access to this video. Use --cookies-from-browser or --cookies for the authentication. See  https://github.com/yt-dlp/yt-dlp/wiki/FAQ#how-do-i-pass-cookies-to-yt-dlp  for how to manually pass cookies. Also see  https://github.com/yt-dlp/yt-dlp/wiki/Extractors#exporting-youtube-cookies  for tips on effectively exporting YouTube cookies\n",
      "ERROR: [youtube] xaHll2DRUkg: Video unavailable. This video is no longer available because the YouTube account associated with this video has been terminated.\n",
      "Processing train videos:  53%|███████████████████████████████████████████████████████▊                                                  | 526/1000 [02:07<00:47, 10.00it/s]ERROR: [youtube] sbODkAcZ5Mw: Private video. Sign in if you've been granted access to this video. Use --cookies-from-browser or --cookies for the authentication. See  https://github.com/yt-dlp/yt-dlp/wiki/FAQ#how-do-i-pass-cookies-to-yt-dlp  for how to manually pass cookies. Also see  https://github.com/yt-dlp/yt-dlp/wiki/Extractors#exporting-youtube-cookies  for tips on effectively exporting YouTube cookies\n"
     ]
    },
    {
     "name": "stdout",
     "output_type": "stream",
     "text": [
      "[download]  55.6% of ~   1.39MiB at  132.79KiB/s ETA 03:14 (frag 6/9)"
     ]
    },
    {
     "name": "stderr",
     "output_type": "stream",
     "text": [
      "ERROR: [youtube] QqNnbQcgPa8: Video unavailable\n",
      "Processing train videos:  53%|███████████████████████████████████████████████████████▉                                                  | 528/1000 [02:07<01:11,  6.63it/s]ERROR: [youtube] FKgZc_MRxV4: Private video. Sign in if you've been granted access to this video. Use --cookies-from-browser or --cookies for the authentication. See  https://github.com/yt-dlp/yt-dlp/wiki/FAQ#how-do-i-pass-cookies-to-yt-dlp  for how to manually pass cookies. Also see  https://github.com/yt-dlp/yt-dlp/wiki/Extractors#exporting-youtube-cookies  for tips on effectively exporting YouTube cookies\n",
      "Processing train videos:  53%|████████████████████████████████████████████████████████                                                  | 529/1000 [02:08<01:38,  4.78it/s]"
     ]
    },
    {
     "name": "stdout",
     "output_type": "stream",
     "text": [
      "[download]  67.8% of ~   1.23MiB at  148.03KiB/s ETA 02:55 (frag 6/9)"
     ]
    },
    {
     "name": "stderr",
     "output_type": "stream",
     "text": [
      "ERROR: [youtube] 132EA2RC-IE: Video unavailable\n",
      "Processing train videos:  53%|████████████████████████████████████████████████████████▏                                                 | 530/1000 [02:08<01:35,  4.94it/s]"
     ]
    },
    {
     "name": "stdout",
     "output_type": "stream",
     "text": [
      "[download]  66.7% of ~   1.39MiB at  148.03KiB/s ETA 02:55 (frag 7/9)"
     ]
    },
    {
     "name": "stderr",
     "output_type": "stream",
     "text": [
      "ERROR: [youtube] sQELZPmche8: Requested format is not available. Use --list-formats for a list of available formats\n",
      "Processing train videos:  53%|████████████████████████████████████████████████████████▎                                                 | 531/1000 [02:09<02:21,  3.32it/s]"
     ]
    },
    {
     "name": "stdout",
     "output_type": "stream",
     "text": [
      "[download]  77.8% of ~   1.39MiB at  175.08KiB/s ETA 02:22 (frag 8/9)"
     ]
    },
    {
     "name": "stderr",
     "output_type": "stream",
     "text": [
      "ERROR: [youtube] BEKUHzwnVO8: Requested format is not available. Use --list-formats for a list of available formats\n",
      "Processing train videos:  53%|████████████████████████████████████████████████████████▍                                                 | 532/1000 [02:09<02:53,  2.69it/s]ERROR: [youtube] 7YYB3BEoksc: Private video. Sign in if you've been granted access to this video. Use --cookies-from-browser or --cookies for the authentication. See  https://github.com/yt-dlp/yt-dlp/wiki/FAQ#how-do-i-pass-cookies-to-yt-dlp  for how to manually pass cookies. Also see  https://github.com/yt-dlp/yt-dlp/wiki/Extractors#exporting-youtube-cookies  for tips on effectively exporting YouTube cookies\n",
      "ERROR: [youtube] Xt6F1wT394I: Requested format is not available. Use --list-formats for a list of available formats\n"
     ]
    },
    {
     "name": "stdout",
     "output_type": "stream",
     "text": [
      "                                                                     "
     ]
    },
    {
     "name": "stderr",
     "output_type": "stream",
     "text": [
      "ERROR: [youtube] _qRft6V2XC0: Requested format is not available. Use --list-formats for a list of available formats\n",
      "Processing train videos:  54%|████████████████████████████████████████████████████████▋                                                 | 535/1000 [02:09<01:40,  4.61it/s]ERROR: [youtube] _3zof1QE6O4: Requested format is not available. Use --list-formats for a list of available formats\n",
      "ERROR: [youtube] mC0lNJ6iz-s: Requested format is not available. Use --list-formats for a list of available formats\n",
      "Processing train videos:  54%|████████████████████████████████████████████████████████▉                                                 | 537/1000 [02:10<01:16,  6.06it/s]ERROR: [youtube] w7cVFohqwpQ: Requested format is not available. Use --list-formats for a list of available formats\n",
      "Processing train videos:  54%|█████████████████████████████████████████████████████████                                                 | 538/1000 [02:10<01:41,  4.55it/s]ERROR: [youtube] AiozVha_k4o: Requested format is not available. Use --list-formats for a list of available formats\n",
      "Processing train videos:  54%|█████████████████████████████████████████████████████████▏                                                | 540/1000 [02:10<01:14,  6.15it/s]ERROR: [youtube] fJS_BGGnGYM: Requested format is not available. Use --list-formats for a list of available formats\n",
      "ERROR: [youtube] 7YYB3BEoksc: Private video. Sign in if you've been granted access to this video. Use --cookies-from-browser or --cookies for the authentication. See  https://github.com/yt-dlp/yt-dlp/wiki/FAQ#how-do-i-pass-cookies-to-yt-dlp  for how to manually pass cookies. Also see  https://github.com/yt-dlp/yt-dlp/wiki/Extractors#exporting-youtube-cookies  for tips on effectively exporting YouTube cookies\n",
      "Processing train videos:  54%|█████████████████████████████████████████████████████████▍                                                | 542/1000 [02:11<01:25,  5.37it/s]ERROR: [youtube] F4cpgfDA0ds: Private video. Sign in if you've been granted access to this video. Use --cookies-from-browser or --cookies for the authentication. See  https://github.com/yt-dlp/yt-dlp/wiki/FAQ#how-do-i-pass-cookies-to-yt-dlp  for how to manually pass cookies. Also see  https://github.com/yt-dlp/yt-dlp/wiki/Extractors#exporting-youtube-cookies  for tips on effectively exporting YouTube cookies\n",
      "Processing train videos:  54%|█████████████████████████████████████████████████████████▌                                                | 543/1000 [02:11<01:24,  5.43it/s]ERROR: [youtube] FsfHnBqWll0: Video unavailable\n",
      "Processing train videos:  54%|█████████████████████████████████████████████████████████▋                                                | 544/1000 [02:11<02:11,  3.46it/s]ERROR: [youtube] 4M6Y4QgvO2k: Video unavailable\n",
      "ERROR: [youtube] wrgzFvTqqPw: Private video. Sign in if you've been granted access to this video. Use --cookies-from-browser or --cookies for the authentication. See  https://github.com/yt-dlp/yt-dlp/wiki/FAQ#how-do-i-pass-cookies-to-yt-dlp  for how to manually pass cookies. Also see  https://github.com/yt-dlp/yt-dlp/wiki/Extractors#exporting-youtube-cookies  for tips on effectively exporting YouTube cookies\n",
      "ERROR: [youtube] 3k8mU6Pervk: Requested format is not available. Use --list-formats for a list of available formats\n",
      "Processing train videos:  55%|█████████████████████████████████████████████████████████▉                                                | 547/1000 [02:12<01:18,  5.77it/s]ERROR: [youtube] GCMo9e9GOWs: Requested format is not available. Use --list-formats for a list of available formats\n",
      "ERROR: [youtube] Z3zhy5zgpG8: Requested format is not available. Use --list-formats for a list of available formats\n",
      "Processing train videos:  55%|██████████████████████████████████████████████████████████▏                                               | 549/1000 [02:12<01:20,  5.61it/s]ERROR: [youtube] _gsTdvAJ734: Requested format is not available. Use --list-formats for a list of available formats\n",
      "Processing train videos:  55%|██████████████████████████████████████████████████████████▎                                               | 550/1000 [02:12<01:27,  5.12it/s]ERROR: [youtube] nHZchD1xAVg: Requested format is not available. Use --list-formats for a list of available formats\n"
     ]
    },
    {
     "name": "stdout",
     "output_type": "stream",
     "text": [
      "[download]   1.6% of ~  25.66MiB at  712.83KiB/s ETA Unknown (frag 1/125)"
     ]
    },
    {
     "name": "stderr",
     "output_type": "stream",
     "text": [
      "ERROR: [youtube] 0Bj00OLMsjQ: Private video. Sign in if you've been granted access to this video. Use --cookies-from-browser or --cookies for the authentication. See  https://github.com/yt-dlp/yt-dlp/wiki/FAQ#how-do-i-pass-cookies-to-yt-dlp  for how to manually pass cookies. Also see  https://github.com/yt-dlp/yt-dlp/wiki/Extractors#exporting-youtube-cookies  for tips on effectively exporting YouTube cookies\n"
     ]
    },
    {
     "name": "stdout",
     "output_type": "stream",
     "text": [
      "[download]   1.6% of ~  25.72MiB at  712.83KiB/s ETA Unknown (frag 1/125)"
     ]
    },
    {
     "name": "stderr",
     "output_type": "stream",
     "text": [
      "Processing train videos:  55%|██████████████████████████████████████████████████████████▌                                               | 552/1000 [02:13<01:46,  4.20it/s]"
     ]
    },
    {
     "name": "stdout",
     "output_type": "stream",
     "text": [
      "[download]   2.6% of ~  40.24MiB at    2.11MiB/s ETA Unknown (frag 2/125)"
     ]
    },
    {
     "name": "stderr",
     "output_type": "stream",
     "text": [
      "ERROR: [youtube] TYEae1fcehg: Requested format is not available. Use --list-formats for a list of available formats\n"
     ]
    },
    {
     "name": "stdout",
     "output_type": "stream",
     "text": [
      "[download]   2.7% of ~  42.85MiB at    2.11MiB/s ETA Unknown (frag 2/125)"
     ]
    },
    {
     "name": "stderr",
     "output_type": "stream",
     "text": [
      "Processing train videos:  55%|██████████████████████████████████████████████████████████▌                                               | 553/1000 [02:13<01:34,  4.73it/s]"
     ]
    },
    {
     "name": "stdout",
     "output_type": "stream",
     "text": [
      "[download]   9.7% of ~  61.84MiB at    6.88MiB/s ETA Unknown (frag 11/125)"
     ]
    },
    {
     "name": "stderr",
     "output_type": "stream",
     "text": [
      "ERROR: [youtube] KTURNRi-wy0: Requested format is not available. Use --list-formats for a list of available formats\n"
     ]
    },
    {
     "name": "stdout",
     "output_type": "stream",
     "text": [
      "[download]   8.8% of ~  67.82MiB at    6.88MiB/s ETA Unknown (frag 12/125)"
     ]
    },
    {
     "name": "stderr",
     "output_type": "stream",
     "text": [
      "Processing train videos:  55%|██████████████████████████████████████████████████████████▋                                               | 554/1000 [02:13<02:05,  3.56it/s]"
     ]
    },
    {
     "name": "stdout",
     "output_type": "stream",
     "text": [
      "[download]   9.7% of ~  66.66MiB at    7.04MiB/s ETA Unknown (frag 13/125)"
     ]
    },
    {
     "name": "stderr",
     "output_type": "stream",
     "text": [
      "ERROR: [youtube] Jr39EDcSNYg: Requested format is not available. Use --list-formats for a list of available formats\n"
     ]
    },
    {
     "name": "stdout",
     "output_type": "stream",
     "text": [
      "[download]  16.8% of ~  58.90MiB at    8.03MiB/s ETA 00:06 (frag 20/125)  "
     ]
    },
    {
     "name": "stderr",
     "output_type": "stream",
     "text": [
      "ERROR: [youtube] h893wq_Jcw0: Requested format is not available. Use --list-formats for a list of available formats\n"
     ]
    },
    {
     "name": "stdout",
     "output_type": "stream",
     "text": [
      "[download]  16.8% of ~  58.91MiB at    8.03MiB/s ETA 00:06 (frag 20/125)"
     ]
    },
    {
     "name": "stderr",
     "output_type": "stream",
     "text": [
      "Processing train videos:  56%|██████████████████████████████████████████████████████████▉                                               | 556/1000 [02:14<01:53,  3.90it/s]"
     ]
    },
    {
     "name": "stdout",
     "output_type": "stream",
     "text": [
      "[download]  20.8% of ~  63.29MiB at    8.20MiB/s ETA 00:06 (frag 27/125)"
     ]
    },
    {
     "name": "stderr",
     "output_type": "stream",
     "text": [
      "ERROR: [youtube] iHR2uV-Uxc8: Requested format is not available. Use --list-formats for a list of available formats\n",
      "Processing train videos:  56%|███████████████████████████████████████████████████████████                                               | 557/1000 [02:14<02:05,  3.52it/s]ERROR: [youtube] yYZG7E4_ZLs: Video unavailable\n",
      "ERROR: [youtube] uPKOwziViaw: Requested format is not available. Use --list-formats for a list of available formats\n"
     ]
    },
    {
     "name": "stdout",
     "output_type": "stream",
     "text": [
      "[download]  27.3% of ~  62.23MiB at    8.35MiB/s ETA 00:05 (frag 35/125)"
     ]
    },
    {
     "name": "stderr",
     "output_type": "stream",
     "text": [
      "ERROR: [youtube] xIIGn6cn8BI: Requested format is not available. Use --list-formats for a list of available formats\n",
      "Processing train videos:  56%|███████████████████████████████████████████████████████████▎                                              | 560/1000 [02:15<01:36,  4.57it/s]"
     ]
    },
    {
     "name": "stdout",
     "output_type": "stream",
     "text": [
      "[download]  29.6% of ~  58.80MiB at    8.29MiB/s ETA 00:05 (frag 36/125)"
     ]
    },
    {
     "name": "stderr",
     "output_type": "stream",
     "text": [
      "ERROR: [youtube] jzemBg_G8zU: Requested format is not available. Use --list-formats for a list of available formats\n"
     ]
    },
    {
     "name": "stdout",
     "output_type": "stream",
     "text": [
      "[download]  32.1% of ~  60.95MiB at    8.27MiB/s ETA 00:05 (frag 41/125)"
     ]
    },
    {
     "name": "stderr",
     "output_type": "stream",
     "text": [
      "ERROR: [youtube] UXetwN_cI5A: Requested format is not available. Use --list-formats for a list of available formats\n",
      "Processing train videos:  56%|███████████████████████████████████████████████████████████▌                                              | 562/1000 [02:15<01:26,  5.04it/s]"
     ]
    },
    {
     "name": "stdout",
     "output_type": "stream",
     "text": [
      "[download]  34.4% of ~  58.13MiB at    8.31MiB/s ETA 00:05 (frag 42/125)"
     ]
    },
    {
     "name": "stderr",
     "output_type": "stream",
     "text": [
      "ERROR: [youtube] t3jDMiQI5uQ: Requested format is not available. Use --list-formats for a list of available formats\n"
     ]
    },
    {
     "name": "stdout",
     "output_type": "stream",
     "text": [
      "[download]  46.5% of ~  57.64MiB at    8.54MiB/s ETA 00:04 (frag 57/125)"
     ]
    },
    {
     "name": "stderr",
     "output_type": "stream",
     "text": [
      "ERROR: [youtube] dtSmDTn3zkk: Requested format is not available. Use --list-formats for a list of available formats\n"
     ]
    },
    {
     "name": "stdout",
     "output_type": "stream",
     "text": [
      "[download]  46.6% of ~  57.85MiB at    8.54MiB/s ETA 00:04 (frag 57/125)"
     ]
    },
    {
     "name": "stderr",
     "output_type": "stream",
     "text": [
      "Processing train videos:  56%|███████████████████████████████████████████████████████████▊                                              | 564/1000 [02:16<02:00,  3.62it/s]"
     ]
    },
    {
     "name": "stdout",
     "output_type": "stream",
     "text": [
      "[download]  47.2% of ~  57.57MiB at    8.56MiB/s ETA 00:04 (frag 58/125)"
     ]
    },
    {
     "name": "stderr",
     "output_type": "stream",
     "text": [
      "ERROR: [youtube] ohjlMkxe1Wc: Requested format is not available. Use --list-formats for a list of available formats\n"
     ]
    },
    {
     "name": "stdout",
     "output_type": "stream",
     "text": [
      "[download]  48.0% of ~  59.46MiB at    8.52MiB/s ETA 00:04 (frag 61/125)"
     ]
    },
    {
     "name": "stderr",
     "output_type": "stream",
     "text": [
      "ERROR: [youtube] WtuY6J0q8fI: Video unavailable\n",
      "Processing train videos:  57%|███████████████████████████████████████████████████████████▉                                              | 566/1000 [02:16<01:33,  4.63it/s]"
     ]
    },
    {
     "name": "stdout",
     "output_type": "stream",
     "text": [
      "[download]  51.3% of ~  57.66MiB at    8.56MiB/s ETA 00:03 (frag 63/125)"
     ]
    },
    {
     "name": "stderr",
     "output_type": "stream",
     "text": [
      "ERROR: [youtube] kZuJalsv_z0: Requested format is not available. Use --list-formats for a list of available formats\n"
     ]
    },
    {
     "name": "stdout",
     "output_type": "stream",
     "text": [
      "[download]  51.5% of ~  58.03MiB at    8.56MiB/s ETA 00:03 (frag 63/125)"
     ]
    },
    {
     "name": "stderr",
     "output_type": "stream",
     "text": [
      "Processing train videos:  57%|████████████████████████████████████████████████████████████                                              | 567/1000 [02:16<01:28,  4.91it/s]"
     ]
    },
    {
     "name": "stdout",
     "output_type": "stream",
     "text": [
      "[download]  52.8% of ~  59.15MiB at    8.55MiB/s ETA 00:03 (frag 67/125)"
     ]
    },
    {
     "name": "stderr",
     "output_type": "stream",
     "text": [
      "ERROR: [youtube] 7YYB3BEoksc: Private video. Sign in if you've been granted access to this video. Use --cookies-from-browser or --cookies for the authentication. See  https://github.com/yt-dlp/yt-dlp/wiki/FAQ#how-do-i-pass-cookies-to-yt-dlp  for how to manually pass cookies. Also see  https://github.com/yt-dlp/yt-dlp/wiki/Extractors#exporting-youtube-cookies  for tips on effectively exporting YouTube cookies\n",
      "Processing train videos:  57%|████████████████████████████████████████████████████████████▏                                             | 568/1000 [02:16<01:22,  5.25it/s]"
     ]
    },
    {
     "name": "stdout",
     "output_type": "stream",
     "text": [
      "[download]  60.1% of ~  58.60MiB at    8.45MiB/s ETA 00:03 (frag 76/125)"
     ]
    },
    {
     "name": "stderr",
     "output_type": "stream",
     "text": [
      "ERROR: [youtube] dMZ-SCl7nA4: Requested format is not available. Use --list-formats for a list of available formats\n",
      "Processing train videos:  57%|████████████████████████████████████████████████████████████▎                                             | 569/1000 [02:17<01:53,  3.79it/s]"
     ]
    },
    {
     "name": "stdout",
     "output_type": "stream",
     "text": [
      "[download]  63.2% of ~  58.53MiB at    8.38MiB/s ETA 00:02 (frag 80/125)"
     ]
    },
    {
     "name": "stderr",
     "output_type": "stream",
     "text": [
      "ERROR: [youtube] t3jDMiQI5uQ: Requested format is not available. Use --list-formats for a list of available formats\n"
     ]
    },
    {
     "name": "stdout",
     "output_type": "stream",
     "text": [
      "[download]  64.8% of ~  57.09MiB at    8.38MiB/s ETA 00:02 (frag 80/125)"
     ]
    },
    {
     "name": "stderr",
     "output_type": "stream",
     "text": [
      "Processing train videos:  57%|████████████████████████████████████████████████████████████▍                                             | 570/1000 [02:17<01:47,  3.99it/s]"
     ]
    },
    {
     "name": "stdout",
     "output_type": "stream",
     "text": [
      "[download]  65.6% of ~  57.09MiB at    8.39MiB/s ETA 00:02 (frag 81/125)"
     ]
    },
    {
     "name": "stderr",
     "output_type": "stream",
     "text": [
      "ERROR: [youtube] TzHGW54AN5M: Requested format is not available. Use --list-formats for a list of available formats\n"
     ]
    },
    {
     "name": "stdout",
     "output_type": "stream",
     "text": [
      "[download]  74.4% of ~  57.13MiB at    8.51MiB/s ETA 00:02 (frag 92/125)"
     ]
    },
    {
     "name": "stderr",
     "output_type": "stream",
     "text": [
      "ERROR: [youtube] kuHSI7oHO0k: Private video. Sign in if you've been granted access to this video. Use --cookies-from-browser or --cookies for the authentication. See  https://github.com/yt-dlp/yt-dlp/wiki/FAQ#how-do-i-pass-cookies-to-yt-dlp  for how to manually pass cookies. Also see  https://github.com/yt-dlp/yt-dlp/wiki/Extractors#exporting-youtube-cookies  for tips on effectively exporting YouTube cookies\n"
     ]
    },
    {
     "name": "stdout",
     "output_type": "stream",
     "text": [
      "[download]  74.4% of ~  57.14MiB at    8.51MiB/s ETA 00:02 (frag 92/125)"
     ]
    },
    {
     "name": "stderr",
     "output_type": "stream",
     "text": [
      "Processing train videos:  57%|████████████████████████████████████████████████████████████▋                                             | 572/1000 [02:18<01:57,  3.63it/s]"
     ]
    },
    {
     "name": "stdout",
     "output_type": "stream",
     "text": [
      "[download]  78.4% of ~  57.23MiB at    8.62MiB/s ETA 00:02 (frag 97/125)"
     ]
    },
    {
     "name": "stderr",
     "output_type": "stream",
     "text": [
      "ERROR: [youtube] _bL1hlBmaLI: Requested format is not available. Use --list-formats for a list of available formats\n"
     ]
    },
    {
     "name": "stdout",
     "output_type": "stream",
     "text": [
      "[download]  78.4% of ~  57.24MiB at    8.62MiB/s ETA 00:02 (frag 97/125)"
     ]
    },
    {
     "name": "stderr",
     "output_type": "stream",
     "text": [
      "Processing train videos:  57%|████████████████████████████████████████████████████████████▋                                             | 573/1000 [02:18<01:57,  3.65it/s]"
     ]
    },
    {
     "name": "stdout",
     "output_type": "stream",
     "text": [
      "[download]  80.8% of ~  57.23MiB at    8.54MiB/s ETA 00:01 (frag 100/125)"
     ]
    },
    {
     "name": "stderr",
     "output_type": "stream",
     "text": [
      "ERROR: [youtube] rWIDL_GpaJc: Requested format is not available. Use --list-formats for a list of available formats\n"
     ]
    },
    {
     "name": "stdout",
     "output_type": "stream",
     "text": [
      "[download]  80.8% of ~  57.23MiB at    8.54MiB/s ETA 00:01 (frag 100/125)"
     ]
    },
    {
     "name": "stderr",
     "output_type": "stream",
     "text": [
      "Processing train videos:  57%|████████████████████████████████████████████████████████████▉                                             | 575/1000 [02:18<01:23,  5.09it/s]"
     ]
    },
    {
     "name": "stdout",
     "output_type": "stream",
     "text": [
      "[download]  85.1% of ~  57.49MiB at    8.54MiB/s ETA 00:01 (frag 105/125)"
     ]
    },
    {
     "name": "stderr",
     "output_type": "stream",
     "text": [
      "ERROR: [youtube] g5VCwKZib-M: Requested format is not available. Use --list-formats for a list of available formats\n"
     ]
    },
    {
     "name": "stdout",
     "output_type": "stream",
     "text": [
      "[download]  84.0% of ~  58.26MiB at    8.54MiB/s ETA 00:01 (frag 106/125)"
     ]
    },
    {
     "name": "stderr",
     "output_type": "stream",
     "text": [
      "Processing train videos:  58%|█████████████████████████████████████████████████████████████                                             | 576/1000 [02:18<01:33,  4.53it/s]"
     ]
    },
    {
     "name": "stdout",
     "output_type": "stream",
     "text": [
      "[download]  90.4% of ~  57.23MiB at    8.51MiB/s ETA 00:01 (frag 112/125)"
     ]
    },
    {
     "name": "stderr",
     "output_type": "stream",
     "text": [
      "ERROR: [youtube] aa7YpBt_SGk: Requested format is not available. Use --list-formats for a list of available formats\n"
     ]
    },
    {
     "name": "stdout",
     "output_type": "stream",
     "text": [
      "[download]  90.4% of ~  57.23MiB at    8.51MiB/s ETA 00:01 (frag 112/125)"
     ]
    },
    {
     "name": "stderr",
     "output_type": "stream",
     "text": [
      "Processing train videos:  58%|█████████████████████████████████████████████████████████████▏                                            | 577/1000 [02:19<01:51,  3.79it/s]"
     ]
    },
    {
     "name": "stdout",
     "output_type": "stream",
     "text": [
      "[download]   0.7% of ~  96.02KiB at      0.00B/s ETA Unknown (frag 1/68) "
     ]
    },
    {
     "name": "stderr",
     "output_type": "stream",
     "text": [
      "ERROR: [youtube] Cv5avR9nEhg: Requested format is not available. Use --list-formats for a list of available formats\n",
      "Processing train videos:  58%|█████████████████████████████████████████████████████████████▎                                            | 578/1000 [02:20<02:37,  2.68it/s]"
     ]
    },
    {
     "name": "stdout",
     "output_type": "stream",
     "text": [
      "[download]   8.8% of ~  10.49MiB at    2.25MiB/s ETA Unknown (frag 7/68)"
     ]
    },
    {
     "name": "stderr",
     "output_type": "stream",
     "text": [
      "ERROR: [youtube] 8GcwJ3mZEgE: Requested format is not available. Use --list-formats for a list of available formats\n",
      "Processing train videos:  58%|█████████████████████████████████████████████████████████████▎                                            | 579/1000 [02:20<02:24,  2.92it/s]"
     ]
    },
    {
     "name": "stdout",
     "output_type": "stream",
     "text": [
      "[download]  11.6% of ~   9.34MiB at    2.52MiB/s ETA Unknown (frag 8/68)"
     ]
    },
    {
     "name": "stderr",
     "output_type": "stream",
     "text": [
      "ERROR: [youtube] -EkRJFWJsdU: Private video. Sign in if you've been granted access to this video. Use --cookies-from-browser or --cookies for the authentication. See  https://github.com/yt-dlp/yt-dlp/wiki/FAQ#how-do-i-pass-cookies-to-yt-dlp  for how to manually pass cookies. Also see  https://github.com/yt-dlp/yt-dlp/wiki/Extractors#exporting-youtube-cookies  for tips on effectively exporting YouTube cookies\n"
     ]
    },
    {
     "name": "stdout",
     "output_type": "stream",
     "text": [
      "[download]  19.7% of ~  10.03MiB at    3.21MiB/s ETA Unknown (frag 13/68)"
     ]
    },
    {
     "name": "stderr",
     "output_type": "stream",
     "text": [
      "ERROR: [youtube] UXetwN_cI5A: Requested format is not available. Use --list-formats for a list of available formats\n",
      "Processing train videos:  58%|█████████████████████████████████████████████████████████████▌                                            | 581/1000 [02:20<01:52,  3.73it/s]"
     ]
    },
    {
     "name": "stdout",
     "output_type": "stream",
     "text": [
      "[download]  22.0% of ~   9.86MiB at    3.16MiB/s ETA Unknown (frag 15/68)"
     ]
    },
    {
     "name": "stderr",
     "output_type": "stream",
     "text": [
      "ERROR: [youtube] KRrKqGEGdMg: Requested format is not available. Use --list-formats for a list of available formats\n"
     ]
    },
    {
     "name": "stdout",
     "output_type": "stream",
     "text": [
      "[download]  27.9% of ~   9.98MiB at    3.20MiB/s ETA Unknown (frag 19/68)"
     ]
    },
    {
     "name": "stderr",
     "output_type": "stream",
     "text": [
      "ERROR: [youtube] DZEs6UDnPHA: Requested format is not available. Use --list-formats for a list of available formats\n"
     ]
    },
    {
     "name": "stdout",
     "output_type": "stream",
     "text": [
      "[download]  28.0% of ~  10.01MiB at    3.20MiB/s ETA Unknown (frag 19/68)"
     ]
    },
    {
     "name": "stderr",
     "output_type": "stream",
     "text": [
      "Processing train videos:  58%|█████████████████████████████████████████████████████████████▊                                            | 583/1000 [02:20<01:29,  4.68it/s]"
     ]
    },
    {
     "name": "stdout",
     "output_type": "stream",
     "text": [
      "[download]  36.8% of ~  10.48MiB at    3.28MiB/s ETA 00:01 (frag 26/68)  "
     ]
    },
    {
     "name": "stderr",
     "output_type": "stream",
     "text": [
      "ERROR: [youtube] TwkGS9TjUX8: Requested format is not available. Use --list-formats for a list of available formats\n",
      "Processing train videos:  58%|█████████████████████████████████████████████████████████████▉                                            | 584/1000 [02:21<01:36,  4.32it/s]"
     ]
    },
    {
     "name": "stdout",
     "output_type": "stream",
     "text": [
      "[download]  48.5% of ~  10.48MiB at    3.31MiB/s ETA 00:01 (frag 34/68)"
     ]
    },
    {
     "name": "stderr",
     "output_type": "stream",
     "text": [
      "ERROR: [youtube] nvaS2J5mcEk: Requested format is not available. Use --list-formats for a list of available formats\n",
      "Processing train videos:  58%|██████████████████████████████████████████████████████████████                                            | 585/1000 [02:21<01:48,  3.84it/s]"
     ]
    },
    {
     "name": "stdout",
     "output_type": "stream",
     "text": [
      "[download]  67.6% of ~  10.48MiB at    3.31MiB/s ETA 00:01 (frag 47/68)"
     ]
    },
    {
     "name": "stderr",
     "output_type": "stream",
     "text": [
      "ERROR: [youtube] 1RjPFNyJ4Tw: Private video. Sign in if you've been granted access to this video. Use --cookies-from-browser or --cookies for the authentication. See  https://github.com/yt-dlp/yt-dlp/wiki/FAQ#how-do-i-pass-cookies-to-yt-dlp  for how to manually pass cookies. Also see  https://github.com/yt-dlp/yt-dlp/wiki/Extractors#exporting-youtube-cookies  for tips on effectively exporting YouTube cookies\n",
      "Processing train videos:  59%|██████████████████████████████████████████████████████████████                                            | 586/1000 [02:22<02:23,  2.88it/s]"
     ]
    },
    {
     "name": "stdout",
     "output_type": "stream",
     "text": [
      "[download]  72.1% of ~  10.27MiB at    3.27MiB/s ETA 00:01 (frag 49/68)"
     ]
    },
    {
     "name": "stderr",
     "output_type": "stream",
     "text": [
      "ERROR: [youtube] JYF-AfMbUNw: Requested format is not available. Use --list-formats for a list of available formats\n"
     ]
    },
    {
     "name": "stdout",
     "output_type": "stream",
     "text": [
      "[download]  72.1% of ~  10.28MiB at    3.27MiB/s ETA 00:01 (frag 49/68)"
     ]
    },
    {
     "name": "stderr",
     "output_type": "stream",
     "text": [
      "Processing train videos:  59%|██████████████████████████████████████████████████████████████▏                                           | 587/1000 [02:22<02:03,  3.35it/s]"
     ]
    },
    {
     "name": "stdout",
     "output_type": "stream",
     "text": [
      "[download]  72.1% of ~  10.48MiB at    3.27MiB/s ETA 00:01 (frag 50/68)"
     ]
    },
    {
     "name": "stderr",
     "output_type": "stream",
     "text": [
      "ERROR: [youtube] D7UYn37qTkU: Video unavailable\n"
     ]
    },
    {
     "name": "stdout",
     "output_type": "stream",
     "text": [
      "[download]  85.3% of ~  10.48MiB at    3.24MiB/s ETA 00:00 (frag 59/68)"
     ]
    },
    {
     "name": "stderr",
     "output_type": "stream",
     "text": [
      "ERROR: [youtube] fNg_sJ9f8EI: Requested format is not available. Use --list-formats for a list of available formats\n",
      "Processing train videos:  59%|██████████████████████████████████████████████████████████████▍                                           | 589/1000 [02:22<01:50,  3.71it/s]"
     ]
    },
    {
     "name": "stdout",
     "output_type": "stream",
     "text": [
      "[download]  92.6% of ~  10.32MiB at    3.25MiB/s ETA 00:00 (frag 63/68)"
     ]
    }
   ],
   "source": [
    "import os\n",
    "import json\n",
    "import pandas as pd\n",
    "import yt_dlp\n",
    "import shutil\n",
    "import cv2\n",
    "from concurrent.futures import ProcessPoolExecutor, as_completed\n",
    "from tqdm import tqdm\n",
    "\n",
    "# Configuration\n",
    "OUTPUT_DIR = \"./msasl_clips/\"\n",
    "MIN_CLIP_DURATION = 0 # Currently not used, but good to have for future filtering\n",
    "TARGET_RESOLUTION = (256, 256)\n",
    "LABEL_NAME = \"label\" # Key for the label in your JSON data\n",
    "\n",
    "# --- Optimization for Speed ---\n",
    "# Maximize concurrent processes for downloads and video processing.\n",
    "# os.cpu_count() returns the number of logical CPU cores.\n",
    "# You can experiment with higher values (e.g., os.cpu_count() * 2)\n",
    "# if your network bandwidth is very high and you want more concurrent downloads,\n",
    "# but be mindful of saturating your network or disk I/O.\n",
    "MAX_WORKERS = os.cpu_count() if os.cpu_count() else 4\n",
    "print(f\"Using {MAX_WORKERS} parallel workers.\")\n",
    "\n",
    "# --- Initial Setup ---\n",
    "# Remove existing output directory to start fresh\n",
    "if os.path.exists(OUTPUT_DIR):\n",
    "    print(f\"Removing existing output directory: {OUTPUT_DIR}\")\n",
    "    shutil.rmtree(OUTPUT_DIR)\n",
    "# Create the output directory\n",
    "os.makedirs(OUTPUT_DIR, exist_ok=True)\n",
    "# Clear or create the skipped_videos.txt file\n",
    "open(\"skipped_videos.txt\", \"w\").close()\n",
    "print(f\"Output directory '{OUTPUT_DIR}' initialized.\")\n",
    "print(f\"Skipped videos log 'skipped_videos.txt' cleared.\")\n",
    "\n",
    "# --- Helper Functions ---\n",
    "\n",
    "def robust_json_loader(file_path):\n",
    "    \"\"\"\n",
    "    Loads a JSON file which is expected to be a single JSON array.\n",
    "    Applies standardization to 'box' coordinates and handles parsing errors.\n",
    "\n",
    "    Args:\n",
    "        file_path (str): The path to the JSON file.\n",
    "\n",
    "    Returns:\n",
    "        pd.DataFrame: A pandas DataFrame containing the loaded and cleaned data.\n",
    "                      Returns an empty DataFrame if a fatal error occurs.\n",
    "    \"\"\"\n",
    "    data = []\n",
    "    error_count = 0\n",
    "    \n",
    "    print(f\"Attempting to load and parse: {file_path}\")\n",
    "    try:\n",
    "        with open(file_path, 'r') as f:\n",
    "            # Load the entire JSON file as a single object (expected to be a list)\n",
    "            raw_data = json.load(f)\n",
    "        \n",
    "        # Ensure raw_data is a list before proceeding\n",
    "        if not isinstance(raw_data, list):\n",
    "            print(f\"Error: Expected JSON array but got {type(raw_data)} from {file_path}\")\n",
    "            return pd.DataFrame()\n",
    "\n",
    "        # Process each item in the loaded list\n",
    "        for item in tqdm(raw_data, desc=f\"Cleaning & Standardizing {os.path.basename(file_path)}\"):\n",
    "            try:\n",
    "                # Standardize box format if 'box' key exists\n",
    "                if 'box' in item:\n",
    "                    if isinstance(item['box'], dict):\n",
    "                        # Convert dictionary box to list [x1, y1, x2, y2]\n",
    "                        # Default to 0.0 for x1, y1 and 1.0 for x2, y2 if keys are missing\n",
    "                        item['box'] = [\n",
    "                            float(item['box'].get('0', 0.0)),\n",
    "                            float(item['box'].get('1', 0.0)),\n",
    "                            float(item['box'].get('2', 1.0)),\n",
    "                            float(item['box'].get('3', 1.0))\n",
    "                        ]\n",
    "                    elif not (isinstance(item['box'], list) and len(item['box']) == 4):\n",
    "                        # If 'box' is not a dict or a 4-element list, set to default\n",
    "                        item['box'] = [0.0, 0.0, 1.0, 1.0]\n",
    "                else:\n",
    "                    # If 'box' key is missing, add default box\n",
    "                    item['box'] = [0.0, 0.0, 1.0, 1.0]\n",
    "                \n",
    "                data.append(item)\n",
    "            except (KeyError, ValueError) as e:\n",
    "                error_count += 1\n",
    "                # print(f\"Warning: Error processing item in {file_path}: {e}\") # Uncomment for detailed item errors\n",
    "                continue\n",
    "        \n",
    "        print(f\"Loaded {len(data)} valid items with {error_count} skipped/errors from {file_path}\")\n",
    "        return pd.DataFrame(data)\n",
    "    \n",
    "    except json.JSONDecodeError as e:\n",
    "        print(f\"Fatal JSON parsing error for {file_path}: {e}\")\n",
    "        return pd.DataFrame()\n",
    "    except FileNotFoundError:\n",
    "        print(f\"Error: File not found at {file_path}\")\n",
    "        return pd.DataFrame()\n",
    "    except Exception as e:\n",
    "        print(f\"An unexpected error occurred while loading {file_path}: {str(e)}\")\n",
    "        return pd.DataFrame()\n",
    "\n",
    "def process_video(row, split):\n",
    "    \"\"\"\n",
    "    Downloads, processes (crops and resizes), and saves a single video clip.\n",
    "    Handles various errors during download and video processing.\n",
    "\n",
    "    Args:\n",
    "        row (pd.Series): A row from the DataFrame containing video metadata.\n",
    "        split (str): The dataset split (e.g., 'train', 'val', 'test').\n",
    "\n",
    "    Returns:\n",
    "        str: A message indicating the outcome of the processing (success or error).\n",
    "    \"\"\"\n",
    "    temp_path = None\n",
    "    video_url = row.get('url', 'N/A') # Default to 'N/A' if URL is missing for error logging\n",
    "    \n",
    "    try:\n",
    "        # Validate required fields\n",
    "        required_fields = ['url', 'start_time', 'end_time', 'file', LABEL_NAME]\n",
    "        if any(field not in row or pd.isna(row[field]) for field in required_fields):\n",
    "            return f\"Skipping {video_url}: Missing or NaN required fields in row.\"\n",
    "        \n",
    "        start = float(row['start_time'])\n",
    "        end = float(row['end_time'])\n",
    "        label = str(row[LABEL_NAME])\n",
    "        # Sanitize filename to avoid issues with path creation\n",
    "        filename_base = str(row['file']).replace(\" \", \"_\").replace(\"/\", \"_\").replace(\"\\\\\", \"_\")\n",
    "        filename = f\"{filename_base}_{split}\"\n",
    "        \n",
    "        # Setup output paths\n",
    "        label_dir = os.path.join(OUTPUT_DIR, split, label)\n",
    "        os.makedirs(label_dir, exist_ok=True)\n",
    "        output_path = os.path.join(label_dir, f\"{filename}.mp4\")\n",
    "        \n",
    "        if os.path.exists(output_path):\n",
    "            return f\"Skipped (clip already exists): {output_path}\"\n",
    "        \n",
    "        # Setup temporary download directory\n",
    "        temp_dir = os.path.join(OUTPUT_DIR, \"temp\")\n",
    "        os.makedirs(temp_dir, exist_ok=True)\n",
    "        temp_path = os.path.join(temp_dir, f\"{filename}.mp4\")\n",
    "        \n",
    "        # --- Download video using yt_dlp ---\n",
    "        ydl_opts = {\n",
    "            'format': 'bestvideo[ext=mp4]+bestaudio[ext=m4a]/best[ext=mp4]/best',\n",
    "            'outtmpl': temp_path,\n",
    "            'quiet': True,\n",
    "            'no_warnings': True,\n",
    "            'retries': 3,\n",
    "            'fragment_retries': 3, # Add fragment retries for robustness\n",
    "            'extractor_retries': 3, # Add extractor retries\n",
    "        }\n",
    "        \n",
    "        with yt_dlp.YoutubeDL(ydl_opts) as ydl:\n",
    "            # Check video duration before downloading to avoid unnecessary downloads\n",
    "            info = ydl.extract_info(video_url, download=False)\n",
    "            video_duration = info.get('duration', float('inf'))\n",
    "            clip_duration = end - start\n",
    "\n",
    "            if video_duration < clip_duration:\n",
    "                return f\"Skipping {video_url}: Video (duration={video_duration:.2f}s) is shorter than requested clip ({clip_duration:.2f}s).\"\n",
    "            \n",
    "            ydl.download([video_url])\n",
    "        \n",
    "        # --- Process video frames with OpenCV ---\n",
    "        cap = cv2.VideoCapture(temp_path)\n",
    "        if not cap.isOpened():\n",
    "            return f\"Error: Failed to open downloaded video for processing: {temp_path}\"\n",
    "        \n",
    "        fps = cap.get(cv2.CAP_PROP_FPS)\n",
    "        if fps == 0: # Handle cases where FPS might be reported as 0\n",
    "            fps = 30 \n",
    "            # print(f\"Warning: FPS reported as 0 for {temp_path}, defaulting to 30 FPS.\")\n",
    "\n",
    "        total_frames = int(cap.get(cv2.CAP_PROP_FRAME_COUNT))\n",
    "        start_frame = int(start * fps)\n",
    "        end_frame = min(int(end * fps), total_frames - 1)\n",
    "        \n",
    "        # Ensure start_frame is not beyond end_frame\n",
    "        if start_frame >= total_frames:\n",
    "            cap.release()\n",
    "            return f\"Skipping {video_url}: Start time {start}s is beyond video duration.\"\n",
    "\n",
    "        # Retrieve box coordinates (already standardized by robust_json_loader)\n",
    "        box = row.get('box', [0.0, 0.0, 1.0, 1.0])\n",
    "        \n",
    "        # Initialize video writer\n",
    "        writer = cv2.VideoWriter(\n",
    "            output_path,\n",
    "            cv2.VideoWriter_fourcc(*'mp4v'), # Use 'mp4v' for broader compatibility\n",
    "            fps,\n",
    "            TARGET_RESOLUTION\n",
    "        )\n",
    "        \n",
    "        cap.set(cv2.CAP_PROP_POS_FRAMES, start_frame)\n",
    "        frames_processed = 0\n",
    "        \n",
    "        for frame_idx in range(start_frame, end_frame + 1):\n",
    "            ret, frame = cap.read()\n",
    "            if not ret:\n",
    "                # Break if no more frames or an error occurred reading\n",
    "                break\n",
    "            \n",
    "            h, w = frame.shape[:2]\n",
    "            # Calculate pixel coordinates from normalized box\n",
    "            x1, y1 = int(box[0] * w), int(box[1] * h)\n",
    "            x2, y2 = int(box[2] * w), int(box[3] * h)\n",
    "            \n",
    "            # Ensure valid coordinates within frame boundaries\n",
    "            x1, y1 = max(0, x1), max(0, y1)\n",
    "            x2, y2 = min(w, x2), min(h, y2)\n",
    "            \n",
    "            if x2 > x1 and y2 > y1: # Ensure crop area is valid\n",
    "                cropped = frame[y1:y2, x1:x2]\n",
    "                resized = cv2.resize(cropped, TARGET_RESOLUTION)\n",
    "                writer.write(resized)\n",
    "                frames_processed += 1\n",
    "            else:\n",
    "                # If box coordinates are invalid, still try to write a resized frame\n",
    "                # This might happen if the box is outside the video bounds or malformed\n",
    "                resized = cv2.resize(frame, TARGET_RESOLUTION)\n",
    "                writer.write(resized)\n",
    "                frames_processed += 1 # Count even if box was invalid, as a frame was written\n",
    "                # print(f\"Warning: Invalid box coordinates for {video_url}. Writing full frame.\")\n",
    "\n",
    "        cap.release()\n",
    "        writer.release()\n",
    "        \n",
    "        if frames_processed == 0:\n",
    "            # If no frames were processed, remove the empty output file\n",
    "            if os.path.exists(output_path):\n",
    "                os.remove(output_path)\n",
    "            return f\"Error: No valid frames processed for {video_url}. Output file removed.\"\n",
    "        \n",
    "        return f\"Success: {output_path} ({frames_processed} frames written)\"\n",
    "    \n",
    "    except yt_dlp.utils.DownloadError as e:\n",
    "        error_msg = f\"Download Error for {video_url}: {str(e)}\"\n",
    "        # Log unavailable/private/removed videos\n",
    "        if any(x in str(e).lower() for x in ['unavailable', 'private', 'removed', 'not found', 'forbidden']):\n",
    "            with open(\"skipped_videos.txt\", \"a\") as f:\n",
    "                f.write(f\"{video_url}\\n\")\n",
    "        return error_msg\n",
    "    except Exception as e:\n",
    "        error_msg = f\"Unhandled Error processing {video_url}: {str(e)}\"\n",
    "        return error_msg\n",
    "    finally:\n",
    "        # Clean up temporary downloaded video file\n",
    "        if temp_path and os.path.exists(temp_path):\n",
    "            try:\n",
    "                os.remove(temp_path)\n",
    "            except OSError as e:\n",
    "                print(f\"Warning: Could not remove temporary file {temp_path}: {e}\")\n",
    "\n",
    "def process_dataset():\n",
    "    \"\"\"\n",
    "    Main function to load dataset subsets and process videos in parallel.\n",
    "    \"\"\"\n",
    "    DATA_DIR = \"./MS-ASL/\" # Assuming MS-ASL_train_subset.json etc. are in this directory\n",
    "    train_path = os.path.join(DATA_DIR, \"MSASL_train_subset.json\")\n",
    "    val_path = os.path.join(DATA_DIR, \"MSASL_val_subset.json\")\n",
    "    test_path = os.path.join(DATA_DIR, \"MSASL_test_subset.json\")\n",
    "    \n",
    "    # Load datasets using the improved robust_json_loader\n",
    "    train_df = robust_json_loader(train_path)\n",
    "    val_df = robust_json_loader(val_path)\n",
    "    test_df = robust_json_loader(test_path)\n",
    "    \n",
    "    # Verify data loading\n",
    "    print(\"\\n--- Dataset Summary ---\")\n",
    "    print(f\"Train samples loaded: {len(train_df)}\")\n",
    "    print(f\"Validation samples loaded: {len(val_df)}\")\n",
    "    print(f\"Test samples loaded: {len(test_df)}\")\n",
    "    \n",
    "    if train_df.empty and val_df.empty and test_df.empty:\n",
    "        print(\"Error: No datasets were loaded successfully. Exiting.\")\n",
    "        return\n",
    "    \n",
    "    # Process each split\n",
    "    for split_name, df in [(\"train\", train_df), (\"val\", val_df), (\"test\", test_df)]:\n",
    "        if df.empty:\n",
    "            print(f\"\\nSkipping {split_name} split as no data was loaded.\")\n",
    "            continue\n",
    "\n",
    "        print(f\"\\n--- Processing {split_name} split ({len(df)} videos) ---\")\n",
    "        \n",
    "        # Prepare tasks for parallel execution\n",
    "        tasks = [(row, split_name) for _, row in df.iterrows()]\n",
    "        \n",
    "        # Use ProcessPoolExecutor for parallel video processing\n",
    "        # `chunksize` can be adjusted for performance, but 1 is fine for small tasks\n",
    "        with ProcessPoolExecutor(max_workers=MAX_WORKERS) as executor:\n",
    "            futures = [executor.submit(process_video, row, split) for row, split in tasks]\n",
    "            \n",
    "            # Use tqdm to show progress for the parallel tasks\n",
    "            for future in tqdm(as_completed(futures), total=len(tasks), desc=f\"Processing {split_name} videos\"):\n",
    "                result = future.result()\n",
    "                # print(result) # Uncomment to see individual video processing results\n",
    "        print(f\"Finished processing {split_name} split.\")\n",
    "\n",
    "# --- Main Execution ---\n",
    "if __name__ == \"__main__\":\n",
    "    process_dataset()"
   ]
  },
  {
   "cell_type": "code",
   "execution_count": 12,
   "id": "1c770b8f-eceb-487e-be5e-f397c0c70efe",
   "metadata": {},
   "outputs": [
    {
     "data": {
      "image/png": "[encoded data removed]",
      "text/plain": [
       "<Figure size 1000x600 with 1 Axes>"
      ]
     },
     "metadata": {},
     "output_type": "display_data"
    },
    {
     "ename": "LinAlgError",
     "evalue": "The data appears to lie in a lower-dimensional subspace of the space in which it is expressed. This has resulted in a singular data covariance matrix, which cannot be treated using the algorithms implemented in `gaussian_kde`. Consider performing principal component analysis / dimensionality reduction and using `gaussian_kde` with the transformed data.",
     "output_type": "error",
     "traceback": [
      "\u001b[31m---------------------------------------------------------------------------\u001b[39m",
      "\u001b[31mLinAlgError\u001b[39m                               Traceback (most recent call last)",
      "\u001b[36mFile \u001b[39m\u001b[32m~/Projects/CAB420_GROUP_A/cab420_GROUP_A_ENV/lib/python3.12/site-packages/scipy/stats/_kde.py:226\u001b[39m, in \u001b[36mgaussian_kde.__init__\u001b[39m\u001b[34m(self, dataset, bw_method, weights)\u001b[39m\n\u001b[32m    225\u001b[39m \u001b[38;5;28;01mtry\u001b[39;00m:\n\u001b[32m--> \u001b[39m\u001b[32m226\u001b[39m     \u001b[38;5;28;43mself\u001b[39;49m\u001b[43m.\u001b[49m\u001b[43mset_bandwidth\u001b[49m\u001b[43m(\u001b[49m\u001b[43mbw_method\u001b[49m\u001b[43m=\u001b[49m\u001b[43mbw_method\u001b[49m\u001b[43m)\u001b[49m\n\u001b[32m    227\u001b[39m \u001b[38;5;28;01mexcept\u001b[39;00m linalg.LinAlgError \u001b[38;5;28;01mas\u001b[39;00m e:\n",
      "\u001b[36mFile \u001b[39m\u001b[32m~/Projects/CAB420_GROUP_A/cab420_GROUP_A_ENV/lib/python3.12/site-packages/scipy/stats/_kde.py:574\u001b[39m, in \u001b[36mgaussian_kde.set_bandwidth\u001b[39m\u001b[34m(self, bw_method)\u001b[39m\n\u001b[32m    572\u001b[39m     \u001b[38;5;28;01mraise\u001b[39;00m \u001b[38;5;167;01mValueError\u001b[39;00m(msg)\n\u001b[32m--> \u001b[39m\u001b[32m574\u001b[39m \u001b[38;5;28;43mself\u001b[39;49m\u001b[43m.\u001b[49m\u001b[43m_compute_covariance\u001b[49m\u001b[43m(\u001b[49m\u001b[43m)\u001b[49m\n",
      "\u001b[36mFile \u001b[39m\u001b[32m~/Projects/CAB420_GROUP_A/cab420_GROUP_A_ENV/lib/python3.12/site-packages/scipy/stats/_kde.py:586\u001b[39m, in \u001b[36mgaussian_kde._compute_covariance\u001b[39m\u001b[34m(self)\u001b[39m\n\u001b[32m    583\u001b[39m     \u001b[38;5;28mself\u001b[39m._data_covariance = atleast_2d(cov(\u001b[38;5;28mself\u001b[39m.dataset, rowvar=\u001b[32m1\u001b[39m,\n\u001b[32m    584\u001b[39m                                        bias=\u001b[38;5;28;01mFalse\u001b[39;00m,\n\u001b[32m    585\u001b[39m                                        aweights=\u001b[38;5;28mself\u001b[39m.weights))\n\u001b[32m--> \u001b[39m\u001b[32m586\u001b[39m     \u001b[38;5;28mself\u001b[39m._data_cho_cov = \u001b[43mlinalg\u001b[49m\u001b[43m.\u001b[49m\u001b[43mcholesky\u001b[49m\u001b[43m(\u001b[49m\u001b[38;5;28;43mself\u001b[39;49m\u001b[43m.\u001b[49m\u001b[43m_data_covariance\u001b[49m\u001b[43m,\u001b[49m\n\u001b[32m    587\u001b[39m \u001b[43m                                         \u001b[49m\u001b[43mlower\u001b[49m\u001b[43m=\u001b[49m\u001b[38;5;28;43;01mTrue\u001b[39;49;00m\u001b[43m)\u001b[49m\n\u001b[32m    589\u001b[39m \u001b[38;5;28mself\u001b[39m.covariance = \u001b[38;5;28mself\u001b[39m._data_covariance * \u001b[38;5;28mself\u001b[39m.factor**\u001b[32m2\u001b[39m\n",
      "\u001b[36mFile \u001b[39m\u001b[32m~/Projects/CAB420_GROUP_A/cab420_GROUP_A_ENV/lib/python3.12/site-packages/scipy/linalg/_decomp_cholesky.py:101\u001b[39m, in \u001b[36mcholesky\u001b[39m\u001b[34m(a, lower, overwrite_a, check_finite)\u001b[39m\n\u001b[32m     47\u001b[39m \u001b[38;5;250m\u001b[39m\u001b[33;03m\"\"\"\u001b[39;00m\n\u001b[32m     48\u001b[39m \u001b[33;03mCompute the Cholesky decomposition of a matrix.\u001b[39;00m\n\u001b[32m     49\u001b[39m \n\u001b[32m   (...)\u001b[39m\u001b[32m     99\u001b[39m \n\u001b[32m    100\u001b[39m \u001b[33;03m\"\"\"\u001b[39;00m\n\u001b[32m--> \u001b[39m\u001b[32m101\u001b[39m c, lower = \u001b[43m_cholesky\u001b[49m\u001b[43m(\u001b[49m\u001b[43ma\u001b[49m\u001b[43m,\u001b[49m\u001b[43m \u001b[49m\u001b[43mlower\u001b[49m\u001b[43m=\u001b[49m\u001b[43mlower\u001b[49m\u001b[43m,\u001b[49m\u001b[43m \u001b[49m\u001b[43moverwrite_a\u001b[49m\u001b[43m=\u001b[49m\u001b[43moverwrite_a\u001b[49m\u001b[43m,\u001b[49m\u001b[43m \u001b[49m\u001b[43mclean\u001b[49m\u001b[43m=\u001b[49m\u001b[38;5;28;43;01mTrue\u001b[39;49;00m\u001b[43m,\u001b[49m\n\u001b[32m    102\u001b[39m \u001b[43m                     \u001b[49m\u001b[43mcheck_finite\u001b[49m\u001b[43m=\u001b[49m\u001b[43mcheck_finite\u001b[49m\u001b[43m)\u001b[49m\n\u001b[32m    103\u001b[39m \u001b[38;5;28;01mreturn\u001b[39;00m c\n",
      "\u001b[36mFile \u001b[39m\u001b[32m~/Projects/CAB420_GROUP_A/cab420_GROUP_A_ENV/lib/python3.12/site-packages/scipy/linalg/_decomp_cholesky.py:38\u001b[39m, in \u001b[36m_cholesky\u001b[39m\u001b[34m(a, lower, overwrite_a, clean, check_finite)\u001b[39m\n\u001b[32m     37\u001b[39m \u001b[38;5;28;01mif\u001b[39;00m info > \u001b[32m0\u001b[39m:\n\u001b[32m---> \u001b[39m\u001b[32m38\u001b[39m     \u001b[38;5;28;01mraise\u001b[39;00m LinAlgError(\u001b[33m\"\u001b[39m\u001b[38;5;132;01m%d\u001b[39;00m\u001b[33m-th leading minor of the array is not positive \u001b[39m\u001b[33m\"\u001b[39m\n\u001b[32m     39\u001b[39m                       \u001b[33m\"\u001b[39m\u001b[33mdefinite\u001b[39m\u001b[33m\"\u001b[39m % info)\n\u001b[32m     40\u001b[39m \u001b[38;5;28;01mif\u001b[39;00m info < \u001b[32m0\u001b[39m:\n",
      "\u001b[31mLinAlgError\u001b[39m: 1-th leading minor of the array is not positive definite",
      "\nThe above exception was the direct cause of the following exception:\n",
      "\u001b[31mLinAlgError\u001b[39m                               Traceback (most recent call last)",
      "\u001b[36mCell\u001b[39m\u001b[36m \u001b[39m\u001b[32mIn[12]\u001b[39m\u001b[32m, line 50\u001b[39m\n\u001b[32m     47\u001b[39m df_durations = collect_clip_durations(OUTPUT_DIR)\n\u001b[32m     49\u001b[39m plt.figure(figsize=(\u001b[32m10\u001b[39m, \u001b[32m6\u001b[39m))\n\u001b[32m---> \u001b[39m\u001b[32m50\u001b[39m \u001b[43msns\u001b[49m\u001b[43m.\u001b[49m\u001b[43mhistplot\u001b[49m\u001b[43m(\u001b[49m\u001b[43mdata\u001b[49m\u001b[43m=\u001b[49m\u001b[43mdf_durations\u001b[49m\u001b[43m,\u001b[49m\u001b[43m \u001b[49m\u001b[43mx\u001b[49m\u001b[43m=\u001b[49m\u001b[33;43m\"\u001b[39;49m\u001b[33;43mduration\u001b[39;49m\u001b[33;43m\"\u001b[39;49m\u001b[43m,\u001b[49m\u001b[43m \u001b[49m\u001b[43mhue\u001b[49m\u001b[43m=\u001b[49m\u001b[33;43m\"\u001b[39;49m\u001b[33;43msplit\u001b[39;49m\u001b[33;43m\"\u001b[39;49m\u001b[43m,\u001b[49m\u001b[43m \u001b[49m\u001b[43mbins\u001b[49m\u001b[43m=\u001b[49m\u001b[32;43m20\u001b[39;49m\u001b[43m,\u001b[49m\u001b[43m \u001b[49m\u001b[43mkde\u001b[49m\u001b[43m=\u001b[49m\u001b[38;5;28;43;01mTrue\u001b[39;49;00m\u001b[43m)\u001b[49m\n\u001b[32m     51\u001b[39m plt.title(\u001b[33m\"\u001b[39m\u001b[33mDistribution of Clip Durations\u001b[39m\u001b[33m\"\u001b[39m)\n\u001b[32m     52\u001b[39m plt.xlabel(\u001b[33m\"\u001b[39m\u001b[33mDuration (seconds)\u001b[39m\u001b[33m\"\u001b[39m)\n",
      "\u001b[36mFile \u001b[39m\u001b[32m~/Projects/CAB420_GROUP_A/cab420_GROUP_A_ENV/lib/python3.12/site-packages/seaborn/distributions.py:1416\u001b[39m, in \u001b[36mhistplot\u001b[39m\u001b[34m(data, x, y, hue, weights, stat, bins, binwidth, binrange, discrete, cumulative, common_bins, common_norm, multiple, element, fill, shrink, kde, kde_kws, line_kws, thresh, pthresh, pmax, cbar, cbar_ax, cbar_kws, palette, hue_order, hue_norm, color, log_scale, legend, ax, **kwargs)\u001b[39m\n\u001b[32m   1405\u001b[39m estimate_kws = \u001b[38;5;28mdict\u001b[39m(\n\u001b[32m   1406\u001b[39m     stat=stat,\n\u001b[32m   1407\u001b[39m     bins=bins,\n\u001b[32m   (...)\u001b[39m\u001b[32m   1411\u001b[39m     cumulative=cumulative,\n\u001b[32m   1412\u001b[39m )\n\u001b[32m   1414\u001b[39m \u001b[38;5;28;01mif\u001b[39;00m p.univariate:\n\u001b[32m-> \u001b[39m\u001b[32m1416\u001b[39m     \u001b[43mp\u001b[49m\u001b[43m.\u001b[49m\u001b[43mplot_univariate_histogram\u001b[49m\u001b[43m(\u001b[49m\n\u001b[32m   1417\u001b[39m \u001b[43m        \u001b[49m\u001b[43mmultiple\u001b[49m\u001b[43m=\u001b[49m\u001b[43mmultiple\u001b[49m\u001b[43m,\u001b[49m\n\u001b[32m   1418\u001b[39m \u001b[43m        \u001b[49m\u001b[43melement\u001b[49m\u001b[43m=\u001b[49m\u001b[43melement\u001b[49m\u001b[43m,\u001b[49m\n\u001b[32m   1419\u001b[39m \u001b[43m        \u001b[49m\u001b[43mfill\u001b[49m\u001b[43m=\u001b[49m\u001b[43mfill\u001b[49m\u001b[43m,\u001b[49m\n\u001b[32m   1420\u001b[39m \u001b[43m        \u001b[49m\u001b[43mshrink\u001b[49m\u001b[43m=\u001b[49m\u001b[43mshrink\u001b[49m\u001b[43m,\u001b[49m\n\u001b[32m   1421\u001b[39m \u001b[43m        \u001b[49m\u001b[43mcommon_norm\u001b[49m\u001b[43m=\u001b[49m\u001b[43mcommon_norm\u001b[49m\u001b[43m,\u001b[49m\n\u001b[32m   1422\u001b[39m \u001b[43m        \u001b[49m\u001b[43mcommon_bins\u001b[49m\u001b[43m=\u001b[49m\u001b[43mcommon_bins\u001b[49m\u001b[43m,\u001b[49m\n\u001b[32m   1423\u001b[39m \u001b[43m        \u001b[49m\u001b[43mkde\u001b[49m\u001b[43m=\u001b[49m\u001b[43mkde\u001b[49m\u001b[43m,\u001b[49m\n\u001b[32m   1424\u001b[39m \u001b[43m        \u001b[49m\u001b[43mkde_kws\u001b[49m\u001b[43m=\u001b[49m\u001b[43mkde_kws\u001b[49m\u001b[43m,\u001b[49m\n\u001b[32m   1425\u001b[39m \u001b[43m        \u001b[49m\u001b[43mcolor\u001b[49m\u001b[43m=\u001b[49m\u001b[43mcolor\u001b[49m\u001b[43m,\u001b[49m\n\u001b[32m   1426\u001b[39m \u001b[43m        \u001b[49m\u001b[43mlegend\u001b[49m\u001b[43m=\u001b[49m\u001b[43mlegend\u001b[49m\u001b[43m,\u001b[49m\n\u001b[32m   1427\u001b[39m \u001b[43m        \u001b[49m\u001b[43mestimate_kws\u001b[49m\u001b[43m=\u001b[49m\u001b[43mestimate_kws\u001b[49m\u001b[43m,\u001b[49m\n\u001b[32m   1428\u001b[39m \u001b[43m        \u001b[49m\u001b[43mline_kws\u001b[49m\u001b[43m=\u001b[49m\u001b[43mline_kws\u001b[49m\u001b[43m,\u001b[49m\n\u001b[32m   1429\u001b[39m \u001b[43m        \u001b[49m\u001b[43m*\u001b[49m\u001b[43m*\u001b[49m\u001b[43mkwargs\u001b[49m\u001b[43m,\u001b[49m\n\u001b[32m   1430\u001b[39m \u001b[43m    \u001b[49m\u001b[43m)\u001b[49m\n\u001b[32m   1432\u001b[39m \u001b[38;5;28;01melse\u001b[39;00m:\n\u001b[32m   1434\u001b[39m     p.plot_bivariate_histogram(\n\u001b[32m   1435\u001b[39m         common_bins=common_bins,\n\u001b[32m   1436\u001b[39m         common_norm=common_norm,\n\u001b[32m   (...)\u001b[39m\u001b[32m   1446\u001b[39m         **kwargs,\n\u001b[32m   1447\u001b[39m     )\n",
      "\u001b[36mFile \u001b[39m\u001b[32m~/Projects/CAB420_GROUP_A/cab420_GROUP_A_ENV/lib/python3.12/site-packages/seaborn/distributions.py:447\u001b[39m, in \u001b[36m_DistributionPlotter.plot_univariate_histogram\u001b[39m\u001b[34m(self, multiple, element, fill, common_norm, common_bins, shrink, kde, kde_kws, color, legend, line_kws, estimate_kws, **plot_kws)\u001b[39m\n\u001b[32m    445\u001b[39m     kde_kws.setdefault(\u001b[33m\"\u001b[39m\u001b[33mcut\u001b[39m\u001b[33m\"\u001b[39m, \u001b[32m0\u001b[39m)\n\u001b[32m    446\u001b[39m     kde_kws[\u001b[33m\"\u001b[39m\u001b[33mcumulative\u001b[39m\u001b[33m\"\u001b[39m] = estimate_kws[\u001b[33m\"\u001b[39m\u001b[33mcumulative\u001b[39m\u001b[33m\"\u001b[39m]\n\u001b[32m--> \u001b[39m\u001b[32m447\u001b[39m     densities = \u001b[38;5;28;43mself\u001b[39;49m\u001b[43m.\u001b[49m\u001b[43m_compute_univariate_density\u001b[49m\u001b[43m(\u001b[49m\n\u001b[32m    448\u001b[39m \u001b[43m        \u001b[49m\u001b[38;5;28;43mself\u001b[39;49m\u001b[43m.\u001b[49m\u001b[43mdata_variable\u001b[49m\u001b[43m,\u001b[49m\n\u001b[32m    449\u001b[39m \u001b[43m        \u001b[49m\u001b[43mcommon_norm\u001b[49m\u001b[43m,\u001b[49m\n\u001b[32m    450\u001b[39m \u001b[43m        \u001b[49m\u001b[43mcommon_bins\u001b[49m\u001b[43m,\u001b[49m\n\u001b[32m    451\u001b[39m \u001b[43m        \u001b[49m\u001b[43mkde_kws\u001b[49m\u001b[43m,\u001b[49m\n\u001b[32m    452\u001b[39m \u001b[43m        \u001b[49m\u001b[43mwarn_singular\u001b[49m\u001b[43m=\u001b[49m\u001b[38;5;28;43;01mFalse\u001b[39;49;00m\u001b[43m,\u001b[49m\n\u001b[32m    453\u001b[39m \u001b[43m    \u001b[49m\u001b[43m)\u001b[49m\n\u001b[32m    455\u001b[39m \u001b[38;5;66;03m# First pass through the data to compute the histograms\u001b[39;00m\n\u001b[32m    456\u001b[39m \u001b[38;5;28;01mfor\u001b[39;00m sub_vars, sub_data \u001b[38;5;129;01min\u001b[39;00m \u001b[38;5;28mself\u001b[39m.iter_data(\u001b[33m\"\u001b[39m\u001b[33mhue\u001b[39m\u001b[33m\"\u001b[39m, from_comp_data=\u001b[38;5;28;01mTrue\u001b[39;00m):\n\u001b[32m    457\u001b[39m \n\u001b[32m    458\u001b[39m     \u001b[38;5;66;03m# Prepare the relevant data\u001b[39;00m\n",
      "\u001b[36mFile \u001b[39m\u001b[32m~/Projects/CAB420_GROUP_A/cab420_GROUP_A_ENV/lib/python3.12/site-packages/seaborn/distributions.py:313\u001b[39m, in \u001b[36m_DistributionPlotter._compute_univariate_density\u001b[39m\u001b[34m(self, data_variable, common_norm, common_grid, estimate_kws, warn_singular)\u001b[39m\n\u001b[32m    311\u001b[39m     \u001b[38;5;28;01mif\u001b[39;00m common_grid:\n\u001b[32m    312\u001b[39m         all_observations = \u001b[38;5;28mself\u001b[39m.comp_data.dropna()\n\u001b[32m--> \u001b[39m\u001b[32m313\u001b[39m         \u001b[43mestimator\u001b[49m\u001b[43m.\u001b[49m\u001b[43mdefine_support\u001b[49m\u001b[43m(\u001b[49m\u001b[43mall_observations\u001b[49m\u001b[43m[\u001b[49m\u001b[43mdata_variable\u001b[49m\u001b[43m]\u001b[49m\u001b[43m)\u001b[49m\n\u001b[32m    314\u001b[39m \u001b[38;5;28;01melse\u001b[39;00m:\n\u001b[32m    315\u001b[39m     common_norm = \u001b[38;5;28;01mFalse\u001b[39;00m\n",
      "\u001b[36mFile \u001b[39m\u001b[32m~/Projects/CAB420_GROUP_A/cab420_GROUP_A_ENV/lib/python3.12/site-packages/seaborn/_statistics.py:128\u001b[39m, in \u001b[36mKDE.define_support\u001b[39m\u001b[34m(self, x1, x2, weights, cache)\u001b[39m\n\u001b[32m    126\u001b[39m \u001b[38;5;250m\u001b[39m\u001b[33;03m\"\"\"Create the evaluation grid for a given data set.\"\"\"\u001b[39;00m\n\u001b[32m    127\u001b[39m \u001b[38;5;28;01mif\u001b[39;00m x2 \u001b[38;5;129;01mis\u001b[39;00m \u001b[38;5;28;01mNone\u001b[39;00m:\n\u001b[32m--> \u001b[39m\u001b[32m128\u001b[39m     support = \u001b[38;5;28;43mself\u001b[39;49m\u001b[43m.\u001b[49m\u001b[43m_define_support_univariate\u001b[49m\u001b[43m(\u001b[49m\u001b[43mx1\u001b[49m\u001b[43m,\u001b[49m\u001b[43m \u001b[49m\u001b[43mweights\u001b[49m\u001b[43m)\u001b[49m\n\u001b[32m    129\u001b[39m \u001b[38;5;28;01melse\u001b[39;00m:\n\u001b[32m    130\u001b[39m     support = \u001b[38;5;28mself\u001b[39m._define_support_bivariate(x1, x2, weights)\n",
      "\u001b[36mFile \u001b[39m\u001b[32m~/Projects/CAB420_GROUP_A/cab420_GROUP_A_ENV/lib/python3.12/site-packages/seaborn/_statistics.py:100\u001b[39m, in \u001b[36mKDE._define_support_univariate\u001b[39m\u001b[34m(self, x, weights)\u001b[39m\n\u001b[32m     98\u001b[39m \u001b[38;5;28;01mdef\u001b[39;00m\u001b[38;5;250m \u001b[39m\u001b[34m_define_support_univariate\u001b[39m(\u001b[38;5;28mself\u001b[39m, x, weights):\n\u001b[32m     99\u001b[39m \u001b[38;5;250m    \u001b[39m\u001b[33;03m\"\"\"Create a 1D grid of evaluation points.\"\"\"\u001b[39;00m\n\u001b[32m--> \u001b[39m\u001b[32m100\u001b[39m     kde = \u001b[38;5;28;43mself\u001b[39;49m\u001b[43m.\u001b[49m\u001b[43m_fit\u001b[49m\u001b[43m(\u001b[49m\u001b[43mx\u001b[49m\u001b[43m,\u001b[49m\u001b[43m \u001b[49m\u001b[43mweights\u001b[49m\u001b[43m)\u001b[49m\n\u001b[32m    101\u001b[39m     bw = np.sqrt(kde.covariance.squeeze())\n\u001b[32m    102\u001b[39m     grid = \u001b[38;5;28mself\u001b[39m._define_support_grid(\n\u001b[32m    103\u001b[39m         x, bw, \u001b[38;5;28mself\u001b[39m.cut, \u001b[38;5;28mself\u001b[39m.clip, \u001b[38;5;28mself\u001b[39m.gridsize\n\u001b[32m    104\u001b[39m     )\n",
      "\u001b[36mFile \u001b[39m\u001b[32m~/Projects/CAB420_GROUP_A/cab420_GROUP_A_ENV/lib/python3.12/site-packages/seaborn/_statistics.py:143\u001b[39m, in \u001b[36mKDE._fit\u001b[39m\u001b[34m(self, fit_data, weights)\u001b[39m\n\u001b[32m    140\u001b[39m \u001b[38;5;28;01mif\u001b[39;00m weights \u001b[38;5;129;01mis\u001b[39;00m \u001b[38;5;129;01mnot\u001b[39;00m \u001b[38;5;28;01mNone\u001b[39;00m:\n\u001b[32m    141\u001b[39m     fit_kws[\u001b[33m\"\u001b[39m\u001b[33mweights\u001b[39m\u001b[33m\"\u001b[39m] = weights\n\u001b[32m--> \u001b[39m\u001b[32m143\u001b[39m kde = \u001b[43mgaussian_kde\u001b[49m\u001b[43m(\u001b[49m\u001b[43mfit_data\u001b[49m\u001b[43m,\u001b[49m\u001b[43m \u001b[49m\u001b[43m*\u001b[49m\u001b[43m*\u001b[49m\u001b[43mfit_kws\u001b[49m\u001b[43m)\u001b[49m\n\u001b[32m    144\u001b[39m kde.set_bandwidth(kde.factor * \u001b[38;5;28mself\u001b[39m.bw_adjust)\n\u001b[32m    146\u001b[39m \u001b[38;5;28;01mreturn\u001b[39;00m kde\n",
      "\u001b[36mFile \u001b[39m\u001b[32m~/Projects/CAB420_GROUP_A/cab420_GROUP_A_ENV/lib/python3.12/site-packages/scipy/stats/_kde.py:235\u001b[39m, in \u001b[36mgaussian_kde.__init__\u001b[39m\u001b[34m(self, dataset, bw_method, weights)\u001b[39m\n\u001b[32m    227\u001b[39m \u001b[38;5;28;01mexcept\u001b[39;00m linalg.LinAlgError \u001b[38;5;28;01mas\u001b[39;00m e:\n\u001b[32m    228\u001b[39m     msg = (\u001b[33m\"\u001b[39m\u001b[33mThe data appears to lie in a lower-dimensional subspace \u001b[39m\u001b[33m\"\u001b[39m\n\u001b[32m    229\u001b[39m            \u001b[33m\"\u001b[39m\u001b[33mof the space in which it is expressed. This has resulted \u001b[39m\u001b[33m\"\u001b[39m\n\u001b[32m    230\u001b[39m            \u001b[33m\"\u001b[39m\u001b[33min a singular data covariance matrix, which cannot be \u001b[39m\u001b[33m\"\u001b[39m\n\u001b[32m   (...)\u001b[39m\u001b[32m    233\u001b[39m            \u001b[33m\"\u001b[39m\u001b[33manalysis / dimensionality reduction and using \u001b[39m\u001b[33m\"\u001b[39m\n\u001b[32m    234\u001b[39m            \u001b[33m\"\u001b[39m\u001b[33m`gaussian_kde` with the transformed data.\u001b[39m\u001b[33m\"\u001b[39m)\n\u001b[32m--> \u001b[39m\u001b[32m235\u001b[39m     \u001b[38;5;28;01mraise\u001b[39;00m linalg.LinAlgError(msg) \u001b[38;5;28;01mfrom\u001b[39;00m\u001b[38;5;250m \u001b[39m\u001b[34;01me\u001b[39;00m\n",
      "\u001b[31mLinAlgError\u001b[39m: The data appears to lie in a lower-dimensional subspace of the space in which it is expressed. This has resulted in a singular data covariance matrix, which cannot be treated using the algorithms implemented in `gaussian_kde`. Consider performing principal component analysis / dimensionality reduction and using `gaussian_kde` with the transformed data."
     ]
    },
    {
     "data": {
      "image/png": "[encoded data removed]",
      "text/plain": [
       "<Figure size 1000x600 with 1 Axes>"
      ]
     },
     "metadata": {},
     "output_type": "display_data"
    }
   ],
   "source": [
    "import matplotlib.pyplot as plt\n",
    "import seaborn as sns\n",
    "import glob\n",
    "\n",
    "\n",
    "def plot_clip_counts(base_dir):\n",
    "    split_dirs = [\"train\", \"val\", \"test\"]\n",
    "    all_counts = []\n",
    "\n",
    "    for split in split_dirs:\n",
    "        split_path = os.path.join(base_dir, split)\n",
    "        if not os.path.exists(split_path):\n",
    "            continue\n",
    "        for label in os.listdir(split_path):\n",
    "            label_path = os.path.join(split_path, label)\n",
    "            if os.path.isdir(label_path):\n",
    "                clip_count = len(glob.glob(os.path.join(label_path, \"*.mp4\")))\n",
    "                all_counts.append({\"split\": split, \"label\": label, \"count\": clip_count})\n",
    "    \n",
    "    df_counts = pd.DataFrame(all_counts)\n",
    "    plt.figure(figsize=(10, 6))\n",
    "    sns.barplot(data=df_counts, x=\"label\", y=\"count\", hue=\"split\")\n",
    "    plt.title(\"Number of clips per label per split\")\n",
    "    plt.xticks(rotation=45)\n",
    "    plt.tight_layout()\n",
    "    plt.show()\n",
    "\n",
    "plot_clip_counts(OUTPUT_DIR)\n",
    "\n",
    "def collect_clip_durations(base_dir):\n",
    "    durations = []\n",
    "    for root, _, files in os.walk(base_dir):\n",
    "        for f in files:\n",
    "            if f.endswith(\".mp4\"):\n",
    "                path = os.path.join(root, f)\n",
    "                cap = cv2.VideoCapture(path)\n",
    "                fps = cap.get(cv2.CAP_PROP_FPS)\n",
    "                frames = cap.get(cv2.CAP_PROP_FRAME_COUNT)\n",
    "                duration = frames / fps if fps > 0 else 0\n",
    "                label = os.path.basename(os.path.dirname(path))\n",
    "                split = os.path.basename(os.path.dirname(os.path.dirname(path)))\n",
    "                durations.append({\"split\": split, \"label\": label, \"duration\": duration})\n",
    "                cap.release()\n",
    "                \n",
    "    return pd.DataFrame(durations)\n",
    "\n",
    "df_durations = collect_clip_durations(OUTPUT_DIR)\n",
    "\n",
    "plt.figure(figsize=(10, 6))\n",
    "sns.histplot(data=df_durations, x=\"duration\", hue=\"split\", bins=20, kde=True)\n",
    "plt.title(\"Distribution of Clip Durations\")\n",
    "plt.xlabel(\"Duration (seconds)\")\n",
    "plt.ylabel(\"Frequency\")\n",
    "plt.show()"
   ]
  },
  {
   "cell_type": "code",
   "execution_count": 13,
   "id": "c1b66230-b1be-462e-a720-be721fcbab95",
   "metadata": {},
   "outputs": [
    {
     "name": "stdout",
     "output_type": "stream",
     "text": [
      "Empty DataFrame\n",
      "Columns: []\n",
      "Index: []\n"
     ]
    },
    {
     "data": {
      "image/png": "[encoded data removed]",
      "text/plain": [
       "<Figure size 1500x300 with 5 Axes>"
      ]
     },
     "metadata": {},
     "output_type": "display_data"
    },
    {
     "data": {
      "image/png": "[encoded data removed]",
      "text/plain": [
       "<Figure size 1500x300 with 5 Axes>"
      ]
     },
     "metadata": {},
     "output_type": "display_data"
    },
    {
     "data": {
      "image/png": "[encoded data removed]",
      "text/plain": [
       "<Figure size 1500x300 with 5 Axes>"
      ]
     },
     "metadata": {},
     "output_type": "display_data"
    },
    {
     "ename": "KeyError",
     "evalue": "'duration'",
     "output_type": "error",
     "traceback": [
      "\u001b[31m---------------------------------------------------------------------------\u001b[39m",
      "\u001b[31mKeyError\u001b[39m                                  Traceback (most recent call last)",
      "\u001b[36mCell\u001b[39m\u001b[36m \u001b[39m\u001b[32mIn[13]\u001b[39m\u001b[32m, line 75\u001b[39m\n\u001b[32m     72\u001b[39m show_sample_frames(OUTPUT_DIR, num_clips=\u001b[32m3\u001b[39m, frames_per_clip=\u001b[32m5\u001b[39m)\n\u001b[32m     74\u001b[39m plt.figure(figsize=(\u001b[32m10\u001b[39m, \u001b[32m5\u001b[39m))\n\u001b[32m---> \u001b[39m\u001b[32m75\u001b[39m sns.histplot(\u001b[43mdf_stats\u001b[49m\u001b[43m[\u001b[49m\u001b[33;43m\"\u001b[39;49m\u001b[33;43mduration\u001b[39;49m\u001b[33;43m\"\u001b[39;49m\u001b[43m]\u001b[49m, bins=\u001b[32m30\u001b[39m, kde=\u001b[38;5;28;01mTrue\u001b[39;00m)\n\u001b[32m     76\u001b[39m plt.title(\u001b[33m\"\u001b[39m\u001b[33mDistribution of Clip Durations\u001b[39m\u001b[33m\"\u001b[39m)\n\u001b[32m     77\u001b[39m plt.xlabel(\u001b[33m\"\u001b[39m\u001b[33mDuration (seconds)\u001b[39m\u001b[33m\"\u001b[39m)\n",
      "\u001b[36mFile \u001b[39m\u001b[32m~/Projects/CAB420_GROUP_A/cab420_GROUP_A_ENV/lib/python3.12/site-packages/pandas/core/frame.py:4102\u001b[39m, in \u001b[36mDataFrame.__getitem__\u001b[39m\u001b[34m(self, key)\u001b[39m\n\u001b[32m   4100\u001b[39m \u001b[38;5;28;01mif\u001b[39;00m \u001b[38;5;28mself\u001b[39m.columns.nlevels > \u001b[32m1\u001b[39m:\n\u001b[32m   4101\u001b[39m     \u001b[38;5;28;01mreturn\u001b[39;00m \u001b[38;5;28mself\u001b[39m._getitem_multilevel(key)\n\u001b[32m-> \u001b[39m\u001b[32m4102\u001b[39m indexer = \u001b[38;5;28;43mself\u001b[39;49m\u001b[43m.\u001b[49m\u001b[43mcolumns\u001b[49m\u001b[43m.\u001b[49m\u001b[43mget_loc\u001b[49m\u001b[43m(\u001b[49m\u001b[43mkey\u001b[49m\u001b[43m)\u001b[49m\n\u001b[32m   4103\u001b[39m \u001b[38;5;28;01mif\u001b[39;00m is_integer(indexer):\n\u001b[32m   4104\u001b[39m     indexer = [indexer]\n",
      "\u001b[36mFile \u001b[39m\u001b[32m~/Projects/CAB420_GROUP_A/cab420_GROUP_A_ENV/lib/python3.12/site-packages/pandas/core/indexes/range.py:417\u001b[39m, in \u001b[36mRangeIndex.get_loc\u001b[39m\u001b[34m(self, key)\u001b[39m\n\u001b[32m    415\u001b[39m         \u001b[38;5;28;01mraise\u001b[39;00m \u001b[38;5;167;01mKeyError\u001b[39;00m(key) \u001b[38;5;28;01mfrom\u001b[39;00m\u001b[38;5;250m \u001b[39m\u001b[34;01merr\u001b[39;00m\n\u001b[32m    416\u001b[39m \u001b[38;5;28;01mif\u001b[39;00m \u001b[38;5;28misinstance\u001b[39m(key, Hashable):\n\u001b[32m--> \u001b[39m\u001b[32m417\u001b[39m     \u001b[38;5;28;01mraise\u001b[39;00m \u001b[38;5;167;01mKeyError\u001b[39;00m(key)\n\u001b[32m    418\u001b[39m \u001b[38;5;28mself\u001b[39m._check_indexing_error(key)\n\u001b[32m    419\u001b[39m \u001b[38;5;28;01mraise\u001b[39;00m \u001b[38;5;167;01mKeyError\u001b[39;00m(key)\n",
      "\u001b[31mKeyError\u001b[39m: 'duration'"
     ]
    },
    {
     "data": {
      "text/plain": [
       "<Figure size 1000x500 with 0 Axes>"
      ]
     },
     "metadata": {},
     "output_type": "display_data"
    }
   ],
   "source": [
    "import matplotlib.pyplot as plt\n",
    "import cv2\n",
    "import random\n",
    "import os\n",
    "import glob\n",
    "import cv2\n",
    "import pandas as pd\n",
    "import seaborn as sns\n",
    "\n",
    "\n",
    "def show_sample_frames(base_dir, num_clips=3, frames_per_clip=5):\n",
    "    mp4_files = glob.glob(os.path.join(base_dir, \"**\", \"*.mp4\"), recursive=True)\n",
    "    samples = random.sample(mp4_files, min(num_clips, len(mp4_files)))\n",
    "\n",
    "    for clip_path in samples:\n",
    "        cap = cv2.VideoCapture(clip_path)\n",
    "        total_frames = int(cap.get(cv2.CAP_PROP_FRAME_COUNT))\n",
    "        step = max(1, total_frames // frames_per_clip)\n",
    "        frame_indices = [i * step for i in range(frames_per_clip)]\n",
    "        \n",
    "        fig, axes = plt.subplots(1, frames_per_clip, figsize=(15, 3))\n",
    "        fig.suptitle(f\"Clip: {os.path.basename(clip_path)}\", fontsize=12)\n",
    "\n",
    "        for i, frame_idx in enumerate(frame_indices):\n",
    "            cap.set(cv2.CAP_PROP_POS_FRAMES, frame_idx)\n",
    "            ret, frame = cap.read()\n",
    "            if ret:\n",
    "                frame_rgb = cv2.cvtColor(frame, cv2.COLOR_BGR2RGB)\n",
    "                axes[i].imshow(frame_rgb)\n",
    "                axes[i].axis(\"off\")\n",
    "            else:\n",
    "                axes[i].set_visible(False)\n",
    "\n",
    "        cap.release()\n",
    "        plt.tight_layout()\n",
    "        plt.show()\n",
    "\n",
    "def collect_mp4_stats(base_dir):\n",
    "    stats = []\n",
    "\n",
    "    for path in glob.glob(os.path.join(base_dir, \"**\", \"*.mp4\"), recursive=True):\n",
    "        cap = cv2.VideoCapture(path)\n",
    "        if not cap.isOpened():\n",
    "            continue\n",
    "\n",
    "        frames = cap.get(cv2.CAP_PROP_FRAME_COUNT)\n",
    "        fps = cap.get(cv2.CAP_PROP_FPS)\n",
    "        duration = frames / fps if fps > 0 else 0\n",
    "        width = int(cap.get(cv2.CAP_PROP_FRAME_WIDTH))\n",
    "        height = int(cap.get(cv2.CAP_PROP_FRAME_HEIGHT))\n",
    "\n",
    "        label = os.path.basename(os.path.dirname(path))\n",
    "        split = os.path.basename(os.path.dirname(os.path.dirname(path)))\n",
    "\n",
    "        stats.append({\n",
    "            \"file\": os.path.basename(path),\n",
    "            \"split\": split,\n",
    "            \"label\": label,\n",
    "            \"duration\": duration,\n",
    "            \"fps\": fps,\n",
    "            \"width\": width,\n",
    "            \"height\": height,\n",
    "            \"resolution\": f\"{width}x{height}\",\n",
    "        })\n",
    "\n",
    "        cap.release()\n",
    "\n",
    "    return pd.DataFrame(stats)\n",
    "\n",
    "df_stats = collect_mp4_stats(OUTPUT_DIR)\n",
    "print(df_stats.head())\n",
    "show_sample_frames(OUTPUT_DIR, num_clips=3, frames_per_clip=5)\n",
    "\n",
    "plt.figure(figsize=(10, 5))\n",
    "sns.histplot(df_stats[\"duration\"], bins=30, kde=True)\n",
    "plt.title(\"Distribution of Clip Durations\")\n",
    "plt.xlabel(\"Duration (seconds)\")\n",
    "plt.ylabel(\"Count\")\n",
    "plt.show()\n",
    "\n",
    "plt.figure(figsize=(10, 5))\n",
    "sns.histplot(df_stats[\"fps\"], bins=20, kde=True)\n",
    "plt.title(\"Distribution of FPS\")\n",
    "plt.xlabel(\"Frames per Second\")\n",
    "plt.ylabel(\"Count\")\n",
    "plt.show()\n",
    "\n",
    "plt.figure(figsize=(10, 5))\n",
    "sns.countplot(data=df_stats, x=\"resolution\", order=df_stats[\"resolution\"].value_counts().index)\n",
    "plt.title(\"Video Resolution Distribution\")\n",
    "plt.xticks(rotation=45)\n",
    "plt.ylabel(\"Number of Clips\")\n",
    "plt.xlabel(\"Resolution\")\n",
    "plt.show()"
   ]
  },
  {
   "cell_type": "code",
   "execution_count": 66,
   "id": "f8c31c2c-6cfd-4178-9efc-e95a829a93be",
   "metadata": {},
   "outputs": [],
   "source": [
    "import os\n",
    "import torch\n",
    "import torch.nn as nn\n",
    "import random\n",
    "import numpy as np\n",
    "\n",
    "from PIL import Image\n",
    "from torch.utils.data import Dataset, DataLoader\n",
    "from torchvision import transforms\n",
    "from torchvision.io import read_video\n",
    "from decord import VideoReader\n",
    "from decord import cpu\n",
    "\n",
    "\n",
    "class VideoDataset(Dataset):\n",
    "    def __init__(self, root_dir, transform=None, num_frames=30, class_to_idx=None):\n",
    "        self.root_dir = root_dir\n",
    "        self.transform = transform\n",
    "        self.num_frames = num_frames\n",
    "\n",
    "        if class_to_idx is None:\n",
    "            self.classes = sorted(os.listdir(root_dir))\n",
    "            self.class_to_idx = {cls_name: i for i, cls_name in enumerate(self.classes)}\n",
    "        else:\n",
    "            self.class_to_idx = class_to_idx\n",
    "            self.classes = list(class_to_idx.keys())\n",
    "\n",
    "        self.video_paths = []\n",
    "        for label in self.classes:\n",
    "            label_dir = os.path.join(root_dir, label)\n",
    "            if os.path.isdir(label_dir):\n",
    "                for file in os.listdir(label_dir):\n",
    "                    if file.endswith(\".mp4\"):\n",
    "                        self.video_paths.append((os.path.join(label_dir, file), label))\n",
    "\n",
    "    def __len__(self):\n",
    "        return len(self.video_paths)\n",
    "\n",
    "    def __getitem__(self, idx):\n",
    "        for _ in range(5):\n",
    "            video_path, label = self.video_paths[idx]\n",
    "            try:\n",
    "                vr = VideoReader(video_path, ctx=cpu(0))\n",
    "                total_frames = len(vr)\n",
    "                if total_frames == 0:\n",
    "                    raise ValueError(\"Empty video\")\n",
    "\n",
    "                if total_frames >= self.num_frames:\n",
    "                    indices = np.linspace(0, total_frames - 1, self.num_frames, dtype=int)\n",
    "                else:\n",
    "                    indices = list(range(total_frames))\n",
    "                    while len(indices) < self.num_frames:\n",
    "                        indices += indices[:self.num_frames - len(indices)]\n",
    "                frames = vr.get_batch(indices).asnumpy()\n",
    "\n",
    "                images = [Image.fromarray(frame) for frame in frames]\n",
    "                if self.transform:\n",
    "                    images = [self.transform(img) for img in images]\n",
    "\n",
    "                frames_tensor = torch.stack(images)\n",
    "                label_idx = self.class_to_idx[label]\n",
    "                return frames_tensor, label_idx\n",
    "\n",
    "            except Exception as e:\n",
    "                print(f\"[Skipped] {video_path}: {e}\")\n",
    "                idx = (idx + 1) % len(self.video_paths)\n",
    "\n",
    "        dummy = torch.zeros((self.num_frames, 3, 224, 224))\n",
    "        return dummy, -1"
   ]
  },
  {
   "cell_type": "code",
   "execution_count": 67,
   "id": "88e9c61e-778d-481b-ba2b-efaf2625ce94",
   "metadata": {},
   "outputs": [],
   "source": [
    "video_transforms_old = transforms.Compose([\n",
    "    transforms.Resize((128, 128)),  \n",
    "    transforms.ToTensor(),  \n",
    "    transforms.RandomHorizontalFlip(),  \n",
    "    transforms.Normalize(mean=[0.485, 0.456, 0.406], std=[0.229, 0.224, 0.225])  \n",
    "])"
   ]
  },
  {
   "cell_type": "code",
   "execution_count": 68,
   "id": "2eb14fc7-63a9-489b-8cef-78b5b91d8b17",
   "metadata": {},
   "outputs": [],
   "source": [
    "video_transforms = transforms.Compose([\n",
    "    transforms.Resize((128, 128)),\n",
    "    transforms.RandomHorizontalFlip(),\n",
    "    transforms.RandomRotation(10),\n",
    "    transforms.ColorJitter(brightness=0.2, contrast=0.2),\n",
    "    transforms.ToTensor(),\n",
    "])"
   ]
  },
  {
   "cell_type": "code",
   "execution_count": 69,
   "id": "2e9a13d1-ae84-4f17-91a0-a5669f179251",
   "metadata": {},
   "outputs": [],
   "source": [
    "from torchvision.datasets.folder import find_classes\n",
    "\n",
    "classes, class_to_idx = find_classes(train_dir)\n",
    "\n",
    "train_dataset = VideoDataset(train_dir, transform=video_transforms, class_to_idx=class_to_idx)\n",
    "val_dataset = VideoDataset(val_dir, transform=video_transforms, class_to_idx=class_to_idx)\n",
    "test_dataset = VideoDataset(test_dir, transform=video_transforms, class_to_idx=class_to_idx)"
   ]
  },
  {
   "cell_type": "code",
   "execution_count": 70,
   "id": "26303933-82b7-46ca-97cf-016bb887ac89",
   "metadata": {},
   "outputs": [
    {
     "name": "stdout",
     "output_type": "stream",
     "text": [
      "Train loader\n",
      "Frames shape: torch.Size([1, 30, 3, 128, 128])\n",
      "Labels: tensor([26])\n"
     ]
    }
   ],
   "source": [
    "train_loader = DataLoader(\n",
    "    train_dataset,\n",
    "    batch_size=5,  \n",
    "    shuffle=True,\n",
    "    num_workers=0,\n",
    "    persistent_workers=False\n",
    ")\n",
    "\n",
    "for frames, labels in train_loader:\n",
    "    print(\"Train loader\")\n",
    "    print(f\"Frames shape: {frames.shape}\")\n",
    "    print(f\"Labels: {labels}\")\n",
    "    break"
   ]
  },
  {
   "cell_type": "code",
   "execution_count": 71,
   "id": "c196e1c3-e889-4875-aec8-e1c37b9a66b2",
   "metadata": {},
   "outputs": [
    {
     "name": "stdout",
     "output_type": "stream",
     "text": [
      "Val Loader\n",
      "frames shape: torch.Size([1, 30, 3, 128, 128])\n",
      "labels: tensor([10])\n"
     ]
    }
   ],
   "source": [
    "val_loader = DataLoader(\n",
    "    val_dataset,\n",
    "    batch_size=5,  \n",
    "    shuffle=True,\n",
    "    num_workers=0,\n",
    "    persistent_workers=False\n",
    ")\n",
    "\n",
    "for frames, labels in val_loader:\n",
    "    print(\"Val Loader\")\n",
    "    print(f\"frames shape: {frames.shape}\")\n",
    "    print(f\"labels: {labels}\")\n",
    "    break"
   ]
  },
  {
   "cell_type": "code",
   "execution_count": 72,
   "id": "3c7b0654-6975-4b8a-a777-e9abd133e759",
   "metadata": {},
   "outputs": [
    {
     "ename": "ValueError",
     "evalue": "num_samples should be a positive integer value, but got num_samples=0",
     "output_type": "error",
     "traceback": [
      "\u001b[31m---------------------------------------------------------------------------\u001b[39m",
      "\u001b[31mValueError\u001b[39m                                Traceback (most recent call last)",
      "\u001b[36mCell\u001b[39m\u001b[36m \u001b[39m\u001b[32mIn[72]\u001b[39m\u001b[32m, line 1\u001b[39m\n\u001b[32m----> \u001b[39m\u001b[32m1\u001b[39m test_loader = \u001b[43mDataLoader\u001b[49m\u001b[43m(\u001b[49m\n\u001b[32m      2\u001b[39m \u001b[43m    \u001b[49m\u001b[43mtest_dataset\u001b[49m\u001b[43m,\u001b[49m\n\u001b[32m      3\u001b[39m \u001b[43m    \u001b[49m\u001b[43mbatch_size\u001b[49m\u001b[43m=\u001b[49m\u001b[32;43m5\u001b[39;49m\u001b[43m,\u001b[49m\u001b[43m  \u001b[49m\n\u001b[32m      4\u001b[39m \u001b[43m    \u001b[49m\u001b[43mshuffle\u001b[49m\u001b[43m=\u001b[49m\u001b[38;5;28;43;01mTrue\u001b[39;49;00m\u001b[43m,\u001b[49m\n\u001b[32m      5\u001b[39m \u001b[43m    \u001b[49m\u001b[43mnum_workers\u001b[49m\u001b[43m=\u001b[49m\u001b[32;43m0\u001b[39;49m\u001b[43m,\u001b[49m\u001b[43m  \u001b[49m\n\u001b[32m      6\u001b[39m \u001b[43m    \u001b[49m\u001b[43mpersistent_workers\u001b[49m\u001b[43m=\u001b[49m\u001b[38;5;28;43;01mFalse\u001b[39;49;00m\n\u001b[32m      7\u001b[39m \u001b[43m)\u001b[49m\n\u001b[32m      9\u001b[39m \u001b[38;5;28;01mfor\u001b[39;00m frames, labels \u001b[38;5;129;01min\u001b[39;00m test_loader:\n\u001b[32m     10\u001b[39m     \u001b[38;5;28mprint\u001b[39m(\u001b[33m\"\u001b[39m\u001b[33mTest Loader\u001b[39m\u001b[33m\"\u001b[39m)\n",
      "\u001b[36mFile \u001b[39m\u001b[32m/opt/conda/lib/python3.11/site-packages/torch/utils/data/dataloader.py:385\u001b[39m, in \u001b[36mDataLoader.__init__\u001b[39m\u001b[34m(self, dataset, batch_size, shuffle, sampler, batch_sampler, num_workers, collate_fn, pin_memory, drop_last, timeout, worker_init_fn, multiprocessing_context, generator, prefetch_factor, persistent_workers, pin_memory_device, in_order)\u001b[39m\n\u001b[32m    383\u001b[39m \u001b[38;5;28;01melse\u001b[39;00m:  \u001b[38;5;66;03m# map-style\u001b[39;00m\n\u001b[32m    384\u001b[39m     \u001b[38;5;28;01mif\u001b[39;00m shuffle:\n\u001b[32m--> \u001b[39m\u001b[32m385\u001b[39m         sampler = \u001b[43mRandomSampler\u001b[49m\u001b[43m(\u001b[49m\u001b[43mdataset\u001b[49m\u001b[43m,\u001b[49m\u001b[43m \u001b[49m\u001b[43mgenerator\u001b[49m\u001b[43m=\u001b[49m\u001b[43mgenerator\u001b[49m\u001b[43m)\u001b[49m  \u001b[38;5;66;03m# type: ignore[arg-type]\u001b[39;00m\n\u001b[32m    386\u001b[39m     \u001b[38;5;28;01melse\u001b[39;00m:\n\u001b[32m    387\u001b[39m         sampler = SequentialSampler(dataset)  \u001b[38;5;66;03m# type: ignore[arg-type]\u001b[39;00m\n",
      "\u001b[36mFile \u001b[39m\u001b[32m/opt/conda/lib/python3.11/site-packages/torch/utils/data/sampler.py:156\u001b[39m, in \u001b[36mRandomSampler.__init__\u001b[39m\u001b[34m(self, data_source, replacement, num_samples, generator)\u001b[39m\n\u001b[32m    151\u001b[39m     \u001b[38;5;28;01mraise\u001b[39;00m \u001b[38;5;167;01mTypeError\u001b[39;00m(\n\u001b[32m    152\u001b[39m         \u001b[33mf\u001b[39m\u001b[33m\"\u001b[39m\u001b[33mreplacement should be a boolean value, but got replacement=\u001b[39m\u001b[38;5;132;01m{\u001b[39;00m\u001b[38;5;28mself\u001b[39m.replacement\u001b[38;5;132;01m}\u001b[39;00m\u001b[33m\"\u001b[39m\n\u001b[32m    153\u001b[39m     )\n\u001b[32m    155\u001b[39m \u001b[38;5;28;01mif\u001b[39;00m \u001b[38;5;129;01mnot\u001b[39;00m \u001b[38;5;28misinstance\u001b[39m(\u001b[38;5;28mself\u001b[39m.num_samples, \u001b[38;5;28mint\u001b[39m) \u001b[38;5;129;01mor\u001b[39;00m \u001b[38;5;28mself\u001b[39m.num_samples <= \u001b[32m0\u001b[39m:\n\u001b[32m--> \u001b[39m\u001b[32m156\u001b[39m     \u001b[38;5;28;01mraise\u001b[39;00m \u001b[38;5;167;01mValueError\u001b[39;00m(\n\u001b[32m    157\u001b[39m         \u001b[33mf\u001b[39m\u001b[33m\"\u001b[39m\u001b[33mnum_samples should be a positive integer value, but got num_samples=\u001b[39m\u001b[38;5;132;01m{\u001b[39;00m\u001b[38;5;28mself\u001b[39m.num_samples\u001b[38;5;132;01m}\u001b[39;00m\u001b[33m\"\u001b[39m\n\u001b[32m    158\u001b[39m     )\n",
      "\u001b[31mValueError\u001b[39m: num_samples should be a positive integer value, but got num_samples=0"
     ]
    }
   ],
   "source": [
    "test_loader = DataLoader(\n",
    "    test_dataset,\n",
    "    batch_size=5,  \n",
    "    shuffle=True,\n",
    "    num_workers=0,  \n",
    "    persistent_workers=False\n",
    ")\n",
    "\n",
    "for frames, labels in test_loader:\n",
    "    print(\"Test Loader\")\n",
    "    print(f\"frames shape: {frames.shape}\")\n",
    "    print(f\"labels: {labels}\")\n",
    "    break"
   ]
  },
  {
   "cell_type": "code",
   "execution_count": null,
   "id": "e09e7fe5-1a25-48c5-8e1e-e538a2c27116",
   "metadata": {
    "scrolled": true
   },
   "outputs": [],
   "source": [
    "print(\"Train classes:\", train_dataset.class_to_idx)\n",
    "print(\"Val classes:  \", val_dataset.class_to_idx)\n",
    "print(\"Test classes: \", test_dataset.class_to_idx)\n",
    "\n",
    "assert train_dataset.class_to_idx == val_dataset.class_to_idx == test_dataset.class_to_idx, \\\n",
    "    \"Mismatch in class_to_idx between datasets!\""
   ]
  },
  {
   "cell_type": "code",
   "execution_count": null,
   "id": "9abfc49d-6b7f-4747-8c2d-35e1b7c7d4ae",
   "metadata": {},
   "outputs": [],
   "source": [
    "from collections import Counter\n",
    "import os\n",
    "\n",
    "train_class_counts = Counter()\n",
    "for path, cls in train_dataset.video_paths:\n",
    "    train_class_counts[cls] += 1\n",
    "\n",
    "print(train_class_counts)"
   ]
  },
  {
   "cell_type": "code",
   "execution_count": null,
   "id": "c3ba1a6a-5904-4eda-9c1e-36e8f32c944e",
   "metadata": {},
   "outputs": [],
   "source": [
    "import torch\n",
    "import torch.nn as nn\n",
    "import torchvision.models as models\n",
    "\n",
    "class ResNetForVideoClassification(nn.Module):\n",
    "    def __init__(self, num_classes, num_frames=30, dropout_prob=0.5):\n",
    "        super().__init__()\n",
    "        self.num_frames = num_frames\n",
    "        \n",
    "        base_model = models.resnet18(pretrained=True)\n",
    "        feature_dim = base_model.fc.in_features\n",
    "        base_model.fc = nn.Identity()\n",
    "        self.resnet = base_model\n",
    "\n",
    "        self.dropout = nn.Dropout(dropout_prob)\n",
    "        self.fc = nn.Linear(feature_dim, num_classes)\n",
    "\n",
    "    def forward(self, x):\n",
    "        batch_size, frames, c, h, w = x.shape\n",
    "        x = x.view(-1, c, h, w) \n",
    "\n",
    "        features = self.resnet(x)  \n",
    "        features = features.view(batch_size, frames, -1) \n",
    "        features = features.mean(dim=1)  \n",
    "\n",
    "        features = self.dropout(features)\n",
    "        return self.fc(features)"
   ]
  },
  {
   "cell_type": "code",
   "execution_count": null,
   "id": "d7c1594b-00dc-45db-ac3f-f1eadc31b4a1",
   "metadata": {
    "scrolled": true
   },
   "outputs": [],
   "source": [
    "from tqdm import tqdm\n",
    "import os\n",
    "import numpy as np\n",
    "from sklearn.utils.class_weight import compute_class_weight\n",
    "\n",
    "os.environ[\"CUDA_LAUNCH_BLOCKING\"] = \"1\"\n",
    "\n",
    "device = torch.device(\"cuda\" if torch.cuda.is_available() else \"cpu\")\n",
    "\n",
    "num_classes = len(train_dataset.classes)\n",
    "num_frames = 30\n",
    "\n",
    "labels = [train_dataset.classes.index(label) for _, label in train_dataset.video_paths]\n",
    "class_weights = compute_class_weight('balanced', classes=np.arange(num_classes), y=labels)\n",
    "\n",
    "weights_tensor = torch.tensor(class_weights, dtype=torch.float).to(device)\n",
    "\n",
    "model = ResNetForVideoClassification(num_classes=num_classes, num_frames=num_frames).to(device)\n",
    "criterion = nn.CrossEntropyLoss(weight=weights_tensor) \n",
    "optimizer = torch.optim.Adam(model.parameters(), lr=1e-4, weight_decay=1e-5)\n",
    "scheduler = torch.optim.lr_scheduler.StepLR(optimizer, step_size=5, gamma=0.5)\n",
    "\n",
    "num_epochs = 10\n",
    "\n",
    "train_losses = []\n",
    "val_losses = []\n",
    "train_accuracies = []\n",
    "val_accuracies = []\n",
    "\n",
    "for epoch in range(num_epochs):\n",
    "    model.train()\n",
    "    scheduler.step()\n",
    "    running_loss = 0.0\n",
    "    correct = 0\n",
    "    total = 0\n",
    "\n",
    "    train_bar = tqdm(train_loader, desc=f\"[Epoch {epoch+1}/{num_epochs}] Training\", leave=False)\n",
    "\n",
    "    for frames, labels in train_bar:\n",
    "        frames = frames.to(device)\n",
    "        labels = labels.to(device)\n",
    "\n",
    "        optimizer.zero_grad()\n",
    "        outputs = model(frames)\n",
    "        loss = criterion(outputs, labels)\n",
    "        loss.backward()\n",
    "        optimizer.step()\n",
    "\n",
    "        running_loss += loss.item()\n",
    "        _, predicted = outputs.max(1)\n",
    "        correct += (predicted == labels).sum().item()\n",
    "        total += labels.size(0)\n",
    "\n",
    "        train_bar.set_postfix(loss=loss.item(), acc=100 * correct / total)\n",
    "\n",
    "    train_loss = running_loss / len(train_loader)\n",
    "    train_accuracy = 100 * correct / total\n",
    "\n",
    "    model.eval()\n",
    "\n",
    "    val_loss = 0.0\n",
    "    val_correct = 0\n",
    "    val_total = 0\n",
    "\n",
    "    val_bar = tqdm(val_loader, desc=f\"[Epoch {epoch+1}/{num_epochs}] Validation\", leave=False)\n",
    "\n",
    "    with torch.no_grad():\n",
    "        for frames, labels in val_bar:\n",
    "            frames = frames.to(device)\n",
    "            labels = labels.to(device)\n",
    "            outputs = model(frames)\n",
    "            loss = criterion(outputs, labels)\n",
    "\n",
    "            val_loss += loss.item()\n",
    "            _, predicted = outputs.max(1)\n",
    "            val_correct += (predicted == labels).sum().item()\n",
    "            val_total += labels.size(0)\n",
    "\n",
    "            val_bar.set_postfix(loss=loss.item(), acc=100 * val_correct / val_total)\n",
    "\n",
    "    val_loss /= len(val_loader)\n",
    "    val_accuracy = 100 * val_correct / val_total\n",
    "\n",
    "    train_losses.append(train_loss)\n",
    "    train_accuracies.append(train_accuracy)\n",
    "    val_losses.append(val_loss)\n",
    "    val_accuracies.append(val_accuracy)\n",
    "\n",
    "    print(f\"\\nEpoch [{epoch+1}/{num_epochs}] \"\n",
    "          f\"Train Loss: {train_loss:.4f}, Train Acc: {train_accuracy:.2f}% | \"\n",
    "          f\"Val Loss: {val_loss:.4f}, Val Acc: {val_accuracy:.2f}%\\n\")"
   ]
  },
  {
   "cell_type": "code",
   "execution_count": null,
   "id": "8bda1de1-cdeb-4824-9030-a17985d4cff7",
   "metadata": {},
   "outputs": [],
   "source": [
    "from sklearn.metrics import classification_report, confusion_matrix\n",
    "import seaborn as sns\n",
    "import torch.nn.functional as F\n",
    "import matplotlib.pyplot as plt\n",
    "import torchvision.transforms as T\n",
    "import torch\n",
    "\n",
    "model.eval()\n",
    "y_true = []\n",
    "y_pred = []\n",
    "\n",
    "unnormalize = T.Normalize(mean=[-0.5/0.5]*3, std=[1/0.5]*3)\n",
    "\n",
    "def show_video_clip(frames_tensor, true_label, pred_label, class_names):\n",
    "    frames_tensor = frames_tensor.cpu()\n",
    "    T_frames = frames_tensor.shape[0]\n",
    "\n",
    "    plt.figure(figsize=(T_frames * 2, 3))\n",
    "\n",
    "    for t in range(T_frames):\n",
    "        frame = unnormalize(frames_tensor[t])\n",
    "        frame = torch.clamp(frame, 0, 1)  \n",
    "        np_frame = frame.permute(1, 2, 0).numpy()\n",
    "\n",
    "        plt.subplot(1, T_frames, t + 1)\n",
    "        plt.imshow(np_frame)\n",
    "        plt.axis('off')\n",
    "        plt.title(f\"t={t}\")\n",
    "\n",
    "    plt.suptitle(f\"True: {class_names[true_label]} | Pred: {class_names[pred_label]}\", fontsize=14)\n",
    "    plt.tight_layout()\n",
    "    plt.show()\n",
    "\n",
    "with torch.no_grad():\n",
    "    for frames, labels in test_loader:\n",
    "        frames = frames.to(device)\n",
    "        labels = labels.to(device)\n",
    "        outputs = model(frames)\n",
    "        preds = outputs.argmax(dim=1)\n",
    "        \n",
    "        mask = labels != -1\n",
    "        y_true.extend(labels[mask].cpu().numpy())\n",
    "        y_pred.extend(preds[mask].cpu().numpy())\n",
    "\n",
    "print(f\"Unique classes in y_true: {len(np.unique(y_true))}\")\n",
    "print(f\"Classes predicted in y_pred: {np.unique(y_pred)}\")\n",
    "\n",
    "missing_classes = set(test_dataset.classes) - set(np.unique(y_true))\n",
    "print(f\"Missing classes: {missing_classes}\")\n",
    "\n",
    "print(classification_report(y_true, y_pred, target_names=test_dataset.classes, labels=np.unique(y_true)))\n",
    "\n",
    "conf_mat = confusion_matrix(y_true, y_pred)\n",
    "plt.figure(figsize=(8, 6))\n",
    "sns.heatmap(conf_mat, annot=True, fmt=\"d\", cmap=\"Blues\", xticklabels=test_dataset.classes, yticklabels=test_dataset.classes)\n",
    "plt.title(\"Confusion Matrix\")\n",
    "plt.xlabel(\"Predicted\")\n",
    "plt.ylabel(\"Actual\")\n",
    "plt.tight_layout()\n",
    "plt.show()\n",
    "\n",
    "frames, labels = next(iter(test_loader))\n",
    "frames = frames.to(device)\n",
    "outputs = model(frames)\n",
    "preds = outputs.argmax(dim=1)\n",
    "\n",
    "for i in range(len(frames)):\n",
    "    show_video_clip(frames[i], labels[i], preds[i], class_names=test_dataset.classes)\n",
    "    break "
   ]
  },
  {
   "cell_type": "code",
   "execution_count": null,
   "id": "dbf6d9a1-4312-4f47-a796-c7b17acffb29",
   "metadata": {},
   "outputs": [],
   "source": [
    "import matplotlib.pyplot as plt\n",
    "\n",
    "epochs = range(1, num_epochs + 1)\n",
    "\n",
    "plt.figure(figsize=(12, 5))\n",
    "plt.subplot(1, 2, 1)\n",
    "plt.plot(epochs, train_losses, label=\"Train Loss\")\n",
    "plt.plot(epochs, val_losses, label=\"Val Loss\")\n",
    "plt.xlabel(\"Epoch\")\n",
    "plt.ylabel(\"Loss\")\n",
    "plt.title(\"Loss over Epochs\")\n",
    "plt.legend()\n",
    "\n",
    "plt.subplot(1, 2, 2)\n",
    "plt.plot(epochs, train_accuracies, label=\"Train Acc\")\n",
    "plt.plot(epochs, val_accuracies, label=\"Val Acc\")\n",
    "plt.xlabel(\"Epoch\")\n",
    "plt.ylabel(\"Accuracy (%)\")\n",
    "plt.title(\"Accuracy over Epochs\")\n",
    "plt.legend()\n",
    "\n",
    "plt.tight_layout()\n",
    "plt.show()"
   ]
  }
 ],
 "metadata": {
  "kernelspec": {
   "display_name": "Python 3 (ipykernel)",
   "language": "python",
   "name": "python3"
  },
  "language_info": {
   "codemirror_mode": {
    "name": "ipython",
    "version": 3
   },
   "file_extension": ".py",
   "mimetype": "text/x-python",
   "name": "python",
   "nbconvert_exporter": "python",
   "pygments_lexer": "ipython3",
   "version": "3.12.3"
  }
 },
 "nbformat": 4,
 "nbformat_minor": 5
}
