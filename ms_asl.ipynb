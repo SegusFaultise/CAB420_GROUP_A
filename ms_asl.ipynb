{
 "cells": [
  {
   "cell_type": "code",
   "execution_count": 1,
   "id": "5ba06037-20c1-400d-97ed-1eb8780b1bb4",
   "metadata": {},
   "outputs": [],
   "source": [
    "MSASL_TRAIN_PATH = \"./MS-ASL/MSASL_train.json\"\n",
    "MSASL_VAL_PATH = \"./MS-ASL/MSASL_val.json\"\n",
    "MSASL_TEST_PATH = \"./MS-ASL/MSASL_test.json\""
   ]
  },
  {
   "cell_type": "code",
   "execution_count": 2,
   "id": "9ee76477-9eaa-499c-b73f-a0713c4cd75d",
   "metadata": {},
   "outputs": [
    {
     "data": {
      "text/html": [
       "<div>\n",
       "<style scoped>\n",
       "    .dataframe tbody tr th:only-of-type {\n",
       "        vertical-align: middle;\n",
       "    }\n",
       "\n",
       "    .dataframe tbody tr th {\n",
       "        vertical-align: top;\n",
       "    }\n",
       "\n",
       "    .dataframe thead th {\n",
       "        text-align: right;\n",
       "    }\n",
       "</style>\n",
       "<table border=\"1\" class=\"dataframe\">\n",
       "  <thead>\n",
       "    <tr style=\"text-align: right;\">\n",
       "      <th></th>\n",
       "      <th>org_text</th>\n",
       "      <th>clean_text</th>\n",
       "      <th>start_time</th>\n",
       "      <th>signer_id</th>\n",
       "      <th>signer</th>\n",
       "      <th>start</th>\n",
       "      <th>end</th>\n",
       "      <th>file</th>\n",
       "      <th>label</th>\n",
       "      <th>height</th>\n",
       "      <th>fps</th>\n",
       "      <th>end_time</th>\n",
       "      <th>url</th>\n",
       "      <th>text</th>\n",
       "      <th>box</th>\n",
       "      <th>width</th>\n",
       "      <th>review</th>\n",
       "    </tr>\n",
       "  </thead>\n",
       "  <tbody>\n",
       "    <tr>\n",
       "      <th>0</th>\n",
       "      <td>match [light-a-MATCH]</td>\n",
       "      <td>match</td>\n",
       "      <td>0.0</td>\n",
       "      <td>0</td>\n",
       "      <td>0</td>\n",
       "      <td>0</td>\n",
       "      <td>83</td>\n",
       "      <td>match light-a-MATCH</td>\n",
       "      <td>830</td>\n",
       "      <td>360.0</td>\n",
       "      <td>30.00</td>\n",
       "      <td>2.767</td>\n",
       "      <td>https://www.youtube.com/watch?v=C37R_Ix8-qs</td>\n",
       "      <td>match</td>\n",
       "      <td>[0.05754461884498596, 0.21637457609176636, 1.0...</td>\n",
       "      <td>640.0</td>\n",
       "      <td>NaN</td>\n",
       "    </tr>\n",
       "    <tr>\n",
       "      <th>1</th>\n",
       "      <td>FAIL</td>\n",
       "      <td>fail</td>\n",
       "      <td>0.0</td>\n",
       "      <td>0</td>\n",
       "      <td>-1</td>\n",
       "      <td>0</td>\n",
       "      <td>74</td>\n",
       "      <td>FAIL</td>\n",
       "      <td>542</td>\n",
       "      <td>360.0</td>\n",
       "      <td>25.00</td>\n",
       "      <td>2.960</td>\n",
       "      <td>https://www.youtube.com/watch?v=PIsUJl8BN_I</td>\n",
       "      <td>fail</td>\n",
       "      <td>[0.0657794177532196, 0.16717177629470825, 0.93...</td>\n",
       "      <td>480.0</td>\n",
       "      <td>NaN</td>\n",
       "    </tr>\n",
       "    <tr>\n",
       "      <th>2</th>\n",
       "      <td>laugh</td>\n",
       "      <td>laugh</td>\n",
       "      <td>0.0</td>\n",
       "      <td>4</td>\n",
       "      <td>26</td>\n",
       "      <td>0</td>\n",
       "      <td>31</td>\n",
       "      <td>SignSchool Laugh with Legs 2</td>\n",
       "      <td>312</td>\n",
       "      <td>360.0</td>\n",
       "      <td>29.97</td>\n",
       "      <td>1.034</td>\n",
       "      <td>www.youtube.com/watch?v=9FdHlMOnVjg</td>\n",
       "      <td>laugh</td>\n",
       "      <td>[0.13188594579696655, 0.32334136962890625, 1.0...</td>\n",
       "      <td>640.0</td>\n",
       "      <td>NaN</td>\n",
       "    </tr>\n",
       "    <tr>\n",
       "      <th>3</th>\n",
       "      <td>BOOK</td>\n",
       "      <td>book</td>\n",
       "      <td>0.0</td>\n",
       "      <td>0</td>\n",
       "      <td>-1</td>\n",
       "      <td>0</td>\n",
       "      <td>66</td>\n",
       "      <td>BOOK(3)</td>\n",
       "      <td>38</td>\n",
       "      <td>360.0</td>\n",
       "      <td>25.00</td>\n",
       "      <td>2.640</td>\n",
       "      <td>https://www.youtube.com/watch?v=J7tP98oDxqE</td>\n",
       "      <td>book</td>\n",
       "      <td>[0.05569887161254883, 0.25173279643058777, 0.9...</td>\n",
       "      <td>480.0</td>\n",
       "      <td>NaN</td>\n",
       "    </tr>\n",
       "    <tr>\n",
       "      <th>4</th>\n",
       "      <td>sign-language</td>\n",
       "      <td>sign language</td>\n",
       "      <td>0.0</td>\n",
       "      <td>0</td>\n",
       "      <td>-1</td>\n",
       "      <td>0</td>\n",
       "      <td>75</td>\n",
       "      <td>SIGN-LANGUAGE-S-CLAW-F</td>\n",
       "      <td>848</td>\n",
       "      <td>360.0</td>\n",
       "      <td>29.97</td>\n",
       "      <td>2.502</td>\n",
       "      <td>www.youtube.com/watch?v=N2mG9ZKjrGA</td>\n",
       "      <td>sign language</td>\n",
       "      <td>[0.03904399275779724, 0.24198183417320251, 1.0...</td>\n",
       "      <td>640.0</td>\n",
       "      <td>NaN</td>\n",
       "    </tr>\n",
       "  </tbody>\n",
       "</table>\n",
       "</div>"
      ],
      "text/plain": [
       "                org_text     clean_text  start_time  signer_id  signer  start  \\\n",
       "0  match [light-a-MATCH]          match         0.0          0       0      0   \n",
       "1                   FAIL           fail         0.0          0      -1      0   \n",
       "2                  laugh          laugh         0.0          4      26      0   \n",
       "3                   BOOK           book         0.0          0      -1      0   \n",
       "4          sign-language  sign language         0.0          0      -1      0   \n",
       "\n",
       "   end                          file  label  height    fps  end_time  \\\n",
       "0   83           match light-a-MATCH    830   360.0  30.00     2.767   \n",
       "1   74                          FAIL    542   360.0  25.00     2.960   \n",
       "2   31  SignSchool Laugh with Legs 2    312   360.0  29.97     1.034   \n",
       "3   66                       BOOK(3)     38   360.0  25.00     2.640   \n",
       "4   75        SIGN-LANGUAGE-S-CLAW-F    848   360.0  29.97     2.502   \n",
       "\n",
       "                                           url           text  \\\n",
       "0  https://www.youtube.com/watch?v=C37R_Ix8-qs          match   \n",
       "1  https://www.youtube.com/watch?v=PIsUJl8BN_I           fail   \n",
       "2          www.youtube.com/watch?v=9FdHlMOnVjg          laugh   \n",
       "3  https://www.youtube.com/watch?v=J7tP98oDxqE           book   \n",
       "4          www.youtube.com/watch?v=N2mG9ZKjrGA  sign language   \n",
       "\n",
       "                                                 box  width  review  \n",
       "0  [0.05754461884498596, 0.21637457609176636, 1.0...  640.0     NaN  \n",
       "1  [0.0657794177532196, 0.16717177629470825, 0.93...  480.0     NaN  \n",
       "2  [0.13188594579696655, 0.32334136962890625, 1.0...  640.0     NaN  \n",
       "3  [0.05569887161254883, 0.25173279643058777, 0.9...  480.0     NaN  \n",
       "4  [0.03904399275779724, 0.24198183417320251, 1.0...  640.0     NaN  "
      ]
     },
     "execution_count": 2,
     "metadata": {},
     "output_type": "execute_result"
    }
   ],
   "source": [
    "import json\n",
    "import pandas as pd\n",
    "\n",
    "with open(MSASL_TRAIN_PATH) as f:\n",
    "    train_data = json.load(f)\n",
    "\n",
    "with open(MSASL_VAL_PATH) as f:\n",
    "    val_data = json.load(f)\n",
    "\n",
    "with open(MSASL_TEST_PATH) as f:\n",
    "    test_data = json.load(f)\n",
    "\n",
    "train_df = pd.DataFrame(train_data)\n",
    "val_df = pd.DataFrame(val_data)\n",
    "test_df = pd.DataFrame(test_data)\n",
    "\n",
    "train_df.head()"
   ]
  },
  {
   "cell_type": "code",
   "execution_count": 3,
   "id": "deae567f-4656-4f52-853d-4269236f8d52",
   "metadata": {},
   "outputs": [],
   "source": [
    "import os\n",
    "from pytube import YouTube\n",
    "from moviepy.video.io.VideoFileClip import VideoFileClip\n",
    "from tqdm import tqdm\n",
    "\n",
    "OUTPUT_DIR = 'videos'\n",
    "\n",
    "os.makedirs(OUTPUT_DIR, exist_ok=True)\n",
    "\n",
    "def download_and_trim_video(sample, save_dir):\n",
    "    url = sample['url']\n",
    "    label = sample['label']\n",
    "    signer = sample['signer_id']\n",
    "    start = float(sample['start_time'])\n",
    "    end = float(sample['end_time'])\n",
    "\n",
    "    try:\n",
    "        yt = YouTube(url)\n",
    "        stream = yt.streams.filter(file_extension='mp4', progressive=True).first()\n",
    "        if stream is None:\n",
    "            print(f\"No suitable stream for: {url}\")\n",
    "            return None\n",
    "\n",
    "        video_path = os.path.join(save_dir, f\"{label}_{signer}.mp4\")\n",
    "        temp_path = os.path.join(save_dir, f\"temp_{label}_{signer}.mp4\")\n",
    "        \n",
    "        stream.download(filename=temp_path)\n",
    "\n",
    "        clip = VideoFileClip(temp_path).subclip(start, end)\n",
    "        clip.write_videofile(video_path, audio=False, verbose=False, logger=None)\n",
    "        clip.close()\n",
    "        os.remove(temp_path)\n",
    "\n",
    "        return video_path\n",
    "\n",
    "    except Exception as e:\n",
    "        print(f\"Failed to download or process {url}: {e}\")\n",
    "        return None"
   ]
  },
  {
   "cell_type": "code",
   "execution_count": 6,
   "id": "11ba3f41-0c68-4fec-b807-55f17555f1f9",
   "metadata": {},
   "outputs": [],
   "source": [
    "import yt_dlp\n",
    "import os\n",
    "from moviepy.video.io.VideoFileClip import VideoFileClip\n",
    "\n",
    "def download_with_ytdlp(url, filename):\n",
    "    ydl_opts = {\n",
    "        'format': 'best[ext=mp4]',\n",
    "        'outtmpl': filename,\n",
    "        'quiet': True\n",
    "    }\n",
    "    try:\n",
    "        with yt_dlp.YoutubeDL(ydl_opts) as ydl:\n",
    "            ydl.download([url])\n",
    "        return True\n",
    "    except Exception as e:\n",
    "        print(f\"yt-dlp failed: {e}\")\n",
    "        return False\n",
    "\n",
    "def download_and_trim_video(sample, save_dir):\n",
    "    url = sample['url']\n",
    "    label = sample['label']\n",
    "    signer = sample['signer_id']\n",
    "    start = float(sample['start_time'])\n",
    "    end = float(sample['end_time'])\n",
    "\n",
    "    base = f\"{label}_{signer}\"\n",
    "    video_path = os.path.join(save_dir, f\"{base}.mp4\")\n",
    "    temp_path = os.path.join(save_dir, f\"temp_{base}.mp4\")\n",
    "\n",
    "    if download_with_ytdlp(url, temp_path):\n",
    "        try:\n",
    "            clip = VideoFileClip(temp_path).subclip(start, end)\n",
    "            clip.write_videofile(video_path, audio=False, verbose=False, logger=None)\n",
    "            clip.close()\n",
    "            os.remove(temp_path)\n",
    "            return video_path\n",
    "        except Exception as e:\n",
    "            print(f\"Failed to clip video: {e}\")\n",
    "    return None"
   ]
  },
  {
   "cell_type": "code",
   "execution_count": 7,
   "id": "c512c404-6602-4065-b874-310265ce2de0",
   "metadata": {
    "scrolled": true
   },
   "outputs": [
    {
     "name": "stderr",
     "output_type": "stream",
     "text": [
      "  0%|                                                                                                                   | 0/100 [00:00<?, ?it/s]"
     ]
    },
    {
     "name": "stdout",
     "output_type": "stream",
     "text": [
      "                                                           "
     ]
    },
    {
     "name": "stderr",
     "output_type": "stream",
     "text": [
      "  1%|█                                                                                                          | 1/100 [00:04<08:02,  4.87s/it]"
     ]
    },
    {
     "name": "stdout",
     "output_type": "stream",
     "text": [
      "{'video_found': True, 'audio_found': True, 'metadata': {'major_brand': 'mp42', 'minor_version': '0', 'compatible_brands': 'isommp42', 'creation_time': '2023-02-04T09:47:19.000000Z'}, 'inputs': [{'streams': [{'input_number': 0, 'stream_number': 0, 'stream_type': 'video', 'language': None, 'default': True, 'size': [640, 360], 'bitrate': 244, 'fps': 30.0, 'codec_name': 'h264', 'profile': '(Main)', 'metadata': {'Metadata': '', 'creation_time': '2023-02-04T09:47:19.000000Z', 'handler_name': 'ISO Media file produced by Google Inc. Created on: 02/04/2023.', 'vendor_id': '[0][0][0][0]'}}, {'input_number': 0, 'stream_number': 1, 'stream_type': 'audio', 'language': None, 'default': True, 'fps': 44100, 'bitrate': 127, 'metadata': {'Metadata': '', 'creation_time': '2023-02-04T09:47:19.000000Z', 'handler_name': 'ISO Media file produced by Google Inc. Created on: 02/04/2023.', 'vendor_id': '[0][0][0][0]'}}], 'input_number': 0}], 'duration': 2.86, 'bitrate': 378, 'start': 0.0, 'default_video_input_number': 0, 'default_video_stream_number': 0, 'video_codec_name': 'h264', 'video_profile': '(Main)', 'video_size': [640, 360], 'video_bitrate': 244, 'video_fps': 30.0, 'default_audio_input_number': 0, 'default_audio_stream_number': 1, 'audio_fps': 44100, 'audio_bitrate': 127, 'video_duration': 2.86, 'video_n_frames': 85}\n",
      "/home/segus-faultise/Projects/CAB420_GROUP_A/cab420_GROUP_A_ENV/lib/python3.12/site-packages/imageio_ffmpeg/binaries/ffmpeg-linux-x86_64-v7.0.2 -i msasl_clips/temp_830_0.mp4 -loglevel error -f image2pipe -vf scale=640:360 -sws_flags bicubic -pix_fmt rgb24 -vcodec rawvideo -\n",
      "Failed to clip video: 'VideoFileClip' object has no attribute 'subclip'\n",
      "                                                           "
     ]
    },
    {
     "name": "stderr",
     "output_type": "stream",
     "text": [
      "  2%|██▏                                                                                                        | 2/100 [00:09<07:29,  4.59s/it]"
     ]
    },
    {
     "name": "stdout",
     "output_type": "stream",
     "text": [
      "{'video_found': True, 'audio_found': True, 'metadata': {'major_brand': 'mp42', 'minor_version': '0', 'compatible_brands': 'isommp42', 'creation_time': '2023-01-06T10:53:02.000000Z'}, 'inputs': [{'streams': [{'input_number': 0, 'stream_number': 0, 'stream_type': 'video', 'language': None, 'default': True, 'size': [480, 360], 'bitrate': 174, 'fps': 25.0, 'codec_name': 'h264', 'profile': '(Main)', 'metadata': {'Metadata': '', 'creation_time': '2023-01-06T10:53:02.000000Z', 'handler_name': 'ISO Media file produced by Google Inc. Created on: 01/06/2023.', 'vendor_id': '[0][0][0][0]'}}, {'input_number': 0, 'stream_number': 1, 'stream_type': 'audio', 'language': None, 'default': True, 'fps': 44100, 'bitrate': 127, 'metadata': {'Metadata': '', 'creation_time': '2023-01-06T10:53:02.000000Z', 'handler_name': 'ISO Media file produced by Google Inc. Created on: 01/06/2023.', 'vendor_id': '[0][0][0][0]'}}], 'input_number': 0}], 'duration': 3.04, 'bitrate': 309, 'start': 0.0, 'default_video_input_number': 0, 'default_video_stream_number': 0, 'video_codec_name': 'h264', 'video_profile': '(Main)', 'video_size': [480, 360], 'video_bitrate': 174, 'video_fps': 25.0, 'default_audio_input_number': 0, 'default_audio_stream_number': 1, 'audio_fps': 44100, 'audio_bitrate': 127, 'video_duration': 3.04, 'video_n_frames': 76}\n",
      "/home/segus-faultise/Projects/CAB420_GROUP_A/cab420_GROUP_A_ENV/lib/python3.12/site-packages/imageio_ffmpeg/binaries/ffmpeg-linux-x86_64-v7.0.2 -i msasl_clips/temp_542_0.mp4 -loglevel error -f image2pipe -vf scale=480:360 -sws_flags bicubic -pix_fmt rgb24 -vcodec rawvideo -\n",
      "Failed to clip video: 'VideoFileClip' object has no attribute 'subclip'\n"
     ]
    },
    {
     "name": "stderr",
     "output_type": "stream",
     "text": [
      "WARNING: [generic] The url doesn't specify the protocol, trying with http\n",
      "ERROR: [youtube] 9FdHlMOnVjg: Private video. Sign in if you've been granted access to this video. Use --cookies-from-browser or --cookies for the authentication. See  https://github.com/yt-dlp/yt-dlp/wiki/FAQ#how-do-i-pass-cookies-to-yt-dlp  for how to manually pass cookies. Also see  https://github.com/yt-dlp/yt-dlp/wiki/Extractors#exporting-youtube-cookies  for tips on effectively exporting YouTube cookies\n",
      "  3%|███▏                                                                                                       | 3/100 [00:10<04:59,  3.08s/it]"
     ]
    },
    {
     "name": "stdout",
     "output_type": "stream",
     "text": [
      "yt-dlp failed: ERROR: [youtube] 9FdHlMOnVjg: Private video. Sign in if you've been granted access to this video. Use --cookies-from-browser or --cookies for the authentication. See  https://github.com/yt-dlp/yt-dlp/wiki/FAQ#how-do-i-pass-cookies-to-yt-dlp  for how to manually pass cookies. Also see  https://github.com/yt-dlp/yt-dlp/wiki/Extractors#exporting-youtube-cookies  for tips on effectively exporting YouTube cookies\n",
      "                                                           "
     ]
    },
    {
     "name": "stderr",
     "output_type": "stream",
     "text": [
      "  4%|████▎                                                                                                      | 4/100 [00:14<05:47,  3.62s/it]"
     ]
    },
    {
     "name": "stdout",
     "output_type": "stream",
     "text": [
      "{'video_found': True, 'audio_found': True, 'metadata': {'major_brand': 'mp42', 'minor_version': '0', 'compatible_brands': 'isommp42', 'creation_time': '2024-12-22T17:23:52.000000Z', 'encoder': 'Google'}, 'inputs': [{'streams': [{'input_number': 0, 'stream_number': 0, 'stream_type': 'video', 'language': None, 'default': True, 'size': [480, 360], 'bitrate': 231, 'fps': 25.0, 'codec_name': 'h264', 'profile': '(Main)', 'metadata': {'Metadata': '', 'creation_time': '2024-12-22T17:23:52.000000Z', 'handler_name': 'ISO Media file produced by Google Inc. Created on: 12/22/2024.', 'vendor_id': '[0][0][0][0]'}}, {'input_number': 0, 'stream_number': 1, 'stream_type': 'audio', 'language': None, 'default': True, 'fps': 44100, 'bitrate': 127, 'metadata': {'Metadata': '', 'creation_time': '2024-12-22T17:23:52.000000Z', 'handler_name': 'ISO Media file produced by Google Inc. Created on: 12/22/2024.', 'vendor_id': '[0][0][0][0]'}}], 'input_number': 0}], 'duration': 2.69, 'bitrate': 366, 'start': 0.0, 'default_video_input_number': 0, 'default_video_stream_number': 0, 'video_codec_name': 'h264', 'video_profile': '(Main)', 'video_size': [480, 360], 'video_bitrate': 231, 'video_fps': 25.0, 'default_audio_input_number': 0, 'default_audio_stream_number': 1, 'audio_fps': 44100, 'audio_bitrate': 127, 'video_duration': 2.69, 'video_n_frames': 67}\n",
      "/home/segus-faultise/Projects/CAB420_GROUP_A/cab420_GROUP_A_ENV/lib/python3.12/site-packages/imageio_ffmpeg/binaries/ffmpeg-linux-x86_64-v7.0.2 -i msasl_clips/temp_38_0.mp4 -loglevel error -f image2pipe -vf scale=480:360 -sws_flags bicubic -pix_fmt rgb24 -vcodec rawvideo -\n",
      "Failed to clip video: 'VideoFileClip' object has no attribute 'subclip'\n"
     ]
    },
    {
     "name": "stderr",
     "output_type": "stream",
     "text": [
      "WARNING: [generic] The url doesn't specify the protocol, trying with http\n"
     ]
    },
    {
     "name": "stdout",
     "output_type": "stream",
     "text": [
      "                                                           "
     ]
    },
    {
     "name": "stderr",
     "output_type": "stream",
     "text": [
      "  5%|█████▎                                                                                                     | 5/100 [00:19<06:07,  3.87s/it]"
     ]
    },
    {
     "name": "stdout",
     "output_type": "stream",
     "text": [
      "{'video_found': True, 'audio_found': True, 'metadata': {'major_brand': 'mp42', 'minor_version': '0', 'compatible_brands': 'isommp42', 'creation_time': '2023-01-11T05:14:53.000000Z'}, 'inputs': [{'streams': [{'input_number': 0, 'stream_number': 0, 'stream_type': 'video', 'language': None, 'default': True, 'size': [640, 360], 'bitrate': 271, 'fps': 29.97002997002997, 'codec_name': 'h264', 'profile': '(Main)', 'metadata': {'Metadata': '', 'creation_time': '2023-01-11T05:14:53.000000Z', 'handler_name': 'ISO Media file produced by Google Inc. Created on: 01/10/2023.', 'vendor_id': '[0][0][0][0]'}}, {'input_number': 0, 'stream_number': 1, 'stream_type': 'audio', 'language': None, 'default': True, 'fps': 44100, 'bitrate': 127, 'metadata': {'Metadata': '', 'creation_time': '2023-01-11T05:14:53.000000Z', 'handler_name': 'ISO Media file produced by Google Inc. Created on: 01/10/2023.', 'vendor_id': '[0][0][0][0]'}}], 'input_number': 0}], 'duration': 2.58, 'bitrate': 405, 'start': 0.0, 'default_video_input_number': 0, 'default_video_stream_number': 0, 'video_codec_name': 'h264', 'video_profile': '(Main)', 'video_size': [640, 360], 'video_bitrate': 271, 'video_fps': 29.97002997002997, 'default_audio_input_number': 0, 'default_audio_stream_number': 1, 'audio_fps': 44100, 'audio_bitrate': 127, 'video_duration': 2.58, 'video_n_frames': 77}\n",
      "/home/segus-faultise/Projects/CAB420_GROUP_A/cab420_GROUP_A_ENV/lib/python3.12/site-packages/imageio_ffmpeg/binaries/ffmpeg-linux-x86_64-v7.0.2 -i msasl_clips/temp_848_0.mp4 -loglevel error -f image2pipe -vf scale=640:360 -sws_flags bicubic -pix_fmt rgb24 -vcodec rawvideo -\n",
      "Failed to clip video: 'VideoFileClip' object has no attribute 'subclip'\n"
     ]
    },
    {
     "name": "stderr",
     "output_type": "stream",
     "text": [
      "ERROR: [youtube] 1AyT77LqJzQ: Video unavailable\n",
      "  6%|██████▍                                                                                                    | 6/100 [00:20<04:38,  2.96s/it]"
     ]
    },
    {
     "name": "stdout",
     "output_type": "stream",
     "text": [
      "yt-dlp failed: ERROR: [youtube] 1AyT77LqJzQ: Video unavailable\n"
     ]
    },
    {
     "name": "stderr",
     "output_type": "stream",
     "text": [
      "ERROR: [youtube] 1AyT77LqJzQ: Video unavailable\n",
      "  7%|███████▍                                                                                                   | 7/100 [00:21<03:43,  2.41s/it]"
     ]
    },
    {
     "name": "stdout",
     "output_type": "stream",
     "text": [
      "yt-dlp failed: ERROR: [youtube] 1AyT77LqJzQ: Video unavailable\n",
      "{'video_found': True, 'audio_found': True, 'metadata': {'major_brand': 'mp42', 'minor_version': '0', 'compatible_brands': 'isommp42', 'creation_time': '2022-04-08T21:44:59.000000Z'}, 'inputs': [{'streams': [{'input_number': 0, 'stream_number': 0, 'stream_type': 'video', 'language': None, 'default': True, 'size': [640, 360], 'bitrate': 184, 'fps': 29.59, 'codec_name': 'h264', 'profile': '(Main)', 'metadata': {'Metadata': '', 'creation_time': '2022-04-08T21:44:59.000000Z', 'handler_name': 'ISO Media file produced by Google Inc. Created on: 04/08/2022.', 'vendor_id': '[0][0][0][0]'}}, {'input_number': 0, 'stream_number': 1, 'stream_type': 'audio', 'language': None, 'default': True, 'fps': 44100, 'bitrate': 127, 'metadata': {'Metadata': '', 'creation_time': '2022-04-08T21:44:59.000000Z', 'handler_name': 'ISO Media file produced by Google Inc. Created on: 04/08/2022.', 'vendor_id': '[0][0][0][0]'}}], 'input_number': 0}], 'duration': 3.99, 'bitrate': 318, 'start': 0.0, 'default_video_input_number': 0, 'default_video_stream_number': 0, 'video_codec_name': 'h264', 'video_profile': '(Main)', 'video_size': [640, 360], 'video_bitrate': 184, 'video_fps': 29.59, 'default_audio_input_number': 0, 'default_audio_stream_number': 1, 'audio_fps': 44100, 'audio_bitrate': 127, 'video_duration': 3.99, 'video_n_frames': 118}\n",
      "/home/segus-faultise/Projects/CAB420_GROUP_A/cab420_GROUP_A_ENV/lib/python3.12/site-packages/imageio_ffmpeg/binaries/ffmpeg-linux-x86_64-v7.0.2 -i msasl_clips/temp_794_2.mp4 -loglevel error -f image2pipe -vf scale=640:360 -sws_flags bicubic -pix_fmt rgb24 -vcodec rawvideo -\n"
     ]
    },
    {
     "name": "stderr",
     "output_type": "stream",
     "text": [
      "  8%|████████▌                                                                                                  | 8/100 [00:26<04:37,  3.02s/it]"
     ]
    },
    {
     "name": "stdout",
     "output_type": "stream",
     "text": [
      "Failed to clip video: 'VideoFileClip' object has no attribute 'subclip'\n",
      "                                                           "
     ]
    },
    {
     "name": "stderr",
     "output_type": "stream",
     "text": [
      "  9%|█████████▋                                                                                                 | 9/100 [00:30<05:11,  3.42s/it]"
     ]
    },
    {
     "name": "stdout",
     "output_type": "stream",
     "text": [
      "{'video_found': True, 'audio_found': True, 'metadata': {'major_brand': 'mp42', 'minor_version': '0', 'compatible_brands': 'isommp42', 'creation_time': '2023-02-04T23:33:41.000000Z'}, 'inputs': [{'streams': [{'input_number': 0, 'stream_number': 0, 'stream_type': 'video', 'language': None, 'default': True, 'size': [640, 360], 'bitrate': 161, 'fps': 25.0, 'codec_name': 'h264', 'profile': '(Main)', 'metadata': {'Metadata': '', 'creation_time': '2023-02-04T23:33:41.000000Z', 'handler_name': 'ISO Media file produced by Google Inc. Created on: 02/04/2023.', 'vendor_id': '[0][0][0][0]'}}, {'input_number': 0, 'stream_number': 1, 'stream_type': 'audio', 'language': 'eng', 'default': True, 'fps': 44100, 'bitrate': 129, 'metadata': {'Metadata': '', 'creation_time': '2023-02-04T23:33:41.000000Z', 'handler_name': 'ISO Media file produced by Google Inc. Created on: 02/04/2023.', 'vendor_id': '[0][0][0][0]'}}], 'input_number': 0}], 'duration': 2.9, 'bitrate': 296, 'start': 0.0, 'default_video_input_number': 0, 'default_video_stream_number': 0, 'video_codec_name': 'h264', 'video_profile': '(Main)', 'video_size': [640, 360], 'video_bitrate': 161, 'video_fps': 25.0, 'default_audio_input_number': 0, 'default_audio_stream_number': 1, 'audio_fps': 44100, 'audio_bitrate': 129, 'video_duration': 2.9, 'video_n_frames': 72}\n",
      "/home/segus-faultise/Projects/CAB420_GROUP_A/cab420_GROUP_A_ENV/lib/python3.12/site-packages/imageio_ffmpeg/binaries/ffmpeg-linux-x86_64-v7.0.2 -i msasl_clips/temp_46_13.mp4 -loglevel error -f image2pipe -vf scale=640:360 -sws_flags bicubic -pix_fmt rgb24 -vcodec rawvideo -\n",
      "Failed to clip video: 'VideoFileClip' object has no attribute 'subclip'\n"
     ]
    },
    {
     "name": "stderr",
     "output_type": "stream",
     "text": [
      "ERROR: [youtube] cJOyCgIKyeA: Video unavailable\n",
      " 10%|██████████▌                                                                                               | 10/100 [00:31<04:10,  2.78s/it]"
     ]
    },
    {
     "name": "stdout",
     "output_type": "stream",
     "text": [
      "yt-dlp failed: ERROR: [youtube] cJOyCgIKyeA: Video unavailable\n",
      "                                                           "
     ]
    },
    {
     "name": "stderr",
     "output_type": "stream",
     "text": [
      " 11%|███████████▋                                                                                              | 11/100 [00:36<05:13,  3.53s/it]"
     ]
    },
    {
     "name": "stdout",
     "output_type": "stream",
     "text": [
      "{'video_found': True, 'audio_found': True, 'metadata': {'major_brand': 'mp42', 'minor_version': '0', 'compatible_brands': 'isommp42', 'creation_time': '2016-08-25T18:53:29.000000Z'}, 'inputs': [{'streams': [{'input_number': 0, 'stream_number': 0, 'stream_type': 'video', 'language': None, 'default': True, 'size': [640, 360], 'bitrate': 304, 'fps': 29.65, 'codec_name': 'h264', 'profile': '(Main)', 'metadata': {'Metadata': '', 'creation_time': '2016-08-25T18:53:29.000000Z', 'handler_name': 'ISO Media file produced by Google Inc. Created on: 08/25/2016.', 'vendor_id': '[0][0][0][0]'}}, {'input_number': 0, 'stream_number': 1, 'stream_type': 'audio', 'language': None, 'default': True, 'fps': 44100, 'bitrate': 125, 'metadata': {'Metadata': '', 'creation_time': '2016-08-25T18:53:29.000000Z', 'handler_name': 'ISO Media file produced by Google Inc. Created on: 08/25/2016.', 'vendor_id': '[0][0][0][0]'}}], 'input_number': 0}], 'duration': 6.92, 'bitrate': 436, 'start': 0.0, 'default_video_input_number': 0, 'default_video_stream_number': 0, 'video_codec_name': 'h264', 'video_profile': '(Main)', 'video_size': [640, 360], 'video_bitrate': 304, 'video_fps': 29.65, 'default_audio_input_number': 0, 'default_audio_stream_number': 1, 'audio_fps': 44100, 'audio_bitrate': 125, 'video_duration': 6.92, 'video_n_frames': 205}\n",
      "/home/segus-faultise/Projects/CAB420_GROUP_A/cab420_GROUP_A_ENV/lib/python3.12/site-packages/imageio_ffmpeg/binaries/ffmpeg-linux-x86_64-v7.0.2 -i msasl_clips/temp_120_2.mp4 -loglevel error -f image2pipe -vf scale=640:360 -sws_flags bicubic -pix_fmt rgb24 -vcodec rawvideo -\n",
      "Failed to clip video: 'VideoFileClip' object has no attribute 'subclip'\n",
      "                             "
     ]
    },
    {
     "name": "stderr",
     "output_type": "stream",
     "text": [
      " 12%|████████████▋                                                                                             | 12/100 [00:40<05:15,  3.59s/it]"
     ]
    },
    {
     "name": "stdout",
     "output_type": "stream",
     "text": [
      "{'video_found': True, 'audio_found': True, 'metadata': {'major_brand': 'mp42', 'minor_version': '0', 'compatible_brands': 'isommp42', 'creation_time': '2016-08-25T18:53:29.000000Z'}, 'inputs': [{'streams': [{'input_number': 0, 'stream_number': 0, 'stream_type': 'video', 'language': None, 'default': True, 'size': [640, 360], 'bitrate': 304, 'fps': 29.65, 'codec_name': 'h264', 'profile': '(Main)', 'metadata': {'Metadata': '', 'creation_time': '2016-08-25T18:53:29.000000Z', 'handler_name': 'ISO Media file produced by Google Inc. Created on: 08/25/2016.', 'vendor_id': '[0][0][0][0]'}}, {'input_number': 0, 'stream_number': 1, 'stream_type': 'audio', 'language': None, 'default': True, 'fps': 44100, 'bitrate': 125, 'metadata': {'Metadata': '', 'creation_time': '2016-08-25T18:53:29.000000Z', 'handler_name': 'ISO Media file produced by Google Inc. Created on: 08/25/2016.', 'vendor_id': '[0][0][0][0]'}}], 'input_number': 0}], 'duration': 6.92, 'bitrate': 436, 'start': 0.0, 'default_video_input_number': 0, 'default_video_stream_number': 0, 'video_codec_name': 'h264', 'video_profile': '(Main)', 'video_size': [640, 360], 'video_bitrate': 304, 'video_fps': 29.65, 'default_audio_input_number': 0, 'default_audio_stream_number': 1, 'audio_fps': 44100, 'audio_bitrate': 125, 'video_duration': 6.92, 'video_n_frames': 205}\n",
      "/home/segus-faultise/Projects/CAB420_GROUP_A/cab420_GROUP_A_ENV/lib/python3.12/site-packages/imageio_ffmpeg/binaries/ffmpeg-linux-x86_64-v7.0.2 -i msasl_clips/temp_120_2.mp4 -loglevel error -f image2pipe -vf scale=640:360 -sws_flags bicubic -pix_fmt rgb24 -vcodec rawvideo -\n",
      "Failed to clip video: 'VideoFileClip' object has no attribute 'subclip'\n",
      "                             "
     ]
    },
    {
     "name": "stderr",
     "output_type": "stream",
     "text": [
      " 13%|█████████████▊                                                                                            | 13/100 [00:44<05:09,  3.56s/it]"
     ]
    },
    {
     "name": "stdout",
     "output_type": "stream",
     "text": [
      "{'video_found': True, 'audio_found': True, 'metadata': {'major_brand': 'mp42', 'minor_version': '0', 'compatible_brands': 'isommp42', 'creation_time': '2016-08-25T18:53:29.000000Z'}, 'inputs': [{'streams': [{'input_number': 0, 'stream_number': 0, 'stream_type': 'video', 'language': None, 'default': True, 'size': [640, 360], 'bitrate': 304, 'fps': 29.65, 'codec_name': 'h264', 'profile': '(Main)', 'metadata': {'Metadata': '', 'creation_time': '2016-08-25T18:53:29.000000Z', 'handler_name': 'ISO Media file produced by Google Inc. Created on: 08/25/2016.', 'vendor_id': '[0][0][0][0]'}}, {'input_number': 0, 'stream_number': 1, 'stream_type': 'audio', 'language': None, 'default': True, 'fps': 44100, 'bitrate': 125, 'metadata': {'Metadata': '', 'creation_time': '2016-08-25T18:53:29.000000Z', 'handler_name': 'ISO Media file produced by Google Inc. Created on: 08/25/2016.', 'vendor_id': '[0][0][0][0]'}}], 'input_number': 0}], 'duration': 6.92, 'bitrate': 436, 'start': 0.0, 'default_video_input_number': 0, 'default_video_stream_number': 0, 'video_codec_name': 'h264', 'video_profile': '(Main)', 'video_size': [640, 360], 'video_bitrate': 304, 'video_fps': 29.65, 'default_audio_input_number': 0, 'default_audio_stream_number': 1, 'audio_fps': 44100, 'audio_bitrate': 125, 'video_duration': 6.92, 'video_n_frames': 205}\n",
      "/home/segus-faultise/Projects/CAB420_GROUP_A/cab420_GROUP_A_ENV/lib/python3.12/site-packages/imageio_ffmpeg/binaries/ffmpeg-linux-x86_64-v7.0.2 -i msasl_clips/temp_120_2.mp4 -loglevel error -f image2pipe -vf scale=640:360 -sws_flags bicubic -pix_fmt rgb24 -vcodec rawvideo -\n",
      "Failed to clip video: 'VideoFileClip' object has no attribute 'subclip'\n",
      "                                                           "
     ]
    },
    {
     "name": "stderr",
     "output_type": "stream",
     "text": [
      " 14%|██████████████▊                                                                                           | 14/100 [00:48<05:27,  3.81s/it]WARNING: [generic] The url doesn't specify the protocol, trying with http\n"
     ]
    },
    {
     "name": "stdout",
     "output_type": "stream",
     "text": [
      "{'video_found': True, 'audio_found': True, 'metadata': {'major_brand': 'mp42', 'minor_version': '0', 'compatible_brands': 'isommp42', 'creation_time': '2023-05-28T02:43:49.000000Z'}, 'inputs': [{'streams': [{'input_number': 0, 'stream_number': 0, 'stream_type': 'video', 'language': None, 'default': True, 'size': [480, 360], 'bitrate': 173, 'fps': 25.0, 'codec_name': 'h264', 'profile': '(Main)', 'metadata': {'Metadata': '', 'creation_time': '2023-05-28T02:43:49.000000Z', 'handler_name': 'ISO Media file produced by Google Inc. Created on: 05/27/2023.', 'vendor_id': '[0][0][0][0]'}}, {'input_number': 0, 'stream_number': 1, 'stream_type': 'audio', 'language': None, 'default': True, 'fps': 44100, 'bitrate': 127, 'metadata': {'Metadata': '', 'creation_time': '2023-05-28T02:43:49.000000Z', 'handler_name': 'ISO Media file produced by Google Inc. Created on: 05/27/2023.', 'vendor_id': '[0][0][0][0]'}}], 'input_number': 0}], 'duration': 3.02, 'bitrate': 307, 'start': 0.0, 'default_video_input_number': 0, 'default_video_stream_number': 0, 'video_codec_name': 'h264', 'video_profile': '(Main)', 'video_size': [480, 360], 'video_bitrate': 173, 'video_fps': 25.0, 'default_audio_input_number': 0, 'default_audio_stream_number': 1, 'audio_fps': 44100, 'audio_bitrate': 127, 'video_duration': 3.02, 'video_n_frames': 75}\n",
      "/home/segus-faultise/Projects/CAB420_GROUP_A/cab420_GROUP_A_ENV/lib/python3.12/site-packages/imageio_ffmpeg/binaries/ffmpeg-linux-x86_64-v7.0.2 -i msasl_clips/temp_168_0.mp4 -loglevel error -f image2pipe -vf scale=480:360 -sws_flags bicubic -pix_fmt rgb24 -vcodec rawvideo -\n",
      "Failed to clip video: 'VideoFileClip' object has no attribute 'subclip'\n"
     ]
    },
    {
     "name": "stderr",
     "output_type": "stream",
     "text": [
      "ERROR: [youtube] zqfcp6NRKpA: Private video. Sign in if you've been granted access to this video. Use --cookies-from-browser or --cookies for the authentication. See  https://github.com/yt-dlp/yt-dlp/wiki/FAQ#how-do-i-pass-cookies-to-yt-dlp  for how to manually pass cookies. Also see  https://github.com/yt-dlp/yt-dlp/wiki/Extractors#exporting-youtube-cookies  for tips on effectively exporting YouTube cookies\n",
      " 15%|███████████████▉                                                                                          | 15/100 [00:49<04:18,  3.05s/it]WARNING: [generic] The url doesn't specify the protocol, trying with http\n"
     ]
    },
    {
     "name": "stdout",
     "output_type": "stream",
     "text": [
      "yt-dlp failed: ERROR: [youtube] zqfcp6NRKpA: Private video. Sign in if you've been granted access to this video. Use --cookies-from-browser or --cookies for the authentication. See  https://github.com/yt-dlp/yt-dlp/wiki/FAQ#how-do-i-pass-cookies-to-yt-dlp  for how to manually pass cookies. Also see  https://github.com/yt-dlp/yt-dlp/wiki/Extractors#exporting-youtube-cookies  for tips on effectively exporting YouTube cookies\n"
     ]
    },
    {
     "name": "stderr",
     "output_type": "stream",
     "text": [
      "ERROR: [youtube] 7y5Ye-2-ZBs: Private video. Sign in if you've been granted access to this video. Use --cookies-from-browser or --cookies for the authentication. See  https://github.com/yt-dlp/yt-dlp/wiki/FAQ#how-do-i-pass-cookies-to-yt-dlp  for how to manually pass cookies. Also see  https://github.com/yt-dlp/yt-dlp/wiki/Extractors#exporting-youtube-cookies  for tips on effectively exporting YouTube cookies\n",
      " 16%|████████████████▉                                                                                         | 16/100 [00:51<03:34,  2.55s/it]"
     ]
    },
    {
     "name": "stdout",
     "output_type": "stream",
     "text": [
      "yt-dlp failed: ERROR: [youtube] 7y5Ye-2-ZBs: Private video. Sign in if you've been granted access to this video. Use --cookies-from-browser or --cookies for the authentication. See  https://github.com/yt-dlp/yt-dlp/wiki/FAQ#how-do-i-pass-cookies-to-yt-dlp  for how to manually pass cookies. Also see  https://github.com/yt-dlp/yt-dlp/wiki/Extractors#exporting-youtube-cookies  for tips on effectively exporting YouTube cookies\n",
      "                                                           "
     ]
    },
    {
     "name": "stderr",
     "output_type": "stream",
     "text": [
      " 17%|██████████████████                                                                                        | 17/100 [00:55<04:24,  3.19s/it]"
     ]
    },
    {
     "name": "stdout",
     "output_type": "stream",
     "text": [
      "{'video_found': True, 'audio_found': True, 'metadata': {'major_brand': 'mp42', 'minor_version': '0', 'compatible_brands': 'isommp42', 'creation_time': '2023-12-30T13:57:53.000000Z'}, 'inputs': [{'streams': [{'input_number': 0, 'stream_number': 0, 'stream_type': 'video', 'language': None, 'default': True, 'size': [640, 360], 'bitrate': 294, 'fps': 29.97002997002997, 'codec_name': 'h264', 'profile': '(Main)', 'metadata': {'Metadata': '', 'creation_time': '2023-12-30T13:57:53.000000Z', 'handler_name': 'ISO Media file produced by Google Inc. Created on: 12/30/2023.', 'vendor_id': '[0][0][0][0]'}}, {'input_number': 0, 'stream_number': 1, 'stream_type': 'audio', 'language': None, 'default': True, 'fps': 44100, 'bitrate': 127, 'metadata': {'Metadata': '', 'creation_time': '2023-12-30T13:57:53.000000Z', 'handler_name': 'ISO Media file produced by Google Inc. Created on: 12/30/2023.', 'vendor_id': '[0][0][0][0]'}}], 'input_number': 0}], 'duration': 3.85, 'bitrate': 428, 'start': 0.0, 'default_video_input_number': 0, 'default_video_stream_number': 0, 'video_codec_name': 'h264', 'video_profile': '(Main)', 'video_size': [640, 360], 'video_bitrate': 294, 'video_fps': 29.97002997002997, 'default_audio_input_number': 0, 'default_audio_stream_number': 1, 'audio_fps': 44100, 'audio_bitrate': 127, 'video_duration': 3.85, 'video_n_frames': 115}\n",
      "/home/segus-faultise/Projects/CAB420_GROUP_A/cab420_GROUP_A_ENV/lib/python3.12/site-packages/imageio_ffmpeg/binaries/ffmpeg-linux-x86_64-v7.0.2 -i msasl_clips/temp_916_0.mp4 -loglevel error -f image2pipe -vf scale=640:360 -sws_flags bicubic -pix_fmt rgb24 -vcodec rawvideo -\n",
      "Failed to clip video: 'VideoFileClip' object has no attribute 'subclip'\n",
      "                                                           "
     ]
    },
    {
     "name": "stderr",
     "output_type": "stream",
     "text": [
      " 18%|███████████████████                                                                                       | 18/100 [01:00<05:07,  3.75s/it]"
     ]
    },
    {
     "name": "stdout",
     "output_type": "stream",
     "text": [
      "{'video_found': True, 'audio_found': True, 'metadata': {'major_brand': 'mp42', 'minor_version': '0', 'compatible_brands': 'isommp42', 'creation_time': '2013-10-26T13:09:14.000000Z'}, 'inputs': [{'streams': [{'input_number': 0, 'stream_number': 0, 'stream_type': 'video', 'language': None, 'default': True, 'size': [480, 360], 'bitrate': 319, 'fps': 29.97002997002997, 'codec_name': 'h264', 'profile': '(Main)', 'metadata': {'Metadata': '', 'creation_time': '2013-10-26T13:09:14.000000Z', 'handler_name': 'ISO Media file produced by Google Inc. Created on: 10/26/2013.', 'vendor_id': '[0][0][0][0]'}}, {'input_number': 0, 'stream_number': 1, 'stream_type': 'audio', 'language': None, 'default': True, 'fps': 44100, 'bitrate': 125, 'metadata': {'Metadata': '', 'creation_time': '2013-10-26T13:09:14.000000Z', 'handler_name': 'ISO Media file produced by Google Inc. Created on: 10/26/2013.', 'vendor_id': '[0][0][0][0]'}}], 'input_number': 0}], 'duration': 27.79, 'bitrate': 448, 'start': 0.0, 'default_video_input_number': 0, 'default_video_stream_number': 0, 'video_codec_name': 'h264', 'video_profile': '(Main)', 'video_size': [480, 360], 'video_bitrate': 319, 'video_fps': 29.97002997002997, 'default_audio_input_number': 0, 'default_audio_stream_number': 1, 'audio_fps': 44100, 'audio_bitrate': 125, 'video_duration': 27.79, 'video_n_frames': 832}\n",
      "/home/segus-faultise/Projects/CAB420_GROUP_A/cab420_GROUP_A_ENV/lib/python3.12/site-packages/imageio_ffmpeg/binaries/ffmpeg-linux-x86_64-v7.0.2 -i msasl_clips/temp_669_144.mp4 -loglevel error -f image2pipe -vf scale=480:360 -sws_flags bicubic -pix_fmt rgb24 -vcodec rawvideo -\n",
      "Failed to clip video: 'VideoFileClip' object has no attribute 'subclip'\n",
      "                             "
     ]
    },
    {
     "name": "stderr",
     "output_type": "stream",
     "text": [
      " 19%|████████████████████▏                                                                                     | 19/100 [01:04<04:49,  3.58s/it]"
     ]
    },
    {
     "name": "stdout",
     "output_type": "stream",
     "text": [
      "{'video_found': True, 'audio_found': True, 'metadata': {'major_brand': 'mp42', 'minor_version': '0', 'compatible_brands': 'isommp42', 'creation_time': '2013-10-26T13:09:14.000000Z'}, 'inputs': [{'streams': [{'input_number': 0, 'stream_number': 0, 'stream_type': 'video', 'language': None, 'default': True, 'size': [480, 360], 'bitrate': 319, 'fps': 29.97002997002997, 'codec_name': 'h264', 'profile': '(Main)', 'metadata': {'Metadata': '', 'creation_time': '2013-10-26T13:09:14.000000Z', 'handler_name': 'ISO Media file produced by Google Inc. Created on: 10/26/2013.', 'vendor_id': '[0][0][0][0]'}}, {'input_number': 0, 'stream_number': 1, 'stream_type': 'audio', 'language': None, 'default': True, 'fps': 44100, 'bitrate': 125, 'metadata': {'Metadata': '', 'creation_time': '2013-10-26T13:09:14.000000Z', 'handler_name': 'ISO Media file produced by Google Inc. Created on: 10/26/2013.', 'vendor_id': '[0][0][0][0]'}}], 'input_number': 0}], 'duration': 27.79, 'bitrate': 448, 'start': 0.0, 'default_video_input_number': 0, 'default_video_stream_number': 0, 'video_codec_name': 'h264', 'video_profile': '(Main)', 'video_size': [480, 360], 'video_bitrate': 319, 'video_fps': 29.97002997002997, 'default_audio_input_number': 0, 'default_audio_stream_number': 1, 'audio_fps': 44100, 'audio_bitrate': 125, 'video_duration': 27.79, 'video_n_frames': 832}\n",
      "/home/segus-faultise/Projects/CAB420_GROUP_A/cab420_GROUP_A_ENV/lib/python3.12/site-packages/imageio_ffmpeg/binaries/ffmpeg-linux-x86_64-v7.0.2 -i msasl_clips/temp_669_144.mp4 -loglevel error -f image2pipe -vf scale=480:360 -sws_flags bicubic -pix_fmt rgb24 -vcodec rawvideo -\n",
      "Failed to clip video: 'VideoFileClip' object has no attribute 'subclip'\n",
      "                             "
     ]
    },
    {
     "name": "stderr",
     "output_type": "stream",
     "text": [
      " 20%|█████████████████████▏                                                                                    | 20/100 [01:07<04:38,  3.48s/it]"
     ]
    },
    {
     "name": "stdout",
     "output_type": "stream",
     "text": [
      "{'video_found': True, 'audio_found': True, 'metadata': {'major_brand': 'mp42', 'minor_version': '0', 'compatible_brands': 'isommp42', 'creation_time': '2013-10-26T13:09:14.000000Z'}, 'inputs': [{'streams': [{'input_number': 0, 'stream_number': 0, 'stream_type': 'video', 'language': None, 'default': True, 'size': [480, 360], 'bitrate': 319, 'fps': 29.97002997002997, 'codec_name': 'h264', 'profile': '(Main)', 'metadata': {'Metadata': '', 'creation_time': '2013-10-26T13:09:14.000000Z', 'handler_name': 'ISO Media file produced by Google Inc. Created on: 10/26/2013.', 'vendor_id': '[0][0][0][0]'}}, {'input_number': 0, 'stream_number': 1, 'stream_type': 'audio', 'language': None, 'default': True, 'fps': 44100, 'bitrate': 125, 'metadata': {'Metadata': '', 'creation_time': '2013-10-26T13:09:14.000000Z', 'handler_name': 'ISO Media file produced by Google Inc. Created on: 10/26/2013.', 'vendor_id': '[0][0][0][0]'}}], 'input_number': 0}], 'duration': 27.79, 'bitrate': 448, 'start': 0.0, 'default_video_input_number': 0, 'default_video_stream_number': 0, 'video_codec_name': 'h264', 'video_profile': '(Main)', 'video_size': [480, 360], 'video_bitrate': 319, 'video_fps': 29.97002997002997, 'default_audio_input_number': 0, 'default_audio_stream_number': 1, 'audio_fps': 44100, 'audio_bitrate': 125, 'video_duration': 27.79, 'video_n_frames': 832}\n",
      "/home/segus-faultise/Projects/CAB420_GROUP_A/cab420_GROUP_A_ENV/lib/python3.12/site-packages/imageio_ffmpeg/binaries/ffmpeg-linux-x86_64-v7.0.2 -i msasl_clips/temp_669_144.mp4 -loglevel error -f image2pipe -vf scale=480:360 -sws_flags bicubic -pix_fmt rgb24 -vcodec rawvideo -\n",
      "Failed to clip video: 'VideoFileClip' object has no attribute 'subclip'\n",
      "                                                           "
     ]
    },
    {
     "name": "stderr",
     "output_type": "stream",
     "text": [
      " 21%|██████████████████████▎                                                                                   | 21/100 [01:12<05:01,  3.82s/it]"
     ]
    },
    {
     "name": "stdout",
     "output_type": "stream",
     "text": [
      "{'video_found': True, 'audio_found': True, 'metadata': {'major_brand': 'mp42', 'minor_version': '0', 'compatible_brands': 'isommp42', 'creation_time': '2023-08-01T18:45:07.000000Z'}, 'inputs': [{'streams': [{'input_number': 0, 'stream_number': 0, 'stream_type': 'video', 'language': None, 'default': True, 'size': [480, 360], 'bitrate': 183, 'fps': 25.0, 'codec_name': 'h264', 'profile': '(Main)', 'metadata': {'Metadata': '', 'creation_time': '2023-08-01T18:45:07.000000Z', 'handler_name': 'ISO Media file produced by Google Inc. Created on: 08/01/2023.', 'vendor_id': '[0][0][0][0]'}}, {'input_number': 0, 'stream_number': 1, 'stream_type': 'audio', 'language': None, 'default': True, 'fps': 44100, 'bitrate': 127, 'metadata': {'Metadata': '', 'creation_time': '2023-08-01T18:45:07.000000Z', 'handler_name': 'ISO Media file produced by Google Inc. Created on: 08/01/2023.', 'vendor_id': '[0][0][0][0]'}}], 'input_number': 0}], 'duration': 3.02, 'bitrate': 317, 'start': 0.0, 'default_video_input_number': 0, 'default_video_stream_number': 0, 'video_codec_name': 'h264', 'video_profile': '(Main)', 'video_size': [480, 360], 'video_bitrate': 183, 'video_fps': 25.0, 'default_audio_input_number': 0, 'default_audio_stream_number': 1, 'audio_fps': 44100, 'audio_bitrate': 127, 'video_duration': 3.02, 'video_n_frames': 75}\n",
      "/home/segus-faultise/Projects/CAB420_GROUP_A/cab420_GROUP_A_ENV/lib/python3.12/site-packages/imageio_ffmpeg/binaries/ffmpeg-linux-x86_64-v7.0.2 -i msasl_clips/temp_579_0.mp4 -loglevel error -f image2pipe -vf scale=480:360 -sws_flags bicubic -pix_fmt rgb24 -vcodec rawvideo -\n",
      "Failed to clip video: 'VideoFileClip' object has no attribute 'subclip'\n",
      "                                                           "
     ]
    },
    {
     "name": "stderr",
     "output_type": "stream",
     "text": [
      " 22%|███████████████████████▎                                                                                  | 22/100 [01:16<05:21,  4.12s/it]"
     ]
    },
    {
     "name": "stdout",
     "output_type": "stream",
     "text": [
      "{'video_found': True, 'audio_found': True, 'metadata': {'major_brand': 'mp42', 'minor_version': '0', 'compatible_brands': 'isommp42', 'creation_time': '2024-10-07T18:24:46.000000Z', 'encoder': 'Google'}, 'inputs': [{'streams': [{'input_number': 0, 'stream_number': 0, 'stream_type': 'video', 'language': None, 'default': True, 'size': [320, 240], 'bitrate': 93, 'fps': 30.0, 'codec_name': 'h264', 'profile': '(Main)', 'metadata': {'Metadata': '', 'creation_time': '2024-10-07T18:24:46.000000Z', 'handler_name': 'ISO Media file produced by Google Inc. Created on: 10/07/2024.', 'vendor_id': '[0][0][0][0]'}}, {'input_number': 0, 'stream_number': 1, 'stream_type': 'audio', 'language': None, 'default': True, 'fps': 44100, 'bitrate': 127, 'metadata': {'Metadata': '', 'creation_time': '2024-10-07T18:24:46.000000Z', 'handler_name': 'ISO Media file produced by Google Inc. Created on: 10/07/2024.', 'vendor_id': '[0][0][0][0]'}}], 'input_number': 0}], 'duration': 2.32, 'bitrate': 229, 'start': 0.0, 'default_video_input_number': 0, 'default_video_stream_number': 0, 'video_codec_name': 'h264', 'video_profile': '(Main)', 'video_size': [320, 240], 'video_bitrate': 93, 'video_fps': 30.0, 'default_audio_input_number': 0, 'default_audio_stream_number': 1, 'audio_fps': 44100, 'audio_bitrate': 127, 'video_duration': 2.32, 'video_n_frames': 69}\n",
      "/home/segus-faultise/Projects/CAB420_GROUP_A/cab420_GROUP_A_ENV/lib/python3.12/site-packages/imageio_ffmpeg/binaries/ffmpeg-linux-x86_64-v7.0.2 -i msasl_clips/temp_298_0.mp4 -loglevel error -f image2pipe -vf scale=320:240 -sws_flags bicubic -pix_fmt rgb24 -vcodec rawvideo -\n",
      "Failed to clip video: 'VideoFileClip' object has no attribute 'subclip'\n",
      "{'video_found': True, 'audio_found': True, 'metadata': {'major_brand': 'mp42', 'minor_version': '0', 'compatible_brands': 'isommp42', 'creation_time': '2024-06-21T12:32:40.000000Z', 'encoder': 'Google'}, 'inputs': [{'streams': [{'input_number': 0, 'stream_number': 0, 'stream_type': 'video', 'language': None, 'default': True, 'size': [640, 360], 'bitrate': 258, 'fps': 30.0, 'codec_name': 'h264', 'profile': '(Main)', 'metadata': {'Metadata': '', 'creation_time': '2024-06-21T12:32:40.000000Z', 'handler_name': 'ISO Media file produced by Google Inc. Created on: 06/21/2024.', 'vendor_id': '[0][0][0][0]'}}, {'input_number': 0, 'stream_number': 1, 'stream_type': 'audio', 'language': None, 'default': True, 'fps': 44100, 'bitrate': 127, 'metadata': {'Metadata': '', 'creation_time': '2024-06-21T12:32:40.000000Z', 'handler_name': 'ISO Media file produced by Google Inc. Created on: 06/21/2024.', 'vendor_id': '[0][0][0][0]'}}], 'input_number': 0}], 'duration': 3.72, 'bitrate': 393, 'start': 0.0, 'default_video_input_number': 0, 'default_video_stream_number': 0, 'video_codec_name': 'h264', 'video_profile': '(Main)', 'video_size': [640, 360], 'video_bitrate': 258, 'video_fps': 30.0, 'default_audio_input_number': 0, 'default_audio_stream_number': 1, 'audio_fps': 44100, 'audio_bitrate': 127, 'video_duration': 3.72, 'video_n_frames': 111}\n",
      "/home/segus-faultise/Projects/CAB420_GROUP_A/cab420_GROUP_A_ENV/lib/python3.12/site-packages/imageio_ffmpeg/binaries/ffmpeg-linux-x86_64-v7.0.2 -i msasl_clips/temp_771_62.mp4 -loglevel error -f image2pipe -vf scale=640:360 -sws_flags bicubic -pix_fmt rgb24 -vcodec rawvideo -\n"
     ]
    },
    {
     "name": "stderr",
     "output_type": "stream",
     "text": [
      " 23%|████████████████████████▍                                                                                 | 23/100 [01:21<05:36,  4.37s/it]"
     ]
    },
    {
     "name": "stdout",
     "output_type": "stream",
     "text": [
      "Failed to clip video: 'VideoFileClip' object has no attribute 'subclip'\n",
      "                                                           "
     ]
    },
    {
     "name": "stderr",
     "output_type": "stream",
     "text": [
      " 24%|█████████████████████████▍                                                                                | 24/100 [01:26<05:49,  4.60s/it]"
     ]
    },
    {
     "name": "stdout",
     "output_type": "stream",
     "text": [
      "{'video_found': True, 'audio_found': True, 'metadata': {'major_brand': 'mp42', 'minor_version': '0', 'compatible_brands': 'isommp42', 'creation_time': '2023-05-28T10:18:49.000000Z'}, 'inputs': [{'streams': [{'input_number': 0, 'stream_number': 0, 'stream_type': 'video', 'language': None, 'default': True, 'size': [640, 360], 'bitrate': 205, 'fps': 29.97002997002997, 'codec_name': 'h264', 'profile': '(Main)', 'metadata': {'Metadata': '', 'creation_time': '2023-05-28T10:18:49.000000Z', 'handler_name': 'ISO Media file produced by Google Inc. Created on: 05/28/2023.', 'vendor_id': '[0][0][0][0]'}}, {'input_number': 0, 'stream_number': 1, 'stream_type': 'audio', 'language': None, 'default': True, 'fps': 44100, 'bitrate': 127, 'metadata': {'Metadata': '', 'creation_time': '2023-05-28T10:18:49.000000Z', 'handler_name': 'ISO Media file produced by Google Inc. Created on: 05/28/2023.', 'vendor_id': '[0][0][0][0]'}}], 'input_number': 0}], 'duration': 2.48, 'bitrate': 340, 'start': 0.0, 'default_video_input_number': 0, 'default_video_stream_number': 0, 'video_codec_name': 'h264', 'video_profile': '(Main)', 'video_size': [640, 360], 'video_bitrate': 205, 'video_fps': 29.97002997002997, 'default_audio_input_number': 0, 'default_audio_stream_number': 1, 'audio_fps': 44100, 'audio_bitrate': 127, 'video_duration': 2.48, 'video_n_frames': 74}\n",
      "/home/segus-faultise/Projects/CAB420_GROUP_A/cab420_GROUP_A_ENV/lib/python3.12/site-packages/imageio_ffmpeg/binaries/ffmpeg-linux-x86_64-v7.0.2 -i msasl_clips/temp_906_0.mp4 -loglevel error -f image2pipe -vf scale=640:360 -sws_flags bicubic -pix_fmt rgb24 -vcodec rawvideo -\n",
      "Failed to clip video: 'VideoFileClip' object has no attribute 'subclip'\n",
      "{'video_found': True, 'audio_found': True, 'metadata': {'major_brand': 'mp42', 'minor_version': '0', 'compatible_brands': 'isommp42', 'creation_time': '2023-07-08T23:21:01.000000Z'}, 'inputs': [{'streams': [{'input_number': 0, 'stream_number': 0, 'stream_type': 'video', 'language': None, 'default': True, 'size': [480, 360], 'bitrate': 175, 'fps': 25.0, 'codec_name': 'h264', 'profile': '(Main)', 'metadata': {'Metadata': '', 'creation_time': '2023-07-08T23:21:01.000000Z', 'handler_name': 'ISO Media file produced by Google Inc. Created on: 07/08/2023.', 'vendor_id': '[0][0][0][0]'}}, {'input_number': 0, 'stream_number': 1, 'stream_type': 'audio', 'language': None, 'default': True, 'fps': 44100, 'bitrate': 127, 'metadata': {'Metadata': '', 'creation_time': '2023-07-08T23:21:01.000000Z', 'handler_name': 'ISO Media file produced by Google Inc. Created on: 07/08/2023.', 'vendor_id': '[0][0][0][0]'}}], 'input_number': 0}], 'duration': 2.02, 'bitrate': 309, 'start': 0.0, 'default_video_input_number': 0, 'default_video_stream_number': 0, 'video_codec_name': 'h264', 'video_profile': '(Main)', 'video_size': [480, 360], 'video_bitrate': 175, 'video_fps': 25.0, 'default_audio_input_number': 0, 'default_audio_stream_number': 1, 'audio_fps': 44100, 'audio_bitrate': 127, 'video_duration': 2.02, 'video_n_frames': 50}\n",
      "/home/segus-faultise/Projects/CAB420_GROUP_A/cab420_GROUP_A_ENV/lib/python3.12/site-packages/imageio_ffmpeg/binaries/ffmpeg-linux-x86_64-v7.0.2 -i msasl_clips/temp_606_0.mp4 -loglevel error -f image2pipe -vf scale=480:360 -sws_flags bicubic -pix_fmt rgb24 -vcodec rawvideo -\n"
     ]
    },
    {
     "name": "stderr",
     "output_type": "stream",
     "text": [
      " 25%|██████████████████████████▌                                                                               | 25/100 [01:32<06:10,  4.94s/it]"
     ]
    },
    {
     "name": "stdout",
     "output_type": "stream",
     "text": [
      "Failed to clip video: 'VideoFileClip' object has no attribute 'subclip'\n",
      "{'video_found': True, 'audio_found': True, 'metadata': {'major_brand': 'mp42', 'minor_version': '0', 'compatible_brands': 'isommp42', 'creation_time': '2024-11-20T04:54:14.000000Z', 'encoder': 'Google'}, 'inputs': [{'streams': [{'input_number': 0, 'stream_number': 0, 'stream_type': 'video', 'language': None, 'default': True, 'size': [640, 360], 'bitrate': 295, 'fps': 29.67, 'codec_name': 'h264', 'profile': '(Main)', 'metadata': {'Metadata': '', 'creation_time': '2024-11-20T04:54:14.000000Z', 'handler_name': 'ISO Media file produced by Google Inc. Created on: 11/19/2024.', 'vendor_id': '[0][0][0][0]'}}, {'input_number': 0, 'stream_number': 1, 'stream_type': 'audio', 'language': None, 'default': True, 'fps': 44100, 'bitrate': 127, 'metadata': {'Metadata': '', 'creation_time': '2024-11-20T04:54:14.000000Z', 'handler_name': 'ISO Media file produced by Google Inc. Created on: 11/19/2024.', 'vendor_id': '[0][0][0][0]'}}], 'input_number': 0}], 'duration': 3.69, 'bitrate': 428, 'start': 0.0, 'default_video_input_number': 0, 'default_video_stream_number': 0, 'video_codec_name': 'h264', 'video_profile': '(Main)', 'video_size': [640, 360], 'video_bitrate': 295, 'video_fps': 29.67, 'default_audio_input_number': 0, 'default_audio_stream_number': 1, 'audio_fps': 44100, 'audio_bitrate': 127, 'video_duration': 3.69, 'video_n_frames': 109}\n",
      "/home/segus-faultise/Projects/CAB420_GROUP_A/cab420_GROUP_A_ENV/lib/python3.12/site-packages/imageio_ffmpeg/binaries/ffmpeg-linux-x86_64-v7.0.2 -i msasl_clips/temp_95_2.mp4 -loglevel error -f image2pipe -vf scale=640:360 -sws_flags bicubic -pix_fmt rgb24 -vcodec rawvideo -\n"
     ]
    },
    {
     "name": "stderr",
     "output_type": "stream",
     "text": [
      " 26%|███████████████████████████▌                                                                              | 26/100 [01:37<06:05,  4.94s/it]"
     ]
    },
    {
     "name": "stdout",
     "output_type": "stream",
     "text": [
      "Failed to clip video: 'VideoFileClip' object has no attribute 'subclip'\n",
      "                                                           "
     ]
    },
    {
     "name": "stderr",
     "output_type": "stream",
     "text": [
      " 27%|████████████████████████████▌                                                                             | 27/100 [01:43<06:19,  5.19s/it]"
     ]
    },
    {
     "name": "stdout",
     "output_type": "stream",
     "text": [
      "{'video_found': True, 'audio_found': True, 'metadata': {'major_brand': 'mp42', 'minor_version': '0', 'compatible_brands': 'isommp42', 'creation_time': '2023-12-19T00:28:28.000000Z'}, 'inputs': [{'streams': [{'input_number': 0, 'stream_number': 0, 'stream_type': 'video', 'language': None, 'default': True, 'size': [480, 360], 'bitrate': 183, 'fps': 25.0, 'codec_name': 'h264', 'profile': '(Main)', 'metadata': {'Metadata': '', 'creation_time': '2023-12-19T00:28:28.000000Z', 'handler_name': 'ISO Media file produced by Google Inc. Created on: 12/18/2023.', 'vendor_id': '[0][0][0][0]'}}, {'input_number': 0, 'stream_number': 1, 'stream_type': 'audio', 'language': None, 'default': True, 'fps': 44100, 'bitrate': 127, 'metadata': {'Metadata': '', 'creation_time': '2023-12-19T00:28:28.000000Z', 'handler_name': 'ISO Media file produced by Google Inc. Created on: 12/18/2023.', 'vendor_id': '[0][0][0][0]'}}], 'input_number': 0}], 'duration': 2.04, 'bitrate': 319, 'start': 0.0, 'default_video_input_number': 0, 'default_video_stream_number': 0, 'video_codec_name': 'h264', 'video_profile': '(Main)', 'video_size': [480, 360], 'video_bitrate': 183, 'video_fps': 25.0, 'default_audio_input_number': 0, 'default_audio_stream_number': 1, 'audio_fps': 44100, 'audio_bitrate': 127, 'video_duration': 2.04, 'video_n_frames': 51}\n",
      "/home/segus-faultise/Projects/CAB420_GROUP_A/cab420_GROUP_A_ENV/lib/python3.12/site-packages/imageio_ffmpeg/binaries/ffmpeg-linux-x86_64-v7.0.2 -i msasl_clips/temp_288_0.mp4 -loglevel error -f image2pipe -vf scale=480:360 -sws_flags bicubic -pix_fmt rgb24 -vcodec rawvideo -\n",
      "Failed to clip video: 'VideoFileClip' object has no attribute 'subclip'\n",
      "{'video_found': True, 'audio_found': True, 'metadata': {'major_brand': 'mp42', 'minor_version': '0', 'compatible_brands': 'isommp42', 'creation_time': '2023-04-22T07:19:32.000000Z'}, 'inputs': [{'streams': [{'input_number': 0, 'stream_number': 0, 'stream_type': 'video', 'language': None, 'default': True, 'size': [640, 360], 'bitrate': 254, 'fps': 29.97002997002997, 'codec_name': 'h264', 'profile': '(Main)', 'metadata': {'Metadata': '', 'creation_time': '2023-04-22T07:19:32.000000Z', 'handler_name': 'ISO Media file produced by Google Inc. Created on: 04/22/2023.', 'vendor_id': '[0][0][0][0]'}}, {'input_number': 0, 'stream_number': 1, 'stream_type': 'audio', 'language': 'eng', 'default': True, 'fps': 44100, 'bitrate': 127, 'metadata': {'Metadata': '', 'creation_time': '2023-04-22T07:19:32.000000Z', 'handler_name': 'ISO Media file produced by Google Inc. Created on: 04/22/2023.', 'vendor_id': '[0][0][0][0]'}}], 'input_number': 0}], 'duration': 2.58, 'bitrate': 388, 'start': 0.0, 'default_video_input_number': 0, 'default_video_stream_number': 0, 'video_codec_name': 'h264', 'video_profile': '(Main)', 'video_size': [640, 360], 'video_bitrate': 254, 'video_fps': 29.97002997002997, 'default_audio_input_number': 0, 'default_audio_stream_number': 1, 'audio_fps': 44100, 'audio_bitrate': 127, 'video_duration': 2.58, 'video_n_frames': 77}\n",
      "/home/segus-faultise/Projects/CAB420_GROUP_A/cab420_GROUP_A_ENV/lib/python3.12/site-packages/imageio_ffmpeg/binaries/ffmpeg-linux-x86_64-v7.0.2 -i msasl_clips/temp_589_0.mp4 -loglevel error -f image2pipe -vf scale=640:360 -sws_flags bicubic -pix_fmt rgb24 -vcodec rawvideo -\n"
     ]
    },
    {
     "name": "stderr",
     "output_type": "stream",
     "text": [
      " 28%|█████████████████████████████▋                                                                            | 28/100 [01:48<06:02,  5.03s/it]"
     ]
    },
    {
     "name": "stdout",
     "output_type": "stream",
     "text": [
      "Failed to clip video: 'VideoFileClip' object has no attribute 'subclip'\n",
      "                                                           "
     ]
    },
    {
     "name": "stderr",
     "output_type": "stream",
     "text": [
      " 29%|██████████████████████████████▋                                                                           | 29/100 [01:52<05:41,  4.81s/it]"
     ]
    },
    {
     "name": "stdout",
     "output_type": "stream",
     "text": [
      "{'video_found': True, 'audio_found': True, 'metadata': {'major_brand': 'mp42', 'minor_version': '0', 'compatible_brands': 'isommp42', 'creation_time': '2023-01-11T04:15:27.000000Z'}, 'inputs': [{'streams': [{'input_number': 0, 'stream_number': 0, 'stream_type': 'video', 'language': None, 'default': True, 'size': [640, 360], 'bitrate': 268, 'fps': 29.97002997002997, 'codec_name': 'h264', 'profile': '(Main)', 'metadata': {'Metadata': '', 'creation_time': '2023-01-11T04:15:27.000000Z', 'handler_name': 'ISO Media file produced by Google Inc. Created on: 01/10/2023.', 'vendor_id': '[0][0][0][0]'}}, {'input_number': 0, 'stream_number': 1, 'stream_type': 'audio', 'language': None, 'default': True, 'fps': 44100, 'bitrate': 127, 'metadata': {'Metadata': '', 'creation_time': '2023-01-11T04:15:27.000000Z', 'handler_name': 'ISO Media file produced by Google Inc. Created on: 01/10/2023.', 'vendor_id': '[0][0][0][0]'}}], 'input_number': 0}], 'duration': 2.95, 'bitrate': 402, 'start': 0.0, 'default_video_input_number': 0, 'default_video_stream_number': 0, 'video_codec_name': 'h264', 'video_profile': '(Main)', 'video_size': [640, 360], 'video_bitrate': 268, 'video_fps': 29.97002997002997, 'default_audio_input_number': 0, 'default_audio_stream_number': 1, 'audio_fps': 44100, 'audio_bitrate': 127, 'video_duration': 2.95, 'video_n_frames': 88}\n",
      "/home/segus-faultise/Projects/CAB420_GROUP_A/cab420_GROUP_A_ENV/lib/python3.12/site-packages/imageio_ffmpeg/binaries/ffmpeg-linux-x86_64-v7.0.2 -i msasl_clips/temp_982_0.mp4 -loglevel error -f image2pipe -vf scale=640:360 -sws_flags bicubic -pix_fmt rgb24 -vcodec rawvideo -\n",
      "Failed to clip video: 'VideoFileClip' object has no attribute 'subclip'\n"
     ]
    },
    {
     "name": "stderr",
     "output_type": "stream",
     "text": [
      "WARNING: [generic] The url doesn't specify the protocol, trying with http\n",
      "ERROR: [youtube] rYW7VFPi9_w: Private video. Sign in if you've been granted access to this video. Use --cookies-from-browser or --cookies for the authentication. See  https://github.com/yt-dlp/yt-dlp/wiki/FAQ#how-do-i-pass-cookies-to-yt-dlp  for how to manually pass cookies. Also see  https://github.com/yt-dlp/yt-dlp/wiki/Extractors#exporting-youtube-cookies  for tips on effectively exporting YouTube cookies\n",
      " 30%|███████████████████████████████▊                                                                          | 30/100 [01:53<04:22,  3.75s/it]"
     ]
    },
    {
     "name": "stdout",
     "output_type": "stream",
     "text": [
      "yt-dlp failed: ERROR: [youtube] rYW7VFPi9_w: Private video. Sign in if you've been granted access to this video. Use --cookies-from-browser or --cookies for the authentication. See  https://github.com/yt-dlp/yt-dlp/wiki/FAQ#how-do-i-pass-cookies-to-yt-dlp  for how to manually pass cookies. Also see  https://github.com/yt-dlp/yt-dlp/wiki/Extractors#exporting-youtube-cookies  for tips on effectively exporting YouTube cookies\n",
      "{'video_found': True, 'audio_found': True, 'metadata': {'major_brand': 'mp42', 'minor_version': '0', 'compatible_brands': 'isommp42', 'creation_time': '2024-01-07T10:08:48.000000Z'}, 'inputs': [{'streams': [{'input_number': 0, 'stream_number': 0, 'stream_type': 'video', 'language': None, 'default': True, 'size': [640, 360], 'bitrate': 341, 'fps': 25.0, 'codec_name': 'h264', 'profile': '(Main)', 'metadata': {'Metadata': '', 'creation_time': '2024-01-07T10:08:48.000000Z', 'handler_name': 'ISO Media file produced by Google Inc. Created on: 01/07/2024.', 'vendor_id': '[0][0][0][0]'}}, {'input_number': 0, 'stream_number': 1, 'stream_type': 'audio', 'language': 'eng', 'default': True, 'fps': 44100, 'bitrate': 128, 'metadata': {'Metadata': '', 'creation_time': '2024-01-07T10:08:48.000000Z', 'handler_name': 'ISO Media file produced by Google Inc. Created on: 01/07/2024.', 'vendor_id': '[0][0][0][0]'}}], 'input_number': 0}], 'duration': 2.9, 'bitrate': 474, 'start': 0.0, 'default_video_input_number': 0, 'default_video_stream_number': 0, 'video_codec_name': 'h264', 'video_profile': '(Main)', 'video_size': [640, 360], 'video_bitrate': 341, 'video_fps': 25.0, 'default_audio_input_number': 0, 'default_audio_stream_number': 1, 'audio_fps': 44100, 'audio_bitrate': 128, 'video_duration': 2.9, 'video_n_frames': 72}\n",
      "/home/segus-faultise/Projects/CAB420_GROUP_A/cab420_GROUP_A_ENV/lib/python3.12/site-packages/imageio_ffmpeg/binaries/ffmpeg-linux-x86_64-v7.0.2 -i msasl_clips/temp_329_5.mp4 -loglevel error -f image2pipe -vf scale=640:360 -sws_flags bicubic -pix_fmt rgb24 -vcodec rawvideo -\n"
     ]
    },
    {
     "name": "stderr",
     "output_type": "stream",
     "text": [
      " 31%|████████████████████████████████▊                                                                         | 31/100 [01:58<04:41,  4.07s/it]"
     ]
    },
    {
     "name": "stdout",
     "output_type": "stream",
     "text": [
      "Failed to clip video: 'VideoFileClip' object has no attribute 'subclip'\n",
      "                                                           "
     ]
    },
    {
     "name": "stderr",
     "output_type": "stream",
     "text": [
      " 32%|█████████████████████████████████▉                                                                        | 32/100 [02:11<07:46,  6.86s/it]"
     ]
    },
    {
     "name": "stdout",
     "output_type": "stream",
     "text": [
      "{'video_found': True, 'audio_found': True, 'metadata': {'major_brand': 'mp42', 'minor_version': '0', 'compatible_brands': 'isommp42', 'creation_time': '2024-03-02T14:58:38.000000Z'}, 'inputs': [{'streams': [{'input_number': 0, 'stream_number': 0, 'stream_type': 'video', 'language': None, 'default': True, 'size': [640, 358], 'bitrate': 154, 'fps': 25.0, 'codec_name': 'h264', 'profile': '(Main)', 'metadata': {'Metadata': '', 'creation_time': '2024-03-02T14:58:38.000000Z', 'handler_name': 'ISO Media file produced by Google Inc. Created on: 03/02/2024.', 'vendor_id': '[0][0][0][0]'}}, {'input_number': 0, 'stream_number': 1, 'stream_type': 'audio', 'language': None, 'default': True, 'fps': 44100, 'bitrate': 127, 'metadata': {'Metadata': '', 'creation_time': '2024-03-02T14:58:38.000000Z', 'handler_name': 'ISO Media file produced by Google Inc. Created on: 03/02/2024.', 'vendor_id': '[0][0][0][0]'}}], 'input_number': 0}], 'duration': 800.58, 'bitrate': 286, 'start': 0.0, 'default_video_input_number': 0, 'default_video_stream_number': 0, 'video_codec_name': 'h264', 'video_profile': '(Main)', 'video_size': [640, 358], 'video_bitrate': 154, 'video_fps': 25.0, 'default_audio_input_number': 0, 'default_audio_stream_number': 1, 'audio_fps': 44100, 'audio_bitrate': 127, 'video_duration': 800.58, 'video_n_frames': 20014}\n",
      "/home/segus-faultise/Projects/CAB420_GROUP_A/cab420_GROUP_A_ENV/lib/python3.12/site-packages/imageio_ffmpeg/binaries/ffmpeg-linux-x86_64-v7.0.2 -i msasl_clips/temp_72_6.mp4 -loglevel error -f image2pipe -vf scale=640:358 -sws_flags bicubic -pix_fmt rgb24 -vcodec rawvideo -\n",
      "Failed to clip video: 'VideoFileClip' object has no attribute 'subclip'\n",
      "                             "
     ]
    },
    {
     "name": "stderr",
     "output_type": "stream",
     "text": [
      " 33%|██████████████████████████████████▉                                                                       | 33/100 [02:15<06:40,  5.98s/it]"
     ]
    },
    {
     "name": "stdout",
     "output_type": "stream",
     "text": [
      "{'video_found': True, 'audio_found': True, 'metadata': {'major_brand': 'mp42', 'minor_version': '0', 'compatible_brands': 'isommp42', 'creation_time': '2024-03-02T14:58:38.000000Z'}, 'inputs': [{'streams': [{'input_number': 0, 'stream_number': 0, 'stream_type': 'video', 'language': None, 'default': True, 'size': [640, 358], 'bitrate': 154, 'fps': 25.0, 'codec_name': 'h264', 'profile': '(Main)', 'metadata': {'Metadata': '', 'creation_time': '2024-03-02T14:58:38.000000Z', 'handler_name': 'ISO Media file produced by Google Inc. Created on: 03/02/2024.', 'vendor_id': '[0][0][0][0]'}}, {'input_number': 0, 'stream_number': 1, 'stream_type': 'audio', 'language': None, 'default': True, 'fps': 44100, 'bitrate': 127, 'metadata': {'Metadata': '', 'creation_time': '2024-03-02T14:58:38.000000Z', 'handler_name': 'ISO Media file produced by Google Inc. Created on: 03/02/2024.', 'vendor_id': '[0][0][0][0]'}}], 'input_number': 0}], 'duration': 800.58, 'bitrate': 286, 'start': 0.0, 'default_video_input_number': 0, 'default_video_stream_number': 0, 'video_codec_name': 'h264', 'video_profile': '(Main)', 'video_size': [640, 358], 'video_bitrate': 154, 'video_fps': 25.0, 'default_audio_input_number': 0, 'default_audio_stream_number': 1, 'audio_fps': 44100, 'audio_bitrate': 127, 'video_duration': 800.58, 'video_n_frames': 20014}\n",
      "/home/segus-faultise/Projects/CAB420_GROUP_A/cab420_GROUP_A_ENV/lib/python3.12/site-packages/imageio_ffmpeg/binaries/ffmpeg-linux-x86_64-v7.0.2 -i msasl_clips/temp_72_6.mp4 -loglevel error -f image2pipe -vf scale=640:358 -sws_flags bicubic -pix_fmt rgb24 -vcodec rawvideo -\n",
      "Failed to clip video: 'VideoFileClip' object has no attribute 'subclip'\n",
      "                             "
     ]
    },
    {
     "name": "stderr",
     "output_type": "stream",
     "text": [
      " 34%|████████████████████████████████████                                                                      | 34/100 [02:19<05:52,  5.34s/it]"
     ]
    },
    {
     "name": "stdout",
     "output_type": "stream",
     "text": [
      "{'video_found': True, 'audio_found': True, 'metadata': {'major_brand': 'mp42', 'minor_version': '0', 'compatible_brands': 'isommp42', 'creation_time': '2024-03-02T14:58:38.000000Z'}, 'inputs': [{'streams': [{'input_number': 0, 'stream_number': 0, 'stream_type': 'video', 'language': None, 'default': True, 'size': [640, 358], 'bitrate': 154, 'fps': 25.0, 'codec_name': 'h264', 'profile': '(Main)', 'metadata': {'Metadata': '', 'creation_time': '2024-03-02T14:58:38.000000Z', 'handler_name': 'ISO Media file produced by Google Inc. Created on: 03/02/2024.', 'vendor_id': '[0][0][0][0]'}}, {'input_number': 0, 'stream_number': 1, 'stream_type': 'audio', 'language': None, 'default': True, 'fps': 44100, 'bitrate': 127, 'metadata': {'Metadata': '', 'creation_time': '2024-03-02T14:58:38.000000Z', 'handler_name': 'ISO Media file produced by Google Inc. Created on: 03/02/2024.', 'vendor_id': '[0][0][0][0]'}}], 'input_number': 0}], 'duration': 800.58, 'bitrate': 286, 'start': 0.0, 'default_video_input_number': 0, 'default_video_stream_number': 0, 'video_codec_name': 'h264', 'video_profile': '(Main)', 'video_size': [640, 358], 'video_bitrate': 154, 'video_fps': 25.0, 'default_audio_input_number': 0, 'default_audio_stream_number': 1, 'audio_fps': 44100, 'audio_bitrate': 127, 'video_duration': 800.58, 'video_n_frames': 20014}\n",
      "/home/segus-faultise/Projects/CAB420_GROUP_A/cab420_GROUP_A_ENV/lib/python3.12/site-packages/imageio_ffmpeg/binaries/ffmpeg-linux-x86_64-v7.0.2 -i msasl_clips/temp_72_6.mp4 -loglevel error -f image2pipe -vf scale=640:358 -sws_flags bicubic -pix_fmt rgb24 -vcodec rawvideo -\n",
      "Failed to clip video: 'VideoFileClip' object has no attribute 'subclip'\n",
      "                             "
     ]
    },
    {
     "name": "stderr",
     "output_type": "stream",
     "text": [
      " 35%|█████████████████████████████████████                                                                     | 35/100 [02:23<05:18,  4.91s/it]"
     ]
    },
    {
     "name": "stdout",
     "output_type": "stream",
     "text": [
      "{'video_found': True, 'audio_found': True, 'metadata': {'major_brand': 'mp42', 'minor_version': '0', 'compatible_brands': 'isommp42', 'creation_time': '2024-03-02T14:58:38.000000Z'}, 'inputs': [{'streams': [{'input_number': 0, 'stream_number': 0, 'stream_type': 'video', 'language': None, 'default': True, 'size': [640, 358], 'bitrate': 154, 'fps': 25.0, 'codec_name': 'h264', 'profile': '(Main)', 'metadata': {'Metadata': '', 'creation_time': '2024-03-02T14:58:38.000000Z', 'handler_name': 'ISO Media file produced by Google Inc. Created on: 03/02/2024.', 'vendor_id': '[0][0][0][0]'}}, {'input_number': 0, 'stream_number': 1, 'stream_type': 'audio', 'language': None, 'default': True, 'fps': 44100, 'bitrate': 127, 'metadata': {'Metadata': '', 'creation_time': '2024-03-02T14:58:38.000000Z', 'handler_name': 'ISO Media file produced by Google Inc. Created on: 03/02/2024.', 'vendor_id': '[0][0][0][0]'}}], 'input_number': 0}], 'duration': 800.58, 'bitrate': 286, 'start': 0.0, 'default_video_input_number': 0, 'default_video_stream_number': 0, 'video_codec_name': 'h264', 'video_profile': '(Main)', 'video_size': [640, 358], 'video_bitrate': 154, 'video_fps': 25.0, 'default_audio_input_number': 0, 'default_audio_stream_number': 1, 'audio_fps': 44100, 'audio_bitrate': 127, 'video_duration': 800.58, 'video_n_frames': 20014}\n",
      "/home/segus-faultise/Projects/CAB420_GROUP_A/cab420_GROUP_A_ENV/lib/python3.12/site-packages/imageio_ffmpeg/binaries/ffmpeg-linux-x86_64-v7.0.2 -i msasl_clips/temp_72_6.mp4 -loglevel error -f image2pipe -vf scale=640:358 -sws_flags bicubic -pix_fmt rgb24 -vcodec rawvideo -\n",
      "Failed to clip video: 'VideoFileClip' object has no attribute 'subclip'\n",
      "                                                           "
     ]
    },
    {
     "name": "stderr",
     "output_type": "stream",
     "text": [
      " 36%|██████████████████████████████████████▏                                                                   | 36/100 [02:33<06:45,  6.33s/it]"
     ]
    },
    {
     "name": "stdout",
     "output_type": "stream",
     "text": [
      "{'video_found': True, 'audio_found': True, 'metadata': {'major_brand': 'mp42', 'minor_version': '0', 'compatible_brands': 'isommp42', 'creation_time': '2024-03-02T14:58:38.000000Z'}, 'inputs': [{'streams': [{'input_number': 0, 'stream_number': 0, 'stream_type': 'video', 'language': None, 'default': True, 'size': [640, 358], 'bitrate': 154, 'fps': 25.0, 'codec_name': 'h264', 'profile': '(Main)', 'metadata': {'Metadata': '', 'creation_time': '2024-03-02T14:58:38.000000Z', 'handler_name': 'ISO Media file produced by Google Inc. Created on: 03/02/2024.', 'vendor_id': '[0][0][0][0]'}}, {'input_number': 0, 'stream_number': 1, 'stream_type': 'audio', 'language': None, 'default': True, 'fps': 44100, 'bitrate': 127, 'metadata': {'Metadata': '', 'creation_time': '2024-03-02T14:58:38.000000Z', 'handler_name': 'ISO Media file produced by Google Inc. Created on: 03/02/2024.', 'vendor_id': '[0][0][0][0]'}}], 'input_number': 0}], 'duration': 800.58, 'bitrate': 286, 'start': 0.0, 'default_video_input_number': 0, 'default_video_stream_number': 0, 'video_codec_name': 'h264', 'video_profile': '(Main)', 'video_size': [640, 358], 'video_bitrate': 154, 'video_fps': 25.0, 'default_audio_input_number': 0, 'default_audio_stream_number': 1, 'audio_fps': 44100, 'audio_bitrate': 127, 'video_duration': 800.58, 'video_n_frames': 20014}\n",
      "/home/segus-faultise/Projects/CAB420_GROUP_A/cab420_GROUP_A_ENV/lib/python3.12/site-packages/imageio_ffmpeg/binaries/ffmpeg-linux-x86_64-v7.0.2 -i msasl_clips/temp_220_6.mp4 -loglevel error -f image2pipe -vf scale=640:358 -sws_flags bicubic -pix_fmt rgb24 -vcodec rawvideo -\n",
      "Failed to clip video: 'VideoFileClip' object has no attribute 'subclip'\n",
      "                             "
     ]
    },
    {
     "name": "stderr",
     "output_type": "stream",
     "text": [
      " 37%|███████████████████████████████████████▏                                                                  | 37/100 [02:37<05:52,  5.60s/it]"
     ]
    },
    {
     "name": "stdout",
     "output_type": "stream",
     "text": [
      "{'video_found': True, 'audio_found': True, 'metadata': {'major_brand': 'mp42', 'minor_version': '0', 'compatible_brands': 'isommp42', 'creation_time': '2024-03-02T14:58:38.000000Z'}, 'inputs': [{'streams': [{'input_number': 0, 'stream_number': 0, 'stream_type': 'video', 'language': None, 'default': True, 'size': [640, 358], 'bitrate': 154, 'fps': 25.0, 'codec_name': 'h264', 'profile': '(Main)', 'metadata': {'Metadata': '', 'creation_time': '2024-03-02T14:58:38.000000Z', 'handler_name': 'ISO Media file produced by Google Inc. Created on: 03/02/2024.', 'vendor_id': '[0][0][0][0]'}}, {'input_number': 0, 'stream_number': 1, 'stream_type': 'audio', 'language': None, 'default': True, 'fps': 44100, 'bitrate': 127, 'metadata': {'Metadata': '', 'creation_time': '2024-03-02T14:58:38.000000Z', 'handler_name': 'ISO Media file produced by Google Inc. Created on: 03/02/2024.', 'vendor_id': '[0][0][0][0]'}}], 'input_number': 0}], 'duration': 800.58, 'bitrate': 286, 'start': 0.0, 'default_video_input_number': 0, 'default_video_stream_number': 0, 'video_codec_name': 'h264', 'video_profile': '(Main)', 'video_size': [640, 358], 'video_bitrate': 154, 'video_fps': 25.0, 'default_audio_input_number': 0, 'default_audio_stream_number': 1, 'audio_fps': 44100, 'audio_bitrate': 127, 'video_duration': 800.58, 'video_n_frames': 20014}\n",
      "/home/segus-faultise/Projects/CAB420_GROUP_A/cab420_GROUP_A_ENV/lib/python3.12/site-packages/imageio_ffmpeg/binaries/ffmpeg-linux-x86_64-v7.0.2 -i msasl_clips/temp_220_6.mp4 -loglevel error -f image2pipe -vf scale=640:358 -sws_flags bicubic -pix_fmt rgb24 -vcodec rawvideo -\n",
      "Failed to clip video: 'VideoFileClip' object has no attribute 'subclip'\n",
      "                             "
     ]
    },
    {
     "name": "stderr",
     "output_type": "stream",
     "text": [
      " 38%|████████████████████████████████████████▎                                                                 | 38/100 [02:40<05:09,  4.99s/it]"
     ]
    },
    {
     "name": "stdout",
     "output_type": "stream",
     "text": [
      "{'video_found': True, 'audio_found': True, 'metadata': {'major_brand': 'mp42', 'minor_version': '0', 'compatible_brands': 'isommp42', 'creation_time': '2024-03-02T14:58:38.000000Z'}, 'inputs': [{'streams': [{'input_number': 0, 'stream_number': 0, 'stream_type': 'video', 'language': None, 'default': True, 'size': [640, 358], 'bitrate': 154, 'fps': 25.0, 'codec_name': 'h264', 'profile': '(Main)', 'metadata': {'Metadata': '', 'creation_time': '2024-03-02T14:58:38.000000Z', 'handler_name': 'ISO Media file produced by Google Inc. Created on: 03/02/2024.', 'vendor_id': '[0][0][0][0]'}}, {'input_number': 0, 'stream_number': 1, 'stream_type': 'audio', 'language': None, 'default': True, 'fps': 44100, 'bitrate': 127, 'metadata': {'Metadata': '', 'creation_time': '2024-03-02T14:58:38.000000Z', 'handler_name': 'ISO Media file produced by Google Inc. Created on: 03/02/2024.', 'vendor_id': '[0][0][0][0]'}}], 'input_number': 0}], 'duration': 800.58, 'bitrate': 286, 'start': 0.0, 'default_video_input_number': 0, 'default_video_stream_number': 0, 'video_codec_name': 'h264', 'video_profile': '(Main)', 'video_size': [640, 358], 'video_bitrate': 154, 'video_fps': 25.0, 'default_audio_input_number': 0, 'default_audio_stream_number': 1, 'audio_fps': 44100, 'audio_bitrate': 127, 'video_duration': 800.58, 'video_n_frames': 20014}\n",
      "/home/segus-faultise/Projects/CAB420_GROUP_A/cab420_GROUP_A_ENV/lib/python3.12/site-packages/imageio_ffmpeg/binaries/ffmpeg-linux-x86_64-v7.0.2 -i msasl_clips/temp_220_6.mp4 -loglevel error -f image2pipe -vf scale=640:358 -sws_flags bicubic -pix_fmt rgb24 -vcodec rawvideo -\n",
      "Failed to clip video: 'VideoFileClip' object has no attribute 'subclip'\n",
      "{'video_found': True, 'audio_found': True, 'metadata': {'major_brand': 'mp42', 'minor_version': '0', 'compatible_brands': 'isommp42', 'creation_time': '2024-03-02T14:58:38.000000Z'}, 'inputs': [{'streams': [{'input_number': 0, 'stream_number': 0, 'stream_type': 'video', 'language': None, 'default': True, 'size': [640, 358], 'bitrate': 154, 'fps': 25.0, 'codec_name': 'h264', 'profile': '(Main)', 'metadata': {'Metadata': '', 'creation_time': '2024-03-02T14:58:38.000000Z', 'handler_name': 'ISO Media file produced by Google Inc. Created on: 03/02/2024.', 'vendor_id': '[0][0][0][0]'}}, {'input_number': 0, 'stream_number': 1, 'stream_type': 'audio', 'language': None, 'default': True, 'fps': 44100, 'bitrate': 127, 'metadata': {'Metadata': '', 'creation_time': '2024-03-02T14:58:38.000000Z', 'handler_name': 'ISO Media file produced by Google Inc. Created on: 03/02/2024.', 'vendor_id': '[0][0][0][0]'}}], 'input_number': 0}], 'duration': 800.58, 'bitrate': 286, 'start': 0.0, 'default_video_input_number': 0, 'default_video_stream_number': 0, 'video_codec_name': 'h264', 'video_profile': '(Main)', 'video_size': [640, 358], 'video_bitrate': 154, 'video_fps': 25.0, 'default_audio_input_number': 0, 'default_audio_stream_number': 1, 'audio_fps': 44100, 'audio_bitrate': 127, 'video_duration': 800.58, 'video_n_frames': 20014}\n",
      "/home/segus-faultise/Projects/CAB420_GROUP_A/cab420_GROUP_A_ENV/lib/python3.12/site-packages/imageio_ffmpeg/binaries/ffmpeg-linux-x86_64-v7.0.2 -i msasl_clips/temp_5_6.mp4 -loglevel error -f image2pipe -vf scale=640:358 -sws_flags bicubic -pix_fmt rgb24 -vcodec rawvideo -\n"
     ]
    },
    {
     "name": "stderr",
     "output_type": "stream",
     "text": [
      " 39%|█████████████████████████████████████████▎                                                                | 39/100 [02:45<05:04,  4.99s/it]"
     ]
    },
    {
     "name": "stdout",
     "output_type": "stream",
     "text": [
      "Failed to clip video: 'VideoFileClip' object has no attribute 'subclip'\n",
      "{'video_found': True, 'audio_found': True, 'metadata': {'major_brand': 'mp42', 'minor_version': '0', 'compatible_brands': 'isommp42', 'creation_time': '2024-03-02T14:58:38.000000Z'}, 'inputs': [{'streams': [{'input_number': 0, 'stream_number': 0, 'stream_type': 'video', 'language': None, 'default': True, 'size': [640, 358], 'bitrate': 154, 'fps': 25.0, 'codec_name': 'h264', 'profile': '(Main)', 'metadata': {'Metadata': '', 'creation_time': '2024-03-02T14:58:38.000000Z', 'handler_name': 'ISO Media file produced by Google Inc. Created on: 03/02/2024.', 'vendor_id': '[0][0][0][0]'}}, {'input_number': 0, 'stream_number': 1, 'stream_type': 'audio', 'language': None, 'default': True, 'fps': 44100, 'bitrate': 127, 'metadata': {'Metadata': '', 'creation_time': '2024-03-02T14:58:38.000000Z', 'handler_name': 'ISO Media file produced by Google Inc. Created on: 03/02/2024.', 'vendor_id': '[0][0][0][0]'}}], 'input_number': 0}], 'duration': 800.58, 'bitrate': 286, 'start': 0.0, 'default_video_input_number': 0, 'default_video_stream_number': 0, 'video_codec_name': 'h264', 'video_profile': '(Main)', 'video_size': [640, 358], 'video_bitrate': 154, 'video_fps': 25.0, 'default_audio_input_number': 0, 'default_audio_stream_number': 1, 'audio_fps': 44100, 'audio_bitrate': 127, 'video_duration': 800.58, 'video_n_frames': 20014}\n",
      "/home/segus-faultise/Projects/CAB420_GROUP_A/cab420_GROUP_A_ENV/lib/python3.12/site-packages/imageio_ffmpeg/binaries/ffmpeg-linux-x86_64-v7.0.2 -i msasl_clips/temp_27_6.mp4 -loglevel error -f image2pipe -vf scale=640:358 -sws_flags bicubic -pix_fmt rgb24 -vcodec rawvideo -\n"
     ]
    },
    {
     "name": "stderr",
     "output_type": "stream",
     "text": [
      " 40%|██████████████████████████████████████████▍                                                               | 40/100 [02:49<04:37,  4.62s/it]"
     ]
    },
    {
     "name": "stdout",
     "output_type": "stream",
     "text": [
      "Failed to clip video: 'VideoFileClip' object has no attribute 'subclip'\n",
      "                             "
     ]
    },
    {
     "name": "stderr",
     "output_type": "stream",
     "text": [
      " 41%|███████████████████████████████████████████▍                                                              | 41/100 [02:53<04:20,  4.41s/it]"
     ]
    },
    {
     "name": "stdout",
     "output_type": "stream",
     "text": [
      "{'video_found': True, 'audio_found': True, 'metadata': {'major_brand': 'mp42', 'minor_version': '0', 'compatible_brands': 'isommp42', 'creation_time': '2024-03-02T14:58:38.000000Z'}, 'inputs': [{'streams': [{'input_number': 0, 'stream_number': 0, 'stream_type': 'video', 'language': None, 'default': True, 'size': [640, 358], 'bitrate': 154, 'fps': 25.0, 'codec_name': 'h264', 'profile': '(Main)', 'metadata': {'Metadata': '', 'creation_time': '2024-03-02T14:58:38.000000Z', 'handler_name': 'ISO Media file produced by Google Inc. Created on: 03/02/2024.', 'vendor_id': '[0][0][0][0]'}}, {'input_number': 0, 'stream_number': 1, 'stream_type': 'audio', 'language': None, 'default': True, 'fps': 44100, 'bitrate': 127, 'metadata': {'Metadata': '', 'creation_time': '2024-03-02T14:58:38.000000Z', 'handler_name': 'ISO Media file produced by Google Inc. Created on: 03/02/2024.', 'vendor_id': '[0][0][0][0]'}}], 'input_number': 0}], 'duration': 800.58, 'bitrate': 286, 'start': 0.0, 'default_video_input_number': 0, 'default_video_stream_number': 0, 'video_codec_name': 'h264', 'video_profile': '(Main)', 'video_size': [640, 358], 'video_bitrate': 154, 'video_fps': 25.0, 'default_audio_input_number': 0, 'default_audio_stream_number': 1, 'audio_fps': 44100, 'audio_bitrate': 127, 'video_duration': 800.58, 'video_n_frames': 20014}\n",
      "/home/segus-faultise/Projects/CAB420_GROUP_A/cab420_GROUP_A_ENV/lib/python3.12/site-packages/imageio_ffmpeg/binaries/ffmpeg-linux-x86_64-v7.0.2 -i msasl_clips/temp_27_6.mp4 -loglevel error -f image2pipe -vf scale=640:358 -sws_flags bicubic -pix_fmt rgb24 -vcodec rawvideo -\n",
      "Failed to clip video: 'VideoFileClip' object has no attribute 'subclip'\n",
      "{'video_found': True, 'audio_found': True, 'metadata': {'major_brand': 'mp42', 'minor_version': '0', 'compatible_brands': 'isommp42', 'creation_time': '2024-03-02T14:58:38.000000Z'}, 'inputs': [{'streams': [{'input_number': 0, 'stream_number': 0, 'stream_type': 'video', 'language': None, 'default': True, 'size': [640, 358], 'bitrate': 154, 'fps': 25.0, 'codec_name': 'h264', 'profile': '(Main)', 'metadata': {'Metadata': '', 'creation_time': '2024-03-02T14:58:38.000000Z', 'handler_name': 'ISO Media file produced by Google Inc. Created on: 03/02/2024.', 'vendor_id': '[0][0][0][0]'}}, {'input_number': 0, 'stream_number': 1, 'stream_type': 'audio', 'language': None, 'default': True, 'fps': 44100, 'bitrate': 127, 'metadata': {'Metadata': '', 'creation_time': '2024-03-02T14:58:38.000000Z', 'handler_name': 'ISO Media file produced by Google Inc. Created on: 03/02/2024.', 'vendor_id': '[0][0][0][0]'}}], 'input_number': 0}], 'duration': 800.58, 'bitrate': 286, 'start': 0.0, 'default_video_input_number': 0, 'default_video_stream_number': 0, 'video_codec_name': 'h264', 'video_profile': '(Main)', 'video_size': [640, 358], 'video_bitrate': 154, 'video_fps': 25.0, 'default_audio_input_number': 0, 'default_audio_stream_number': 1, 'audio_fps': 44100, 'audio_bitrate': 127, 'video_duration': 800.58, 'video_n_frames': 20014}\n",
      "/home/segus-faultise/Projects/CAB420_GROUP_A/cab420_GROUP_A_ENV/lib/python3.12/site-packages/imageio_ffmpeg/binaries/ffmpeg-linux-x86_64-v7.0.2 -i msasl_clips/temp_307_6.mp4 -loglevel error -f image2pipe -vf scale=640:358 -sws_flags bicubic -pix_fmt rgb24 -vcodec rawvideo -\n"
     ]
    },
    {
     "name": "stderr",
     "output_type": "stream",
     "text": [
      " 42%|████████████████████████████████████████████▌                                                             | 42/100 [02:57<04:20,  4.49s/it]"
     ]
    },
    {
     "name": "stdout",
     "output_type": "stream",
     "text": [
      "Failed to clip video: 'VideoFileClip' object has no attribute 'subclip'\n",
      "                             "
     ]
    },
    {
     "name": "stderr",
     "output_type": "stream",
     "text": [
      " 43%|█████████████████████████████████████████████▌                                                            | 43/100 [03:01<04:05,  4.30s/it]"
     ]
    },
    {
     "name": "stdout",
     "output_type": "stream",
     "text": [
      "{'video_found': True, 'audio_found': True, 'metadata': {'major_brand': 'mp42', 'minor_version': '0', 'compatible_brands': 'isommp42', 'creation_time': '2024-03-02T14:58:38.000000Z'}, 'inputs': [{'streams': [{'input_number': 0, 'stream_number': 0, 'stream_type': 'video', 'language': None, 'default': True, 'size': [640, 358], 'bitrate': 154, 'fps': 25.0, 'codec_name': 'h264', 'profile': '(Main)', 'metadata': {'Metadata': '', 'creation_time': '2024-03-02T14:58:38.000000Z', 'handler_name': 'ISO Media file produced by Google Inc. Created on: 03/02/2024.', 'vendor_id': '[0][0][0][0]'}}, {'input_number': 0, 'stream_number': 1, 'stream_type': 'audio', 'language': None, 'default': True, 'fps': 44100, 'bitrate': 127, 'metadata': {'Metadata': '', 'creation_time': '2024-03-02T14:58:38.000000Z', 'handler_name': 'ISO Media file produced by Google Inc. Created on: 03/02/2024.', 'vendor_id': '[0][0][0][0]'}}], 'input_number': 0}], 'duration': 800.58, 'bitrate': 286, 'start': 0.0, 'default_video_input_number': 0, 'default_video_stream_number': 0, 'video_codec_name': 'h264', 'video_profile': '(Main)', 'video_size': [640, 358], 'video_bitrate': 154, 'video_fps': 25.0, 'default_audio_input_number': 0, 'default_audio_stream_number': 1, 'audio_fps': 44100, 'audio_bitrate': 127, 'video_duration': 800.58, 'video_n_frames': 20014}\n",
      "/home/segus-faultise/Projects/CAB420_GROUP_A/cab420_GROUP_A_ENV/lib/python3.12/site-packages/imageio_ffmpeg/binaries/ffmpeg-linux-x86_64-v7.0.2 -i msasl_clips/temp_307_6.mp4 -loglevel error -f image2pipe -vf scale=640:358 -sws_flags bicubic -pix_fmt rgb24 -vcodec rawvideo -\n",
      "Failed to clip video: 'VideoFileClip' object has no attribute 'subclip'\n",
      "{'video_found': True, 'audio_found': True, 'metadata': {'major_brand': 'mp42', 'minor_version': '0', 'compatible_brands': 'isommp42', 'creation_time': '2024-03-02T14:58:38.000000Z'}, 'inputs': [{'streams': [{'input_number': 0, 'stream_number': 0, 'stream_type': 'video', 'language': None, 'default': True, 'size': [640, 358], 'bitrate': 154, 'fps': 25.0, 'codec_name': 'h264', 'profile': '(Main)', 'metadata': {'Metadata': '', 'creation_time': '2024-03-02T14:58:38.000000Z', 'handler_name': 'ISO Media file produced by Google Inc. Created on: 03/02/2024.', 'vendor_id': '[0][0][0][0]'}}, {'input_number': 0, 'stream_number': 1, 'stream_type': 'audio', 'language': None, 'default': True, 'fps': 44100, 'bitrate': 127, 'metadata': {'Metadata': '', 'creation_time': '2024-03-02T14:58:38.000000Z', 'handler_name': 'ISO Media file produced by Google Inc. Created on: 03/02/2024.', 'vendor_id': '[0][0][0][0]'}}], 'input_number': 0}], 'duration': 800.58, 'bitrate': 286, 'start': 0.0, 'default_video_input_number': 0, 'default_video_stream_number': 0, 'video_codec_name': 'h264', 'video_profile': '(Main)', 'video_size': [640, 358], 'video_bitrate': 154, 'video_fps': 25.0, 'default_audio_input_number': 0, 'default_audio_stream_number': 1, 'audio_fps': 44100, 'audio_bitrate': 127, 'video_duration': 800.58, 'video_n_frames': 20014}\n",
      "/home/segus-faultise/Projects/CAB420_GROUP_A/cab420_GROUP_A_ENV/lib/python3.12/site-packages/imageio_ffmpeg/binaries/ffmpeg-linux-x86_64-v7.0.2 -i msasl_clips/temp_876_6.mp4 -loglevel error -f image2pipe -vf scale=640:358 -sws_flags bicubic -pix_fmt rgb24 -vcodec rawvideo -\n"
     ]
    },
    {
     "name": "stderr",
     "output_type": "stream",
     "text": [
      " 44%|██████████████████████████████████████████████▋                                                           | 44/100 [03:06<04:07,  4.41s/it]"
     ]
    },
    {
     "name": "stdout",
     "output_type": "stream",
     "text": [
      "Failed to clip video: 'VideoFileClip' object has no attribute 'subclip'\n",
      "{'video_found': True, 'audio_found': True, 'metadata': {'major_brand': 'mp42', 'minor_version': '0', 'compatible_brands': 'isommp42', 'creation_time': '2024-03-02T14:58:38.000000Z'}, 'inputs': [{'streams': [{'input_number': 0, 'stream_number': 0, 'stream_type': 'video', 'language': None, 'default': True, 'size': [640, 358], 'bitrate': 154, 'fps': 25.0, 'codec_name': 'h264', 'profile': '(Main)', 'metadata': {'Metadata': '', 'creation_time': '2024-03-02T14:58:38.000000Z', 'handler_name': 'ISO Media file produced by Google Inc. Created on: 03/02/2024.', 'vendor_id': '[0][0][0][0]'}}, {'input_number': 0, 'stream_number': 1, 'stream_type': 'audio', 'language': None, 'default': True, 'fps': 44100, 'bitrate': 127, 'metadata': {'Metadata': '', 'creation_time': '2024-03-02T14:58:38.000000Z', 'handler_name': 'ISO Media file produced by Google Inc. Created on: 03/02/2024.', 'vendor_id': '[0][0][0][0]'}}], 'input_number': 0}], 'duration': 800.58, 'bitrate': 286, 'start': 0.0, 'default_video_input_number': 0, 'default_video_stream_number': 0, 'video_codec_name': 'h264', 'video_profile': '(Main)', 'video_size': [640, 358], 'video_bitrate': 154, 'video_fps': 25.0, 'default_audio_input_number': 0, 'default_audio_stream_number': 1, 'audio_fps': 44100, 'audio_bitrate': 127, 'video_duration': 800.58, 'video_n_frames': 20014}\n",
      "/home/segus-faultise/Projects/CAB420_GROUP_A/cab420_GROUP_A_ENV/lib/python3.12/site-packages/imageio_ffmpeg/binaries/ffmpeg-linux-x86_64-v7.0.2 -i msasl_clips/temp_8_6.mp4 -loglevel error -f image2pipe -vf scale=640:358 -sws_flags bicubic -pix_fmt rgb24 -vcodec rawvideo -\n"
     ]
    },
    {
     "name": "stderr",
     "output_type": "stream",
     "text": [
      " 45%|███████████████████████████████████████████████▋                                                          | 45/100 [03:11<04:07,  4.50s/it]"
     ]
    },
    {
     "name": "stdout",
     "output_type": "stream",
     "text": [
      "Failed to clip video: 'VideoFileClip' object has no attribute 'subclip'\n",
      "{'video_found': True, 'audio_found': True, 'metadata': {'major_brand': 'mp42', 'minor_version': '0', 'compatible_brands': 'isommp42', 'creation_time': '2024-03-02T14:58:38.000000Z'}, 'inputs': [{'streams': [{'input_number': 0, 'stream_number': 0, 'stream_type': 'video', 'language': None, 'default': True, 'size': [640, 358], 'bitrate': 154, 'fps': 25.0, 'codec_name': 'h264', 'profile': '(Main)', 'metadata': {'Metadata': '', 'creation_time': '2024-03-02T14:58:38.000000Z', 'handler_name': 'ISO Media file produced by Google Inc. Created on: 03/02/2024.', 'vendor_id': '[0][0][0][0]'}}, {'input_number': 0, 'stream_number': 1, 'stream_type': 'audio', 'language': None, 'default': True, 'fps': 44100, 'bitrate': 127, 'metadata': {'Metadata': '', 'creation_time': '2024-03-02T14:58:38.000000Z', 'handler_name': 'ISO Media file produced by Google Inc. Created on: 03/02/2024.', 'vendor_id': '[0][0][0][0]'}}], 'input_number': 0}], 'duration': 800.58, 'bitrate': 286, 'start': 0.0, 'default_video_input_number': 0, 'default_video_stream_number': 0, 'video_codec_name': 'h264', 'video_profile': '(Main)', 'video_size': [640, 358], 'video_bitrate': 154, 'video_fps': 25.0, 'default_audio_input_number': 0, 'default_audio_stream_number': 1, 'audio_fps': 44100, 'audio_bitrate': 127, 'video_duration': 800.58, 'video_n_frames': 20014}\n",
      "/home/segus-faultise/Projects/CAB420_GROUP_A/cab420_GROUP_A_ENV/lib/python3.12/site-packages/imageio_ffmpeg/binaries/ffmpeg-linux-x86_64-v7.0.2 -i msasl_clips/temp_97_6.mp4 -loglevel error -f image2pipe -vf scale=640:358 -sws_flags bicubic -pix_fmt rgb24 -vcodec rawvideo -\n"
     ]
    },
    {
     "name": "stderr",
     "output_type": "stream",
     "text": [
      " 46%|████████████████████████████████████████████████▊                                                         | 46/100 [03:15<04:04,  4.54s/it]"
     ]
    },
    {
     "name": "stdout",
     "output_type": "stream",
     "text": [
      "Failed to clip video: 'VideoFileClip' object has no attribute 'subclip'\n",
      "                             "
     ]
    },
    {
     "name": "stderr",
     "output_type": "stream",
     "text": [
      " 47%|█████████████████████████████████████████████████▊                                                        | 47/100 [03:19<03:50,  4.35s/it]"
     ]
    },
    {
     "name": "stdout",
     "output_type": "stream",
     "text": [
      "{'video_found': True, 'audio_found': True, 'metadata': {'major_brand': 'mp42', 'minor_version': '0', 'compatible_brands': 'isommp42', 'creation_time': '2024-03-02T14:58:38.000000Z'}, 'inputs': [{'streams': [{'input_number': 0, 'stream_number': 0, 'stream_type': 'video', 'language': None, 'default': True, 'size': [640, 358], 'bitrate': 154, 'fps': 25.0, 'codec_name': 'h264', 'profile': '(Main)', 'metadata': {'Metadata': '', 'creation_time': '2024-03-02T14:58:38.000000Z', 'handler_name': 'ISO Media file produced by Google Inc. Created on: 03/02/2024.', 'vendor_id': '[0][0][0][0]'}}, {'input_number': 0, 'stream_number': 1, 'stream_type': 'audio', 'language': None, 'default': True, 'fps': 44100, 'bitrate': 127, 'metadata': {'Metadata': '', 'creation_time': '2024-03-02T14:58:38.000000Z', 'handler_name': 'ISO Media file produced by Google Inc. Created on: 03/02/2024.', 'vendor_id': '[0][0][0][0]'}}], 'input_number': 0}], 'duration': 800.58, 'bitrate': 286, 'start': 0.0, 'default_video_input_number': 0, 'default_video_stream_number': 0, 'video_codec_name': 'h264', 'video_profile': '(Main)', 'video_size': [640, 358], 'video_bitrate': 154, 'video_fps': 25.0, 'default_audio_input_number': 0, 'default_audio_stream_number': 1, 'audio_fps': 44100, 'audio_bitrate': 127, 'video_duration': 800.58, 'video_n_frames': 20014}\n",
      "/home/segus-faultise/Projects/CAB420_GROUP_A/cab420_GROUP_A_ENV/lib/python3.12/site-packages/imageio_ffmpeg/binaries/ffmpeg-linux-x86_64-v7.0.2 -i msasl_clips/temp_97_6.mp4 -loglevel error -f image2pipe -vf scale=640:358 -sws_flags bicubic -pix_fmt rgb24 -vcodec rawvideo -\n",
      "Failed to clip video: 'VideoFileClip' object has no attribute 'subclip'\n",
      "{'video_found': True, 'audio_found': True, 'metadata': {'major_brand': 'mp42', 'minor_version': '0', 'compatible_brands': 'isommp42', 'creation_time': '2024-03-02T14:58:38.000000Z'}, 'inputs': [{'streams': [{'input_number': 0, 'stream_number': 0, 'stream_type': 'video', 'language': None, 'default': True, 'size': [640, 358], 'bitrate': 154, 'fps': 25.0, 'codec_name': 'h264', 'profile': '(Main)', 'metadata': {'Metadata': '', 'creation_time': '2024-03-02T14:58:38.000000Z', 'handler_name': 'ISO Media file produced by Google Inc. Created on: 03/02/2024.', 'vendor_id': '[0][0][0][0]'}}, {'input_number': 0, 'stream_number': 1, 'stream_type': 'audio', 'language': None, 'default': True, 'fps': 44100, 'bitrate': 127, 'metadata': {'Metadata': '', 'creation_time': '2024-03-02T14:58:38.000000Z', 'handler_name': 'ISO Media file produced by Google Inc. Created on: 03/02/2024.', 'vendor_id': '[0][0][0][0]'}}], 'input_number': 0}], 'duration': 800.58, 'bitrate': 286, 'start': 0.0, 'default_video_input_number': 0, 'default_video_stream_number': 0, 'video_codec_name': 'h264', 'video_profile': '(Main)', 'video_size': [640, 358], 'video_bitrate': 154, 'video_fps': 25.0, 'default_audio_input_number': 0, 'default_audio_stream_number': 1, 'audio_fps': 44100, 'audio_bitrate': 127, 'video_duration': 800.58, 'video_n_frames': 20014}\n",
      "/home/segus-faultise/Projects/CAB420_GROUP_A/cab420_GROUP_A_ENV/lib/python3.12/site-packages/imageio_ffmpeg/binaries/ffmpeg-linux-x86_64-v7.0.2 -i msasl_clips/temp_29_6.mp4 -loglevel error -f image2pipe -vf scale=640:358 -sws_flags bicubic -pix_fmt rgb24 -vcodec rawvideo -\n"
     ]
    },
    {
     "name": "stderr",
     "output_type": "stream",
     "text": [
      " 48%|██████████████████████████████████████████████████▉                                                       | 48/100 [03:24<03:49,  4.41s/it]"
     ]
    },
    {
     "name": "stdout",
     "output_type": "stream",
     "text": [
      "Failed to clip video: 'VideoFileClip' object has no attribute 'subclip'\n",
      "{'video_found': True, 'audio_found': True, 'metadata': {'major_brand': 'mp42', 'minor_version': '0', 'compatible_brands': 'isommp42', 'creation_time': '2024-03-02T14:58:38.000000Z'}, 'inputs': [{'streams': [{'input_number': 0, 'stream_number': 0, 'stream_type': 'video', 'language': None, 'default': True, 'size': [640, 358], 'bitrate': 154, 'fps': 25.0, 'codec_name': 'h264', 'profile': '(Main)', 'metadata': {'Metadata': '', 'creation_time': '2024-03-02T14:58:38.000000Z', 'handler_name': 'ISO Media file produced by Google Inc. Created on: 03/02/2024.', 'vendor_id': '[0][0][0][0]'}}, {'input_number': 0, 'stream_number': 1, 'stream_type': 'audio', 'language': None, 'default': True, 'fps': 44100, 'bitrate': 127, 'metadata': {'Metadata': '', 'creation_time': '2024-03-02T14:58:38.000000Z', 'handler_name': 'ISO Media file produced by Google Inc. Created on: 03/02/2024.', 'vendor_id': '[0][0][0][0]'}}], 'input_number': 0}], 'duration': 800.58, 'bitrate': 286, 'start': 0.0, 'default_video_input_number': 0, 'default_video_stream_number': 0, 'video_codec_name': 'h264', 'video_profile': '(Main)', 'video_size': [640, 358], 'video_bitrate': 154, 'video_fps': 25.0, 'default_audio_input_number': 0, 'default_audio_stream_number': 1, 'audio_fps': 44100, 'audio_bitrate': 127, 'video_duration': 800.58, 'video_n_frames': 20014}\n",
      "/home/segus-faultise/Projects/CAB420_GROUP_A/cab420_GROUP_A_ENV/lib/python3.12/site-packages/imageio_ffmpeg/binaries/ffmpeg-linux-x86_64-v7.0.2 -i msasl_clips/temp_59_6.mp4 -loglevel error -f image2pipe -vf scale=640:358 -sws_flags bicubic -pix_fmt rgb24 -vcodec rawvideo -\n"
     ]
    },
    {
     "name": "stderr",
     "output_type": "stream",
     "text": [
      " 49%|███████████████████████████████████████████████████▉                                                      | 49/100 [03:28<03:45,  4.43s/it]"
     ]
    },
    {
     "name": "stdout",
     "output_type": "stream",
     "text": [
      "Failed to clip video: 'VideoFileClip' object has no attribute 'subclip'\n",
      "{'video_found': True, 'audio_found': True, 'metadata': {'major_brand': 'mp42', 'minor_version': '0', 'compatible_brands': 'isommp42', 'creation_time': '2024-03-02T14:58:38.000000Z'}, 'inputs': [{'streams': [{'input_number': 0, 'stream_number': 0, 'stream_type': 'video', 'language': None, 'default': True, 'size': [640, 358], 'bitrate': 154, 'fps': 25.0, 'codec_name': 'h264', 'profile': '(Main)', 'metadata': {'Metadata': '', 'creation_time': '2024-03-02T14:58:38.000000Z', 'handler_name': 'ISO Media file produced by Google Inc. Created on: 03/02/2024.', 'vendor_id': '[0][0][0][0]'}}, {'input_number': 0, 'stream_number': 1, 'stream_type': 'audio', 'language': None, 'default': True, 'fps': 44100, 'bitrate': 127, 'metadata': {'Metadata': '', 'creation_time': '2024-03-02T14:58:38.000000Z', 'handler_name': 'ISO Media file produced by Google Inc. Created on: 03/02/2024.', 'vendor_id': '[0][0][0][0]'}}], 'input_number': 0}], 'duration': 800.58, 'bitrate': 286, 'start': 0.0, 'default_video_input_number': 0, 'default_video_stream_number': 0, 'video_codec_name': 'h264', 'video_profile': '(Main)', 'video_size': [640, 358], 'video_bitrate': 154, 'video_fps': 25.0, 'default_audio_input_number': 0, 'default_audio_stream_number': 1, 'audio_fps': 44100, 'audio_bitrate': 127, 'video_duration': 800.58, 'video_n_frames': 20014}\n",
      "/home/segus-faultise/Projects/CAB420_GROUP_A/cab420_GROUP_A_ENV/lib/python3.12/site-packages/imageio_ffmpeg/binaries/ffmpeg-linux-x86_64-v7.0.2 -i msasl_clips/temp_227_6.mp4 -loglevel error -f image2pipe -vf scale=640:358 -sws_flags bicubic -pix_fmt rgb24 -vcodec rawvideo -\n"
     ]
    },
    {
     "name": "stderr",
     "output_type": "stream",
     "text": [
      " 50%|█████████████████████████████████████████████████████                                                     | 50/100 [03:33<03:41,  4.43s/it]"
     ]
    },
    {
     "name": "stdout",
     "output_type": "stream",
     "text": [
      "Failed to clip video: 'VideoFileClip' object has no attribute 'subclip'\n",
      "                             "
     ]
    },
    {
     "name": "stderr",
     "output_type": "stream",
     "text": [
      " 51%|██████████████████████████████████████████████████████                                                    | 51/100 [03:37<03:38,  4.47s/it]"
     ]
    },
    {
     "name": "stdout",
     "output_type": "stream",
     "text": [
      "{'video_found': True, 'audio_found': True, 'metadata': {'major_brand': 'mp42', 'minor_version': '0', 'compatible_brands': 'isommp42', 'creation_time': '2024-03-02T14:58:38.000000Z'}, 'inputs': [{'streams': [{'input_number': 0, 'stream_number': 0, 'stream_type': 'video', 'language': None, 'default': True, 'size': [640, 358], 'bitrate': 154, 'fps': 25.0, 'codec_name': 'h264', 'profile': '(Main)', 'metadata': {'Metadata': '', 'creation_time': '2024-03-02T14:58:38.000000Z', 'handler_name': 'ISO Media file produced by Google Inc. Created on: 03/02/2024.', 'vendor_id': '[0][0][0][0]'}}, {'input_number': 0, 'stream_number': 1, 'stream_type': 'audio', 'language': None, 'default': True, 'fps': 44100, 'bitrate': 127, 'metadata': {'Metadata': '', 'creation_time': '2024-03-02T14:58:38.000000Z', 'handler_name': 'ISO Media file produced by Google Inc. Created on: 03/02/2024.', 'vendor_id': '[0][0][0][0]'}}], 'input_number': 0}], 'duration': 800.58, 'bitrate': 286, 'start': 0.0, 'default_video_input_number': 0, 'default_video_stream_number': 0, 'video_codec_name': 'h264', 'video_profile': '(Main)', 'video_size': [640, 358], 'video_bitrate': 154, 'video_fps': 25.0, 'default_audio_input_number': 0, 'default_audio_stream_number': 1, 'audio_fps': 44100, 'audio_bitrate': 127, 'video_duration': 800.58, 'video_n_frames': 20014}\n",
      "/home/segus-faultise/Projects/CAB420_GROUP_A/cab420_GROUP_A_ENV/lib/python3.12/site-packages/imageio_ffmpeg/binaries/ffmpeg-linux-x86_64-v7.0.2 -i msasl_clips/temp_227_6.mp4 -loglevel error -f image2pipe -vf scale=640:358 -sws_flags bicubic -pix_fmt rgb24 -vcodec rawvideo -\n",
      "Failed to clip video: 'VideoFileClip' object has no attribute 'subclip'\n",
      "{'video_found': True, 'audio_found': True, 'metadata': {'major_brand': 'mp42', 'minor_version': '0', 'compatible_brands': 'isommp42', 'creation_time': '2024-03-02T14:58:38.000000Z'}, 'inputs': [{'streams': [{'input_number': 0, 'stream_number': 0, 'stream_type': 'video', 'language': None, 'default': True, 'size': [640, 358], 'bitrate': 154, 'fps': 25.0, 'codec_name': 'h264', 'profile': '(Main)', 'metadata': {'Metadata': '', 'creation_time': '2024-03-02T14:58:38.000000Z', 'handler_name': 'ISO Media file produced by Google Inc. Created on: 03/02/2024.', 'vendor_id': '[0][0][0][0]'}}, {'input_number': 0, 'stream_number': 1, 'stream_type': 'audio', 'language': None, 'default': True, 'fps': 44100, 'bitrate': 127, 'metadata': {'Metadata': '', 'creation_time': '2024-03-02T14:58:38.000000Z', 'handler_name': 'ISO Media file produced by Google Inc. Created on: 03/02/2024.', 'vendor_id': '[0][0][0][0]'}}], 'input_number': 0}], 'duration': 800.58, 'bitrate': 286, 'start': 0.0, 'default_video_input_number': 0, 'default_video_stream_number': 0, 'video_codec_name': 'h264', 'video_profile': '(Main)', 'video_size': [640, 358], 'video_bitrate': 154, 'video_fps': 25.0, 'default_audio_input_number': 0, 'default_audio_stream_number': 1, 'audio_fps': 44100, 'audio_bitrate': 127, 'video_duration': 800.58, 'video_n_frames': 20014}\n",
      "/home/segus-faultise/Projects/CAB420_GROUP_A/cab420_GROUP_A_ENV/lib/python3.12/site-packages/imageio_ffmpeg/binaries/ffmpeg-linux-x86_64-v7.0.2 -i msasl_clips/temp_566_6.mp4 -loglevel error -f image2pipe -vf scale=640:358 -sws_flags bicubic -pix_fmt rgb24 -vcodec rawvideo -\n"
     ]
    },
    {
     "name": "stderr",
     "output_type": "stream",
     "text": [
      " 52%|███████████████████████████████████████████████████████                                                   | 52/100 [03:42<03:36,  4.51s/it]"
     ]
    },
    {
     "name": "stdout",
     "output_type": "stream",
     "text": [
      "Failed to clip video: 'VideoFileClip' object has no attribute 'subclip'\n",
      "                             "
     ]
    },
    {
     "name": "stderr",
     "output_type": "stream",
     "text": [
      " 53%|████████████████████████████████████████████████████████▏                                                 | 53/100 [03:46<03:26,  4.40s/it]"
     ]
    },
    {
     "name": "stdout",
     "output_type": "stream",
     "text": [
      "{'video_found': True, 'audio_found': True, 'metadata': {'major_brand': 'mp42', 'minor_version': '0', 'compatible_brands': 'isommp42', 'creation_time': '2024-03-02T14:58:38.000000Z'}, 'inputs': [{'streams': [{'input_number': 0, 'stream_number': 0, 'stream_type': 'video', 'language': None, 'default': True, 'size': [640, 358], 'bitrate': 154, 'fps': 25.0, 'codec_name': 'h264', 'profile': '(Main)', 'metadata': {'Metadata': '', 'creation_time': '2024-03-02T14:58:38.000000Z', 'handler_name': 'ISO Media file produced by Google Inc. Created on: 03/02/2024.', 'vendor_id': '[0][0][0][0]'}}, {'input_number': 0, 'stream_number': 1, 'stream_type': 'audio', 'language': None, 'default': True, 'fps': 44100, 'bitrate': 127, 'metadata': {'Metadata': '', 'creation_time': '2024-03-02T14:58:38.000000Z', 'handler_name': 'ISO Media file produced by Google Inc. Created on: 03/02/2024.', 'vendor_id': '[0][0][0][0]'}}], 'input_number': 0}], 'duration': 800.58, 'bitrate': 286, 'start': 0.0, 'default_video_input_number': 0, 'default_video_stream_number': 0, 'video_codec_name': 'h264', 'video_profile': '(Main)', 'video_size': [640, 358], 'video_bitrate': 154, 'video_fps': 25.0, 'default_audio_input_number': 0, 'default_audio_stream_number': 1, 'audio_fps': 44100, 'audio_bitrate': 127, 'video_duration': 800.58, 'video_n_frames': 20014}\n",
      "/home/segus-faultise/Projects/CAB420_GROUP_A/cab420_GROUP_A_ENV/lib/python3.12/site-packages/imageio_ffmpeg/binaries/ffmpeg-linux-x86_64-v7.0.2 -i msasl_clips/temp_566_6.mp4 -loglevel error -f image2pipe -vf scale=640:358 -sws_flags bicubic -pix_fmt rgb24 -vcodec rawvideo -\n",
      "Failed to clip video: 'VideoFileClip' object has no attribute 'subclip'\n",
      "{'video_found': True, 'audio_found': True, 'metadata': {'major_brand': 'mp42', 'minor_version': '0', 'compatible_brands': 'isommp42', 'creation_time': '2023-10-25T07:02:51.000000Z'}, 'inputs': [{'streams': [{'input_number': 0, 'stream_number': 0, 'stream_type': 'video', 'language': None, 'default': True, 'size': [540, 360], 'bitrate': 166, 'fps': 29.97002997002997, 'codec_name': 'h264', 'profile': '(Main)', 'metadata': {'Metadata': '', 'creation_time': '2023-10-25T07:02:51.000000Z', 'handler_name': 'ISO Media file produced by Google Inc. Created on: 10/25/2023.', 'vendor_id': '[0][0][0][0]'}}, {'input_number': 0, 'stream_number': 1, 'stream_type': 'audio', 'language': None, 'default': True, 'fps': 44100, 'bitrate': 127, 'metadata': {'Metadata': '', 'creation_time': '2023-10-25T07:02:51.000000Z', 'handler_name': 'ISO Media file produced by Google Inc. Created on: 10/25/2023.', 'vendor_id': '[0][0][0][0]'}}], 'input_number': 0}], 'duration': 2.65, 'bitrate': 301, 'start': 0.0, 'default_video_input_number': 0, 'default_video_stream_number': 0, 'video_codec_name': 'h264', 'video_profile': '(Main)', 'video_size': [540, 360], 'video_bitrate': 166, 'video_fps': 29.97002997002997, 'default_audio_input_number': 0, 'default_audio_stream_number': 1, 'audio_fps': 44100, 'audio_bitrate': 127, 'video_duration': 2.65, 'video_n_frames': 79}\n",
      "/home/segus-faultise/Projects/CAB420_GROUP_A/cab420_GROUP_A_ENV/lib/python3.12/site-packages/imageio_ffmpeg/binaries/ffmpeg-linux-x86_64-v7.0.2 -i msasl_clips/temp_345_0.mp4 -loglevel error -f image2pipe -vf scale=540:360 -sws_flags bicubic -pix_fmt rgb24 -vcodec rawvideo -\n"
     ]
    },
    {
     "name": "stderr",
     "output_type": "stream",
     "text": [
      " 54%|█████████████████████████████████████████████████████████▏                                                | 54/100 [03:51<03:24,  4.44s/it]"
     ]
    },
    {
     "name": "stdout",
     "output_type": "stream",
     "text": [
      "Failed to clip video: 'VideoFileClip' object has no attribute 'subclip'\n"
     ]
    },
    {
     "name": "stderr",
     "output_type": "stream",
     "text": [
      "ERROR: [youtube] 0Beq_NIDj2c: Video unavailable\n",
      " 55%|██████████████████████████████████████████████████████████▎                                               | 55/100 [03:52<02:36,  3.48s/it]"
     ]
    },
    {
     "name": "stdout",
     "output_type": "stream",
     "text": [
      "yt-dlp failed: ERROR: [youtube] 0Beq_NIDj2c: Video unavailable\n"
     ]
    },
    {
     "name": "stderr",
     "output_type": "stream",
     "text": [
      "ERROR: [youtube] 0Beq_NIDj2c: Video unavailable\n",
      " 56%|███████████████████████████████████████████████████████████▎                                              | 56/100 [03:53<02:03,  2.80s/it]"
     ]
    },
    {
     "name": "stdout",
     "output_type": "stream",
     "text": [
      "yt-dlp failed: ERROR: [youtube] 0Beq_NIDj2c: Video unavailable\n",
      "                                                           "
     ]
    },
    {
     "name": "stderr",
     "output_type": "stream",
     "text": [
      " 57%|████████████████████████████████████████████████████████████▍                                             | 57/100 [03:58<02:32,  3.55s/it]"
     ]
    },
    {
     "name": "stdout",
     "output_type": "stream",
     "text": [
      "{'video_found': True, 'audio_found': True, 'metadata': {'major_brand': 'mp42', 'minor_version': '0', 'compatible_brands': 'isommp42', 'creation_time': '2013-08-28T04:12:28.000000Z'}, 'inputs': [{'streams': [{'input_number': 0, 'stream_number': 0, 'stream_type': 'video', 'language': None, 'default': True, 'size': [480, 360], 'bitrate': 277, 'fps': 29.97002997002997, 'codec_name': 'h264', 'profile': '(Main)', 'metadata': {'Metadata': '', 'creation_time': '2013-08-28T04:12:28.000000Z', 'handler_name': 'ISO Media file produced by Google Inc. Created on: 08/27/2013.', 'vendor_id': '[0][0][0][0]'}}, {'input_number': 0, 'stream_number': 1, 'stream_type': 'audio', 'language': None, 'default': True, 'fps': 44100, 'bitrate': 125, 'metadata': {'Metadata': '', 'creation_time': '2013-08-28T04:12:28.000000Z', 'handler_name': 'ISO Media file produced by Google Inc. Created on: 08/27/2013.', 'vendor_id': '[0][0][0][0]'}}], 'input_number': 0}], 'duration': 33.62, 'bitrate': 406, 'start': 0.0, 'default_video_input_number': 0, 'default_video_stream_number': 0, 'video_codec_name': 'h264', 'video_profile': '(Main)', 'video_size': [480, 360], 'video_bitrate': 277, 'video_fps': 29.97002997002997, 'default_audio_input_number': 0, 'default_audio_stream_number': 1, 'audio_fps': 44100, 'audio_bitrate': 125, 'video_duration': 33.62, 'video_n_frames': 1007}\n",
      "/home/segus-faultise/Projects/CAB420_GROUP_A/cab420_GROUP_A_ENV/lib/python3.12/site-packages/imageio_ffmpeg/binaries/ffmpeg-linux-x86_64-v7.0.2 -i msasl_clips/temp_2_144.mp4 -loglevel error -f image2pipe -vf scale=480:360 -sws_flags bicubic -pix_fmt rgb24 -vcodec rawvideo -\n",
      "Failed to clip video: 'VideoFileClip' object has no attribute 'subclip'\n",
      "                             "
     ]
    },
    {
     "name": "stderr",
     "output_type": "stream",
     "text": [
      " 58%|█████████████████████████████████████████████████████████████▍                                            | 58/100 [04:02<02:28,  3.53s/it]WARNING: [generic] The url doesn't specify the protocol, trying with http\n"
     ]
    },
    {
     "name": "stdout",
     "output_type": "stream",
     "text": [
      "{'video_found': True, 'audio_found': True, 'metadata': {'major_brand': 'mp42', 'minor_version': '0', 'compatible_brands': 'isommp42', 'creation_time': '2013-08-28T04:12:28.000000Z'}, 'inputs': [{'streams': [{'input_number': 0, 'stream_number': 0, 'stream_type': 'video', 'language': None, 'default': True, 'size': [480, 360], 'bitrate': 277, 'fps': 29.97002997002997, 'codec_name': 'h264', 'profile': '(Main)', 'metadata': {'Metadata': '', 'creation_time': '2013-08-28T04:12:28.000000Z', 'handler_name': 'ISO Media file produced by Google Inc. Created on: 08/27/2013.', 'vendor_id': '[0][0][0][0]'}}, {'input_number': 0, 'stream_number': 1, 'stream_type': 'audio', 'language': None, 'default': True, 'fps': 44100, 'bitrate': 125, 'metadata': {'Metadata': '', 'creation_time': '2013-08-28T04:12:28.000000Z', 'handler_name': 'ISO Media file produced by Google Inc. Created on: 08/27/2013.', 'vendor_id': '[0][0][0][0]'}}], 'input_number': 0}], 'duration': 33.62, 'bitrate': 406, 'start': 0.0, 'default_video_input_number': 0, 'default_video_stream_number': 0, 'video_codec_name': 'h264', 'video_profile': '(Main)', 'video_size': [480, 360], 'video_bitrate': 277, 'video_fps': 29.97002997002997, 'default_audio_input_number': 0, 'default_audio_stream_number': 1, 'audio_fps': 44100, 'audio_bitrate': 125, 'video_duration': 33.62, 'video_n_frames': 1007}\n",
      "/home/segus-faultise/Projects/CAB420_GROUP_A/cab420_GROUP_A_ENV/lib/python3.12/site-packages/imageio_ffmpeg/binaries/ffmpeg-linux-x86_64-v7.0.2 -i msasl_clips/temp_2_144.mp4 -loglevel error -f image2pipe -vf scale=480:360 -sws_flags bicubic -pix_fmt rgb24 -vcodec rawvideo -\n",
      "Failed to clip video: 'VideoFileClip' object has no attribute 'subclip'\n",
      "                                                           "
     ]
    },
    {
     "name": "stderr",
     "output_type": "stream",
     "text": [
      " 59%|██████████████████████████████████████████████████████████████▌                                           | 59/100 [04:06<02:34,  3.77s/it]"
     ]
    },
    {
     "name": "stdout",
     "output_type": "stream",
     "text": [
      "{'video_found': True, 'audio_found': True, 'metadata': {'major_brand': 'mp42', 'minor_version': '0', 'compatible_brands': 'isommp42', 'creation_time': '2023-02-13T04:27:37.000000Z'}, 'inputs': [{'streams': [{'input_number': 0, 'stream_number': 0, 'stream_type': 'video', 'language': None, 'default': True, 'size': [640, 360], 'bitrate': 135, 'fps': 29.97002997002997, 'codec_name': 'h264', 'profile': '(Main)', 'metadata': {'Metadata': '', 'creation_time': '2023-02-13T04:27:37.000000Z', 'handler_name': 'ISO Media file produced by Google Inc. Created on: 02/12/2023.', 'vendor_id': '[0][0][0][0]'}}, {'input_number': 0, 'stream_number': 1, 'stream_type': 'audio', 'language': None, 'default': True, 'fps': 44100, 'bitrate': 128, 'metadata': {'Metadata': '', 'creation_time': '2023-02-13T04:27:37.000000Z', 'handler_name': 'ISO Media file produced by Google Inc. Created on: 02/12/2023.', 'vendor_id': '[0][0][0][0]'}}], 'input_number': 0}], 'duration': 4.04, 'bitrate': 270, 'start': 0.0, 'default_video_input_number': 0, 'default_video_stream_number': 0, 'video_codec_name': 'h264', 'video_profile': '(Main)', 'video_size': [640, 360], 'video_bitrate': 135, 'video_fps': 29.97002997002997, 'default_audio_input_number': 0, 'default_audio_stream_number': 1, 'audio_fps': 44100, 'audio_bitrate': 128, 'video_duration': 4.04, 'video_n_frames': 121}\n",
      "/home/segus-faultise/Projects/CAB420_GROUP_A/cab420_GROUP_A_ENV/lib/python3.12/site-packages/imageio_ffmpeg/binaries/ffmpeg-linux-x86_64-v7.0.2 -i msasl_clips/temp_9_38.mp4 -loglevel error -f image2pipe -vf scale=640:360 -sws_flags bicubic -pix_fmt rgb24 -vcodec rawvideo -\n",
      "Failed to clip video: 'VideoFileClip' object has no attribute 'subclip'\n",
      "{'video_found': True, 'audio_found': True, 'metadata': {'major_brand': 'mp42', 'minor_version': '0', 'compatible_brands': 'isommp42', 'creation_time': '2024-07-18T00:03:53.000000Z', 'encoder': 'Google'}, 'inputs': [{'streams': [{'input_number': 0, 'stream_number': 0, 'stream_type': 'video', 'language': None, 'default': True, 'size': [640, 360], 'bitrate': 265, 'fps': 30.0, 'codec_name': 'h264', 'profile': '(Main)', 'metadata': {'Metadata': '', 'creation_time': '2024-07-18T00:03:53.000000Z', 'handler_name': 'ISO Media file produced by Google Inc. Created on: 07/17/2024.', 'vendor_id': '[0][0][0][0]'}}, {'input_number': 0, 'stream_number': 1, 'stream_type': 'audio', 'language': None, 'default': True, 'fps': 44100, 'bitrate': 127, 'metadata': {'Metadata': '', 'creation_time': '2024-07-18T00:03:53.000000Z', 'handler_name': 'ISO Media file produced by Google Inc. Created on: 07/17/2024.', 'vendor_id': '[0][0][0][0]'}}], 'input_number': 0}], 'duration': 3.32, 'bitrate': 398, 'start': 0.0, 'default_video_input_number': 0, 'default_video_stream_number': 0, 'video_codec_name': 'h264', 'video_profile': '(Main)', 'video_size': [640, 360], 'video_bitrate': 265, 'video_fps': 30.0, 'default_audio_input_number': 0, 'default_audio_stream_number': 1, 'audio_fps': 44100, 'audio_bitrate': 127, 'video_duration': 3.32, 'video_n_frames': 99}\n",
      "/home/segus-faultise/Projects/CAB420_GROUP_A/cab420_GROUP_A_ENV/lib/python3.12/site-packages/imageio_ffmpeg/binaries/ffmpeg-linux-x86_64-v7.0.2 -i msasl_clips/temp_378_62.mp4 -loglevel error -f image2pipe -vf scale=640:360 -sws_flags bicubic -pix_fmt rgb24 -vcodec rawvideo -\n"
     ]
    },
    {
     "name": "stderr",
     "output_type": "stream",
     "text": [
      " 60%|███████████████████████████████████████████████████████████████▌                                          | 60/100 [04:10<02:36,  3.91s/it]"
     ]
    },
    {
     "name": "stdout",
     "output_type": "stream",
     "text": [
      "Failed to clip video: 'VideoFileClip' object has no attribute 'subclip'\n",
      "                                                           "
     ]
    },
    {
     "name": "stderr",
     "output_type": "stream",
     "text": [
      " 61%|████████████████████████████████████████████████████████████████▋                                         | 61/100 [04:15<02:37,  4.04s/it]"
     ]
    },
    {
     "name": "stdout",
     "output_type": "stream",
     "text": [
      "{'video_found': True, 'audio_found': True, 'metadata': {'major_brand': 'mp42', 'minor_version': '0', 'compatible_brands': 'isommp42', 'creation_time': '2023-12-29T07:12:05.000000Z'}, 'inputs': [{'streams': [{'input_number': 0, 'stream_number': 0, 'stream_type': 'video', 'language': None, 'default': True, 'size': [640, 360], 'bitrate': 308, 'fps': 29.97002997002997, 'codec_name': 'h264', 'profile': '(Main)', 'metadata': {'Metadata': '', 'creation_time': '2023-12-29T07:12:05.000000Z', 'handler_name': 'ISO Media file produced by Google Inc. Created on: 12/28/2023.', 'vendor_id': '[0][0][0][0]'}}, {'input_number': 0, 'stream_number': 1, 'stream_type': 'audio', 'language': None, 'default': True, 'fps': 44100, 'bitrate': 127, 'metadata': {'Metadata': '', 'creation_time': '2023-12-29T07:12:05.000000Z', 'handler_name': 'ISO Media file produced by Google Inc. Created on: 12/28/2023.', 'vendor_id': '[0][0][0][0]'}}], 'input_number': 0}], 'duration': 2.74, 'bitrate': 444, 'start': 0.0, 'default_video_input_number': 0, 'default_video_stream_number': 0, 'video_codec_name': 'h264', 'video_profile': '(Main)', 'video_size': [640, 360], 'video_bitrate': 308, 'video_fps': 29.97002997002997, 'default_audio_input_number': 0, 'default_audio_stream_number': 1, 'audio_fps': 44100, 'audio_bitrate': 127, 'video_duration': 2.74, 'video_n_frames': 82}\n",
      "/home/segus-faultise/Projects/CAB420_GROUP_A/cab420_GROUP_A_ENV/lib/python3.12/site-packages/imageio_ffmpeg/binaries/ffmpeg-linux-x86_64-v7.0.2 -i msasl_clips/temp_759_0.mp4 -loglevel error -f image2pipe -vf scale=640:360 -sws_flags bicubic -pix_fmt rgb24 -vcodec rawvideo -\n",
      "Failed to clip video: 'VideoFileClip' object has no attribute 'subclip'\n",
      "{'video_found': True, 'audio_found': True, 'metadata': {'major_brand': 'mp42', 'minor_version': '0', 'compatible_brands': 'isommp42', 'creation_time': '2023-07-26T11:53:50.000000Z'}, 'inputs': [{'streams': [{'input_number': 0, 'stream_number': 0, 'stream_type': 'video', 'language': None, 'default': True, 'size': [640, 360], 'bitrate': 242, 'fps': 29.97002997002997, 'codec_name': 'h264', 'profile': '(Main)', 'metadata': {'Metadata': '', 'creation_time': '2023-07-26T11:53:50.000000Z', 'handler_name': 'ISO Media file produced by Google Inc. Created on: 07/26/2023.', 'vendor_id': '[0][0][0][0]'}}, {'input_number': 0, 'stream_number': 1, 'stream_type': 'audio', 'language': None, 'default': True, 'fps': 44100, 'bitrate': 127, 'metadata': {'Metadata': '', 'creation_time': '2023-07-26T11:53:50.000000Z', 'handler_name': 'ISO Media file produced by Google Inc. Created on: 07/26/2023.', 'vendor_id': '[0][0][0][0]'}}], 'input_number': 0}], 'duration': 2.65, 'bitrate': 377, 'start': 0.0, 'default_video_input_number': 0, 'default_video_stream_number': 0, 'video_codec_name': 'h264', 'video_profile': '(Main)', 'video_size': [640, 360], 'video_bitrate': 242, 'video_fps': 29.97002997002997, 'default_audio_input_number': 0, 'default_audio_stream_number': 1, 'audio_fps': 44100, 'audio_bitrate': 127, 'video_duration': 2.65, 'video_n_frames': 79}\n",
      "/home/segus-faultise/Projects/CAB420_GROUP_A/cab420_GROUP_A_ENV/lib/python3.12/site-packages/imageio_ffmpeg/binaries/ffmpeg-linux-x86_64-v7.0.2 -i msasl_clips/temp_735_0.mp4 -loglevel error -f image2pipe -vf scale=640:360 -sws_flags bicubic -pix_fmt rgb24 -vcodec rawvideo -\n"
     ]
    },
    {
     "name": "stderr",
     "output_type": "stream",
     "text": [
      " 62%|█████████████████████████████████████████████████████████████████▋                                        | 62/100 [04:20<02:47,  4.40s/it]"
     ]
    },
    {
     "name": "stdout",
     "output_type": "stream",
     "text": [
      "Failed to clip video: 'VideoFileClip' object has no attribute 'subclip'\n",
      "{'video_found': True, 'audio_found': True, 'metadata': {'major_brand': 'mp42', 'minor_version': '0', 'compatible_brands': 'isommp42', 'creation_time': '2016-08-25T18:54:53.000000Z'}, 'inputs': [{'streams': [{'input_number': 0, 'stream_number': 0, 'stream_type': 'video', 'language': None, 'default': True, 'size': [640, 360], 'bitrate': 285, 'fps': 29.6, 'codec_name': 'h264', 'profile': '(Main)', 'metadata': {'Metadata': '', 'creation_time': '2016-08-25T18:54:53.000000Z', 'handler_name': 'ISO Media file produced by Google Inc. Created on: 08/25/2016.', 'vendor_id': '[0][0][0][0]'}}, {'input_number': 0, 'stream_number': 1, 'stream_type': 'audio', 'language': None, 'default': True, 'fps': 44100, 'bitrate': 125, 'metadata': {'Metadata': '', 'creation_time': '2016-08-25T18:54:53.000000Z', 'handler_name': 'ISO Media file produced by Google Inc. Created on: 08/25/2016.', 'vendor_id': '[0][0][0][0]'}}], 'input_number': 0}], 'duration': 5.04, 'bitrate': 417, 'start': 0.0, 'default_video_input_number': 0, 'default_video_stream_number': 0, 'video_codec_name': 'h264', 'video_profile': '(Main)', 'video_size': [640, 360], 'video_bitrate': 285, 'video_fps': 29.6, 'default_audio_input_number': 0, 'default_audio_stream_number': 1, 'audio_fps': 44100, 'audio_bitrate': 125, 'video_duration': 5.04, 'video_n_frames': 149}\n",
      "/home/segus-faultise/Projects/CAB420_GROUP_A/cab420_GROUP_A_ENV/lib/python3.12/site-packages/imageio_ffmpeg/binaries/ffmpeg-linux-x86_64-v7.0.2 -i msasl_clips/temp_515_2.mp4 -loglevel error -f image2pipe -vf scale=640:360 -sws_flags bicubic -pix_fmt rgb24 -vcodec rawvideo -\n"
     ]
    },
    {
     "name": "stderr",
     "output_type": "stream",
     "text": [
      " 63%|██████████████████████████████████████████████████████████████████▊                                       | 63/100 [04:25<02:49,  4.59s/it]"
     ]
    },
    {
     "name": "stdout",
     "output_type": "stream",
     "text": [
      "Failed to clip video: 'VideoFileClip' object has no attribute 'subclip'\n",
      "{'video_found': True, 'audio_found': True, 'metadata': {'major_brand': 'mp42', 'minor_version': '0', 'compatible_brands': 'isommp42', 'creation_time': '2024-10-16T17:07:20.000000Z', 'encoder': 'Google'}, 'inputs': [{'streams': [{'input_number': 0, 'stream_number': 0, 'stream_type': 'video', 'language': None, 'default': True, 'size': [640, 360], 'bitrate': 287, 'fps': 29.64, 'codec_name': 'h264', 'profile': '(Main)', 'metadata': {'Metadata': '', 'creation_time': '2024-10-16T17:07:20.000000Z', 'handler_name': 'ISO Media file produced by Google Inc. Created on: 10/16/2024.', 'vendor_id': '[0][0][0][0]'}}, {'input_number': 0, 'stream_number': 1, 'stream_type': 'audio', 'language': None, 'default': True, 'fps': 44100, 'bitrate': 127, 'metadata': {'Metadata': '', 'creation_time': '2024-10-16T17:07:20.000000Z', 'handler_name': 'ISO Media file produced by Google Inc. Created on: 10/16/2024.', 'vendor_id': '[0][0][0][0]'}}], 'input_number': 0}], 'duration': 3.95, 'bitrate': 422, 'start': 0.0, 'default_video_input_number': 0, 'default_video_stream_number': 0, 'video_codec_name': 'h264', 'video_profile': '(Main)', 'video_size': [640, 360], 'video_bitrate': 287, 'video_fps': 29.64, 'default_audio_input_number': 0, 'default_audio_stream_number': 1, 'audio_fps': 44100, 'audio_bitrate': 127, 'video_duration': 3.95, 'video_n_frames': 117}\n",
      "/home/segus-faultise/Projects/CAB420_GROUP_A/cab420_GROUP_A_ENV/lib/python3.12/site-packages/imageio_ffmpeg/binaries/ffmpeg-linux-x86_64-v7.0.2 -i msasl_clips/temp_331_2.mp4 -loglevel error -f image2pipe -vf scale=640:360 -sws_flags bicubic -pix_fmt rgb24 -vcodec rawvideo -\n"
     ]
    },
    {
     "name": "stderr",
     "output_type": "stream",
     "text": [
      " 64%|███████████████████████████████████████████████████████████████████▊                                      | 64/100 [04:30<02:47,  4.64s/it]WARNING: [generic] The url doesn't specify the protocol, trying with http\n"
     ]
    },
    {
     "name": "stdout",
     "output_type": "stream",
     "text": [
      "Failed to clip video: 'VideoFileClip' object has no attribute 'subclip'\n"
     ]
    },
    {
     "name": "stderr",
     "output_type": "stream",
     "text": [
      "ERROR: [youtube] AoQAPgEUIAs: Video unavailable\n",
      " 65%|████████████████████████████████████████████████████████████████████▉                                     | 65/100 [04:31<02:07,  3.63s/it]"
     ]
    },
    {
     "name": "stdout",
     "output_type": "stream",
     "text": [
      "yt-dlp failed: ERROR: [youtube] AoQAPgEUIAs: Video unavailable\n",
      "                                                           "
     ]
    },
    {
     "name": "stderr",
     "output_type": "stream",
     "text": [
      " 66%|█████████████████████████████████████████████████████████████████████▉                                    | 66/100 [04:36<02:13,  3.92s/it]"
     ]
    },
    {
     "name": "stdout",
     "output_type": "stream",
     "text": [
      "{'video_found': True, 'audio_found': True, 'metadata': {'major_brand': 'mp42', 'minor_version': '0', 'compatible_brands': 'isommp42', 'creation_time': '2024-01-01T01:54:22.000000Z'}, 'inputs': [{'streams': [{'input_number': 0, 'stream_number': 0, 'stream_type': 'video', 'language': None, 'default': True, 'size': [640, 360], 'bitrate': 292, 'fps': 29.97002997002997, 'codec_name': 'h264', 'profile': '(Main)', 'metadata': {'Metadata': '', 'creation_time': '2024-01-01T01:54:22.000000Z', 'handler_name': 'ISO Media file produced by Google Inc. Created on: 12/31/2023.', 'vendor_id': '[0][0][0][0]'}}, {'input_number': 0, 'stream_number': 1, 'stream_type': 'audio', 'language': None, 'default': True, 'fps': 44100, 'bitrate': 127, 'metadata': {'Metadata': '', 'creation_time': '2024-01-01T01:54:22.000000Z', 'handler_name': 'ISO Media file produced by Google Inc. Created on: 12/31/2023.', 'vendor_id': '[0][0][0][0]'}}], 'input_number': 0}], 'duration': 2.72, 'bitrate': 427, 'start': 0.0, 'default_video_input_number': 0, 'default_video_stream_number': 0, 'video_codec_name': 'h264', 'video_profile': '(Main)', 'video_size': [640, 360], 'video_bitrate': 292, 'video_fps': 29.97002997002997, 'default_audio_input_number': 0, 'default_audio_stream_number': 1, 'audio_fps': 44100, 'audio_bitrate': 127, 'video_duration': 2.72, 'video_n_frames': 81}\n",
      "/home/segus-faultise/Projects/CAB420_GROUP_A/cab420_GROUP_A_ENV/lib/python3.12/site-packages/imageio_ffmpeg/binaries/ffmpeg-linux-x86_64-v7.0.2 -i msasl_clips/temp_63_0.mp4 -loglevel error -f image2pipe -vf scale=640:360 -sws_flags bicubic -pix_fmt rgb24 -vcodec rawvideo -\n",
      "Failed to clip video: 'VideoFileClip' object has no attribute 'subclip'\n",
      "                                                           "
     ]
    },
    {
     "name": "stderr",
     "output_type": "stream",
     "text": [
      " 67%|███████████████████████████████████████████████████████████████████████                                   | 67/100 [04:40<02:15,  4.10s/it]"
     ]
    },
    {
     "name": "stdout",
     "output_type": "stream",
     "text": [
      "{'video_found': True, 'audio_found': True, 'metadata': {'major_brand': 'mp42', 'minor_version': '0', 'compatible_brands': 'isommp42', 'creation_time': '2023-01-24T06:36:14.000000Z'}, 'inputs': [{'streams': [{'input_number': 0, 'stream_number': 0, 'stream_type': 'video', 'language': None, 'default': True, 'size': [480, 360], 'bitrate': 160, 'fps': 25.0, 'codec_name': 'h264', 'profile': '(Main)', 'metadata': {'Metadata': '', 'creation_time': '2023-01-24T06:36:14.000000Z', 'handler_name': 'ISO Media file produced by Google Inc. Created on: 01/23/2023.', 'vendor_id': '[0][0][0][0]'}}, {'input_number': 0, 'stream_number': 1, 'stream_type': 'audio', 'language': None, 'default': True, 'fps': 44100, 'bitrate': 127, 'metadata': {'Metadata': '', 'creation_time': '2023-01-24T06:36:14.000000Z', 'handler_name': 'ISO Media file produced by Google Inc. Created on: 01/23/2023.', 'vendor_id': '[0][0][0][0]'}}], 'input_number': 0}], 'duration': 3.69, 'bitrate': 293, 'start': 0.0, 'default_video_input_number': 0, 'default_video_stream_number': 0, 'video_codec_name': 'h264', 'video_profile': '(Main)', 'video_size': [480, 360], 'video_bitrate': 160, 'video_fps': 25.0, 'default_audio_input_number': 0, 'default_audio_stream_number': 1, 'audio_fps': 44100, 'audio_bitrate': 127, 'video_duration': 3.69, 'video_n_frames': 92}\n",
      "/home/segus-faultise/Projects/CAB420_GROUP_A/cab420_GROUP_A_ENV/lib/python3.12/site-packages/imageio_ffmpeg/binaries/ffmpeg-linux-x86_64-v7.0.2 -i msasl_clips/temp_349_0.mp4 -loglevel error -f image2pipe -vf scale=480:360 -sws_flags bicubic -pix_fmt rgb24 -vcodec rawvideo -\n",
      "Failed to clip video: 'VideoFileClip' object has no attribute 'subclip'\n",
      "                                                           "
     ]
    },
    {
     "name": "stderr",
     "output_type": "stream",
     "text": [
      " 68%|████████████████████████████████████████████████████████████████████████                                  | 68/100 [04:45<02:15,  4.23s/it]WARNING: [generic] The url doesn't specify the protocol, trying with http\n"
     ]
    },
    {
     "name": "stdout",
     "output_type": "stream",
     "text": [
      "{'video_found': True, 'audio_found': True, 'metadata': {'major_brand': 'mp42', 'minor_version': '0', 'compatible_brands': 'isommp42', 'creation_time': '2025-02-11T12:45:15.000000Z', 'encoder': 'Google'}, 'inputs': [{'streams': [{'input_number': 0, 'stream_number': 0, 'stream_type': 'video', 'language': None, 'default': True, 'size': [640, 360], 'bitrate': 258, 'fps': 29.97002997002997, 'codec_name': 'h264', 'profile': '(Main)', 'metadata': {'Metadata': '', 'creation_time': '2025-02-11T12:45:15.000000Z', 'handler_name': 'ISO Media file produced by Google Inc. Created on: 02/11/2025.', 'vendor_id': '[0][0][0][0]'}}, {'input_number': 0, 'stream_number': 1, 'stream_type': 'audio', 'language': None, 'default': True, 'fps': 44100, 'bitrate': 127, 'metadata': {'Metadata': '', 'creation_time': '2025-02-11T12:45:15.000000Z', 'handler_name': 'ISO Media file produced by Google Inc. Created on: 02/11/2025.', 'vendor_id': '[0][0][0][0]'}}], 'input_number': 0}], 'duration': 2.55, 'bitrate': 391, 'start': 0.0, 'default_video_input_number': 0, 'default_video_stream_number': 0, 'video_codec_name': 'h264', 'video_profile': '(Main)', 'video_size': [640, 360], 'video_bitrate': 258, 'video_fps': 29.97002997002997, 'default_audio_input_number': 0, 'default_audio_stream_number': 1, 'audio_fps': 44100, 'audio_bitrate': 127, 'video_duration': 2.55, 'video_n_frames': 76}\n",
      "/home/segus-faultise/Projects/CAB420_GROUP_A/cab420_GROUP_A_ENV/lib/python3.12/site-packages/imageio_ffmpeg/binaries/ffmpeg-linux-x86_64-v7.0.2 -i msasl_clips/temp_624_0.mp4 -loglevel error -f image2pipe -vf scale=640:360 -sws_flags bicubic -pix_fmt rgb24 -vcodec rawvideo -\n",
      "Failed to clip video: 'VideoFileClip' object has no attribute 'subclip'\n"
     ]
    },
    {
     "name": "stderr",
     "output_type": "stream",
     "text": [
      "ERROR: [youtube] 25BrmaKbzYo: Private video. Sign in if you've been granted access to this video. Use --cookies-from-browser or --cookies for the authentication. See  https://github.com/yt-dlp/yt-dlp/wiki/FAQ#how-do-i-pass-cookies-to-yt-dlp  for how to manually pass cookies. Also see  https://github.com/yt-dlp/yt-dlp/wiki/Extractors#exporting-youtube-cookies  for tips on effectively exporting YouTube cookies\n",
      " 69%|█████████████████████████████████████████████████████████████████████████▏                                | 69/100 [04:46<01:43,  3.33s/it]"
     ]
    },
    {
     "name": "stdout",
     "output_type": "stream",
     "text": [
      "yt-dlp failed: ERROR: [youtube] 25BrmaKbzYo: Private video. Sign in if you've been granted access to this video. Use --cookies-from-browser or --cookies for the authentication. See  https://github.com/yt-dlp/yt-dlp/wiki/FAQ#how-do-i-pass-cookies-to-yt-dlp  for how to manually pass cookies. Also see  https://github.com/yt-dlp/yt-dlp/wiki/Extractors#exporting-youtube-cookies  for tips on effectively exporting YouTube cookies\n",
      "                                                           "
     ]
    },
    {
     "name": "stderr",
     "output_type": "stream",
     "text": [
      " 70%|██████████████████████████████████████████████████████████████████████████▏                               | 70/100 [04:51<01:58,  3.95s/it]"
     ]
    },
    {
     "name": "stdout",
     "output_type": "stream",
     "text": [
      "{'video_found': True, 'audio_found': True, 'metadata': {'major_brand': 'mp42', 'minor_version': '0', 'compatible_brands': 'isommp42', 'creation_time': '2015-02-12T22:39:55.000000Z'}, 'inputs': [{'streams': [{'input_number': 0, 'stream_number': 0, 'stream_type': 'video', 'language': None, 'default': True, 'size': [640, 360], 'bitrate': 297, 'fps': 29.97002997002997, 'codec_name': 'h264', 'profile': '(Main)', 'metadata': {'Metadata': '', 'creation_time': '2015-02-12T22:39:55.000000Z', 'handler_name': 'ISO Media file produced by Google Inc. Created on: 02/12/2015.', 'vendor_id': '[0][0][0][0]'}}, {'input_number': 0, 'stream_number': 1, 'stream_type': 'audio', 'language': None, 'default': True, 'fps': 44100, 'bitrate': 125, 'metadata': {'Metadata': '', 'creation_time': '2015-02-12T22:39:55.000000Z', 'handler_name': 'ISO Media file produced by Google Inc. Created on: 02/12/2015.', 'vendor_id': '[0][0][0][0]'}}], 'input_number': 0}], 'duration': 130.08, 'bitrate': 427, 'start': 0.0, 'default_video_input_number': 0, 'default_video_stream_number': 0, 'video_codec_name': 'h264', 'video_profile': '(Main)', 'video_size': [640, 360], 'video_bitrate': 297, 'video_fps': 29.97002997002997, 'default_audio_input_number': 0, 'default_audio_stream_number': 1, 'audio_fps': 44100, 'audio_bitrate': 125, 'video_duration': 130.08, 'video_n_frames': 3898}\n",
      "/home/segus-faultise/Projects/CAB420_GROUP_A/cab420_GROUP_A_ENV/lib/python3.12/site-packages/imageio_ffmpeg/binaries/ffmpeg-linux-x86_64-v7.0.2 -i msasl_clips/temp_19_8.mp4 -loglevel error -f image2pipe -vf scale=640:360 -sws_flags bicubic -pix_fmt rgb24 -vcodec rawvideo -\n",
      "Failed to clip video: 'VideoFileClip' object has no attribute 'subclip'\n",
      "                                                           "
     ]
    },
    {
     "name": "stderr",
     "output_type": "stream",
     "text": [
      " 71%|███████████████████████████████████████████████████████████████████████████▎                              | 71/100 [04:57<02:10,  4.49s/it]"
     ]
    },
    {
     "name": "stdout",
     "output_type": "stream",
     "text": [
      "{'video_found': True, 'audio_found': True, 'metadata': {'major_brand': 'mp42', 'minor_version': '0', 'compatible_brands': 'isommp42', 'creation_time': '2015-02-12T22:39:55.000000Z'}, 'inputs': [{'streams': [{'input_number': 0, 'stream_number': 0, 'stream_type': 'video', 'language': None, 'default': True, 'size': [640, 360], 'bitrate': 297, 'fps': 29.97002997002997, 'codec_name': 'h264', 'profile': '(Main)', 'metadata': {'Metadata': '', 'creation_time': '2015-02-12T22:39:55.000000Z', 'handler_name': 'ISO Media file produced by Google Inc. Created on: 02/12/2015.', 'vendor_id': '[0][0][0][0]'}}, {'input_number': 0, 'stream_number': 1, 'stream_type': 'audio', 'language': None, 'default': True, 'fps': 44100, 'bitrate': 125, 'metadata': {'Metadata': '', 'creation_time': '2015-02-12T22:39:55.000000Z', 'handler_name': 'ISO Media file produced by Google Inc. Created on: 02/12/2015.', 'vendor_id': '[0][0][0][0]'}}], 'input_number': 0}], 'duration': 130.08, 'bitrate': 427, 'start': 0.0, 'default_video_input_number': 0, 'default_video_stream_number': 0, 'video_codec_name': 'h264', 'video_profile': '(Main)', 'video_size': [640, 360], 'video_bitrate': 297, 'video_fps': 29.97002997002997, 'default_audio_input_number': 0, 'default_audio_stream_number': 1, 'audio_fps': 44100, 'audio_bitrate': 125, 'video_duration': 130.08, 'video_n_frames': 3898}\n",
      "/home/segus-faultise/Projects/CAB420_GROUP_A/cab420_GROUP_A_ENV/lib/python3.12/site-packages/imageio_ffmpeg/binaries/ffmpeg-linux-x86_64-v7.0.2 -i msasl_clips/temp_31_8.mp4 -loglevel error -f image2pipe -vf scale=640:360 -sws_flags bicubic -pix_fmt rgb24 -vcodec rawvideo -\n",
      "Failed to clip video: 'VideoFileClip' object has no attribute 'subclip'\n",
      "{'video_found': True, 'audio_found': True, 'metadata': {'major_brand': 'mp42', 'minor_version': '0', 'compatible_brands': 'isommp42', 'creation_time': '2015-02-12T22:39:55.000000Z'}, 'inputs': [{'streams': [{'input_number': 0, 'stream_number': 0, 'stream_type': 'video', 'language': None, 'default': True, 'size': [640, 360], 'bitrate': 297, 'fps': 29.97002997002997, 'codec_name': 'h264', 'profile': '(Main)', 'metadata': {'Metadata': '', 'creation_time': '2015-02-12T22:39:55.000000Z', 'handler_name': 'ISO Media file produced by Google Inc. Created on: 02/12/2015.', 'vendor_id': '[0][0][0][0]'}}, {'input_number': 0, 'stream_number': 1, 'stream_type': 'audio', 'language': None, 'default': True, 'fps': 44100, 'bitrate': 125, 'metadata': {'Metadata': '', 'creation_time': '2015-02-12T22:39:55.000000Z', 'handler_name': 'ISO Media file produced by Google Inc. Created on: 02/12/2015.', 'vendor_id': '[0][0][0][0]'}}], 'input_number': 0}], 'duration': 130.08, 'bitrate': 427, 'start': 0.0, 'default_video_input_number': 0, 'default_video_stream_number': 0, 'video_codec_name': 'h264', 'video_profile': '(Main)', 'video_size': [640, 360], 'video_bitrate': 297, 'video_fps': 29.97002997002997, 'default_audio_input_number': 0, 'default_audio_stream_number': 1, 'audio_fps': 44100, 'audio_bitrate': 125, 'video_duration': 130.08, 'video_n_frames': 3898}\n",
      "/home/segus-faultise/Projects/CAB420_GROUP_A/cab420_GROUP_A_ENV/lib/python3.12/site-packages/imageio_ffmpeg/binaries/ffmpeg-linux-x86_64-v7.0.2 -i msasl_clips/temp_32_8.mp4 -loglevel error -f image2pipe -vf scale=640:360 -sws_flags bicubic -pix_fmt rgb24 -vcodec rawvideo -\n"
     ]
    },
    {
     "name": "stderr",
     "output_type": "stream",
     "text": [
      " 72%|████████████████████████████████████████████████████████████████████████████▎                             | 72/100 [05:01<01:59,  4.25s/it]"
     ]
    },
    {
     "name": "stdout",
     "output_type": "stream",
     "text": [
      "Failed to clip video: 'VideoFileClip' object has no attribute 'subclip'\n",
      "{'video_found': True, 'audio_found': True, 'metadata': {'major_brand': 'mp42', 'minor_version': '0', 'compatible_brands': 'isommp42', 'creation_time': '2015-02-12T22:39:55.000000Z'}, 'inputs': [{'streams': [{'input_number': 0, 'stream_number': 0, 'stream_type': 'video', 'language': None, 'default': True, 'size': [640, 360], 'bitrate': 297, 'fps': 29.97002997002997, 'codec_name': 'h264', 'profile': '(Main)', 'metadata': {'Metadata': '', 'creation_time': '2015-02-12T22:39:55.000000Z', 'handler_name': 'ISO Media file produced by Google Inc. Created on: 02/12/2015.', 'vendor_id': '[0][0][0][0]'}}, {'input_number': 0, 'stream_number': 1, 'stream_type': 'audio', 'language': None, 'default': True, 'fps': 44100, 'bitrate': 125, 'metadata': {'Metadata': '', 'creation_time': '2015-02-12T22:39:55.000000Z', 'handler_name': 'ISO Media file produced by Google Inc. Created on: 02/12/2015.', 'vendor_id': '[0][0][0][0]'}}], 'input_number': 0}], 'duration': 130.08, 'bitrate': 427, 'start': 0.0, 'default_video_input_number': 0, 'default_video_stream_number': 0, 'video_codec_name': 'h264', 'video_profile': '(Main)', 'video_size': [640, 360], 'video_bitrate': 297, 'video_fps': 29.97002997002997, 'default_audio_input_number': 0, 'default_audio_stream_number': 1, 'audio_fps': 44100, 'audio_bitrate': 125, 'video_duration': 130.08, 'video_n_frames': 3898}\n",
      "/home/segus-faultise/Projects/CAB420_GROUP_A/cab420_GROUP_A_ENV/lib/python3.12/site-packages/imageio_ffmpeg/binaries/ffmpeg-linux-x86_64-v7.0.2 -i msasl_clips/temp_3_8.mp4 -loglevel error -f image2pipe -vf scale=640:360 -sws_flags bicubic -pix_fmt rgb24 -vcodec rawvideo -\n"
     ]
    },
    {
     "name": "stderr",
     "output_type": "stream",
     "text": [
      " 73%|█████████████████████████████████████████████████████████████████████████████▍                            | 73/100 [05:04<01:48,  4.00s/it]"
     ]
    },
    {
     "name": "stdout",
     "output_type": "stream",
     "text": [
      "Failed to clip video: 'VideoFileClip' object has no attribute 'subclip'\n",
      "{'video_found': True, 'audio_found': True, 'metadata': {'major_brand': 'mp42', 'minor_version': '0', 'compatible_brands': 'isommp42', 'creation_time': '2015-02-12T22:39:55.000000Z'}, 'inputs': [{'streams': [{'input_number': 0, 'stream_number': 0, 'stream_type': 'video', 'language': None, 'default': True, 'size': [640, 360], 'bitrate': 297, 'fps': 29.97002997002997, 'codec_name': 'h264', 'profile': '(Main)', 'metadata': {'Metadata': '', 'creation_time': '2015-02-12T22:39:55.000000Z', 'handler_name': 'ISO Media file produced by Google Inc. Created on: 02/12/2015.', 'vendor_id': '[0][0][0][0]'}}, {'input_number': 0, 'stream_number': 1, 'stream_type': 'audio', 'language': None, 'default': True, 'fps': 44100, 'bitrate': 125, 'metadata': {'Metadata': '', 'creation_time': '2015-02-12T22:39:55.000000Z', 'handler_name': 'ISO Media file produced by Google Inc. Created on: 02/12/2015.', 'vendor_id': '[0][0][0][0]'}}], 'input_number': 0}], 'duration': 130.08, 'bitrate': 427, 'start': 0.0, 'default_video_input_number': 0, 'default_video_stream_number': 0, 'video_codec_name': 'h264', 'video_profile': '(Main)', 'video_size': [640, 360], 'video_bitrate': 297, 'video_fps': 29.97002997002997, 'default_audio_input_number': 0, 'default_audio_stream_number': 1, 'audio_fps': 44100, 'audio_bitrate': 125, 'video_duration': 130.08, 'video_n_frames': 3898}\n",
      "/home/segus-faultise/Projects/CAB420_GROUP_A/cab420_GROUP_A_ENV/lib/python3.12/site-packages/imageio_ffmpeg/binaries/ffmpeg-linux-x86_64-v7.0.2 -i msasl_clips/temp_56_8.mp4 -loglevel error -f image2pipe -vf scale=640:360 -sws_flags bicubic -pix_fmt rgb24 -vcodec rawvideo -\n"
     ]
    },
    {
     "name": "stderr",
     "output_type": "stream",
     "text": [
      " 74%|██████████████████████████████████████████████████████████████████████████████▍                           | 74/100 [05:07<01:38,  3.80s/it]"
     ]
    },
    {
     "name": "stdout",
     "output_type": "stream",
     "text": [
      "Failed to clip video: 'VideoFileClip' object has no attribute 'subclip'\n",
      "{'video_found': True, 'audio_found': True, 'metadata': {'major_brand': 'mp42', 'minor_version': '0', 'compatible_brands': 'isommp42', 'creation_time': '2015-02-12T22:39:55.000000Z'}, 'inputs': [{'streams': [{'input_number': 0, 'stream_number': 0, 'stream_type': 'video', 'language': None, 'default': True, 'size': [640, 360], 'bitrate': 297, 'fps': 29.97002997002997, 'codec_name': 'h264', 'profile': '(Main)', 'metadata': {'Metadata': '', 'creation_time': '2015-02-12T22:39:55.000000Z', 'handler_name': 'ISO Media file produced by Google Inc. Created on: 02/12/2015.', 'vendor_id': '[0][0][0][0]'}}, {'input_number': 0, 'stream_number': 1, 'stream_type': 'audio', 'language': None, 'default': True, 'fps': 44100, 'bitrate': 125, 'metadata': {'Metadata': '', 'creation_time': '2015-02-12T22:39:55.000000Z', 'handler_name': 'ISO Media file produced by Google Inc. Created on: 02/12/2015.', 'vendor_id': '[0][0][0][0]'}}], 'input_number': 0}], 'duration': 130.08, 'bitrate': 427, 'start': 0.0, 'default_video_input_number': 0, 'default_video_stream_number': 0, 'video_codec_name': 'h264', 'video_profile': '(Main)', 'video_size': [640, 360], 'video_bitrate': 297, 'video_fps': 29.97002997002997, 'default_audio_input_number': 0, 'default_audio_stream_number': 1, 'audio_fps': 44100, 'audio_bitrate': 125, 'video_duration': 130.08, 'video_n_frames': 3898}\n",
      "/home/segus-faultise/Projects/CAB420_GROUP_A/cab420_GROUP_A_ENV/lib/python3.12/site-packages/imageio_ffmpeg/binaries/ffmpeg-linux-x86_64-v7.0.2 -i msasl_clips/temp_135_8.mp4 -loglevel error -f image2pipe -vf scale=640:360 -sws_flags bicubic -pix_fmt rgb24 -vcodec rawvideo -\n"
     ]
    },
    {
     "name": "stderr",
     "output_type": "stream",
     "text": [
      " 75%|███████████████████████████████████████████████████████████████████████████████▌                          | 75/100 [05:11<01:31,  3.66s/it]"
     ]
    },
    {
     "name": "stdout",
     "output_type": "stream",
     "text": [
      "Failed to clip video: 'VideoFileClip' object has no attribute 'subclip'\n",
      "{'video_found': True, 'audio_found': True, 'metadata': {'major_brand': 'mp42', 'minor_version': '0', 'compatible_brands': 'isommp42', 'creation_time': '2015-02-12T22:39:55.000000Z'}, 'inputs': [{'streams': [{'input_number': 0, 'stream_number': 0, 'stream_type': 'video', 'language': None, 'default': True, 'size': [640, 360], 'bitrate': 297, 'fps': 29.97002997002997, 'codec_name': 'h264', 'profile': '(Main)', 'metadata': {'Metadata': '', 'creation_time': '2015-02-12T22:39:55.000000Z', 'handler_name': 'ISO Media file produced by Google Inc. Created on: 02/12/2015.', 'vendor_id': '[0][0][0][0]'}}, {'input_number': 0, 'stream_number': 1, 'stream_type': 'audio', 'language': None, 'default': True, 'fps': 44100, 'bitrate': 125, 'metadata': {'Metadata': '', 'creation_time': '2015-02-12T22:39:55.000000Z', 'handler_name': 'ISO Media file produced by Google Inc. Created on: 02/12/2015.', 'vendor_id': '[0][0][0][0]'}}], 'input_number': 0}], 'duration': 130.08, 'bitrate': 427, 'start': 0.0, 'default_video_input_number': 0, 'default_video_stream_number': 0, 'video_codec_name': 'h264', 'video_profile': '(Main)', 'video_size': [640, 360], 'video_bitrate': 297, 'video_fps': 29.97002997002997, 'default_audio_input_number': 0, 'default_audio_stream_number': 1, 'audio_fps': 44100, 'audio_bitrate': 125, 'video_duration': 130.08, 'video_n_frames': 3898}\n",
      "/home/segus-faultise/Projects/CAB420_GROUP_A/cab420_GROUP_A_ENV/lib/python3.12/site-packages/imageio_ffmpeg/binaries/ffmpeg-linux-x86_64-v7.0.2 -i msasl_clips/temp_177_8.mp4 -loglevel error -f image2pipe -vf scale=640:360 -sws_flags bicubic -pix_fmt rgb24 -vcodec rawvideo -\n"
     ]
    },
    {
     "name": "stderr",
     "output_type": "stream",
     "text": [
      " 76%|████████████████████████████████████████████████████████████████████████████████▌                         | 76/100 [05:14<01:24,  3.53s/it]"
     ]
    },
    {
     "name": "stdout",
     "output_type": "stream",
     "text": [
      "Failed to clip video: 'VideoFileClip' object has no attribute 'subclip'\n",
      "{'video_found': True, 'audio_found': True, 'metadata': {'major_brand': 'mp42', 'minor_version': '0', 'compatible_brands': 'isommp42', 'creation_time': '2015-02-12T22:39:55.000000Z'}, 'inputs': [{'streams': [{'input_number': 0, 'stream_number': 0, 'stream_type': 'video', 'language': None, 'default': True, 'size': [640, 360], 'bitrate': 297, 'fps': 29.97002997002997, 'codec_name': 'h264', 'profile': '(Main)', 'metadata': {'Metadata': '', 'creation_time': '2015-02-12T22:39:55.000000Z', 'handler_name': 'ISO Media file produced by Google Inc. Created on: 02/12/2015.', 'vendor_id': '[0][0][0][0]'}}, {'input_number': 0, 'stream_number': 1, 'stream_type': 'audio', 'language': None, 'default': True, 'fps': 44100, 'bitrate': 125, 'metadata': {'Metadata': '', 'creation_time': '2015-02-12T22:39:55.000000Z', 'handler_name': 'ISO Media file produced by Google Inc. Created on: 02/12/2015.', 'vendor_id': '[0][0][0][0]'}}], 'input_number': 0}], 'duration': 130.08, 'bitrate': 427, 'start': 0.0, 'default_video_input_number': 0, 'default_video_stream_number': 0, 'video_codec_name': 'h264', 'video_profile': '(Main)', 'video_size': [640, 360], 'video_bitrate': 297, 'video_fps': 29.97002997002997, 'default_audio_input_number': 0, 'default_audio_stream_number': 1, 'audio_fps': 44100, 'audio_bitrate': 125, 'video_duration': 130.08, 'video_n_frames': 3898}\n",
      "/home/segus-faultise/Projects/CAB420_GROUP_A/cab420_GROUP_A_ENV/lib/python3.12/site-packages/imageio_ffmpeg/binaries/ffmpeg-linux-x86_64-v7.0.2 -i msasl_clips/temp_164_8.mp4 -loglevel error -f image2pipe -vf scale=640:360 -sws_flags bicubic -pix_fmt rgb24 -vcodec rawvideo -\n"
     ]
    },
    {
     "name": "stderr",
     "output_type": "stream",
     "text": [
      " 77%|█████████████████████████████████████████████████████████████████████████████████▌                        | 77/100 [05:17<01:20,  3.51s/it]"
     ]
    },
    {
     "name": "stdout",
     "output_type": "stream",
     "text": [
      "Failed to clip video: 'VideoFileClip' object has no attribute 'subclip'\n",
      "{'video_found': True, 'audio_found': True, 'metadata': {'major_brand': 'mp42', 'minor_version': '0', 'compatible_brands': 'isommp42', 'creation_time': '2015-02-12T22:39:55.000000Z'}, 'inputs': [{'streams': [{'input_number': 0, 'stream_number': 0, 'stream_type': 'video', 'language': None, 'default': True, 'size': [640, 360], 'bitrate': 297, 'fps': 29.97002997002997, 'codec_name': 'h264', 'profile': '(Main)', 'metadata': {'Metadata': '', 'creation_time': '2015-02-12T22:39:55.000000Z', 'handler_name': 'ISO Media file produced by Google Inc. Created on: 02/12/2015.', 'vendor_id': '[0][0][0][0]'}}, {'input_number': 0, 'stream_number': 1, 'stream_type': 'audio', 'language': None, 'default': True, 'fps': 44100, 'bitrate': 125, 'metadata': {'Metadata': '', 'creation_time': '2015-02-12T22:39:55.000000Z', 'handler_name': 'ISO Media file produced by Google Inc. Created on: 02/12/2015.', 'vendor_id': '[0][0][0][0]'}}], 'input_number': 0}], 'duration': 130.08, 'bitrate': 427, 'start': 0.0, 'default_video_input_number': 0, 'default_video_stream_number': 0, 'video_codec_name': 'h264', 'video_profile': '(Main)', 'video_size': [640, 360], 'video_bitrate': 297, 'video_fps': 29.97002997002997, 'default_audio_input_number': 0, 'default_audio_stream_number': 1, 'audio_fps': 44100, 'audio_bitrate': 125, 'video_duration': 130.08, 'video_n_frames': 3898}\n",
      "/home/segus-faultise/Projects/CAB420_GROUP_A/cab420_GROUP_A_ENV/lib/python3.12/site-packages/imageio_ffmpeg/binaries/ffmpeg-linux-x86_64-v7.0.2 -i msasl_clips/temp_50_8.mp4 -loglevel error -f image2pipe -vf scale=640:360 -sws_flags bicubic -pix_fmt rgb24 -vcodec rawvideo -\n"
     ]
    },
    {
     "name": "stderr",
     "output_type": "stream",
     "text": [
      " 78%|██████████████████████████████████████████████████████████████████████████████████▋                       | 78/100 [05:20<01:13,  3.36s/it]"
     ]
    },
    {
     "name": "stdout",
     "output_type": "stream",
     "text": [
      "Failed to clip video: 'VideoFileClip' object has no attribute 'subclip'\n",
      "{'video_found': True, 'audio_found': True, 'metadata': {'major_brand': 'mp42', 'minor_version': '0', 'compatible_brands': 'isommp42', 'creation_time': '2015-02-12T22:39:55.000000Z'}, 'inputs': [{'streams': [{'input_number': 0, 'stream_number': 0, 'stream_type': 'video', 'language': None, 'default': True, 'size': [640, 360], 'bitrate': 297, 'fps': 29.97002997002997, 'codec_name': 'h264', 'profile': '(Main)', 'metadata': {'Metadata': '', 'creation_time': '2015-02-12T22:39:55.000000Z', 'handler_name': 'ISO Media file produced by Google Inc. Created on: 02/12/2015.', 'vendor_id': '[0][0][0][0]'}}, {'input_number': 0, 'stream_number': 1, 'stream_type': 'audio', 'language': None, 'default': True, 'fps': 44100, 'bitrate': 125, 'metadata': {'Metadata': '', 'creation_time': '2015-02-12T22:39:55.000000Z', 'handler_name': 'ISO Media file produced by Google Inc. Created on: 02/12/2015.', 'vendor_id': '[0][0][0][0]'}}], 'input_number': 0}], 'duration': 130.08, 'bitrate': 427, 'start': 0.0, 'default_video_input_number': 0, 'default_video_stream_number': 0, 'video_codec_name': 'h264', 'video_profile': '(Main)', 'video_size': [640, 360], 'video_bitrate': 297, 'video_fps': 29.97002997002997, 'default_audio_input_number': 0, 'default_audio_stream_number': 1, 'audio_fps': 44100, 'audio_bitrate': 125, 'video_duration': 130.08, 'video_n_frames': 3898}\n",
      "/home/segus-faultise/Projects/CAB420_GROUP_A/cab420_GROUP_A_ENV/lib/python3.12/site-packages/imageio_ffmpeg/binaries/ffmpeg-linux-x86_64-v7.0.2 -i msasl_clips/temp_444_8.mp4 -loglevel error -f image2pipe -vf scale=640:360 -sws_flags bicubic -pix_fmt rgb24 -vcodec rawvideo -\n"
     ]
    },
    {
     "name": "stderr",
     "output_type": "stream",
     "text": [
      " 79%|███████████████████████████████████████████████████████████████████████████████████▋                      | 79/100 [05:24<01:10,  3.37s/it]"
     ]
    },
    {
     "name": "stdout",
     "output_type": "stream",
     "text": [
      "Failed to clip video: 'VideoFileClip' object has no attribute 'subclip'\n",
      "{'video_found': True, 'audio_found': True, 'metadata': {'major_brand': 'mp42', 'minor_version': '0', 'compatible_brands': 'isommp42', 'creation_time': '2015-02-12T22:39:55.000000Z'}, 'inputs': [{'streams': [{'input_number': 0, 'stream_number': 0, 'stream_type': 'video', 'language': None, 'default': True, 'size': [640, 360], 'bitrate': 297, 'fps': 29.97002997002997, 'codec_name': 'h264', 'profile': '(Main)', 'metadata': {'Metadata': '', 'creation_time': '2015-02-12T22:39:55.000000Z', 'handler_name': 'ISO Media file produced by Google Inc. Created on: 02/12/2015.', 'vendor_id': '[0][0][0][0]'}}, {'input_number': 0, 'stream_number': 1, 'stream_type': 'audio', 'language': None, 'default': True, 'fps': 44100, 'bitrate': 125, 'metadata': {'Metadata': '', 'creation_time': '2015-02-12T22:39:55.000000Z', 'handler_name': 'ISO Media file produced by Google Inc. Created on: 02/12/2015.', 'vendor_id': '[0][0][0][0]'}}], 'input_number': 0}], 'duration': 130.08, 'bitrate': 427, 'start': 0.0, 'default_video_input_number': 0, 'default_video_stream_number': 0, 'video_codec_name': 'h264', 'video_profile': '(Main)', 'video_size': [640, 360], 'video_bitrate': 297, 'video_fps': 29.97002997002997, 'default_audio_input_number': 0, 'default_audio_stream_number': 1, 'audio_fps': 44100, 'audio_bitrate': 125, 'video_duration': 130.08, 'video_n_frames': 3898}\n",
      "/home/segus-faultise/Projects/CAB420_GROUP_A/cab420_GROUP_A_ENV/lib/python3.12/site-packages/imageio_ffmpeg/binaries/ffmpeg-linux-x86_64-v7.0.2 -i msasl_clips/temp_68_8.mp4 -loglevel error -f image2pipe -vf scale=640:360 -sws_flags bicubic -pix_fmt rgb24 -vcodec rawvideo -\n"
     ]
    },
    {
     "name": "stderr",
     "output_type": "stream",
     "text": [
      " 80%|████████████████████████████████████████████████████████████████████████████████████▊                     | 80/100 [05:27<01:07,  3.38s/it]"
     ]
    },
    {
     "name": "stdout",
     "output_type": "stream",
     "text": [
      "Failed to clip video: 'VideoFileClip' object has no attribute 'subclip'\n",
      "{'video_found': True, 'audio_found': True, 'metadata': {'major_brand': 'mp42', 'minor_version': '0', 'compatible_brands': 'isommp42', 'creation_time': '2015-02-12T22:39:55.000000Z'}, 'inputs': [{'streams': [{'input_number': 0, 'stream_number': 0, 'stream_type': 'video', 'language': None, 'default': True, 'size': [640, 360], 'bitrate': 297, 'fps': 29.97002997002997, 'codec_name': 'h264', 'profile': '(Main)', 'metadata': {'Metadata': '', 'creation_time': '2015-02-12T22:39:55.000000Z', 'handler_name': 'ISO Media file produced by Google Inc. Created on: 02/12/2015.', 'vendor_id': '[0][0][0][0]'}}, {'input_number': 0, 'stream_number': 1, 'stream_type': 'audio', 'language': None, 'default': True, 'fps': 44100, 'bitrate': 125, 'metadata': {'Metadata': '', 'creation_time': '2015-02-12T22:39:55.000000Z', 'handler_name': 'ISO Media file produced by Google Inc. Created on: 02/12/2015.', 'vendor_id': '[0][0][0][0]'}}], 'input_number': 0}], 'duration': 130.08, 'bitrate': 427, 'start': 0.0, 'default_video_input_number': 0, 'default_video_stream_number': 0, 'video_codec_name': 'h264', 'video_profile': '(Main)', 'video_size': [640, 360], 'video_bitrate': 297, 'video_fps': 29.97002997002997, 'default_audio_input_number': 0, 'default_audio_stream_number': 1, 'audio_fps': 44100, 'audio_bitrate': 125, 'video_duration': 130.08, 'video_n_frames': 3898}\n",
      "/home/segus-faultise/Projects/CAB420_GROUP_A/cab420_GROUP_A_ENV/lib/python3.12/site-packages/imageio_ffmpeg/binaries/ffmpeg-linux-x86_64-v7.0.2 -i msasl_clips/temp_101_8.mp4 -loglevel error -f image2pipe -vf scale=640:360 -sws_flags bicubic -pix_fmt rgb24 -vcodec rawvideo -\n"
     ]
    },
    {
     "name": "stderr",
     "output_type": "stream",
     "text": [
      " 81%|█████████████████████████████████████████████████████████████████████████████████████▊                    | 81/100 [05:30<01:03,  3.33s/it]"
     ]
    },
    {
     "name": "stdout",
     "output_type": "stream",
     "text": [
      "Failed to clip video: 'VideoFileClip' object has no attribute 'subclip'\n",
      "{'video_found': True, 'audio_found': True, 'metadata': {'major_brand': 'mp42', 'minor_version': '0', 'compatible_brands': 'isommp42', 'creation_time': '2015-02-12T22:39:55.000000Z'}, 'inputs': [{'streams': [{'input_number': 0, 'stream_number': 0, 'stream_type': 'video', 'language': None, 'default': True, 'size': [640, 360], 'bitrate': 297, 'fps': 29.97002997002997, 'codec_name': 'h264', 'profile': '(Main)', 'metadata': {'Metadata': '', 'creation_time': '2015-02-12T22:39:55.000000Z', 'handler_name': 'ISO Media file produced by Google Inc. Created on: 02/12/2015.', 'vendor_id': '[0][0][0][0]'}}, {'input_number': 0, 'stream_number': 1, 'stream_type': 'audio', 'language': None, 'default': True, 'fps': 44100, 'bitrate': 125, 'metadata': {'Metadata': '', 'creation_time': '2015-02-12T22:39:55.000000Z', 'handler_name': 'ISO Media file produced by Google Inc. Created on: 02/12/2015.', 'vendor_id': '[0][0][0][0]'}}], 'input_number': 0}], 'duration': 130.08, 'bitrate': 427, 'start': 0.0, 'default_video_input_number': 0, 'default_video_stream_number': 0, 'video_codec_name': 'h264', 'video_profile': '(Main)', 'video_size': [640, 360], 'video_bitrate': 297, 'video_fps': 29.97002997002997, 'default_audio_input_number': 0, 'default_audio_stream_number': 1, 'audio_fps': 44100, 'audio_bitrate': 125, 'video_duration': 130.08, 'video_n_frames': 3898}\n",
      "/home/segus-faultise/Projects/CAB420_GROUP_A/cab420_GROUP_A_ENV/lib/python3.12/site-packages/imageio_ffmpeg/binaries/ffmpeg-linux-x86_64-v7.0.2 -i msasl_clips/temp_914_8.mp4 -loglevel error -f image2pipe -vf scale=640:360 -sws_flags bicubic -pix_fmt rgb24 -vcodec rawvideo -\n"
     ]
    },
    {
     "name": "stderr",
     "output_type": "stream",
     "text": [
      " 82%|██████████████████████████████████████████████████████████████████████████████████████▉                   | 82/100 [05:34<01:00,  3.37s/it]"
     ]
    },
    {
     "name": "stdout",
     "output_type": "stream",
     "text": [
      "Failed to clip video: 'VideoFileClip' object has no attribute 'subclip'\n",
      "{'video_found': True, 'audio_found': True, 'metadata': {'major_brand': 'mp42', 'minor_version': '0', 'compatible_brands': 'isommp42', 'creation_time': '2015-02-12T22:39:55.000000Z'}, 'inputs': [{'streams': [{'input_number': 0, 'stream_number': 0, 'stream_type': 'video', 'language': None, 'default': True, 'size': [640, 360], 'bitrate': 297, 'fps': 29.97002997002997, 'codec_name': 'h264', 'profile': '(Main)', 'metadata': {'Metadata': '', 'creation_time': '2015-02-12T22:39:55.000000Z', 'handler_name': 'ISO Media file produced by Google Inc. Created on: 02/12/2015.', 'vendor_id': '[0][0][0][0]'}}, {'input_number': 0, 'stream_number': 1, 'stream_type': 'audio', 'language': None, 'default': True, 'fps': 44100, 'bitrate': 125, 'metadata': {'Metadata': '', 'creation_time': '2015-02-12T22:39:55.000000Z', 'handler_name': 'ISO Media file produced by Google Inc. Created on: 02/12/2015.', 'vendor_id': '[0][0][0][0]'}}], 'input_number': 0}], 'duration': 130.08, 'bitrate': 427, 'start': 0.0, 'default_video_input_number': 0, 'default_video_stream_number': 0, 'video_codec_name': 'h264', 'video_profile': '(Main)', 'video_size': [640, 360], 'video_bitrate': 297, 'video_fps': 29.97002997002997, 'default_audio_input_number': 0, 'default_audio_stream_number': 1, 'audio_fps': 44100, 'audio_bitrate': 125, 'video_duration': 130.08, 'video_n_frames': 3898}\n",
      "/home/segus-faultise/Projects/CAB420_GROUP_A/cab420_GROUP_A_ENV/lib/python3.12/site-packages/imageio_ffmpeg/binaries/ffmpeg-linux-x86_64-v7.0.2 -i msasl_clips/temp_76_8.mp4 -loglevel error -f image2pipe -vf scale=640:360 -sws_flags bicubic -pix_fmt rgb24 -vcodec rawvideo -\n"
     ]
    },
    {
     "name": "stderr",
     "output_type": "stream",
     "text": [
      " 83%|███████████████████████████████████████████████████████████████████████████████████████▉                  | 83/100 [05:37<00:56,  3.31s/it]"
     ]
    },
    {
     "name": "stdout",
     "output_type": "stream",
     "text": [
      "Failed to clip video: 'VideoFileClip' object has no attribute 'subclip'\n",
      "{'video_found': True, 'audio_found': True, 'metadata': {'major_brand': 'mp42', 'minor_version': '0', 'compatible_brands': 'isommp42', 'creation_time': '2015-02-12T22:39:55.000000Z'}, 'inputs': [{'streams': [{'input_number': 0, 'stream_number': 0, 'stream_type': 'video', 'language': None, 'default': True, 'size': [640, 360], 'bitrate': 297, 'fps': 29.97002997002997, 'codec_name': 'h264', 'profile': '(Main)', 'metadata': {'Metadata': '', 'creation_time': '2015-02-12T22:39:55.000000Z', 'handler_name': 'ISO Media file produced by Google Inc. Created on: 02/12/2015.', 'vendor_id': '[0][0][0][0]'}}, {'input_number': 0, 'stream_number': 1, 'stream_type': 'audio', 'language': None, 'default': True, 'fps': 44100, 'bitrate': 125, 'metadata': {'Metadata': '', 'creation_time': '2015-02-12T22:39:55.000000Z', 'handler_name': 'ISO Media file produced by Google Inc. Created on: 02/12/2015.', 'vendor_id': '[0][0][0][0]'}}], 'input_number': 0}], 'duration': 130.08, 'bitrate': 427, 'start': 0.0, 'default_video_input_number': 0, 'default_video_stream_number': 0, 'video_codec_name': 'h264', 'video_profile': '(Main)', 'video_size': [640, 360], 'video_bitrate': 297, 'video_fps': 29.97002997002997, 'default_audio_input_number': 0, 'default_audio_stream_number': 1, 'audio_fps': 44100, 'audio_bitrate': 125, 'video_duration': 130.08, 'video_n_frames': 3898}\n",
      "/home/segus-faultise/Projects/CAB420_GROUP_A/cab420_GROUP_A_ENV/lib/python3.12/site-packages/imageio_ffmpeg/binaries/ffmpeg-linux-x86_64-v7.0.2 -i msasl_clips/temp_26_8.mp4 -loglevel error -f image2pipe -vf scale=640:360 -sws_flags bicubic -pix_fmt rgb24 -vcodec rawvideo -\n"
     ]
    },
    {
     "name": "stderr",
     "output_type": "stream",
     "text": [
      " 84%|█████████████████████████████████████████████████████████████████████████████████████████                 | 84/100 [05:40<00:53,  3.33s/it]"
     ]
    },
    {
     "name": "stdout",
     "output_type": "stream",
     "text": [
      "Failed to clip video: 'VideoFileClip' object has no attribute 'subclip'\n",
      "{'video_found': True, 'audio_found': True, 'metadata': {'major_brand': 'mp42', 'minor_version': '0', 'compatible_brands': 'isommp42', 'creation_time': '2015-02-12T22:39:55.000000Z'}, 'inputs': [{'streams': [{'input_number': 0, 'stream_number': 0, 'stream_type': 'video', 'language': None, 'default': True, 'size': [640, 360], 'bitrate': 297, 'fps': 29.97002997002997, 'codec_name': 'h264', 'profile': '(Main)', 'metadata': {'Metadata': '', 'creation_time': '2015-02-12T22:39:55.000000Z', 'handler_name': 'ISO Media file produced by Google Inc. Created on: 02/12/2015.', 'vendor_id': '[0][0][0][0]'}}, {'input_number': 0, 'stream_number': 1, 'stream_type': 'audio', 'language': None, 'default': True, 'fps': 44100, 'bitrate': 125, 'metadata': {'Metadata': '', 'creation_time': '2015-02-12T22:39:55.000000Z', 'handler_name': 'ISO Media file produced by Google Inc. Created on: 02/12/2015.', 'vendor_id': '[0][0][0][0]'}}], 'input_number': 0}], 'duration': 130.08, 'bitrate': 427, 'start': 0.0, 'default_video_input_number': 0, 'default_video_stream_number': 0, 'video_codec_name': 'h264', 'video_profile': '(Main)', 'video_size': [640, 360], 'video_bitrate': 297, 'video_fps': 29.97002997002997, 'default_audio_input_number': 0, 'default_audio_stream_number': 1, 'audio_fps': 44100, 'audio_bitrate': 125, 'video_duration': 130.08, 'video_n_frames': 3898}\n",
      "/home/segus-faultise/Projects/CAB420_GROUP_A/cab420_GROUP_A_ENV/lib/python3.12/site-packages/imageio_ffmpeg/binaries/ffmpeg-linux-x86_64-v7.0.2 -i msasl_clips/temp_8_8.mp4 -loglevel error -f image2pipe -vf scale=640:360 -sws_flags bicubic -pix_fmt rgb24 -vcodec rawvideo -\n"
     ]
    },
    {
     "name": "stderr",
     "output_type": "stream",
     "text": [
      " 85%|██████████████████████████████████████████████████████████████████████████████████████████                | 85/100 [05:44<00:51,  3.42s/it]"
     ]
    },
    {
     "name": "stdout",
     "output_type": "stream",
     "text": [
      "Failed to clip video: 'VideoFileClip' object has no attribute 'subclip'\n",
      "{'video_found': True, 'audio_found': True, 'metadata': {'major_brand': 'mp42', 'minor_version': '0', 'compatible_brands': 'isommp42', 'creation_time': '2015-02-12T22:39:55.000000Z'}, 'inputs': [{'streams': [{'input_number': 0, 'stream_number': 0, 'stream_type': 'video', 'language': None, 'default': True, 'size': [640, 360], 'bitrate': 297, 'fps': 29.97002997002997, 'codec_name': 'h264', 'profile': '(Main)', 'metadata': {'Metadata': '', 'creation_time': '2015-02-12T22:39:55.000000Z', 'handler_name': 'ISO Media file produced by Google Inc. Created on: 02/12/2015.', 'vendor_id': '[0][0][0][0]'}}, {'input_number': 0, 'stream_number': 1, 'stream_type': 'audio', 'language': None, 'default': True, 'fps': 44100, 'bitrate': 125, 'metadata': {'Metadata': '', 'creation_time': '2015-02-12T22:39:55.000000Z', 'handler_name': 'ISO Media file produced by Google Inc. Created on: 02/12/2015.', 'vendor_id': '[0][0][0][0]'}}], 'input_number': 0}], 'duration': 130.08, 'bitrate': 427, 'start': 0.0, 'default_video_input_number': 0, 'default_video_stream_number': 0, 'video_codec_name': 'h264', 'video_profile': '(Main)', 'video_size': [640, 360], 'video_bitrate': 297, 'video_fps': 29.97002997002997, 'default_audio_input_number': 0, 'default_audio_stream_number': 1, 'audio_fps': 44100, 'audio_bitrate': 125, 'video_duration': 130.08, 'video_n_frames': 3898}\n",
      "/home/segus-faultise/Projects/CAB420_GROUP_A/cab420_GROUP_A_ENV/lib/python3.12/site-packages/imageio_ffmpeg/binaries/ffmpeg-linux-x86_64-v7.0.2 -i msasl_clips/temp_6_8.mp4 -loglevel error -f image2pipe -vf scale=640:360 -sws_flags bicubic -pix_fmt rgb24 -vcodec rawvideo -\n"
     ]
    },
    {
     "name": "stderr",
     "output_type": "stream",
     "text": [
      " 86%|███████████████████████████████████████████████████████████████████████████████████████████▏              | 86/100 [05:47<00:47,  3.37s/it]"
     ]
    },
    {
     "name": "stdout",
     "output_type": "stream",
     "text": [
      "Failed to clip video: 'VideoFileClip' object has no attribute 'subclip'\n",
      "{'video_found': True, 'audio_found': True, 'metadata': {'major_brand': 'mp42', 'minor_version': '0', 'compatible_brands': 'isommp42', 'creation_time': '2015-02-12T22:39:55.000000Z'}, 'inputs': [{'streams': [{'input_number': 0, 'stream_number': 0, 'stream_type': 'video', 'language': None, 'default': True, 'size': [640, 360], 'bitrate': 297, 'fps': 29.97002997002997, 'codec_name': 'h264', 'profile': '(Main)', 'metadata': {'Metadata': '', 'creation_time': '2015-02-12T22:39:55.000000Z', 'handler_name': 'ISO Media file produced by Google Inc. Created on: 02/12/2015.', 'vendor_id': '[0][0][0][0]'}}, {'input_number': 0, 'stream_number': 1, 'stream_type': 'audio', 'language': None, 'default': True, 'fps': 44100, 'bitrate': 125, 'metadata': {'Metadata': '', 'creation_time': '2015-02-12T22:39:55.000000Z', 'handler_name': 'ISO Media file produced by Google Inc. Created on: 02/12/2015.', 'vendor_id': '[0][0][0][0]'}}], 'input_number': 0}], 'duration': 130.08, 'bitrate': 427, 'start': 0.0, 'default_video_input_number': 0, 'default_video_stream_number': 0, 'video_codec_name': 'h264', 'video_profile': '(Main)', 'video_size': [640, 360], 'video_bitrate': 297, 'video_fps': 29.97002997002997, 'default_audio_input_number': 0, 'default_audio_stream_number': 1, 'audio_fps': 44100, 'audio_bitrate': 125, 'video_duration': 130.08, 'video_n_frames': 3898}\n",
      "/home/segus-faultise/Projects/CAB420_GROUP_A/cab420_GROUP_A_ENV/lib/python3.12/site-packages/imageio_ffmpeg/binaries/ffmpeg-linux-x86_64-v7.0.2 -i msasl_clips/temp_165_8.mp4 -loglevel error -f image2pipe -vf scale=640:360 -sws_flags bicubic -pix_fmt rgb24 -vcodec rawvideo -\n"
     ]
    },
    {
     "name": "stderr",
     "output_type": "stream",
     "text": [
      " 87%|████████████████████████████████████████████████████████████████████████████████████████████▏             | 87/100 [05:51<00:43,  3.37s/it]"
     ]
    },
    {
     "name": "stdout",
     "output_type": "stream",
     "text": [
      "Failed to clip video: 'VideoFileClip' object has no attribute 'subclip'\n",
      "{'video_found': True, 'audio_found': True, 'metadata': {'major_brand': 'mp42', 'minor_version': '0', 'compatible_brands': 'isommp42', 'creation_time': '2015-02-12T22:39:55.000000Z'}, 'inputs': [{'streams': [{'input_number': 0, 'stream_number': 0, 'stream_type': 'video', 'language': None, 'default': True, 'size': [640, 360], 'bitrate': 297, 'fps': 29.97002997002997, 'codec_name': 'h264', 'profile': '(Main)', 'metadata': {'Metadata': '', 'creation_time': '2015-02-12T22:39:55.000000Z', 'handler_name': 'ISO Media file produced by Google Inc. Created on: 02/12/2015.', 'vendor_id': '[0][0][0][0]'}}, {'input_number': 0, 'stream_number': 1, 'stream_type': 'audio', 'language': None, 'default': True, 'fps': 44100, 'bitrate': 125, 'metadata': {'Metadata': '', 'creation_time': '2015-02-12T22:39:55.000000Z', 'handler_name': 'ISO Media file produced by Google Inc. Created on: 02/12/2015.', 'vendor_id': '[0][0][0][0]'}}], 'input_number': 0}], 'duration': 130.08, 'bitrate': 427, 'start': 0.0, 'default_video_input_number': 0, 'default_video_stream_number': 0, 'video_codec_name': 'h264', 'video_profile': '(Main)', 'video_size': [640, 360], 'video_bitrate': 297, 'video_fps': 29.97002997002997, 'default_audio_input_number': 0, 'default_audio_stream_number': 1, 'audio_fps': 44100, 'audio_bitrate': 125, 'video_duration': 130.08, 'video_n_frames': 3898}\n",
      "/home/segus-faultise/Projects/CAB420_GROUP_A/cab420_GROUP_A_ENV/lib/python3.12/site-packages/imageio_ffmpeg/binaries/ffmpeg-linux-x86_64-v7.0.2 -i msasl_clips/temp_152_8.mp4 -loglevel error -f image2pipe -vf scale=640:360 -sws_flags bicubic -pix_fmt rgb24 -vcodec rawvideo -\n"
     ]
    },
    {
     "name": "stderr",
     "output_type": "stream",
     "text": [
      " 88%|█████████████████████████████████████████████████████████████████████████████████████████████▎            | 88/100 [05:54<00:40,  3.34s/it]"
     ]
    },
    {
     "name": "stdout",
     "output_type": "stream",
     "text": [
      "Failed to clip video: 'VideoFileClip' object has no attribute 'subclip'\n",
      "{'video_found': True, 'audio_found': True, 'metadata': {'major_brand': 'mp42', 'minor_version': '0', 'compatible_brands': 'isommp42', 'creation_time': '2015-02-12T22:39:55.000000Z'}, 'inputs': [{'streams': [{'input_number': 0, 'stream_number': 0, 'stream_type': 'video', 'language': None, 'default': True, 'size': [640, 360], 'bitrate': 297, 'fps': 29.97002997002997, 'codec_name': 'h264', 'profile': '(Main)', 'metadata': {'Metadata': '', 'creation_time': '2015-02-12T22:39:55.000000Z', 'handler_name': 'ISO Media file produced by Google Inc. Created on: 02/12/2015.', 'vendor_id': '[0][0][0][0]'}}, {'input_number': 0, 'stream_number': 1, 'stream_type': 'audio', 'language': None, 'default': True, 'fps': 44100, 'bitrate': 125, 'metadata': {'Metadata': '', 'creation_time': '2015-02-12T22:39:55.000000Z', 'handler_name': 'ISO Media file produced by Google Inc. Created on: 02/12/2015.', 'vendor_id': '[0][0][0][0]'}}], 'input_number': 0}], 'duration': 130.08, 'bitrate': 427, 'start': 0.0, 'default_video_input_number': 0, 'default_video_stream_number': 0, 'video_codec_name': 'h264', 'video_profile': '(Main)', 'video_size': [640, 360], 'video_bitrate': 297, 'video_fps': 29.97002997002997, 'default_audio_input_number': 0, 'default_audio_stream_number': 1, 'audio_fps': 44100, 'audio_bitrate': 125, 'video_duration': 130.08, 'video_n_frames': 3898}\n",
      "/home/segus-faultise/Projects/CAB420_GROUP_A/cab420_GROUP_A_ENV/lib/python3.12/site-packages/imageio_ffmpeg/binaries/ffmpeg-linux-x86_64-v7.0.2 -i msasl_clips/temp_327_8.mp4 -loglevel error -f image2pipe -vf scale=640:360 -sws_flags bicubic -pix_fmt rgb24 -vcodec rawvideo -\n"
     ]
    },
    {
     "name": "stderr",
     "output_type": "stream",
     "text": [
      " 89%|██████████████████████████████████████████████████████████████████████████████████████████████▎           | 89/100 [05:57<00:36,  3.33s/it]"
     ]
    },
    {
     "name": "stdout",
     "output_type": "stream",
     "text": [
      "Failed to clip video: 'VideoFileClip' object has no attribute 'subclip'\n",
      "{'video_found': True, 'audio_found': True, 'metadata': {'major_brand': 'mp42', 'minor_version': '0', 'compatible_brands': 'isommp42', 'creation_time': '2015-02-12T22:39:55.000000Z'}, 'inputs': [{'streams': [{'input_number': 0, 'stream_number': 0, 'stream_type': 'video', 'language': None, 'default': True, 'size': [640, 360], 'bitrate': 297, 'fps': 29.97002997002997, 'codec_name': 'h264', 'profile': '(Main)', 'metadata': {'Metadata': '', 'creation_time': '2015-02-12T22:39:55.000000Z', 'handler_name': 'ISO Media file produced by Google Inc. Created on: 02/12/2015.', 'vendor_id': '[0][0][0][0]'}}, {'input_number': 0, 'stream_number': 1, 'stream_type': 'audio', 'language': None, 'default': True, 'fps': 44100, 'bitrate': 125, 'metadata': {'Metadata': '', 'creation_time': '2015-02-12T22:39:55.000000Z', 'handler_name': 'ISO Media file produced by Google Inc. Created on: 02/12/2015.', 'vendor_id': '[0][0][0][0]'}}], 'input_number': 0}], 'duration': 130.08, 'bitrate': 427, 'start': 0.0, 'default_video_input_number': 0, 'default_video_stream_number': 0, 'video_codec_name': 'h264', 'video_profile': '(Main)', 'video_size': [640, 360], 'video_bitrate': 297, 'video_fps': 29.97002997002997, 'default_audio_input_number': 0, 'default_audio_stream_number': 1, 'audio_fps': 44100, 'audio_bitrate': 125, 'video_duration': 130.08, 'video_n_frames': 3898}\n",
      "/home/segus-faultise/Projects/CAB420_GROUP_A/cab420_GROUP_A_ENV/lib/python3.12/site-packages/imageio_ffmpeg/binaries/ffmpeg-linux-x86_64-v7.0.2 -i msasl_clips/temp_698_8.mp4 -loglevel error -f image2pipe -vf scale=640:360 -sws_flags bicubic -pix_fmt rgb24 -vcodec rawvideo -\n"
     ]
    },
    {
     "name": "stderr",
     "output_type": "stream",
     "text": [
      " 90%|███████████████████████████████████████████████████████████████████████████████████████████████▍          | 90/100 [06:00<00:32,  3.28s/it]"
     ]
    },
    {
     "name": "stdout",
     "output_type": "stream",
     "text": [
      "Failed to clip video: 'VideoFileClip' object has no attribute 'subclip'\n",
      "{'video_found': True, 'audio_found': True, 'metadata': {'major_brand': 'mp42', 'minor_version': '0', 'compatible_brands': 'isommp42', 'creation_time': '2015-02-12T22:39:55.000000Z'}, 'inputs': [{'streams': [{'input_number': 0, 'stream_number': 0, 'stream_type': 'video', 'language': None, 'default': True, 'size': [640, 360], 'bitrate': 297, 'fps': 29.97002997002997, 'codec_name': 'h264', 'profile': '(Main)', 'metadata': {'Metadata': '', 'creation_time': '2015-02-12T22:39:55.000000Z', 'handler_name': 'ISO Media file produced by Google Inc. Created on: 02/12/2015.', 'vendor_id': '[0][0][0][0]'}}, {'input_number': 0, 'stream_number': 1, 'stream_type': 'audio', 'language': None, 'default': True, 'fps': 44100, 'bitrate': 125, 'metadata': {'Metadata': '', 'creation_time': '2015-02-12T22:39:55.000000Z', 'handler_name': 'ISO Media file produced by Google Inc. Created on: 02/12/2015.', 'vendor_id': '[0][0][0][0]'}}], 'input_number': 0}], 'duration': 130.08, 'bitrate': 427, 'start': 0.0, 'default_video_input_number': 0, 'default_video_stream_number': 0, 'video_codec_name': 'h264', 'video_profile': '(Main)', 'video_size': [640, 360], 'video_bitrate': 297, 'video_fps': 29.97002997002997, 'default_audio_input_number': 0, 'default_audio_stream_number': 1, 'audio_fps': 44100, 'audio_bitrate': 125, 'video_duration': 130.08, 'video_n_frames': 3898}\n",
      "/home/segus-faultise/Projects/CAB420_GROUP_A/cab420_GROUP_A_ENV/lib/python3.12/site-packages/imageio_ffmpeg/binaries/ffmpeg-linux-x86_64-v7.0.2 -i msasl_clips/temp_27_8.mp4 -loglevel error -f image2pipe -vf scale=640:360 -sws_flags bicubic -pix_fmt rgb24 -vcodec rawvideo -\n"
     ]
    },
    {
     "name": "stderr",
     "output_type": "stream",
     "text": [
      " 91%|████████████████████████████████████████████████████████████████████████████████████████████████▍         | 91/100 [06:04<00:30,  3.43s/it]"
     ]
    },
    {
     "name": "stdout",
     "output_type": "stream",
     "text": [
      "Failed to clip video: 'VideoFileClip' object has no attribute 'subclip'\n",
      "{'video_found': True, 'audio_found': True, 'metadata': {'major_brand': 'mp42', 'minor_version': '0', 'compatible_brands': 'isommp42', 'creation_time': '2015-02-12T22:39:55.000000Z'}, 'inputs': [{'streams': [{'input_number': 0, 'stream_number': 0, 'stream_type': 'video', 'language': None, 'default': True, 'size': [640, 360], 'bitrate': 297, 'fps': 29.97002997002997, 'codec_name': 'h264', 'profile': '(Main)', 'metadata': {'Metadata': '', 'creation_time': '2015-02-12T22:39:55.000000Z', 'handler_name': 'ISO Media file produced by Google Inc. Created on: 02/12/2015.', 'vendor_id': '[0][0][0][0]'}}, {'input_number': 0, 'stream_number': 1, 'stream_type': 'audio', 'language': None, 'default': True, 'fps': 44100, 'bitrate': 125, 'metadata': {'Metadata': '', 'creation_time': '2015-02-12T22:39:55.000000Z', 'handler_name': 'ISO Media file produced by Google Inc. Created on: 02/12/2015.', 'vendor_id': '[0][0][0][0]'}}], 'input_number': 0}], 'duration': 130.08, 'bitrate': 427, 'start': 0.0, 'default_video_input_number': 0, 'default_video_stream_number': 0, 'video_codec_name': 'h264', 'video_profile': '(Main)', 'video_size': [640, 360], 'video_bitrate': 297, 'video_fps': 29.97002997002997, 'default_audio_input_number': 0, 'default_audio_stream_number': 1, 'audio_fps': 44100, 'audio_bitrate': 125, 'video_duration': 130.08, 'video_n_frames': 3898}\n",
      "/home/segus-faultise/Projects/CAB420_GROUP_A/cab420_GROUP_A_ENV/lib/python3.12/site-packages/imageio_ffmpeg/binaries/ffmpeg-linux-x86_64-v7.0.2 -i msasl_clips/temp_54_8.mp4 -loglevel error -f image2pipe -vf scale=640:360 -sws_flags bicubic -pix_fmt rgb24 -vcodec rawvideo -\n"
     ]
    },
    {
     "name": "stderr",
     "output_type": "stream",
     "text": [
      " 92%|█████████████████████████████████████████████████████████████████████████████████████████████████▌        | 92/100 [06:08<00:27,  3.38s/it]"
     ]
    },
    {
     "name": "stdout",
     "output_type": "stream",
     "text": [
      "Failed to clip video: 'VideoFileClip' object has no attribute 'subclip'\n",
      "{'video_found': True, 'audio_found': True, 'metadata': {'major_brand': 'mp42', 'minor_version': '0', 'compatible_brands': 'isommp42', 'creation_time': '2015-02-12T22:39:55.000000Z'}, 'inputs': [{'streams': [{'input_number': 0, 'stream_number': 0, 'stream_type': 'video', 'language': None, 'default': True, 'size': [640, 360], 'bitrate': 297, 'fps': 29.97002997002997, 'codec_name': 'h264', 'profile': '(Main)', 'metadata': {'Metadata': '', 'creation_time': '2015-02-12T22:39:55.000000Z', 'handler_name': 'ISO Media file produced by Google Inc. Created on: 02/12/2015.', 'vendor_id': '[0][0][0][0]'}}, {'input_number': 0, 'stream_number': 1, 'stream_type': 'audio', 'language': None, 'default': True, 'fps': 44100, 'bitrate': 125, 'metadata': {'Metadata': '', 'creation_time': '2015-02-12T22:39:55.000000Z', 'handler_name': 'ISO Media file produced by Google Inc. Created on: 02/12/2015.', 'vendor_id': '[0][0][0][0]'}}], 'input_number': 0}], 'duration': 130.08, 'bitrate': 427, 'start': 0.0, 'default_video_input_number': 0, 'default_video_stream_number': 0, 'video_codec_name': 'h264', 'video_profile': '(Main)', 'video_size': [640, 360], 'video_bitrate': 297, 'video_fps': 29.97002997002997, 'default_audio_input_number': 0, 'default_audio_stream_number': 1, 'audio_fps': 44100, 'audio_bitrate': 125, 'video_duration': 130.08, 'video_n_frames': 3898}\n",
      "/home/segus-faultise/Projects/CAB420_GROUP_A/cab420_GROUP_A_ENV/lib/python3.12/site-packages/imageio_ffmpeg/binaries/ffmpeg-linux-x86_64-v7.0.2 -i msasl_clips/temp_384_8.mp4 -loglevel error -f image2pipe -vf scale=640:360 -sws_flags bicubic -pix_fmt rgb24 -vcodec rawvideo -\n"
     ]
    },
    {
     "name": "stderr",
     "output_type": "stream",
     "text": [
      " 93%|██████████████████████████████████████████████████████████████████████████████████████████████████▌       | 93/100 [06:11<00:23,  3.39s/it]"
     ]
    },
    {
     "name": "stdout",
     "output_type": "stream",
     "text": [
      "Failed to clip video: 'VideoFileClip' object has no attribute 'subclip'\n",
      "{'video_found': True, 'audio_found': True, 'metadata': {'major_brand': 'mp42', 'minor_version': '0', 'compatible_brands': 'isommp42', 'creation_time': '2015-02-12T22:39:55.000000Z'}, 'inputs': [{'streams': [{'input_number': 0, 'stream_number': 0, 'stream_type': 'video', 'language': None, 'default': True, 'size': [640, 360], 'bitrate': 297, 'fps': 29.97002997002997, 'codec_name': 'h264', 'profile': '(Main)', 'metadata': {'Metadata': '', 'creation_time': '2015-02-12T22:39:55.000000Z', 'handler_name': 'ISO Media file produced by Google Inc. Created on: 02/12/2015.', 'vendor_id': '[0][0][0][0]'}}, {'input_number': 0, 'stream_number': 1, 'stream_type': 'audio', 'language': None, 'default': True, 'fps': 44100, 'bitrate': 125, 'metadata': {'Metadata': '', 'creation_time': '2015-02-12T22:39:55.000000Z', 'handler_name': 'ISO Media file produced by Google Inc. Created on: 02/12/2015.', 'vendor_id': '[0][0][0][0]'}}], 'input_number': 0}], 'duration': 130.08, 'bitrate': 427, 'start': 0.0, 'default_video_input_number': 0, 'default_video_stream_number': 0, 'video_codec_name': 'h264', 'video_profile': '(Main)', 'video_size': [640, 360], 'video_bitrate': 297, 'video_fps': 29.97002997002997, 'default_audio_input_number': 0, 'default_audio_stream_number': 1, 'audio_fps': 44100, 'audio_bitrate': 125, 'video_duration': 130.08, 'video_n_frames': 3898}\n",
      "/home/segus-faultise/Projects/CAB420_GROUP_A/cab420_GROUP_A_ENV/lib/python3.12/site-packages/imageio_ffmpeg/binaries/ffmpeg-linux-x86_64-v7.0.2 -i msasl_clips/temp_16_8.mp4 -loglevel error -f image2pipe -vf scale=640:360 -sws_flags bicubic -pix_fmt rgb24 -vcodec rawvideo -\n"
     ]
    },
    {
     "name": "stderr",
     "output_type": "stream",
     "text": [
      " 94%|███████████████████████████████████████████████████████████████████████████████████████████████████▋      | 94/100 [06:14<00:20,  3.40s/it]"
     ]
    },
    {
     "name": "stdout",
     "output_type": "stream",
     "text": [
      "Failed to clip video: 'VideoFileClip' object has no attribute 'subclip'\n",
      "{'video_found': True, 'audio_found': True, 'metadata': {'major_brand': 'mp42', 'minor_version': '0', 'compatible_brands': 'isommp42', 'creation_time': '2015-02-12T22:39:55.000000Z'}, 'inputs': [{'streams': [{'input_number': 0, 'stream_number': 0, 'stream_type': 'video', 'language': None, 'default': True, 'size': [640, 360], 'bitrate': 297, 'fps': 29.97002997002997, 'codec_name': 'h264', 'profile': '(Main)', 'metadata': {'Metadata': '', 'creation_time': '2015-02-12T22:39:55.000000Z', 'handler_name': 'ISO Media file produced by Google Inc. Created on: 02/12/2015.', 'vendor_id': '[0][0][0][0]'}}, {'input_number': 0, 'stream_number': 1, 'stream_type': 'audio', 'language': None, 'default': True, 'fps': 44100, 'bitrate': 125, 'metadata': {'Metadata': '', 'creation_time': '2015-02-12T22:39:55.000000Z', 'handler_name': 'ISO Media file produced by Google Inc. Created on: 02/12/2015.', 'vendor_id': '[0][0][0][0]'}}], 'input_number': 0}], 'duration': 130.08, 'bitrate': 427, 'start': 0.0, 'default_video_input_number': 0, 'default_video_stream_number': 0, 'video_codec_name': 'h264', 'video_profile': '(Main)', 'video_size': [640, 360], 'video_bitrate': 297, 'video_fps': 29.97002997002997, 'default_audio_input_number': 0, 'default_audio_stream_number': 1, 'audio_fps': 44100, 'audio_bitrate': 125, 'video_duration': 130.08, 'video_n_frames': 3898}\n",
      "/home/segus-faultise/Projects/CAB420_GROUP_A/cab420_GROUP_A_ENV/lib/python3.12/site-packages/imageio_ffmpeg/binaries/ffmpeg-linux-x86_64-v7.0.2 -i msasl_clips/temp_30_8.mp4 -loglevel error -f image2pipe -vf scale=640:360 -sws_flags bicubic -pix_fmt rgb24 -vcodec rawvideo -\n"
     ]
    },
    {
     "name": "stderr",
     "output_type": "stream",
     "text": [
      " 95%|████████████████████████████████████████████████████████████████████████████████████████████████████▋     | 95/100 [06:18<00:16,  3.40s/it]"
     ]
    },
    {
     "name": "stdout",
     "output_type": "stream",
     "text": [
      "Failed to clip video: 'VideoFileClip' object has no attribute 'subclip'\n",
      "{'video_found': True, 'audio_found': True, 'metadata': {'major_brand': 'mp42', 'minor_version': '0', 'compatible_brands': 'isommp42', 'creation_time': '2015-02-12T22:39:55.000000Z'}, 'inputs': [{'streams': [{'input_number': 0, 'stream_number': 0, 'stream_type': 'video', 'language': None, 'default': True, 'size': [640, 360], 'bitrate': 297, 'fps': 29.97002997002997, 'codec_name': 'h264', 'profile': '(Main)', 'metadata': {'Metadata': '', 'creation_time': '2015-02-12T22:39:55.000000Z', 'handler_name': 'ISO Media file produced by Google Inc. Created on: 02/12/2015.', 'vendor_id': '[0][0][0][0]'}}, {'input_number': 0, 'stream_number': 1, 'stream_type': 'audio', 'language': None, 'default': True, 'fps': 44100, 'bitrate': 125, 'metadata': {'Metadata': '', 'creation_time': '2015-02-12T22:39:55.000000Z', 'handler_name': 'ISO Media file produced by Google Inc. Created on: 02/12/2015.', 'vendor_id': '[0][0][0][0]'}}], 'input_number': 0}], 'duration': 130.08, 'bitrate': 427, 'start': 0.0, 'default_video_input_number': 0, 'default_video_stream_number': 0, 'video_codec_name': 'h264', 'video_profile': '(Main)', 'video_size': [640, 360], 'video_bitrate': 297, 'video_fps': 29.97002997002997, 'default_audio_input_number': 0, 'default_audio_stream_number': 1, 'audio_fps': 44100, 'audio_bitrate': 125, 'video_duration': 130.08, 'video_n_frames': 3898}\n",
      "/home/segus-faultise/Projects/CAB420_GROUP_A/cab420_GROUP_A_ENV/lib/python3.12/site-packages/imageio_ffmpeg/binaries/ffmpeg-linux-x86_64-v7.0.2 -i msasl_clips/temp_38_8.mp4 -loglevel error -f image2pipe -vf scale=640:360 -sws_flags bicubic -pix_fmt rgb24 -vcodec rawvideo -\n"
     ]
    },
    {
     "name": "stderr",
     "output_type": "stream",
     "text": [
      " 96%|█████████████████████████████████████████████████████████████████████████████████████████████████████▊    | 96/100 [06:21<00:13,  3.45s/it]"
     ]
    },
    {
     "name": "stdout",
     "output_type": "stream",
     "text": [
      "Failed to clip video: 'VideoFileClip' object has no attribute 'subclip'\n",
      "{'video_found': True, 'audio_found': True, 'metadata': {'major_brand': 'mp42', 'minor_version': '0', 'compatible_brands': 'isommp42', 'creation_time': '2015-02-12T22:39:55.000000Z'}, 'inputs': [{'streams': [{'input_number': 0, 'stream_number': 0, 'stream_type': 'video', 'language': None, 'default': True, 'size': [640, 360], 'bitrate': 297, 'fps': 29.97002997002997, 'codec_name': 'h264', 'profile': '(Main)', 'metadata': {'Metadata': '', 'creation_time': '2015-02-12T22:39:55.000000Z', 'handler_name': 'ISO Media file produced by Google Inc. Created on: 02/12/2015.', 'vendor_id': '[0][0][0][0]'}}, {'input_number': 0, 'stream_number': 1, 'stream_type': 'audio', 'language': None, 'default': True, 'fps': 44100, 'bitrate': 125, 'metadata': {'Metadata': '', 'creation_time': '2015-02-12T22:39:55.000000Z', 'handler_name': 'ISO Media file produced by Google Inc. Created on: 02/12/2015.', 'vendor_id': '[0][0][0][0]'}}], 'input_number': 0}], 'duration': 130.08, 'bitrate': 427, 'start': 0.0, 'default_video_input_number': 0, 'default_video_stream_number': 0, 'video_codec_name': 'h264', 'video_profile': '(Main)', 'video_size': [640, 360], 'video_bitrate': 297, 'video_fps': 29.97002997002997, 'default_audio_input_number': 0, 'default_audio_stream_number': 1, 'audio_fps': 44100, 'audio_bitrate': 125, 'video_duration': 130.08, 'video_n_frames': 3898}\n",
      "/home/segus-faultise/Projects/CAB420_GROUP_A/cab420_GROUP_A_ENV/lib/python3.12/site-packages/imageio_ffmpeg/binaries/ffmpeg-linux-x86_64-v7.0.2 -i msasl_clips/temp_260_8.mp4 -loglevel error -f image2pipe -vf scale=640:360 -sws_flags bicubic -pix_fmt rgb24 -vcodec rawvideo -\n"
     ]
    },
    {
     "name": "stderr",
     "output_type": "stream",
     "text": [
      " 97%|██████████████████████████████████████████████████████████████████████████████████████████████████████▊   | 97/100 [06:25<00:10,  3.44s/it]"
     ]
    },
    {
     "name": "stdout",
     "output_type": "stream",
     "text": [
      "Failed to clip video: 'VideoFileClip' object has no attribute 'subclip'\n",
      "{'video_found': True, 'audio_found': True, 'metadata': {'major_brand': 'mp42', 'minor_version': '0', 'compatible_brands': 'isommp42', 'creation_time': '2015-02-12T22:39:55.000000Z'}, 'inputs': [{'streams': [{'input_number': 0, 'stream_number': 0, 'stream_type': 'video', 'language': None, 'default': True, 'size': [640, 360], 'bitrate': 297, 'fps': 29.97002997002997, 'codec_name': 'h264', 'profile': '(Main)', 'metadata': {'Metadata': '', 'creation_time': '2015-02-12T22:39:55.000000Z', 'handler_name': 'ISO Media file produced by Google Inc. Created on: 02/12/2015.', 'vendor_id': '[0][0][0][0]'}}, {'input_number': 0, 'stream_number': 1, 'stream_type': 'audio', 'language': None, 'default': True, 'fps': 44100, 'bitrate': 125, 'metadata': {'Metadata': '', 'creation_time': '2015-02-12T22:39:55.000000Z', 'handler_name': 'ISO Media file produced by Google Inc. Created on: 02/12/2015.', 'vendor_id': '[0][0][0][0]'}}], 'input_number': 0}], 'duration': 130.08, 'bitrate': 427, 'start': 0.0, 'default_video_input_number': 0, 'default_video_stream_number': 0, 'video_codec_name': 'h264', 'video_profile': '(Main)', 'video_size': [640, 360], 'video_bitrate': 297, 'video_fps': 29.97002997002997, 'default_audio_input_number': 0, 'default_audio_stream_number': 1, 'audio_fps': 44100, 'audio_bitrate': 125, 'video_duration': 130.08, 'video_n_frames': 3898}\n",
      "/home/segus-faultise/Projects/CAB420_GROUP_A/cab420_GROUP_A_ENV/lib/python3.12/site-packages/imageio_ffmpeg/binaries/ffmpeg-linux-x86_64-v7.0.2 -i msasl_clips/temp_85_8.mp4 -loglevel error -f image2pipe -vf scale=640:360 -sws_flags bicubic -pix_fmt rgb24 -vcodec rawvideo -\n"
     ]
    },
    {
     "name": "stderr",
     "output_type": "stream",
     "text": [
      " 98%|███████████████████████████████████████████████████████████████████████████████████████████████████████▉  | 98/100 [06:28<00:06,  3.42s/it]"
     ]
    },
    {
     "name": "stdout",
     "output_type": "stream",
     "text": [
      "Failed to clip video: 'VideoFileClip' object has no attribute 'subclip'\n",
      "{'video_found': True, 'audio_found': True, 'metadata': {'major_brand': 'mp42', 'minor_version': '0', 'compatible_brands': 'isommp42', 'creation_time': '2015-02-12T22:39:55.000000Z'}, 'inputs': [{'streams': [{'input_number': 0, 'stream_number': 0, 'stream_type': 'video', 'language': None, 'default': True, 'size': [640, 360], 'bitrate': 297, 'fps': 29.97002997002997, 'codec_name': 'h264', 'profile': '(Main)', 'metadata': {'Metadata': '', 'creation_time': '2015-02-12T22:39:55.000000Z', 'handler_name': 'ISO Media file produced by Google Inc. Created on: 02/12/2015.', 'vendor_id': '[0][0][0][0]'}}, {'input_number': 0, 'stream_number': 1, 'stream_type': 'audio', 'language': None, 'default': True, 'fps': 44100, 'bitrate': 125, 'metadata': {'Metadata': '', 'creation_time': '2015-02-12T22:39:55.000000Z', 'handler_name': 'ISO Media file produced by Google Inc. Created on: 02/12/2015.', 'vendor_id': '[0][0][0][0]'}}], 'input_number': 0}], 'duration': 130.08, 'bitrate': 427, 'start': 0.0, 'default_video_input_number': 0, 'default_video_stream_number': 0, 'video_codec_name': 'h264', 'video_profile': '(Main)', 'video_size': [640, 360], 'video_bitrate': 297, 'video_fps': 29.97002997002997, 'default_audio_input_number': 0, 'default_audio_stream_number': 1, 'audio_fps': 44100, 'audio_bitrate': 125, 'video_duration': 130.08, 'video_n_frames': 3898}\n",
      "/home/segus-faultise/Projects/CAB420_GROUP_A/cab420_GROUP_A_ENV/lib/python3.12/site-packages/imageio_ffmpeg/binaries/ffmpeg-linux-x86_64-v7.0.2 -i msasl_clips/temp_159_8.mp4 -loglevel error -f image2pipe -vf scale=640:360 -sws_flags bicubic -pix_fmt rgb24 -vcodec rawvideo -\n"
     ]
    },
    {
     "name": "stderr",
     "output_type": "stream",
     "text": [
      " 99%|████████████████████████████████████████████████████████████████████████████████████████████████████████▉ | 99/100 [06:32<00:03,  3.48s/it]"
     ]
    },
    {
     "name": "stdout",
     "output_type": "stream",
     "text": [
      "Failed to clip video: 'VideoFileClip' object has no attribute 'subclip'\n",
      "{'video_found': True, 'audio_found': True, 'metadata': {'major_brand': 'mp42', 'minor_version': '0', 'compatible_brands': 'isommp42', 'creation_time': '2015-02-12T22:39:55.000000Z'}, 'inputs': [{'streams': [{'input_number': 0, 'stream_number': 0, 'stream_type': 'video', 'language': None, 'default': True, 'size': [640, 360], 'bitrate': 297, 'fps': 29.97002997002997, 'codec_name': 'h264', 'profile': '(Main)', 'metadata': {'Metadata': '', 'creation_time': '2015-02-12T22:39:55.000000Z', 'handler_name': 'ISO Media file produced by Google Inc. Created on: 02/12/2015.', 'vendor_id': '[0][0][0][0]'}}, {'input_number': 0, 'stream_number': 1, 'stream_type': 'audio', 'language': None, 'default': True, 'fps': 44100, 'bitrate': 125, 'metadata': {'Metadata': '', 'creation_time': '2015-02-12T22:39:55.000000Z', 'handler_name': 'ISO Media file produced by Google Inc. Created on: 02/12/2015.', 'vendor_id': '[0][0][0][0]'}}], 'input_number': 0}], 'duration': 130.08, 'bitrate': 427, 'start': 0.0, 'default_video_input_number': 0, 'default_video_stream_number': 0, 'video_codec_name': 'h264', 'video_profile': '(Main)', 'video_size': [640, 360], 'video_bitrate': 297, 'video_fps': 29.97002997002997, 'default_audio_input_number': 0, 'default_audio_stream_number': 1, 'audio_fps': 44100, 'audio_bitrate': 125, 'video_duration': 130.08, 'video_n_frames': 3898}\n",
      "/home/segus-faultise/Projects/CAB420_GROUP_A/cab420_GROUP_A_ENV/lib/python3.12/site-packages/imageio_ffmpeg/binaries/ffmpeg-linux-x86_64-v7.0.2 -i msasl_clips/temp_118_8.mp4 -loglevel error -f image2pipe -vf scale=640:360 -sws_flags bicubic -pix_fmt rgb24 -vcodec rawvideo -\n"
     ]
    },
    {
     "name": "stderr",
     "output_type": "stream",
     "text": [
      "100%|█████████████████████████████████████████████████████████████████████████████████████████████████████████| 100/100 [06:35<00:00,  3.96s/it]"
     ]
    },
    {
     "name": "stdout",
     "output_type": "stream",
     "text": [
      "Failed to clip video: 'VideoFileClip' object has no attribute 'subclip'\n"
     ]
    },
    {
     "name": "stderr",
     "output_type": "stream",
     "text": [
      "\n"
     ]
    }
   ],
   "source": [
    "downloaded = []\n",
    "\n",
    "for sample in tqdm(train_data[:100]): \n",
    "    path = download_and_trim_video(sample, OUTPUT_DIR)\n",
    "    if path:\n",
    "        downloaded.append(path)\n",
    "    if len(downloaded) >= 10:\n",
    "        break"
   ]
  },
  {
   "cell_type": "code",
   "execution_count": 15,
   "id": "8af5b52b-c702-4c06-a072-bf8aeecb9383",
   "metadata": {},
   "outputs": [
    {
     "data": {
      "text/html": [
       "\n",
       "    <video width=\"400\" height=\"300\" controls>\n",
       "      <source src=\"./msasl_clips/temp_2_144.mp4\" type=\"video/mp4\">\n",
       "      Your browser does not support the video tag.\n",
       "    </video>\n",
       "    "
      ],
      "text/plain": [
       "<IPython.core.display.HTML object>"
      ]
     },
     "execution_count": 15,
     "metadata": {},
     "output_type": "execute_result"
    }
   ],
   "source": [
    "from IPython.display import HTML\n",
    "\n",
    "def display_video(path, width=400, height=300):\n",
    "    return HTML(f\"\"\"\n",
    "    <video width=\"{width}\" height=\"{height}\" controls>\n",
    "      <source src=\"{path}\" type=\"video/mp4\">\n",
    "      Your browser does not support the video tag.\n",
    "    </video>\n",
    "    \"\"\")\n",
    "\n",
    "display_video(\"./msasl_clips/temp_2_144.mp4\")"
   ]
  },
  {
   "cell_type": "code",
   "execution_count": 16,
   "id": "d5065598-cac8-4eae-b45b-19e4863d9b26",
   "metadata": {},
   "outputs": [
    {
     "ename": "ModuleNotFoundError",
     "evalue": "No module named 'cv2'",
     "output_type": "error",
     "traceback": [
      "\u001b[31m---------------------------------------------------------------------------\u001b[39m",
      "\u001b[31mModuleNotFoundError\u001b[39m                       Traceback (most recent call last)",
      "\u001b[36mCell\u001b[39m\u001b[36m \u001b[39m\u001b[32mIn[16]\u001b[39m\u001b[32m, line 1\u001b[39m\n\u001b[32m----> \u001b[39m\u001b[32m1\u001b[39m \u001b[38;5;28;01mimport\u001b[39;00m\u001b[38;5;250m \u001b[39m\u001b[34;01mcv2\u001b[39;00m\n\u001b[32m      2\u001b[39m \u001b[38;5;28;01mimport\u001b[39;00m\u001b[38;5;250m \u001b[39m\u001b[34;01mnumpy\u001b[39;00m\u001b[38;5;250m \u001b[39m\u001b[38;5;28;01mas\u001b[39;00m\u001b[38;5;250m \u001b[39m\u001b[34;01mnp\u001b[39;00m\n\u001b[32m      3\u001b[39m \u001b[38;5;28;01mimport\u001b[39;00m\u001b[38;5;250m \u001b[39m\u001b[34;01mtorch\u001b[39;00m\n",
      "\u001b[31mModuleNotFoundError\u001b[39m: No module named 'cv2'"
     ]
    }
   ],
   "source": [
    "import cv2\n",
    "import numpy as np\n",
    "import torch\n",
    "from torchvision import transforms\n",
    "from pathlib import Path\n",
    "\n",
    "FRAME_COUNT = 16\n",
    "FRAME_SIZE = 224  # width/height\n",
    "\n",
    "video_dir = Path(\"videos\")  # where your .mp4 files are\n",
    "\n",
    "transform = transforms.Compose([\n",
    "    transforms.ToPILImage(),\n",
    "    transforms.Resize((FRAME_SIZE, FRAME_SIZE)),\n",
    "    transforms.ToTensor(),  # Converts to [0, 1] and puts channel first\n",
    "])\n",
    "\n",
    "def load_video_frames(path, num_frames=FRAME_COUNT):\n",
    "    cap = cv2.VideoCapture(str(path))\n",
    "    total_frames = int(cap.get(cv2.CAP_PROP_FRAME_COUNT))\n",
    "\n",
    "    if total_frames < num_frames:\n",
    "        indices = np.linspace(0, total_frames - 1, total_frames).astype(int)\n",
    "    else:\n",
    "        indices = np.linspace(0, total_frames - 1, num_frames).astype(int)\n",
    "\n",
    "    frames = []\n",
    "    for i in range(total_frames):\n",
    "        ret, frame = cap.read()\n",
    "        if not ret:\n",
    "            break\n",
    "        if i in indices:\n",
    "            frame = cv2.cvtColor(frame, cv2.COLOR_BGR2RGB)\n",
    "            frame = transform(frame)\n",
    "            frames.append(frame)\n",
    "\n",
    "    cap.release()\n",
    "\n",
    "    if len(frames) < num_frames:\n",
    "        # Pad with last frame if too short\n",
    "        while len(frames) < num_frames:\n",
    "            frames.append(frames[-1])\n",
    "    return torch.stack(frames)  # Shape: (T, C, H, W)"
   ]
  },
  {
   "cell_type": "code",
   "execution_count": null,
   "id": "d5786b57-e872-4e78-bb5d-6daf6a8cab1f",
   "metadata": {},
   "outputs": [],
   "source": [
    "video_path = video_dir / \"0001.mp4\"\n",
    "frames_tensor = load_video_frames(video_path) "
   ]
  }
 ],
 "metadata": {
  "kernelspec": {
   "display_name": "Python 3 (ipykernel)",
   "language": "python",
   "name": "python3"
  },
  "language_info": {
   "codemirror_mode": {
    "name": "ipython",
    "version": 3
   },
   "file_extension": ".py",
   "mimetype": "text/x-python",
   "name": "python",
   "nbconvert_exporter": "python",
   "pygments_lexer": "ipython3",
   "version": "3.12.3"
  }
 },
 "nbformat": 4,
 "nbformat_minor": 5
}
