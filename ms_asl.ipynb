{
 "cells": [
  {
   "cell_type": "code",
   "execution_count": 1,
   "id": "5ba06037-20c1-400d-97ed-1eb8780b1bb4",
   "metadata": {},
   "outputs": [],
   "source": [
    "MSASL_TRAIN_PATH = \"./MS-ASL/MSASL_train.json\"\n",
    "MSASL_VAL_PATH = \"./MS-ASL/MSASL_val.json\"\n",
    "MSASL_TEST_PATH = \"./MS-ASL/MSASL_test.json\"\n",
    "MSASL_CLASSES_PATH = \"./MS-ASL/MSASL_classes.json\""
   ]
  },
  {
   "cell_type": "code",
   "execution_count": 2,
   "id": "9ee76477-9eaa-499c-b73f-a0713c4cd75d",
   "metadata": {},
   "outputs": [],
   "source": [
    "import json\n",
    "import pandas as pd\n",
    "\n",
    "with open(MSASL_TRAIN_PATH) as f:\n",
    "    train_data = json.load(f)\n",
    "\n",
    "with open(MSASL_VAL_PATH) as f:\n",
    "    val_data = json.load(f)\n",
    "\n",
    "with open(MSASL_TEST_PATH) as f:\n",
    "    test_data = json.load(f)\n",
    "    \n",
    "with open(MSASL_CLASSES_PATH) as f:\n",
    "    class_data = json.load(f)\n",
    "\n",
    "train_df = pd.DataFrame(train_data)\n",
    "val_df = pd.DataFrame(val_data)\n",
    "test_df = pd.DataFrame(test_data)\n",
    "class_df = pd.DataFrame(class_data)\n",
    "\n",
    "class_df.columns = ['label_name']\n",
    "class_df['label'] = class_df.index\n",
    "\n",
    "train_df = train_df.merge(class_df, how='left', on='label')\n",
    "val_df = val_df.merge(class_df, how='left', on='label')\n",
    "test_df = test_df.merge(class_df, how='left', on='label')"
   ]
  },
  {
   "cell_type": "code",
   "execution_count": 3,
   "id": "c3a80254-efba-4d9d-a0f7-43b0b76cfdf0",
   "metadata": {},
   "outputs": [
    {
     "data": {
      "text/html": [
       "<div>\n",
       "<style scoped>\n",
       "    .dataframe tbody tr th:only-of-type {\n",
       "        vertical-align: middle;\n",
       "    }\n",
       "\n",
       "    .dataframe tbody tr th {\n",
       "        vertical-align: top;\n",
       "    }\n",
       "\n",
       "    .dataframe thead th {\n",
       "        text-align: right;\n",
       "    }\n",
       "</style>\n",
       "<table border=\"1\" class=\"dataframe\">\n",
       "  <thead>\n",
       "    <tr style=\"text-align: right;\">\n",
       "      <th></th>\n",
       "      <th>org_text</th>\n",
       "      <th>clean_text</th>\n",
       "      <th>start_time</th>\n",
       "      <th>signer_id</th>\n",
       "      <th>signer</th>\n",
       "      <th>start</th>\n",
       "      <th>end</th>\n",
       "      <th>file</th>\n",
       "      <th>label</th>\n",
       "      <th>height</th>\n",
       "      <th>fps</th>\n",
       "      <th>end_time</th>\n",
       "      <th>url</th>\n",
       "      <th>text</th>\n",
       "      <th>box</th>\n",
       "      <th>width</th>\n",
       "      <th>review</th>\n",
       "      <th>label_name</th>\n",
       "    </tr>\n",
       "  </thead>\n",
       "  <tbody>\n",
       "    <tr>\n",
       "      <th>0</th>\n",
       "      <td>match [light-a-MATCH]</td>\n",
       "      <td>match</td>\n",
       "      <td>0.000</td>\n",
       "      <td>0</td>\n",
       "      <td>0</td>\n",
       "      <td>0</td>\n",
       "      <td>83</td>\n",
       "      <td>match light-a-MATCH</td>\n",
       "      <td>830</td>\n",
       "      <td>360.0</td>\n",
       "      <td>30.000</td>\n",
       "      <td>2.767</td>\n",
       "      <td>https://www.youtube.com/watch?v=C37R_Ix8-qs</td>\n",
       "      <td>match</td>\n",
       "      <td>[0.05754461884498596, 0.21637457609176636, 1.0...</td>\n",
       "      <td>640.0</td>\n",
       "      <td>NaN</td>\n",
       "      <td>match</td>\n",
       "    </tr>\n",
       "    <tr>\n",
       "      <th>1</th>\n",
       "      <td>FAIL</td>\n",
       "      <td>fail</td>\n",
       "      <td>0.000</td>\n",
       "      <td>0</td>\n",
       "      <td>-1</td>\n",
       "      <td>0</td>\n",
       "      <td>74</td>\n",
       "      <td>FAIL</td>\n",
       "      <td>542</td>\n",
       "      <td>360.0</td>\n",
       "      <td>25.000</td>\n",
       "      <td>2.960</td>\n",
       "      <td>https://www.youtube.com/watch?v=PIsUJl8BN_I</td>\n",
       "      <td>fail</td>\n",
       "      <td>[0.0657794177532196, 0.16717177629470825, 0.93...</td>\n",
       "      <td>480.0</td>\n",
       "      <td>NaN</td>\n",
       "      <td>fail</td>\n",
       "    </tr>\n",
       "    <tr>\n",
       "      <th>2</th>\n",
       "      <td>laugh</td>\n",
       "      <td>laugh</td>\n",
       "      <td>0.000</td>\n",
       "      <td>4</td>\n",
       "      <td>26</td>\n",
       "      <td>0</td>\n",
       "      <td>31</td>\n",
       "      <td>SignSchool Laugh with Legs 2</td>\n",
       "      <td>312</td>\n",
       "      <td>360.0</td>\n",
       "      <td>29.970</td>\n",
       "      <td>1.034</td>\n",
       "      <td>www.youtube.com/watch?v=9FdHlMOnVjg</td>\n",
       "      <td>laugh</td>\n",
       "      <td>[0.13188594579696655, 0.32334136962890625, 1.0...</td>\n",
       "      <td>640.0</td>\n",
       "      <td>NaN</td>\n",
       "      <td>laugh</td>\n",
       "    </tr>\n",
       "    <tr>\n",
       "      <th>3</th>\n",
       "      <td>BOOK</td>\n",
       "      <td>book</td>\n",
       "      <td>0.000</td>\n",
       "      <td>0</td>\n",
       "      <td>-1</td>\n",
       "      <td>0</td>\n",
       "      <td>66</td>\n",
       "      <td>BOOK(3)</td>\n",
       "      <td>38</td>\n",
       "      <td>360.0</td>\n",
       "      <td>25.000</td>\n",
       "      <td>2.640</td>\n",
       "      <td>https://www.youtube.com/watch?v=J7tP98oDxqE</td>\n",
       "      <td>book</td>\n",
       "      <td>[0.05569887161254883, 0.25173279643058777, 0.9...</td>\n",
       "      <td>480.0</td>\n",
       "      <td>NaN</td>\n",
       "      <td>book</td>\n",
       "    </tr>\n",
       "    <tr>\n",
       "      <th>4</th>\n",
       "      <td>sign-language</td>\n",
       "      <td>sign language</td>\n",
       "      <td>0.000</td>\n",
       "      <td>0</td>\n",
       "      <td>-1</td>\n",
       "      <td>0</td>\n",
       "      <td>75</td>\n",
       "      <td>SIGN-LANGUAGE-S-CLAW-F</td>\n",
       "      <td>848</td>\n",
       "      <td>360.0</td>\n",
       "      <td>29.970</td>\n",
       "      <td>2.502</td>\n",
       "      <td>www.youtube.com/watch?v=N2mG9ZKjrGA</td>\n",
       "      <td>sign language</td>\n",
       "      <td>[0.03904399275779724, 0.24198183417320251, 1.0...</td>\n",
       "      <td>640.0</td>\n",
       "      <td>NaN</td>\n",
       "      <td>sign language</td>\n",
       "    </tr>\n",
       "    <tr>\n",
       "      <th>...</th>\n",
       "      <td>...</td>\n",
       "      <td>...</td>\n",
       "      <td>...</td>\n",
       "      <td>...</td>\n",
       "      <td>...</td>\n",
       "      <td>...</td>\n",
       "      <td>...</td>\n",
       "      <td>...</td>\n",
       "      <td>...</td>\n",
       "      <td>...</td>\n",
       "      <td>...</td>\n",
       "      <td>...</td>\n",
       "      <td>...</td>\n",
       "      <td>...</td>\n",
       "      <td>...</td>\n",
       "      <td>...</td>\n",
       "      <td>...</td>\n",
       "      <td>...</td>\n",
       "    </tr>\n",
       "    <tr>\n",
       "      <th>16049</th>\n",
       "      <td>WRITE</td>\n",
       "      <td>write</td>\n",
       "      <td>539.939</td>\n",
       "      <td>32</td>\n",
       "      <td>17</td>\n",
       "      <td>16182</td>\n",
       "      <td>16301</td>\n",
       "      <td>ASL 1 Unit 1 Vocabulary</td>\n",
       "      <td>53</td>\n",
       "      <td>360.0</td>\n",
       "      <td>29.970</td>\n",
       "      <td>543.910</td>\n",
       "      <td>https://www.youtube.com/watch?v=fNg_sJ9f8EI</td>\n",
       "      <td>write</td>\n",
       "      <td>[0.03217703104019165, 0.3161315321922302, 1.0,...</td>\n",
       "      <td>640.0</td>\n",
       "      <td>NaN</td>\n",
       "      <td>write</td>\n",
       "    </tr>\n",
       "    <tr>\n",
       "      <th>16050</th>\n",
       "      <td>hot</td>\n",
       "      <td>hot</td>\n",
       "      <td>0.000</td>\n",
       "      <td>2</td>\n",
       "      <td>42</td>\n",
       "      <td>0</td>\n",
       "      <td>127</td>\n",
       "      <td>Hot</td>\n",
       "      <td>135</td>\n",
       "      <td>360.0</td>\n",
       "      <td>29.657</td>\n",
       "      <td>4.282</td>\n",
       "      <td>https://www.youtube.com/watch?v=MkXUHhsMAns</td>\n",
       "      <td>hot</td>\n",
       "      <td>[0.00036713480949401855, 0.20649650692939758, ...</td>\n",
       "      <td>640.0</td>\n",
       "      <td>NaN</td>\n",
       "      <td>hot</td>\n",
       "    </tr>\n",
       "    <tr>\n",
       "      <th>16051</th>\n",
       "      <td>hi</td>\n",
       "      <td>hi</td>\n",
       "      <td>0.000</td>\n",
       "      <td>0</td>\n",
       "      <td>0</td>\n",
       "      <td>0</td>\n",
       "      <td>47</td>\n",
       "      <td>Hi</td>\n",
       "      <td>379</td>\n",
       "      <td>360.0</td>\n",
       "      <td>29.970</td>\n",
       "      <td>1.568</td>\n",
       "      <td>www.youtube.com/watch?v=rhfJGeMDMzQ</td>\n",
       "      <td>hi</td>\n",
       "      <td>[0.013705313205718994, 0.17314371466636658, 1....</td>\n",
       "      <td>640.0</td>\n",
       "      <td>NaN</td>\n",
       "      <td>hi</td>\n",
       "    </tr>\n",
       "    <tr>\n",
       "      <th>16052</th>\n",
       "      <td>Learn</td>\n",
       "      <td>learn</td>\n",
       "      <td>0.000</td>\n",
       "      <td>135</td>\n",
       "      <td>-1</td>\n",
       "      <td>0</td>\n",
       "      <td>104</td>\n",
       "      <td>ASL Learn</td>\n",
       "      <td>22</td>\n",
       "      <td>360.0</td>\n",
       "      <td>30.000</td>\n",
       "      <td>3.467</td>\n",
       "      <td>https://www.youtube.com/watch?v=n-b2NMAwk28</td>\n",
       "      <td>learn</td>\n",
       "      <td>[0.18269836902618408, 0.19255371391773224, 1.0...</td>\n",
       "      <td>480.0</td>\n",
       "      <td>NaN</td>\n",
       "      <td>learn</td>\n",
       "    </tr>\n",
       "    <tr>\n",
       "      <th>16053</th>\n",
       "      <td>accountant</td>\n",
       "      <td>accountant</td>\n",
       "      <td>0.000</td>\n",
       "      <td>2</td>\n",
       "      <td>81</td>\n",
       "      <td>0</td>\n",
       "      <td>156</td>\n",
       "      <td>Accountant</td>\n",
       "      <td>777</td>\n",
       "      <td>360.0</td>\n",
       "      <td>29.658</td>\n",
       "      <td>5.260</td>\n",
       "      <td>https://www.youtube.com/watch?v=YwF_2ko6RxQ</td>\n",
       "      <td>accountant</td>\n",
       "      <td>[0.0, 0.20838260650634766, 1.0, 0.855440020561...</td>\n",
       "      <td>640.0</td>\n",
       "      <td>NaN</td>\n",
       "      <td>accountant</td>\n",
       "    </tr>\n",
       "  </tbody>\n",
       "</table>\n",
       "<p>16054 rows × 18 columns</p>\n",
       "</div>"
      ],
      "text/plain": [
       "                    org_text     clean_text  start_time  signer_id  signer  \\\n",
       "0      match [light-a-MATCH]          match       0.000          0       0   \n",
       "1                       FAIL           fail       0.000          0      -1   \n",
       "2                      laugh          laugh       0.000          4      26   \n",
       "3                       BOOK           book       0.000          0      -1   \n",
       "4              sign-language  sign language       0.000          0      -1   \n",
       "...                      ...            ...         ...        ...     ...   \n",
       "16049                  WRITE          write     539.939         32      17   \n",
       "16050                    hot            hot       0.000          2      42   \n",
       "16051                     hi             hi       0.000          0       0   \n",
       "16052                 Learn           learn       0.000        135      -1   \n",
       "16053             accountant     accountant       0.000          2      81   \n",
       "\n",
       "       start    end                          file  label  height     fps  \\\n",
       "0          0     83           match light-a-MATCH    830   360.0  30.000   \n",
       "1          0     74                          FAIL    542   360.0  25.000   \n",
       "2          0     31  SignSchool Laugh with Legs 2    312   360.0  29.970   \n",
       "3          0     66                       BOOK(3)     38   360.0  25.000   \n",
       "4          0     75        SIGN-LANGUAGE-S-CLAW-F    848   360.0  29.970   \n",
       "...      ...    ...                           ...    ...     ...     ...   \n",
       "16049  16182  16301       ASL 1 Unit 1 Vocabulary     53   360.0  29.970   \n",
       "16050      0    127                           Hot    135   360.0  29.657   \n",
       "16051      0     47                            Hi    379   360.0  29.970   \n",
       "16052      0    104                    ASL Learn      22   360.0  30.000   \n",
       "16053      0    156                    Accountant    777   360.0  29.658   \n",
       "\n",
       "       end_time                                          url           text  \\\n",
       "0         2.767  https://www.youtube.com/watch?v=C37R_Ix8-qs          match   \n",
       "1         2.960  https://www.youtube.com/watch?v=PIsUJl8BN_I           fail   \n",
       "2         1.034          www.youtube.com/watch?v=9FdHlMOnVjg          laugh   \n",
       "3         2.640  https://www.youtube.com/watch?v=J7tP98oDxqE           book   \n",
       "4         2.502          www.youtube.com/watch?v=N2mG9ZKjrGA  sign language   \n",
       "...         ...                                          ...            ...   \n",
       "16049   543.910  https://www.youtube.com/watch?v=fNg_sJ9f8EI          write   \n",
       "16050     4.282  https://www.youtube.com/watch?v=MkXUHhsMAns            hot   \n",
       "16051     1.568          www.youtube.com/watch?v=rhfJGeMDMzQ             hi   \n",
       "16052     3.467  https://www.youtube.com/watch?v=n-b2NMAwk28          learn   \n",
       "16053     5.260  https://www.youtube.com/watch?v=YwF_2ko6RxQ     accountant   \n",
       "\n",
       "                                                     box  width  review  \\\n",
       "0      [0.05754461884498596, 0.21637457609176636, 1.0...  640.0     NaN   \n",
       "1      [0.0657794177532196, 0.16717177629470825, 0.93...  480.0     NaN   \n",
       "2      [0.13188594579696655, 0.32334136962890625, 1.0...  640.0     NaN   \n",
       "3      [0.05569887161254883, 0.25173279643058777, 0.9...  480.0     NaN   \n",
       "4      [0.03904399275779724, 0.24198183417320251, 1.0...  640.0     NaN   \n",
       "...                                                  ...    ...     ...   \n",
       "16049  [0.03217703104019165, 0.3161315321922302, 1.0,...  640.0     NaN   \n",
       "16050  [0.00036713480949401855, 0.20649650692939758, ...  640.0     NaN   \n",
       "16051  [0.013705313205718994, 0.17314371466636658, 1....  640.0     NaN   \n",
       "16052  [0.18269836902618408, 0.19255371391773224, 1.0...  480.0     NaN   \n",
       "16053  [0.0, 0.20838260650634766, 1.0, 0.855440020561...  640.0     NaN   \n",
       "\n",
       "          label_name  \n",
       "0              match  \n",
       "1               fail  \n",
       "2              laugh  \n",
       "3               book  \n",
       "4      sign language  \n",
       "...              ...  \n",
       "16049          write  \n",
       "16050            hot  \n",
       "16051             hi  \n",
       "16052          learn  \n",
       "16053     accountant  \n",
       "\n",
       "[16054 rows x 18 columns]"
      ]
     },
     "execution_count": 3,
     "metadata": {},
     "output_type": "execute_result"
    }
   ],
   "source": [
    "train_df"
   ]
  },
  {
   "cell_type": "code",
   "execution_count": 7,
   "id": "ec5e911d-1818-4672-8d07-15bb30f4c532",
   "metadata": {},
   "outputs": [
    {
     "name": "stdout",
     "output_type": "stream",
     "text": [
      "{'video_found': True, 'audio_found': True, 'metadata': {'major_brand': 'isom', 'minor_version': '512', 'compatible_brands': 'isomiso2avc1mp41', 'encoder': 'Lavf60.16.100'}, 'inputs': [{'streams': [{'input_number': 0, 'stream_number': 0, 'stream_type': 'video', 'language': None, 'default': True, 'size': [1920, 1080], 'bitrate': 1202, 'fps': 30.0, 'codec_name': 'h264', 'profile': '(High)', 'metadata': {'Metadata': '', 'handler_name': 'ISO Media file produced by Google Inc.', 'vendor_id': '[0][0][0][0]'}}, {'input_number': 0, 'stream_number': 1, 'stream_type': 'audio', 'language': 'eng', 'default': True, 'fps': 48000, 'bitrate': 1, 'metadata': {'Metadata': '', 'handler_name': 'SoundHandler', 'vendor_id': '[0][0][0][0]'}}], 'input_number': 0}], 'duration': 2.88, 'bitrate': 1193, 'start': 0.0, 'default_video_input_number': 0, 'default_video_stream_number': 0, 'video_codec_name': 'h264', 'video_profile': '(High)', 'video_size': [1920, 1080], 'video_bitrate': 1202, 'video_fps': 30.0, 'default_audio_input_number': 0, 'default_audio_stream_number': 1, 'audio_fps': 48000, 'audio_bitrate': 1, 'video_duration': 2.88, 'video_n_frames': 86}\n",
      "/home/segus-faultise/Projects/CAB420_GROUP_A/cab420_GROUP_A_ENV/lib/python3.12/site-packages/imageio_ffmpeg/binaries/ffmpeg-linux-x86_64-v7.0.2 -i ./msasl_clips/train/match/match_light-a-MATCH_full.mp4 -loglevel error -f image2pipe -vf scale=1920:1080 -sws_flags bicubic -pix_fmt rgb24 -vcodec rawvideo -\n",
      "Failed to clip ./msasl_clips/train/match/match_light-a-MATCH_full.mp4: 'VideoFileClip' object has no attribute 'subclip'\n",
      "{'video_found': True, 'audio_found': True, 'metadata': {'major_brand': 'isom', 'minor_version': '512', 'compatible_brands': 'isomiso2avc1mp41', 'encoder': 'Lavf60.16.100'}, 'inputs': [{'streams': [{'input_number': 0, 'stream_number': 0, 'stream_type': 'video', 'language': None, 'default': True, 'size': [640, 480], 'bitrate': 299, 'fps': 25.0, 'codec_name': 'h264', 'profile': '(Main)', 'metadata': {'Metadata': '', 'handler_name': 'ISO Media file produced by Google Inc.', 'vendor_id': '[0][0][0][0]'}}, {'input_number': 0, 'stream_number': 1, 'stream_type': 'audio', 'language': 'eng', 'default': True, 'fps': 48000, 'bitrate': 1, 'metadata': {'Metadata': '', 'handler_name': 'SoundHandler', 'vendor_id': '[0][0][0][0]'}}], 'input_number': 0}], 'duration': 3.08, 'bitrate': 303, 'start': 0.0, 'default_video_input_number': 0, 'default_video_stream_number': 0, 'video_codec_name': 'h264', 'video_profile': '(Main)', 'video_size': [640, 480], 'video_bitrate': 299, 'video_fps': 25.0, 'default_audio_input_number': 0, 'default_audio_stream_number': 1, 'audio_fps': 48000, 'audio_bitrate': 1, 'video_duration': 3.08, 'video_n_frames': 77}\n",
      "/home/segus-faultise/Projects/CAB420_GROUP_A/cab420_GROUP_A_ENV/lib/python3.12/site-packages/imageio_ffmpeg/binaries/ffmpeg-linux-x86_64-v7.0.2 -i ./msasl_clips/train/fail/FAIL_full.mp4 -loglevel error -f image2pipe -vf scale=640:480 -sws_flags bicubic -pix_fmt rgb24 -vcodec rawvideo -\n",
      "Failed to clip ./msasl_clips/train/fail/FAIL_full.mp4: 'VideoFileClip' object has no attribute 'subclip'\n"
     ]
    },
    {
     "name": "stderr",
     "output_type": "stream",
     "text": [
      "WARNING: [generic] The url doesn't specify the protocol, trying with http\n",
      "ERROR: [youtube] 9FdHlMOnVjg: Private video. Sign in if you've been granted access to this video. Use --cookies-from-browser or --cookies for the authentication. See  https://github.com/yt-dlp/yt-dlp/wiki/FAQ#how-do-i-pass-cookies-to-yt-dlp  for how to manually pass cookies. Also see  https://github.com/yt-dlp/yt-dlp/wiki/Extractors#exporting-youtube-cookies  for tips on effectively exporting YouTube cookies\n"
     ]
    },
    {
     "name": "stdout",
     "output_type": "stream",
     "text": [
      "Skipping private/unavailable video: www.youtube.com/watch?v=9FdHlMOnVjg\n",
      "{'video_found': True, 'audio_found': True, 'metadata': {'major_brand': 'isom', 'minor_version': '512', 'compatible_brands': 'isomiso2avc1mp41', 'encoder': 'Lavf60.16.100'}, 'inputs': [{'streams': [{'input_number': 0, 'stream_number': 0, 'stream_type': 'video', 'language': None, 'default': True, 'size': [640, 480], 'bitrate': 496, 'fps': 25.0, 'codec_name': 'h264', 'profile': '(Main)', 'metadata': {'Metadata': '', 'handler_name': 'ISO Media file produced by Google Inc.', 'vendor_id': '[0][0][0][0]'}}, {'input_number': 0, 'stream_number': 1, 'stream_type': 'audio', 'language': 'eng', 'default': True, 'fps': 48000, 'bitrate': 1, 'metadata': {'Metadata': '', 'handler_name': 'SoundHandler', 'vendor_id': '[0][0][0][0]'}}], 'input_number': 0}], 'duration': 2.76, 'bitrate': 491, 'start': 0.0, 'default_video_input_number': 0, 'default_video_stream_number': 0, 'video_codec_name': 'h264', 'video_profile': '(Main)', 'video_size': [640, 480], 'video_bitrate': 496, 'video_fps': 25.0, 'default_audio_input_number': 0, 'default_audio_stream_number': 1, 'audio_fps': 48000, 'audio_bitrate': 1, 'video_duration': 2.76, 'video_n_frames': 69}\n",
      "/home/segus-faultise/Projects/CAB420_GROUP_A/cab420_GROUP_A_ENV/lib/python3.12/site-packages/imageio_ffmpeg/binaries/ffmpeg-linux-x86_64-v7.0.2 -i ./msasl_clips/train/book/BOOK(3)_full.mp4 -loglevel error -f image2pipe -vf scale=640:480 -sws_flags bicubic -pix_fmt rgb24 -vcodec rawvideo -\n"
     ]
    },
    {
     "name": "stderr",
     "output_type": "stream",
     "text": [
      "WARNING: [generic] The url doesn't specify the protocol, trying with http\n"
     ]
    },
    {
     "name": "stdout",
     "output_type": "stream",
     "text": [
      "Failed to clip ./msasl_clips/train/book/BOOK(3)_full.mp4: 'VideoFileClip' object has no attribute 'subclip'\n",
      "{'video_found': True, 'audio_found': True, 'metadata': {'major_brand': 'isom', 'minor_version': '512', 'compatible_brands': 'isomiso2avc1mp41', 'encoder': 'Lavf60.16.100'}, 'inputs': [{'streams': [{'input_number': 0, 'stream_number': 0, 'stream_type': 'video', 'language': None, 'default': True, 'size': [1920, 1080], 'bitrate': 1271, 'fps': 29.97002997002997, 'codec_name': 'h264', 'profile': '(High)', 'metadata': {'Metadata': '', 'handler_name': 'ISO Media file produced by Google Inc.', 'vendor_id': '[0][0][0][0]'}}, {'input_number': 0, 'stream_number': 1, 'stream_type': 'audio', 'language': 'eng', 'default': True, 'fps': 48000, 'bitrate': 1, 'metadata': {'Metadata': '', 'handler_name': 'SoundHandler', 'vendor_id': '[0][0][0][0]'}}], 'input_number': 0}], 'duration': 2.62, 'bitrate': 1257, 'start': 0.0, 'default_video_input_number': 0, 'default_video_stream_number': 0, 'video_codec_name': 'h264', 'video_profile': '(High)', 'video_size': [1920, 1080], 'video_bitrate': 1271, 'video_fps': 29.97002997002997, 'default_audio_input_number': 0, 'default_audio_stream_number': 1, 'audio_fps': 48000, 'audio_bitrate': 1, 'video_duration': 2.62, 'video_n_frames': 78}\n",
      "/home/segus-faultise/Projects/CAB420_GROUP_A/cab420_GROUP_A_ENV/lib/python3.12/site-packages/imageio_ffmpeg/binaries/ffmpeg-linux-x86_64-v7.0.2 -i ./msasl_clips/train/sign language/SIGN-LANGUAGE-S-CLAW-F_full.mp4 -loglevel error -f image2pipe -vf scale=1920:1080 -sws_flags bicubic -pix_fmt rgb24 -vcodec rawvideo -\n",
      "Failed to clip ./msasl_clips/train/sign language/SIGN-LANGUAGE-S-CLAW-F_full.mp4: 'VideoFileClip' object has no attribute 'subclip'\n"
     ]
    },
    {
     "name": "stderr",
     "output_type": "stream",
     "text": [
      "ERROR: [youtube] 1AyT77LqJzQ: Video unavailable\n"
     ]
    },
    {
     "name": "stdout",
     "output_type": "stream",
     "text": [
      "Skipping private/unavailable video: https://www.youtube.com/watch?v=1AyT77LqJzQ\n"
     ]
    },
    {
     "name": "stderr",
     "output_type": "stream",
     "text": [
      "ERROR: [youtube] 1AyT77LqJzQ: Video unavailable\n"
     ]
    },
    {
     "name": "stdout",
     "output_type": "stream",
     "text": [
      "Skipping private/unavailable video: https://www.youtube.com/watch?v=1AyT77LqJzQ\n",
      "{'video_found': True, 'audio_found': True, 'metadata': {'major_brand': 'isom', 'minor_version': '512', 'compatible_brands': 'isomiso2avc1mp41', 'encoder': 'Lavf60.16.100'}, 'inputs': [{'streams': [{'input_number': 0, 'stream_number': 0, 'stream_type': 'video', 'language': None, 'default': True, 'size': [1280, 720], 'bitrate': 845, 'fps': 29.59, 'codec_name': 'h264', 'profile': '(Main)', 'metadata': {'Metadata': '', 'handler_name': 'ISO Media file produced by Google Inc.', 'vendor_id': '[0][0][0][0]'}}, {'input_number': 0, 'stream_number': 1, 'stream_type': 'audio', 'language': 'eng', 'default': True, 'fps': 48000, 'bitrate': 1, 'metadata': {'Metadata': '', 'handler_name': 'SoundHandler', 'vendor_id': '[0][0][0][0]'}}], 'input_number': 0}], 'duration': 4.04, 'bitrate': 843, 'start': 0.0, 'default_video_input_number': 0, 'default_video_stream_number': 0, 'video_codec_name': 'h264', 'video_profile': '(Main)', 'video_size': [1280, 720], 'video_bitrate': 845, 'video_fps': 29.59, 'default_audio_input_number': 0, 'default_audio_stream_number': 1, 'audio_fps': 48000, 'audio_bitrate': 1, 'video_duration': 4.04, 'video_n_frames': 119}\n",
      "/home/segus-faultise/Projects/CAB420_GROUP_A/cab420_GROUP_A_ENV/lib/python3.12/site-packages/imageio_ffmpeg/binaries/ffmpeg-linux-x86_64-v7.0.2 -i ./msasl_clips/train/easter/Easter_full.mp4 -loglevel error -f image2pipe -vf scale=1280:720 -sws_flags bicubic -pix_fmt rgb24 -vcodec rawvideo -\n",
      "Failed to clip ./msasl_clips/train/easter/Easter_full.mp4: 'VideoFileClip' object has no attribute 'subclip'\n",
      "{'video_found': True, 'audio_found': True, 'metadata': {'major_brand': 'isom', 'minor_version': '512', 'compatible_brands': 'isomiso2avc1mp41', 'encoder': 'Lavf60.16.100'}, 'inputs': [{'streams': [{'input_number': 0, 'stream_number': 0, 'stream_type': 'video', 'language': None, 'default': True, 'size': [1280, 720], 'bitrate': 640, 'fps': 50.0, 'codec_name': 'h264', 'profile': '(High)', 'metadata': {'Metadata': '', 'handler_name': 'ISO Media file produced by Google Inc.', 'vendor_id': '[0][0][0][0]'}}, {'input_number': 0, 'stream_number': 1, 'stream_type': 'audio', 'language': 'eng', 'default': True, 'fps': 48000, 'bitrate': 121, 'metadata': {'Metadata': '', 'handler_name': 'SoundHandler', 'vendor_id': '[0][0][0][0]'}}], 'input_number': 0}], 'duration': 2.92, 'bitrate': 766, 'start': 0.0, 'default_video_input_number': 0, 'default_video_stream_number': 0, 'video_codec_name': 'h264', 'video_profile': '(High)', 'video_size': [1280, 720], 'video_bitrate': 640, 'video_fps': 50.0, 'default_audio_input_number': 0, 'default_audio_stream_number': 1, 'audio_fps': 48000, 'audio_bitrate': 121, 'video_duration': 2.92, 'video_n_frames': 146}\n",
      "/home/segus-faultise/Projects/CAB420_GROUP_A/cab420_GROUP_A_ENV/lib/python3.12/site-packages/imageio_ffmpeg/binaries/ffmpeg-linux-x86_64-v7.0.2 -i ./msasl_clips/train/bored/ASL_Boring__full.mp4 -loglevel error -f image2pipe -vf scale=1280:720 -sws_flags bicubic -pix_fmt rgb24 -vcodec rawvideo -\n",
      "Failed to clip ./msasl_clips/train/bored/ASL_Boring__full.mp4: 'VideoFileClip' object has no attribute 'subclip'\n"
     ]
    },
    {
     "name": "stderr",
     "output_type": "stream",
     "text": [
      "ERROR: [youtube] cJOyCgIKyeA: Video unavailable\n"
     ]
    },
    {
     "name": "stdout",
     "output_type": "stream",
     "text": [
      "Skipping private/unavailable video: https://www.youtube.com/watch?v=cJOyCgIKyeA\n"
     ]
    },
    {
     "name": "stderr",
     "output_type": "stream",
     "text": [
      "ERROR: [youtube] ri3NrdgfAtE: Private video. Sign in if you've been granted access to this video. Use --cookies-from-browser or --cookies for the authentication. See  https://github.com/yt-dlp/yt-dlp/wiki/FAQ#how-do-i-pass-cookies-to-yt-dlp  for how to manually pass cookies. Also see  https://github.com/yt-dlp/yt-dlp/wiki/Extractors#exporting-youtube-cookies  for tips on effectively exporting YouTube cookies\n",
      "WARNING: [generic] The url doesn't specify the protocol, trying with http\n"
     ]
    },
    {
     "name": "stdout",
     "output_type": "stream",
     "text": [
      "Skipping private/unavailable video: https://www.youtube.com/watch?v=ri3NrdgfAtE\n"
     ]
    },
    {
     "name": "stderr",
     "output_type": "stream",
     "text": [
      "ERROR: [youtube] l31UXgChCS4: Video unavailable\n"
     ]
    },
    {
     "name": "stdout",
     "output_type": "stream",
     "text": [
      "Skipping private/unavailable video: www.youtube.com/watch?v=l31UXgChCS4\n"
     ]
    },
    {
     "name": "stderr",
     "output_type": "stream",
     "text": [
      "ERROR: [youtube] pt9bV_EvcaU: Private video. Sign in if you've been granted access to this video. Use --cookies-from-browser or --cookies for the authentication. See  https://github.com/yt-dlp/yt-dlp/wiki/FAQ#how-do-i-pass-cookies-to-yt-dlp  for how to manually pass cookies. Also see  https://github.com/yt-dlp/yt-dlp/wiki/Extractors#exporting-youtube-cookies  for tips on effectively exporting YouTube cookies\n"
     ]
    },
    {
     "name": "stdout",
     "output_type": "stream",
     "text": [
      "Skipping private/unavailable video: https://www.youtube.com/watch?v=pt9bV_EvcaU\n",
      "{'video_found': True, 'audio_found': True, 'metadata': {'major_brand': 'isom', 'minor_version': '512', 'compatible_brands': 'isomiso2avc1mp41', 'encoder': 'Lavf60.16.100'}, 'inputs': [{'streams': [{'input_number': 0, 'stream_number': 0, 'stream_type': 'video', 'language': None, 'default': True, 'size': [640, 480], 'bitrate': 358, 'fps': 15.0, 'codec_name': 'h264', 'profile': '(Main)', 'metadata': {'Metadata': '', 'handler_name': 'VideoHandler', 'vendor_id': '[0][0][0][0]'}}, {'input_number': 0, 'stream_number': 1, 'stream_type': 'audio', 'language': 'eng', 'default': True, 'fps': 48000, 'bitrate': 1, 'metadata': {'Metadata': '', 'handler_name': 'SoundHandler', 'vendor_id': '[0][0][0][0]'}}], 'input_number': 0}], 'duration': 3.88, 'bitrate': 351, 'start': 0.0, 'default_video_input_number': 0, 'default_video_stream_number': 0, 'video_codec_name': 'h264', 'video_profile': '(Main)', 'video_size': [640, 480], 'video_bitrate': 358, 'video_fps': 15.0, 'default_audio_input_number': 0, 'default_audio_stream_number': 1, 'audio_fps': 48000, 'audio_bitrate': 1, 'video_duration': 3.88, 'video_n_frames': 58}\n",
      "/home/segus-faultise/Projects/CAB420_GROUP_A/cab420_GROUP_A_ENV/lib/python3.12/site-packages/imageio_ffmpeg/binaries/ffmpeg-linux-x86_64-v7.0.2 -i ./msasl_clips/val/language/LANGUAGE(3)_full.mp4 -loglevel error -f image2pipe -vf scale=640:480 -sws_flags bicubic -pix_fmt rgb24 -vcodec rawvideo -\n",
      "Failed to clip ./msasl_clips/val/language/LANGUAGE(3)_full.mp4: 'VideoFileClip' object has no attribute 'subclip'\n"
     ]
    },
    {
     "name": "stderr",
     "output_type": "stream",
     "text": [
      "ERROR: [youtube] y8tHmOQcCwU: Video unavailable. This video is no longer available because the YouTube account associated with this video has been terminated.\n",
      "WARNING: [generic] The url doesn't specify the protocol, trying with http\n"
     ]
    },
    {
     "name": "stdout",
     "output_type": "stream",
     "text": [
      "Skipping private/unavailable video: https://www.youtube.com/watch?v=y8tHmOQcCwU\n"
     ]
    },
    {
     "name": "stderr",
     "output_type": "stream",
     "text": [
      "ERROR: [youtube] lsPdSIbEPSk: Video unavailable\n",
      "WARNING: [generic] The url doesn't specify the protocol, trying with http\n"
     ]
    },
    {
     "name": "stdout",
     "output_type": "stream",
     "text": [
      "Skipping private/unavailable video: www.youtube.com/watch?v=lsPdSIbEPSk\n"
     ]
    },
    {
     "name": "stderr",
     "output_type": "stream",
     "text": [
      "ERROR: [youtube] mJVC9oI13Lo: Private video. Sign in if you've been granted access to this video. Use --cookies-from-browser or --cookies for the authentication. See  https://github.com/yt-dlp/yt-dlp/wiki/FAQ#how-do-i-pass-cookies-to-yt-dlp  for how to manually pass cookies. Also see  https://github.com/yt-dlp/yt-dlp/wiki/Extractors#exporting-youtube-cookies  for tips on effectively exporting YouTube cookies\n",
      "WARNING: [generic] The url doesn't specify the protocol, trying with http\n"
     ]
    },
    {
     "name": "stdout",
     "output_type": "stream",
     "text": [
      "Skipping private/unavailable video: www.youtube.com/watch?v=mJVC9oI13Lo\n"
     ]
    },
    {
     "name": "stderr",
     "output_type": "stream",
     "text": [
      "ERROR: [youtube] O_vG7MMoSLE: Private video. Sign in if you've been granted access to this video. Use --cookies-from-browser or --cookies for the authentication. See  https://github.com/yt-dlp/yt-dlp/wiki/FAQ#how-do-i-pass-cookies-to-yt-dlp  for how to manually pass cookies. Also see  https://github.com/yt-dlp/yt-dlp/wiki/Extractors#exporting-youtube-cookies  for tips on effectively exporting YouTube cookies\n"
     ]
    },
    {
     "name": "stdout",
     "output_type": "stream",
     "text": [
      "Skipping private/unavailable video: www.youtube.com/watch?v=O_vG7MMoSLE\n"
     ]
    },
    {
     "name": "stderr",
     "output_type": "stream",
     "text": [
      "ERROR: [youtube] Rfnpk9fqpGI: Video unavailable\n"
     ]
    },
    {
     "name": "stdout",
     "output_type": "stream",
     "text": [
      "Skipping private/unavailable video: https://www.youtube.com/watch?v=Rfnpk9fqpGI\n"
     ]
    },
    {
     "name": "stderr",
     "output_type": "stream",
     "text": [
      "ERROR: [youtube] y2dUggxpTIY: Private video. Sign in if you've been granted access to this video. Use --cookies-from-browser or --cookies for the authentication. See  https://github.com/yt-dlp/yt-dlp/wiki/FAQ#how-do-i-pass-cookies-to-yt-dlp  for how to manually pass cookies. Also see  https://github.com/yt-dlp/yt-dlp/wiki/Extractors#exporting-youtube-cookies  for tips on effectively exporting YouTube cookies\n",
      "WARNING: [generic] The url doesn't specify the protocol, trying with http\n"
     ]
    },
    {
     "name": "stdout",
     "output_type": "stream",
     "text": [
      "Skipping private/unavailable video: https://www.youtube.com/watch?v=y2dUggxpTIY\n"
     ]
    },
    {
     "name": "stderr",
     "output_type": "stream",
     "text": [
      "ERROR: [youtube] wX78EPtSuzU: Private video. Sign in if you've been granted access to this video. Use --cookies-from-browser or --cookies for the authentication. See  https://github.com/yt-dlp/yt-dlp/wiki/FAQ#how-do-i-pass-cookies-to-yt-dlp  for how to manually pass cookies. Also see  https://github.com/yt-dlp/yt-dlp/wiki/Extractors#exporting-youtube-cookies  for tips on effectively exporting YouTube cookies\n",
      "WARNING: [generic] The url doesn't specify the protocol, trying with http\n"
     ]
    },
    {
     "name": "stdout",
     "output_type": "stream",
     "text": [
      "Skipping private/unavailable video: www.youtube.com/watch?v=wX78EPtSuzU\n"
     ]
    },
    {
     "name": "stderr",
     "output_type": "stream",
     "text": [
      "ERROR: [youtube] OL02Odh2dRg: Private video. Sign in if you've been granted access to this video. Use --cookies-from-browser or --cookies for the authentication. See  https://github.com/yt-dlp/yt-dlp/wiki/FAQ#how-do-i-pass-cookies-to-yt-dlp  for how to manually pass cookies. Also see  https://github.com/yt-dlp/yt-dlp/wiki/Extractors#exporting-youtube-cookies  for tips on effectively exporting YouTube cookies\n",
      "WARNING: [generic] The url doesn't specify the protocol, trying with http\n"
     ]
    },
    {
     "name": "stdout",
     "output_type": "stream",
     "text": [
      "Skipping private/unavailable video: www.youtube.com/watch?v=OL02Odh2dRg\n"
     ]
    },
    {
     "name": "stderr",
     "output_type": "stream",
     "text": [
      "ERROR: [youtube] C59jcSo4fEI: Private video. Sign in if you've been granted access to this video. Use --cookies-from-browser or --cookies for the authentication. See  https://github.com/yt-dlp/yt-dlp/wiki/FAQ#how-do-i-pass-cookies-to-yt-dlp  for how to manually pass cookies. Also see  https://github.com/yt-dlp/yt-dlp/wiki/Extractors#exporting-youtube-cookies  for tips on effectively exporting YouTube cookies\n",
      "WARNING: [generic] The url doesn't specify the protocol, trying with http\n"
     ]
    },
    {
     "name": "stdout",
     "output_type": "stream",
     "text": [
      "Skipping private/unavailable video: www.youtube.com/watch?v=C59jcSo4fEI\n"
     ]
    },
    {
     "name": "stderr",
     "output_type": "stream",
     "text": [
      "ERROR: [youtube] Qs2ua1S6tg0: Private video. Sign in if you've been granted access to this video. Use --cookies-from-browser or --cookies for the authentication. See  https://github.com/yt-dlp/yt-dlp/wiki/FAQ#how-do-i-pass-cookies-to-yt-dlp  for how to manually pass cookies. Also see  https://github.com/yt-dlp/yt-dlp/wiki/Extractors#exporting-youtube-cookies  for tips on effectively exporting YouTube cookies\n",
      "WARNING: [generic] The url doesn't specify the protocol, trying with http\n"
     ]
    },
    {
     "name": "stdout",
     "output_type": "stream",
     "text": [
      "Skipping private/unavailable video: www.youtube.com/watch?v=Qs2ua1S6tg0\n"
     ]
    },
    {
     "name": "stderr",
     "output_type": "stream",
     "text": [
      "ERROR: [youtube] -kgTBeOw95A: Private video. Sign in if you've been granted access to this video. Use --cookies-from-browser or --cookies for the authentication. See  https://github.com/yt-dlp/yt-dlp/wiki/FAQ#how-do-i-pass-cookies-to-yt-dlp  for how to manually pass cookies. Also see  https://github.com/yt-dlp/yt-dlp/wiki/Extractors#exporting-youtube-cookies  for tips on effectively exporting YouTube cookies\n"
     ]
    },
    {
     "name": "stdout",
     "output_type": "stream",
     "text": [
      "Skipping private/unavailable video: www.youtube.com/watch?v=-kgTBeOw95A\n"
     ]
    },
    {
     "name": "stderr",
     "output_type": "stream",
     "text": [
      "ERROR: [youtube] ieLzL1Sl6SU: Video unavailable\n",
      "WARNING: [generic] The url doesn't specify the protocol, trying with http\n"
     ]
    },
    {
     "name": "stdout",
     "output_type": "stream",
     "text": [
      "Skipping private/unavailable video: https://www.youtube.com/watch?v=ieLzL1Sl6SU\n"
     ]
    },
    {
     "name": "stderr",
     "output_type": "stream",
     "text": [
      "ERROR: [youtube] xiJYYCuA2UA: Private video. Sign in if you've been granted access to this video. Use --cookies-from-browser or --cookies for the authentication. See  https://github.com/yt-dlp/yt-dlp/wiki/FAQ#how-do-i-pass-cookies-to-yt-dlp  for how to manually pass cookies. Also see  https://github.com/yt-dlp/yt-dlp/wiki/Extractors#exporting-youtube-cookies  for tips on effectively exporting YouTube cookies\n",
      "WARNING: [generic] The url doesn't specify the protocol, trying with http\n"
     ]
    },
    {
     "name": "stdout",
     "output_type": "stream",
     "text": [
      "Skipping private/unavailable video: www.youtube.com/watch?v=xiJYYCuA2UA\n"
     ]
    },
    {
     "name": "stderr",
     "output_type": "stream",
     "text": [
      "ERROR: [youtube] qSOspusLa3U: Private video. Sign in if you've been granted access to this video. Use --cookies-from-browser or --cookies for the authentication. See  https://github.com/yt-dlp/yt-dlp/wiki/FAQ#how-do-i-pass-cookies-to-yt-dlp  for how to manually pass cookies. Also see  https://github.com/yt-dlp/yt-dlp/wiki/Extractors#exporting-youtube-cookies  for tips on effectively exporting YouTube cookies\n",
      "WARNING: [generic] The url doesn't specify the protocol, trying with http\n"
     ]
    },
    {
     "name": "stdout",
     "output_type": "stream",
     "text": [
      "Skipping private/unavailable video: www.youtube.com/watch?v=qSOspusLa3U\n"
     ]
    },
    {
     "name": "stderr",
     "output_type": "stream",
     "text": [
      "ERROR: [youtube] 78bHeANdyYc: Private video. Sign in if you've been granted access to this video. Use --cookies-from-browser or --cookies for the authentication. See  https://github.com/yt-dlp/yt-dlp/wiki/FAQ#how-do-i-pass-cookies-to-yt-dlp  for how to manually pass cookies. Also see  https://github.com/yt-dlp/yt-dlp/wiki/Extractors#exporting-youtube-cookies  for tips on effectively exporting YouTube cookies\n",
      "WARNING: [generic] The url doesn't specify the protocol, trying with http\n"
     ]
    },
    {
     "name": "stdout",
     "output_type": "stream",
     "text": [
      "Skipping private/unavailable video: www.youtube.com/watch?v=78bHeANdyYc\n"
     ]
    },
    {
     "name": "stderr",
     "output_type": "stream",
     "text": [
      "ERROR: [youtube] deGERv54kIc: Private video. Sign in if you've been granted access to this video. Use --cookies-from-browser or --cookies for the authentication. See  https://github.com/yt-dlp/yt-dlp/wiki/FAQ#how-do-i-pass-cookies-to-yt-dlp  for how to manually pass cookies. Also see  https://github.com/yt-dlp/yt-dlp/wiki/Extractors#exporting-youtube-cookies  for tips on effectively exporting YouTube cookies\n"
     ]
    },
    {
     "name": "stdout",
     "output_type": "stream",
     "text": [
      "Skipping private/unavailable video: www.youtube.com/watch?v=deGERv54kIc\n"
     ]
    }
   ],
   "source": [
    "import os\n",
    "import pandas as pd\n",
    "import yt_dlp\n",
    "import glob\n",
    "import shutil\n",
    "\n",
    "from moviepy.video.io.VideoFileClip import VideoFileClip\n",
    "\n",
    "\n",
    "OUTPUT_DIR = \"./msasl_clips\"\n",
    "NUMBER_OF_CLIPS = 50\n",
    "\n",
    "if os.path.exists(OUTPUT_DIR):\n",
    "    shutil.rmtree(OUTPUT_DIR)\n",
    "\n",
    "\n",
    "open(\"skipped_videos.txt\", \"w\").close()\n",
    "\n",
    "def download_and_clip(row, split):\n",
    "    video_url = row[\"url\"]\n",
    "    start = float(row[\"start_time\"])\n",
    "    end = float(row[\"end_time\"])\n",
    "    label = row[\"label_name\"]\n",
    "    filename_base = row[\"file\"].replace(\" \", \"_\")\n",
    "\n",
    "    label_dir = os.path.join(OUTPUT_DIR, split, label)\n",
    "    full_video_path_no_ext = os.path.join(label_dir, f\"{filename_base}_full\")\n",
    "    clipped_path = os.path.join(label_dir, f\"{filename_base}_clip.mp4\")\n",
    "\n",
    "    if os.path.exists(clipped_path):\n",
    "        return\n",
    "\n",
    "    ydl_opts = {\n",
    "        \"format\": \"bestvideo+bestaudio/best\",\n",
    "        \"merge_output_format\": \"mp4\",\n",
    "        \"outtmpl\": full_video_path_no_ext,  \n",
    "        \"quiet\": True,\n",
    "    }\n",
    "\n",
    "    try:\n",
    "        with yt_dlp.YoutubeDL(ydl_opts) as ydl:\n",
    "            ydl.download([video_url])\n",
    "    except Exception as e:\n",
    "        error_msg = str(e).lower()\n",
    "        if \"private video\" in error_msg or \"video unavailable\" in error_msg:\n",
    "            print(f\"Skipping private/unavailable video: {video_url}\")\n",
    "            with open(\"skipped_videos.txt\", \"a\") as logf:\n",
    "                logf.write(f\"{video_url}\\n\")\n",
    "        else:\n",
    "            print(f\"Failed to download {video_url}: {e}\")\n",
    "        return\n",
    "\n",
    "    downloaded_files = glob.glob(full_video_path_no_ext + \"*\")\n",
    "    if not downloaded_files:\n",
    "        print(f\"Failed to find downloaded file for {video_url}\")\n",
    "        return\n",
    "\n",
    "    downloaded_path = downloaded_files[0]\n",
    "\n",
    "    try:\n",
    "        os.makedirs(label_dir, exist_ok=True)\n",
    "\n",
    "        with VideoFileClip(downloaded_path) as video:\n",
    "            clip = video.subclip(start, end)\n",
    "            clip.write_videofile(clipped_path, codec=\"libx264\", audio=False, verbose=False, logger=None)\n",
    "\n",
    "        os.remove(downloaded_path)\n",
    "\n",
    "    except Exception as e:\n",
    "        print(f\"Failed to clip {downloaded_path}: {e}\")\n",
    "        return\n",
    "\n",
    "splits = {\n",
    "    \"train\": train_df,\n",
    "    \"val\": val_df,\n",
    "    \"test\": test_df\n",
    "}\n",
    "\n",
    "for split_name, df in splits.items():\n",
    "    df = df[[\"url\", \"start_time\", \"end_time\", \"label\", \"label_name\", \"file\"]]\n",
    "    clips_to_process = df.head(NUMBER_OF_CLIPS) if NUMBER_OF_CLIPS else df\n",
    "    \n",
    "    for _, row in clips_to_process.iterrows():\n",
    "        download_and_clip(row, split_name)"
   ]
  },
  {
   "cell_type": "code",
   "execution_count": 4,
   "id": "c1b66230-b1be-462e-a720-be721fcbab95",
   "metadata": {},
   "outputs": [
    {
     "data": {
      "text/html": [
       "<video controls  width=\"640\"  height=\"360\">\n",
       " <source src=\"data:None;base64,./msasl_clips/book/BOOK(3)_full.mp4\" type=\"None\">\n",
       " Your browser does not support the video tag.\n",
       " </video>"
      ],
      "text/plain": [
       "<IPython.core.display.Video object>"
      ]
     },
     "execution_count": 4,
     "metadata": {},
     "output_type": "execute_result"
    }
   ],
   "source": [
    "from IPython.display import Video\n",
    "\n",
    "Video(\"./msasl_clips/train/book/BOOK(3)_full.mp4\", embed=True, width=640, height=360)"
   ]
  },
  {
   "cell_type": "code",
   "execution_count": 6,
   "id": "f8c31c2c-6cfd-4178-9efc-e95a829a93be",
   "metadata": {},
   "outputs": [],
   "source": [
    "import os\n",
    "import torch\n",
    "import torch.nn as nn\n",
    "import random\n",
    "\n",
    "from PIL import Image\n",
    "from torch.utils.data import Dataset, DataLoader\n",
    "from torchvision import transforms\n",
    "from torchvision.io import read_video\n",
    "\n",
    "\n",
    "class VideoDataset(Dataset):\n",
    "    def __init__(self, root_dir, transform=None, frame_rate=30, num_frames=30):\n",
    "        self.root_dir = root_dir\n",
    "        self.transform = transform\n",
    "        self.frame_rate = frame_rate\n",
    "        self.num_frames = num_frames\n",
    "        self.classes = sorted(os.listdir(root_dir))\n",
    "        self.video_paths = []\n",
    "        \n",
    "        for label in self.classes:\n",
    "            label_dir = os.path.join(root_dir, label)\n",
    "            if os.path.isdir(label_dir):\n",
    "                for file in os.listdir(label_dir):\n",
    "                    if file.endswith(\".mp4\"):\n",
    "                        self.video_paths.append((os.path.join(label_dir, file), label))\n",
    "        \n",
    "    def __len__(self):\n",
    "        return len(self.video_paths)\n",
    "    \n",
    "    def __getitem__(self, idx):\n",
    "        video_path, label = self.video_paths[idx]\n",
    "        \n",
    "        frames, _, _ = read_video(video_path, pts_unit=\"sec\")\n",
    "        \n",
    "        if len(frames) > self.num_frames:\n",
    "            step = len(frames) // self.num_frames\n",
    "            frames = frames[::step][:self.num_frames]\n",
    "        \n",
    "        frames = [Image.fromarray(frame.numpy()) for frame in frames]\n",
    "        \n",
    "        if self.transform:\n",
    "            frames = [self.transform(frame) for frame in frames]\n",
    "        \n",
    "        frames = torch.stack(frames)\n",
    "\n",
    "        frames = frames.view(-1, frames.size(1), frames.size(2), frames.size(3))\n",
    "        \n",
    "        label_idx = self.classes.index(label)\n",
    "        \n",
    "        return frames, label_idx"
   ]
  },
  {
   "cell_type": "code",
   "execution_count": 7,
   "id": "88e9c61e-778d-481b-ba2b-efaf2625ce94",
   "metadata": {},
   "outputs": [],
   "source": [
    "video_transforms = transforms.Compose([\n",
    "    transforms.Resize((128, 128)),  \n",
    "    transforms.RandomHorizontalFlip(),  \n",
    "    transforms.ToTensor(),  \n",
    "    transforms.Normalize(mean=[0.485, 0.456, 0.406], std=[0.229, 0.224, 0.225])  \n",
    "])"
   ]
  },
  {
   "cell_type": "code",
   "execution_count": 8,
   "id": "26303933-82b7-46ca-97cf-016bb887ac89",
   "metadata": {},
   "outputs": [
    {
     "name": "stderr",
     "output_type": "stream",
     "text": [
      "/home/segus-faultise/Projects/CAB420_GROUP_A/cab420_GROUP_A_ENV/lib/python3.12/site-packages/torchvision/io/_video_deprecation_warning.py:5: UserWarning: The video decoding and encoding capabilities of torchvision are deprecated from version 0.22 and will be removed in version 0.24. We recommend that you migrate to TorchCodec, where we'll consolidate the future decoding/encoding capabilities of PyTorch: https://github.com/pytorch/torchcodec\n",
      "  warnings.warn(\n"
     ]
    },
    {
     "name": "stdout",
     "output_type": "stream",
     "text": [
      "Frames shape: torch.Size([6, 30, 3, 128, 128])\n",
      "Labels: tensor([0, 1, 2, 8, 3, 5])\n"
     ]
    }
   ],
   "source": [
    "train_dir = \"./msasl_clips/train/\"\n",
    "\n",
    "train_dataset = VideoDataset(root_dir=train_dir, transform=video_transforms)\n",
    "\n",
    "train_loader = DataLoader(\n",
    "    train_dataset,\n",
    "    batch_size=16,  \n",
    "    shuffle=True,\n",
    "    num_workers=3,  \n",
    ")\n",
    "\n",
    "for frames, labels in train_loader:\n",
    "    print(f\"Frames shape: {frames.shape}\")\n",
    "    print(f\"Labels: {labels}\")\n",
    "    break"
   ]
  },
  {
   "cell_type": "code",
   "execution_count": 12,
   "id": "c196e1c3-e889-4875-aec8-e1c37b9a66b2",
   "metadata": {},
   "outputs": [
    {
     "name": "stderr",
     "output_type": "stream",
     "text": [
      "/home/segus-faultise/Projects/CAB420_GROUP_A/cab420_GROUP_A_ENV/lib/python3.12/site-packages/torchvision/io/_video_deprecation_warning.py:5: UserWarning: The video decoding and encoding capabilities of torchvision are deprecated from version 0.22 and will be removed in version 0.24. We recommend that you migrate to TorchCodec, where we'll consolidate the future decoding/encoding capabilities of PyTorch: https://github.com/pytorch/torchcodec\n",
      "  warnings.warn(\n"
     ]
    },
    {
     "name": "stdout",
     "output_type": "stream",
     "text": [
      "frames shape: torch.Size([6, 30, 3, 128, 128])\n",
      "labels: tensor([2, 3, 0, 8, 1, 5])\n"
     ]
    }
   ],
   "source": [
    "val_dir = \"./msasl_clips/val/\"\n",
    "\n",
    "val_dataset = VideoDataset(root_dir=val_dir, transform=video_transforms)\n",
    "\n",
    "val_loader = DataLoader(\n",
    "    val_dataset,\n",
    "    batch_size=16,  \n",
    "    shuffle=True,\n",
    "    num_workers=3,  \n",
    ")\n",
    "\n",
    "for frames, labels in train_loader:\n",
    "    print(f\"frames shape: {frames.shape}\")\n",
    "    print(f\"labels: {labels}\")\n",
    "    break"
   ]
  },
  {
   "cell_type": "code",
   "execution_count": 13,
   "id": "3c7b0654-6975-4b8a-a777-e9abd133e759",
   "metadata": {},
   "outputs": [
    {
     "ename": "ValueError",
     "evalue": "num_samples should be a positive integer value, but got num_samples=0",
     "output_type": "error",
     "traceback": [
      "\u001b[31m---------------------------------------------------------------------------\u001b[39m",
      "\u001b[31mValueError\u001b[39m                                Traceback (most recent call last)",
      "\u001b[36mCell\u001b[39m\u001b[36m \u001b[39m\u001b[32mIn[13]\u001b[39m\u001b[32m, line 5\u001b[39m\n\u001b[32m      1\u001b[39m test_dir = \u001b[33m\"\u001b[39m\u001b[33m./msasl_clips/test/\u001b[39m\u001b[33m\"\u001b[39m\n\u001b[32m      3\u001b[39m test_dataset = VideoDataset(root_dir=test_dir, transform=video_transforms)\n\u001b[32m----> \u001b[39m\u001b[32m5\u001b[39m test_loader = \u001b[43mDataLoader\u001b[49m\u001b[43m(\u001b[49m\n\u001b[32m      6\u001b[39m \u001b[43m    \u001b[49m\u001b[43mtest_dataset\u001b[49m\u001b[43m,\u001b[49m\n\u001b[32m      7\u001b[39m \u001b[43m    \u001b[49m\u001b[43mbatch_size\u001b[49m\u001b[43m=\u001b[49m\u001b[32;43m16\u001b[39;49m\u001b[43m,\u001b[49m\u001b[43m  \u001b[49m\n\u001b[32m      8\u001b[39m \u001b[43m    \u001b[49m\u001b[43mshuffle\u001b[49m\u001b[43m=\u001b[49m\u001b[38;5;28;43;01mTrue\u001b[39;49;00m\u001b[43m,\u001b[49m\n\u001b[32m      9\u001b[39m \u001b[43m    \u001b[49m\u001b[43mnum_workers\u001b[49m\u001b[43m=\u001b[49m\u001b[32;43m3\u001b[39;49m\u001b[43m,\u001b[49m\u001b[43m  \u001b[49m\n\u001b[32m     10\u001b[39m \u001b[43m)\u001b[49m\n\u001b[32m     12\u001b[39m \u001b[38;5;28;01mfor\u001b[39;00m frames, labels \u001b[38;5;129;01min\u001b[39;00m train_loader:\n\u001b[32m     13\u001b[39m     \u001b[38;5;28mprint\u001b[39m(\u001b[33mf\u001b[39m\u001b[33m\"\u001b[39m\u001b[33mframes shape: \u001b[39m\u001b[38;5;132;01m{\u001b[39;00mframes.shape\u001b[38;5;132;01m}\u001b[39;00m\u001b[33m\"\u001b[39m)\n",
      "\u001b[36mFile \u001b[39m\u001b[32m~/Projects/CAB420_GROUP_A/cab420_GROUP_A_ENV/lib/python3.12/site-packages/torch/utils/data/dataloader.py:385\u001b[39m, in \u001b[36mDataLoader.__init__\u001b[39m\u001b[34m(self, dataset, batch_size, shuffle, sampler, batch_sampler, num_workers, collate_fn, pin_memory, drop_last, timeout, worker_init_fn, multiprocessing_context, generator, prefetch_factor, persistent_workers, pin_memory_device, in_order)\u001b[39m\n\u001b[32m    383\u001b[39m \u001b[38;5;28;01melse\u001b[39;00m:  \u001b[38;5;66;03m# map-style\u001b[39;00m\n\u001b[32m    384\u001b[39m     \u001b[38;5;28;01mif\u001b[39;00m shuffle:\n\u001b[32m--> \u001b[39m\u001b[32m385\u001b[39m         sampler = \u001b[43mRandomSampler\u001b[49m\u001b[43m(\u001b[49m\u001b[43mdataset\u001b[49m\u001b[43m,\u001b[49m\u001b[43m \u001b[49m\u001b[43mgenerator\u001b[49m\u001b[43m=\u001b[49m\u001b[43mgenerator\u001b[49m\u001b[43m)\u001b[49m  \u001b[38;5;66;03m# type: ignore[arg-type]\u001b[39;00m\n\u001b[32m    386\u001b[39m     \u001b[38;5;28;01melse\u001b[39;00m:\n\u001b[32m    387\u001b[39m         sampler = SequentialSampler(dataset)  \u001b[38;5;66;03m# type: ignore[arg-type]\u001b[39;00m\n",
      "\u001b[36mFile \u001b[39m\u001b[32m~/Projects/CAB420_GROUP_A/cab420_GROUP_A_ENV/lib/python3.12/site-packages/torch/utils/data/sampler.py:156\u001b[39m, in \u001b[36mRandomSampler.__init__\u001b[39m\u001b[34m(self, data_source, replacement, num_samples, generator)\u001b[39m\n\u001b[32m    151\u001b[39m     \u001b[38;5;28;01mraise\u001b[39;00m \u001b[38;5;167;01mTypeError\u001b[39;00m(\n\u001b[32m    152\u001b[39m         \u001b[33mf\u001b[39m\u001b[33m\"\u001b[39m\u001b[33mreplacement should be a boolean value, but got replacement=\u001b[39m\u001b[38;5;132;01m{\u001b[39;00m\u001b[38;5;28mself\u001b[39m.replacement\u001b[38;5;132;01m}\u001b[39;00m\u001b[33m\"\u001b[39m\n\u001b[32m    153\u001b[39m     )\n\u001b[32m    155\u001b[39m \u001b[38;5;28;01mif\u001b[39;00m \u001b[38;5;129;01mnot\u001b[39;00m \u001b[38;5;28misinstance\u001b[39m(\u001b[38;5;28mself\u001b[39m.num_samples, \u001b[38;5;28mint\u001b[39m) \u001b[38;5;129;01mor\u001b[39;00m \u001b[38;5;28mself\u001b[39m.num_samples <= \u001b[32m0\u001b[39m:\n\u001b[32m--> \u001b[39m\u001b[32m156\u001b[39m     \u001b[38;5;28;01mraise\u001b[39;00m \u001b[38;5;167;01mValueError\u001b[39;00m(\n\u001b[32m    157\u001b[39m         \u001b[33mf\u001b[39m\u001b[33m\"\u001b[39m\u001b[33mnum_samples should be a positive integer value, but got num_samples=\u001b[39m\u001b[38;5;132;01m{\u001b[39;00m\u001b[38;5;28mself\u001b[39m.num_samples\u001b[38;5;132;01m}\u001b[39;00m\u001b[33m\"\u001b[39m\n\u001b[32m    158\u001b[39m     )\n",
      "\u001b[31mValueError\u001b[39m: num_samples should be a positive integer value, but got num_samples=0"
     ]
    }
   ],
   "source": [
    "test_dir = \"./msasl_clips/test/\"\n",
    "\n",
    "test_dataset = VideoDataset(root_dir=test_dir, transform=video_transforms)\n",
    "\n",
    "test_loader = DataLoader(\n",
    "    test_dataset,\n",
    "    batch_size=16,  \n",
    "    shuffle=True,\n",
    "    num_workers=3,  \n",
    ")\n",
    "\n",
    "for frames, labels in train_loader:\n",
    "    print(f\"frames shape: {frames.shape}\")\n",
    "    print(f\"labels: {labels}\")\n",
    "    break"
   ]
  },
  {
   "cell_type": "code",
   "execution_count": 14,
   "id": "c3ba1a6a-5904-4eda-9c1e-36e8f32c944e",
   "metadata": {},
   "outputs": [],
   "source": [
    "import torch\n",
    "import torch.nn as nn\n",
    "import torchvision.models as models\n",
    "import torch.nn.functional as F\n",
    "\n",
    "class ResNetForVideoClassification(nn.Module):\n",
    "    def __init__(self, num_classes, num_frames=30):\n",
    "        super(ResNetForVideoClassification, self).__init__()\n",
    "        self.num_frames = num_frames\n",
    "        self.resnet = models.resnet18(pretrained=True)\n",
    "        self.resnet.fc = nn.Linear(self.resnet.fc.in_features, num_classes)\n",
    "        \n",
    "    def forward(self, x):\n",
    "        batch_size = x.size(0)\n",
    "        x = x.view(-1, 3, 128, 128)  \n",
    "        \n",
    "        features = self.resnet(x)  \n",
    "        features = features.view(batch_size, self.num_frames, -1)\n",
    "        features = features.mean(dim=1) \n",
    "        \n",
    "        return features"
   ]
  },
  {
   "cell_type": "code",
   "execution_count": 16,
   "id": "754a6fe6-5b79-46a0-8777-d8cdd6214c87",
   "metadata": {},
   "outputs": [
    {
     "name": "stderr",
     "output_type": "stream",
     "text": [
      "/home/segus-faultise/Projects/CAB420_GROUP_A/cab420_GROUP_A_ENV/lib/python3.12/site-packages/torchvision/io/_video_deprecation_warning.py:5: UserWarning: The video decoding and encoding capabilities of torchvision are deprecated from version 0.22 and will be removed in version 0.24. We recommend that you migrate to TorchCodec, where we'll consolidate the future decoding/encoding capabilities of PyTorch: https://github.com/pytorch/torchcodec\n",
      "  warnings.warn(\n",
      "/home/segus-faultise/Projects/CAB420_GROUP_A/cab420_GROUP_A_ENV/lib/python3.12/site-packages/torchvision/io/_video_deprecation_warning.py:5: UserWarning: The video decoding and encoding capabilities of torchvision are deprecated from version 0.22 and will be removed in version 0.24. We recommend that you migrate to TorchCodec, where we'll consolidate the future decoding/encoding capabilities of PyTorch: https://github.com/pytorch/torchcodec\n",
      "  warnings.warn(\n"
     ]
    },
    {
     "name": "stdout",
     "output_type": "stream",
     "text": [
      "Epoch [1/10] Train Loss: 0.0070, Train Acc: 100.00% | Val Loss: 1.8122, Val Acc: 0.00%\n"
     ]
    },
    {
     "name": "stderr",
     "output_type": "stream",
     "text": [
      "/home/segus-faultise/Projects/CAB420_GROUP_A/cab420_GROUP_A_ENV/lib/python3.12/site-packages/torchvision/io/_video_deprecation_warning.py:5: UserWarning: The video decoding and encoding capabilities of torchvision are deprecated from version 0.22 and will be removed in version 0.24. We recommend that you migrate to TorchCodec, where we'll consolidate the future decoding/encoding capabilities of PyTorch: https://github.com/pytorch/torchcodec\n",
      "  warnings.warn(\n",
      "/home/segus-faultise/Projects/CAB420_GROUP_A/cab420_GROUP_A_ENV/lib/python3.12/site-packages/torchvision/io/_video_deprecation_warning.py:5: UserWarning: The video decoding and encoding capabilities of torchvision are deprecated from version 0.22 and will be removed in version 0.24. We recommend that you migrate to TorchCodec, where we'll consolidate the future decoding/encoding capabilities of PyTorch: https://github.com/pytorch/torchcodec\n",
      "  warnings.warn(\n"
     ]
    },
    {
     "name": "stdout",
     "output_type": "stream",
     "text": [
      "Epoch [2/10] Train Loss: 0.0057, Train Acc: 100.00% | Val Loss: 1.8109, Val Acc: 0.00%\n"
     ]
    },
    {
     "name": "stderr",
     "output_type": "stream",
     "text": [
      "/home/segus-faultise/Projects/CAB420_GROUP_A/cab420_GROUP_A_ENV/lib/python3.12/site-packages/torchvision/io/_video_deprecation_warning.py:5: UserWarning: The video decoding and encoding capabilities of torchvision are deprecated from version 0.22 and will be removed in version 0.24. We recommend that you migrate to TorchCodec, where we'll consolidate the future decoding/encoding capabilities of PyTorch: https://github.com/pytorch/torchcodec\n",
      "  warnings.warn(\n",
      "/home/segus-faultise/Projects/CAB420_GROUP_A/cab420_GROUP_A_ENV/lib/python3.12/site-packages/torchvision/io/_video_deprecation_warning.py:5: UserWarning: The video decoding and encoding capabilities of torchvision are deprecated from version 0.22 and will be removed in version 0.24. We recommend that you migrate to TorchCodec, where we'll consolidate the future decoding/encoding capabilities of PyTorch: https://github.com/pytorch/torchcodec\n",
      "  warnings.warn(\n"
     ]
    },
    {
     "name": "stdout",
     "output_type": "stream",
     "text": [
      "Epoch [3/10] Train Loss: 0.0048, Train Acc: 100.00% | Val Loss: 1.8259, Val Acc: 0.00%\n"
     ]
    },
    {
     "name": "stderr",
     "output_type": "stream",
     "text": [
      "/home/segus-faultise/Projects/CAB420_GROUP_A/cab420_GROUP_A_ENV/lib/python3.12/site-packages/torchvision/io/_video_deprecation_warning.py:5: UserWarning: The video decoding and encoding capabilities of torchvision are deprecated from version 0.22 and will be removed in version 0.24. We recommend that you migrate to TorchCodec, where we'll consolidate the future decoding/encoding capabilities of PyTorch: https://github.com/pytorch/torchcodec\n",
      "  warnings.warn(\n",
      "/home/segus-faultise/Projects/CAB420_GROUP_A/cab420_GROUP_A_ENV/lib/python3.12/site-packages/torchvision/io/_video_deprecation_warning.py:5: UserWarning: The video decoding and encoding capabilities of torchvision are deprecated from version 0.22 and will be removed in version 0.24. We recommend that you migrate to TorchCodec, where we'll consolidate the future decoding/encoding capabilities of PyTorch: https://github.com/pytorch/torchcodec\n",
      "  warnings.warn(\n"
     ]
    },
    {
     "name": "stdout",
     "output_type": "stream",
     "text": [
      "Epoch [4/10] Train Loss: 0.0042, Train Acc: 100.00% | Val Loss: 1.8663, Val Acc: 0.00%\n"
     ]
    },
    {
     "name": "stderr",
     "output_type": "stream",
     "text": [
      "/home/segus-faultise/Projects/CAB420_GROUP_A/cab420_GROUP_A_ENV/lib/python3.12/site-packages/torchvision/io/_video_deprecation_warning.py:5: UserWarning: The video decoding and encoding capabilities of torchvision are deprecated from version 0.22 and will be removed in version 0.24. We recommend that you migrate to TorchCodec, where we'll consolidate the future decoding/encoding capabilities of PyTorch: https://github.com/pytorch/torchcodec\n",
      "  warnings.warn(\n",
      "/home/segus-faultise/Projects/CAB420_GROUP_A/cab420_GROUP_A_ENV/lib/python3.12/site-packages/torchvision/io/_video_deprecation_warning.py:5: UserWarning: The video decoding and encoding capabilities of torchvision are deprecated from version 0.22 and will be removed in version 0.24. We recommend that you migrate to TorchCodec, where we'll consolidate the future decoding/encoding capabilities of PyTorch: https://github.com/pytorch/torchcodec\n",
      "  warnings.warn(\n"
     ]
    },
    {
     "name": "stdout",
     "output_type": "stream",
     "text": [
      "Epoch [5/10] Train Loss: 0.0034, Train Acc: 100.00% | Val Loss: 1.8704, Val Acc: 0.00%\n"
     ]
    },
    {
     "name": "stderr",
     "output_type": "stream",
     "text": [
      "/home/segus-faultise/Projects/CAB420_GROUP_A/cab420_GROUP_A_ENV/lib/python3.12/site-packages/torchvision/io/_video_deprecation_warning.py:5: UserWarning: The video decoding and encoding capabilities of torchvision are deprecated from version 0.22 and will be removed in version 0.24. We recommend that you migrate to TorchCodec, where we'll consolidate the future decoding/encoding capabilities of PyTorch: https://github.com/pytorch/torchcodec\n",
      "  warnings.warn(\n",
      "/home/segus-faultise/Projects/CAB420_GROUP_A/cab420_GROUP_A_ENV/lib/python3.12/site-packages/torchvision/io/_video_deprecation_warning.py:5: UserWarning: The video decoding and encoding capabilities of torchvision are deprecated from version 0.22 and will be removed in version 0.24. We recommend that you migrate to TorchCodec, where we'll consolidate the future decoding/encoding capabilities of PyTorch: https://github.com/pytorch/torchcodec\n",
      "  warnings.warn(\n"
     ]
    },
    {
     "name": "stdout",
     "output_type": "stream",
     "text": [
      "Epoch [6/10] Train Loss: 0.0031, Train Acc: 100.00% | Val Loss: 1.9594, Val Acc: 0.00%\n"
     ]
    },
    {
     "name": "stderr",
     "output_type": "stream",
     "text": [
      "/home/segus-faultise/Projects/CAB420_GROUP_A/cab420_GROUP_A_ENV/lib/python3.12/site-packages/torchvision/io/_video_deprecation_warning.py:5: UserWarning: The video decoding and encoding capabilities of torchvision are deprecated from version 0.22 and will be removed in version 0.24. We recommend that you migrate to TorchCodec, where we'll consolidate the future decoding/encoding capabilities of PyTorch: https://github.com/pytorch/torchcodec\n",
      "  warnings.warn(\n",
      "/home/segus-faultise/Projects/CAB420_GROUP_A/cab420_GROUP_A_ENV/lib/python3.12/site-packages/torchvision/io/_video_deprecation_warning.py:5: UserWarning: The video decoding and encoding capabilities of torchvision are deprecated from version 0.22 and will be removed in version 0.24. We recommend that you migrate to TorchCodec, where we'll consolidate the future decoding/encoding capabilities of PyTorch: https://github.com/pytorch/torchcodec\n",
      "  warnings.warn(\n"
     ]
    },
    {
     "name": "stdout",
     "output_type": "stream",
     "text": [
      "Epoch [7/10] Train Loss: 0.0028, Train Acc: 100.00% | Val Loss: 1.9624, Val Acc: 0.00%\n"
     ]
    },
    {
     "name": "stderr",
     "output_type": "stream",
     "text": [
      "/home/segus-faultise/Projects/CAB420_GROUP_A/cab420_GROUP_A_ENV/lib/python3.12/site-packages/torchvision/io/_video_deprecation_warning.py:5: UserWarning: The video decoding and encoding capabilities of torchvision are deprecated from version 0.22 and will be removed in version 0.24. We recommend that you migrate to TorchCodec, where we'll consolidate the future decoding/encoding capabilities of PyTorch: https://github.com/pytorch/torchcodec\n",
      "  warnings.warn(\n",
      "/home/segus-faultise/Projects/CAB420_GROUP_A/cab420_GROUP_A_ENV/lib/python3.12/site-packages/torchvision/io/_video_deprecation_warning.py:5: UserWarning: The video decoding and encoding capabilities of torchvision are deprecated from version 0.22 and will be removed in version 0.24. We recommend that you migrate to TorchCodec, where we'll consolidate the future decoding/encoding capabilities of PyTorch: https://github.com/pytorch/torchcodec\n",
      "  warnings.warn(\n"
     ]
    },
    {
     "name": "stdout",
     "output_type": "stream",
     "text": [
      "Epoch [8/10] Train Loss: 0.0025, Train Acc: 100.00% | Val Loss: 2.0155, Val Acc: 0.00%\n"
     ]
    },
    {
     "name": "stderr",
     "output_type": "stream",
     "text": [
      "/home/segus-faultise/Projects/CAB420_GROUP_A/cab420_GROUP_A_ENV/lib/python3.12/site-packages/torchvision/io/_video_deprecation_warning.py:5: UserWarning: The video decoding and encoding capabilities of torchvision are deprecated from version 0.22 and will be removed in version 0.24. We recommend that you migrate to TorchCodec, where we'll consolidate the future decoding/encoding capabilities of PyTorch: https://github.com/pytorch/torchcodec\n",
      "  warnings.warn(\n",
      "/home/segus-faultise/Projects/CAB420_GROUP_A/cab420_GROUP_A_ENV/lib/python3.12/site-packages/torchvision/io/_video_deprecation_warning.py:5: UserWarning: The video decoding and encoding capabilities of torchvision are deprecated from version 0.22 and will be removed in version 0.24. We recommend that you migrate to TorchCodec, where we'll consolidate the future decoding/encoding capabilities of PyTorch: https://github.com/pytorch/torchcodec\n",
      "  warnings.warn(\n"
     ]
    },
    {
     "name": "stdout",
     "output_type": "stream",
     "text": [
      "Epoch [9/10] Train Loss: 0.0022, Train Acc: 100.00% | Val Loss: 2.0536, Val Acc: 0.00%\n"
     ]
    },
    {
     "name": "stderr",
     "output_type": "stream",
     "text": [
      "/home/segus-faultise/Projects/CAB420_GROUP_A/cab420_GROUP_A_ENV/lib/python3.12/site-packages/torchvision/io/_video_deprecation_warning.py:5: UserWarning: The video decoding and encoding capabilities of torchvision are deprecated from version 0.22 and will be removed in version 0.24. We recommend that you migrate to TorchCodec, where we'll consolidate the future decoding/encoding capabilities of PyTorch: https://github.com/pytorch/torchcodec\n",
      "  warnings.warn(\n",
      "/home/segus-faultise/Projects/CAB420_GROUP_A/cab420_GROUP_A_ENV/lib/python3.12/site-packages/torchvision/io/_video_deprecation_warning.py:5: UserWarning: The video decoding and encoding capabilities of torchvision are deprecated from version 0.22 and will be removed in version 0.24. We recommend that you migrate to TorchCodec, where we'll consolidate the future decoding/encoding capabilities of PyTorch: https://github.com/pytorch/torchcodec\n",
      "  warnings.warn(\n"
     ]
    },
    {
     "name": "stdout",
     "output_type": "stream",
     "text": [
      "Epoch [10/10] Train Loss: 0.0021, Train Acc: 100.00% | Val Loss: 2.0897, Val Acc: 0.00%\n"
     ]
    }
   ],
   "source": [
    "device = torch.device(\"cuda\" if torch.cuda.is_available() else \"cpu\")\n",
    "model = model.to(device)\n",
    "\n",
    "num_epochs = 10\n",
    "\n",
    "for epoch in range(num_epochs):\n",
    "    model.train()\n",
    "    running_loss = 0.0\n",
    "    correct = 0\n",
    "    total = 0\n",
    "\n",
    "    for frames, labels in train_loader:\n",
    "        frames = frames.to(device)\n",
    "        labels = labels.to(device)\n",
    "\n",
    "        optimizer.zero_grad()\n",
    "        outputs = model(frames)\n",
    "        loss = criterion(outputs, labels)\n",
    "        loss.backward()\n",
    "        optimizer.step()\n",
    "\n",
    "        running_loss += loss.item()\n",
    "        _, predicted = torch.max(outputs, 1)\n",
    "        correct += (predicted == labels).sum().item()\n",
    "        total += labels.size(0)\n",
    "\n",
    "    train_loss = running_loss / len(train_loader)\n",
    "    train_accuracy = 100 * correct / total\n",
    "\n",
    "    model.eval()\n",
    "    \n",
    "    val_loss = 0.0\n",
    "    val_correct = 0\n",
    "    val_total = 0\n",
    "\n",
    "    with torch.no_grad():\n",
    "        for frames, labels in val_loader:\n",
    "            frames = frames.to(device)\n",
    "            labels = labels.to(device)\n",
    "\n",
    "            outputs = model(frames)\n",
    "            loss = criterion(outputs, labels)\n",
    "\n",
    "            val_loss += loss.item()\n",
    "            _, predicted = torch.max(outputs, 1)\n",
    "            val_correct += (predicted == labels).sum().item()\n",
    "            val_total += labels.size(0)\n",
    "\n",
    "    val_loss /= len(val_loader)\n",
    "    val_accuracy = 100 * val_correct / val_total\n",
    "\n",
    "    print(f\"Epoch [{epoch+1}/{num_epochs}] \"\n",
    "          f\"Train Loss: {train_loss:.4f}, Train Acc: {train_accuracy:.2f}% \"\n",
    "          f\"| Val Loss: {val_loss:.4f}, Val Acc: {val_accuracy:.2f}%\")"
   ]
  },
  {
   "cell_type": "code",
   "execution_count": null,
   "id": "d7c1594b-00dc-45db-ac3f-f1eadc31b4a1",
   "metadata": {},
   "outputs": [],
   "source": []
  }
 ],
 "metadata": {
  "kernelspec": {
   "display_name": "Python 3 (ipykernel)",
   "language": "python",
   "name": "python3"
  },
  "language_info": {
   "codemirror_mode": {
    "name": "ipython",
    "version": 3
   },
   "file_extension": ".py",
   "mimetype": "text/x-python",
   "name": "python",
   "nbconvert_exporter": "python",
   "pygments_lexer": "ipython3",
   "version": "3.12.3"
  }
 },
 "nbformat": 4,
 "nbformat_minor": 5
}
